{
 "cells": [
  {
   "cell_type": "code",
   "execution_count": 34,
   "id": "8378b400",
   "metadata": {},
   "outputs": [
    {
     "data": {
      "text/html": [
       "        <script type=\"text/javascript\">\n",
       "        window.PlotlyConfig = {MathJaxConfig: 'local'};\n",
       "        if (window.MathJax && window.MathJax.Hub && window.MathJax.Hub.Config) {window.MathJax.Hub.Config({SVG: {font: \"STIX-Web\"}});}\n",
       "        if (typeof require !== 'undefined') {\n",
       "        require.undef(\"plotly\");\n",
       "        requirejs.config({\n",
       "            paths: {\n",
       "                'plotly': ['https://cdn.plot.ly/plotly-2.12.1.min']\n",
       "            }\n",
       "        });\n",
       "        require(['plotly'], function(Plotly) {\n",
       "            window._Plotly = Plotly;\n",
       "        });\n",
       "        }\n",
       "        </script>\n",
       "        "
      ]
     },
     "metadata": {},
     "output_type": "display_data"
    }
   ],
   "source": [
    "import numpy as np\n",
    "import pandas as pd\n",
    "import seaborn as sns\n",
    "import matplotlib.pyplot as plt\n",
    "import plotly.graph_objects as go\n",
    "import pandas as pd\n",
    "import plotly.express as px\n",
    "import geopandas as gpd\n",
    "from plotly.offline import init_notebook_mode\n",
    "init_notebook_mode(connected=True)\n",
    "%matplotlib inline\n"
   ]
  },
  {
   "cell_type": "code",
   "execution_count": 24,
   "id": "54aab85d",
   "metadata": {},
   "outputs": [
    {
     "name": "stdout",
     "output_type": "stream",
     "text": [
      "Defaulting to user installation because normal site-packages is not writeable\n",
      "Collecting dash\n",
      "  Obtaining dependency information for dash from https://files.pythonhosted.org/packages/72/ef/d46131f4817f18b329e4fb7c53ba1d31774239d91266a74bccdc932708cc/dash-2.18.2-py3-none-any.whl.metadata\n",
      "  Downloading dash-2.18.2-py3-none-any.whl.metadata (10 kB)\n",
      "Requirement already satisfied: Flask<3.1,>=1.0.4 in c:\\programdata\\anaconda3\\lib\\site-packages (from dash) (2.2.2)\n",
      "Requirement already satisfied: Werkzeug<3.1 in c:\\programdata\\anaconda3\\lib\\site-packages (from dash) (2.2.3)\n",
      "Requirement already satisfied: plotly>=5.0.0 in c:\\programdata\\anaconda3\\lib\\site-packages (from dash) (5.9.0)\n",
      "Collecting dash-html-components==2.0.0 (from dash)\n",
      "  Obtaining dependency information for dash-html-components==2.0.0 from https://files.pythonhosted.org/packages/75/65/1b16b853844ef59b2742a7de74a598f376ac0ab581f0dcc34db294e5c90e/dash_html_components-2.0.0-py3-none-any.whl.metadata\n",
      "  Downloading dash_html_components-2.0.0-py3-none-any.whl.metadata (3.8 kB)\n",
      "Collecting dash-core-components==2.0.0 (from dash)\n",
      "  Obtaining dependency information for dash-core-components==2.0.0 from https://files.pythonhosted.org/packages/00/9e/a29f726e84e531a36d56cff187e61d8c96d2cc253c5bcef9a7695acb7e6a/dash_core_components-2.0.0-py3-none-any.whl.metadata\n",
      "  Downloading dash_core_components-2.0.0-py3-none-any.whl.metadata (2.9 kB)\n",
      "Collecting dash-table==5.0.0 (from dash)\n",
      "  Obtaining dependency information for dash-table==5.0.0 from https://files.pythonhosted.org/packages/da/ce/43f77dc8e7bbad02a9f88d07bf794eaf68359df756a28bb9f2f78e255bb1/dash_table-5.0.0-py3-none-any.whl.metadata\n",
      "  Downloading dash_table-5.0.0-py3-none-any.whl.metadata (2.4 kB)\n",
      "Requirement already satisfied: importlib-metadata in c:\\programdata\\anaconda3\\lib\\site-packages (from dash) (6.0.0)\n",
      "Requirement already satisfied: typing-extensions>=4.1.1 in c:\\users\\user\\appdata\\roaming\\python\\python311\\site-packages (from dash) (4.12.2)\n",
      "Requirement already satisfied: requests in c:\\users\\user\\appdata\\roaming\\python\\python311\\site-packages (from dash) (2.32.3)\n",
      "Collecting retrying (from dash)\n",
      "  Obtaining dependency information for retrying from https://files.pythonhosted.org/packages/8f/04/9e36f28be4c0532c0e9207ff9dc01fb13a2b0eb036476a213b0000837d0e/retrying-1.3.4-py3-none-any.whl.metadata\n",
      "  Downloading retrying-1.3.4-py3-none-any.whl.metadata (6.9 kB)\n",
      "Requirement already satisfied: nest-asyncio in c:\\programdata\\anaconda3\\lib\\site-packages (from dash) (1.5.6)\n",
      "Requirement already satisfied: setuptools in c:\\programdata\\anaconda3\\lib\\site-packages (from dash) (68.0.0)\n",
      "Requirement already satisfied: Jinja2>=3.0 in c:\\programdata\\anaconda3\\lib\\site-packages (from Flask<3.1,>=1.0.4->dash) (3.1.2)\n",
      "Requirement already satisfied: itsdangerous>=2.0 in c:\\programdata\\anaconda3\\lib\\site-packages (from Flask<3.1,>=1.0.4->dash) (2.0.1)\n",
      "Requirement already satisfied: click>=8.0 in c:\\programdata\\anaconda3\\lib\\site-packages (from Flask<3.1,>=1.0.4->dash) (8.0.4)\n",
      "Requirement already satisfied: tenacity>=6.2.0 in c:\\users\\user\\appdata\\roaming\\python\\python311\\site-packages (from plotly>=5.0.0->dash) (8.5.0)\n",
      "Requirement already satisfied: MarkupSafe>=2.1.1 in c:\\programdata\\anaconda3\\lib\\site-packages (from Werkzeug<3.1->dash) (2.1.1)\n",
      "Requirement already satisfied: zipp>=0.5 in c:\\programdata\\anaconda3\\lib\\site-packages (from importlib-metadata->dash) (3.11.0)\n",
      "Requirement already satisfied: charset-normalizer<4,>=2 in c:\\programdata\\anaconda3\\lib\\site-packages (from requests->dash) (2.0.4)\n",
      "Requirement already satisfied: idna<4,>=2.5 in c:\\programdata\\anaconda3\\lib\\site-packages (from requests->dash) (3.4)\n",
      "Requirement already satisfied: urllib3<3,>=1.21.1 in c:\\programdata\\anaconda3\\lib\\site-packages (from requests->dash) (1.26.16)\n",
      "Requirement already satisfied: certifi>=2017.4.17 in c:\\programdata\\anaconda3\\lib\\site-packages (from requests->dash) (2023.11.17)\n",
      "Requirement already satisfied: six>=1.7.0 in c:\\programdata\\anaconda3\\lib\\site-packages (from retrying->dash) (1.16.0)\n",
      "Requirement already satisfied: colorama in c:\\programdata\\anaconda3\\lib\\site-packages (from click>=8.0->Flask<3.1,>=1.0.4->dash) (0.4.6)\n",
      "Downloading dash-2.18.2-py3-none-any.whl (7.8 MB)\n",
      "   ---------------------------------------- 0.0/7.8 MB ? eta -:--:--\n",
      "   ---------------------------------------- 0.0/7.8 MB ? eta -:--:--\n",
      "   ---------------------------------------- 0.0/7.8 MB 281.8 kB/s eta 0:00:28\n",
      "   ---------------------------------------- 0.1/7.8 MB 416.7 kB/s eta 0:00:19\n",
      "    --------------------------------------- 0.1/7.8 MB 514.3 kB/s eta 0:00:15\n",
      "    --------------------------------------- 0.2/7.8 MB 577.4 kB/s eta 0:00:14\n",
      "   - -------------------------------------- 0.2/7.8 MB 623.6 kB/s eta 0:00:13\n",
      "   - -------------------------------------- 0.2/7.8 MB 684.7 kB/s eta 0:00:12\n",
      "   - -------------------------------------- 0.3/7.8 MB 681.0 kB/s eta 0:00:12\n",
      "   - -------------------------------------- 0.4/7.8 MB 768.6 kB/s eta 0:00:10\n",
      "   -- ------------------------------------- 0.5/7.8 MB 1.0 MB/s eta 0:00:08\n",
      "   -- ------------------------------------- 0.5/7.8 MB 983.5 kB/s eta 0:00:08\n",
      "   --- ------------------------------------ 0.7/7.8 MB 1.1 MB/s eta 0:00:07\n",
      "   ---- ----------------------------------- 0.8/7.8 MB 1.3 MB/s eta 0:00:06\n",
      "   ----- ---------------------------------- 1.0/7.8 MB 1.5 MB/s eta 0:00:05\n",
      "   ------ --------------------------------- 1.2/7.8 MB 1.6 MB/s eta 0:00:05\n",
      "   ------- -------------------------------- 1.4/7.8 MB 1.8 MB/s eta 0:00:04\n",
      "   -------- ------------------------------- 1.7/7.8 MB 2.1 MB/s eta 0:00:03\n",
      "   ---------- ----------------------------- 2.0/7.8 MB 2.3 MB/s eta 0:00:03\n",
      "   ---------- ----------------------------- 2.1/7.8 MB 2.4 MB/s eta 0:00:03\n",
      "   ------------ --------------------------- 2.4/7.8 MB 2.5 MB/s eta 0:00:03\n",
      "   ------------- -------------------------- 2.6/7.8 MB 2.6 MB/s eta 0:00:02\n",
      "   -------------- ------------------------- 2.9/7.8 MB 2.8 MB/s eta 0:00:02\n",
      "   --------------- ------------------------ 3.0/7.8 MB 2.8 MB/s eta 0:00:02\n",
      "   ---------------- ----------------------- 3.2/7.8 MB 2.9 MB/s eta 0:00:02\n",
      "   ------------------ --------------------- 3.6/7.8 MB 3.0 MB/s eta 0:00:02\n",
      "   ------------------- -------------------- 3.8/7.8 MB 3.1 MB/s eta 0:00:02\n",
      "   ------------------- -------------------- 3.8/7.8 MB 3.1 MB/s eta 0:00:02\n",
      "   ------------------- -------------------- 3.8/7.8 MB 3.1 MB/s eta 0:00:02\n",
      "   -------------------- ------------------- 4.1/7.8 MB 3.0 MB/s eta 0:00:02\n",
      "   --------------------- ------------------ 4.2/7.8 MB 3.1 MB/s eta 0:00:02\n",
      "   ---------------------- ----------------- 4.4/7.8 MB 3.0 MB/s eta 0:00:02\n",
      "   ----------------------- ---------------- 4.5/7.8 MB 3.1 MB/s eta 0:00:02\n",
      "   ------------------------ --------------- 4.7/7.8 MB 3.1 MB/s eta 0:00:02\n",
      "   ------------------------- -------------- 4.9/7.8 MB 3.1 MB/s eta 0:00:01\n",
      "   ---------------------------- ----------- 5.6/7.8 MB 3.3 MB/s eta 0:00:01\n",
      "   ------------------------------ --------- 6.0/7.8 MB 3.5 MB/s eta 0:00:01\n",
      "   -------------------------------- ------- 6.3/7.8 MB 3.5 MB/s eta 0:00:01\n",
      "   ---------------------------------- ----- 6.7/7.8 MB 3.6 MB/s eta 0:00:01\n",
      "   ------------------------------------ --- 7.1/7.8 MB 3.7 MB/s eta 0:00:01\n",
      "   ------------------------------------- -- 7.4/7.8 MB 3.8 MB/s eta 0:00:01\n",
      "   ---------------------------------------  7.7/7.8 MB 3.9 MB/s eta 0:00:01\n",
      "   ---------------------------------------  7.8/7.8 MB 3.9 MB/s eta 0:00:01\n",
      "   ---------------------------------------- 7.8/7.8 MB 3.7 MB/s eta 0:00:00\n",
      "Downloading dash_core_components-2.0.0-py3-none-any.whl (3.8 kB)\n",
      "Downloading dash_html_components-2.0.0-py3-none-any.whl (4.1 kB)\n",
      "Downloading dash_table-5.0.0-py3-none-any.whl (3.9 kB)\n",
      "Downloading retrying-1.3.4-py3-none-any.whl (11 kB)\n",
      "Installing collected packages: dash-table, dash-html-components, dash-core-components, retrying, dash\n",
      "Successfully installed dash-2.18.2 dash-core-components-2.0.0 dash-html-components-2.0.0 dash-table-5.0.0 retrying-1.3.4\n",
      "Note: you may need to restart the kernel to use updated packages.\n"
     ]
    },
    {
     "name": "stderr",
     "output_type": "stream",
     "text": [
      "  WARNING: The scripts dash-generate-components.exe, dash-update-components.exe and renderer.exe are installed in 'C:\\Users\\USER\\AppData\\Roaming\\Python\\Python311\\Scripts' which is not on PATH.\n",
      "  Consider adding this directory to PATH or, if you prefer to suppress this warning, use --no-warn-script-location.\n"
     ]
    }
   ],
   "source": [
    "pip install dash"
   ]
  },
  {
   "cell_type": "code",
   "execution_count": 35,
   "id": "26f4fda4",
   "metadata": {},
   "outputs": [
    {
     "data": {
      "text/html": [
       "<div>\n",
       "<style scoped>\n",
       "    .dataframe tbody tr th:only-of-type {\n",
       "        vertical-align: middle;\n",
       "    }\n",
       "\n",
       "    .dataframe tbody tr th {\n",
       "        vertical-align: top;\n",
       "    }\n",
       "\n",
       "    .dataframe thead th {\n",
       "        text-align: right;\n",
       "    }\n",
       "</style>\n",
       "<table border=\"1\" class=\"dataframe\">\n",
       "  <thead>\n",
       "    <tr style=\"text-align: right;\">\n",
       "      <th></th>\n",
       "      <th>Exporter</th>\n",
       "      <th>Importer</th>\n",
       "      <th>cross</th>\n",
       "      <th>Year</th>\n",
       "      <th>Quantity_mt</th>\n",
       "      <th>Value_usd</th>\n",
       "      <th>Unnamed: 6</th>\n",
       "      <th>Import trade _metric Tons</th>\n",
       "      <th>Import trade _Values _USD</th>\n",
       "    </tr>\n",
       "  </thead>\n",
       "  <tbody>\n",
       "    <tr>\n",
       "      <th>0</th>\n",
       "      <td>1</td>\n",
       "      <td>2</td>\n",
       "      <td>NGA_EGY</td>\n",
       "      <td>2003</td>\n",
       "      <td>0</td>\n",
       "      <td>0</td>\n",
       "      <td>NaN</td>\n",
       "      <td>0</td>\n",
       "      <td>0</td>\n",
       "    </tr>\n",
       "    <tr>\n",
       "      <th>1</th>\n",
       "      <td>1</td>\n",
       "      <td>2</td>\n",
       "      <td>NGA_EGY</td>\n",
       "      <td>2004</td>\n",
       "      <td>0</td>\n",
       "      <td>0</td>\n",
       "      <td>NaN</td>\n",
       "      <td>0</td>\n",
       "      <td>0</td>\n",
       "    </tr>\n",
       "    <tr>\n",
       "      <th>2</th>\n",
       "      <td>1</td>\n",
       "      <td>2</td>\n",
       "      <td>NGA_EGY</td>\n",
       "      <td>2005</td>\n",
       "      <td>0</td>\n",
       "      <td>0</td>\n",
       "      <td>NaN</td>\n",
       "      <td>0</td>\n",
       "      <td>0</td>\n",
       "    </tr>\n",
       "    <tr>\n",
       "      <th>3</th>\n",
       "      <td>1</td>\n",
       "      <td>2</td>\n",
       "      <td>NGA_EGY</td>\n",
       "      <td>2006</td>\n",
       "      <td>0</td>\n",
       "      <td>0</td>\n",
       "      <td>NaN</td>\n",
       "      <td>0</td>\n",
       "      <td>0</td>\n",
       "    </tr>\n",
       "    <tr>\n",
       "      <th>4</th>\n",
       "      <td>1</td>\n",
       "      <td>2</td>\n",
       "      <td>NGA_EGY</td>\n",
       "      <td>2007</td>\n",
       "      <td>0</td>\n",
       "      <td>0</td>\n",
       "      <td>NaN</td>\n",
       "      <td>0</td>\n",
       "      <td>0</td>\n",
       "    </tr>\n",
       "  </tbody>\n",
       "</table>\n",
       "</div>"
      ],
      "text/plain": [
       "   Exporter  Importer    cross  Year  Quantity_mt   Value_usd   Unnamed: 6  \\\n",
       "0         1         2  NGA_EGY  2003             0           0         NaN   \n",
       "1         1         2  NGA_EGY  2004             0           0         NaN   \n",
       "2         1         2  NGA_EGY  2005             0           0         NaN   \n",
       "3         1         2  NGA_EGY  2006             0           0         NaN   \n",
       "4         1         2  NGA_EGY  2007             0           0         NaN   \n",
       "\n",
       "   Import trade _metric Tons  Import trade _Values _USD   \n",
       "0                          0                           0  \n",
       "1                          0                           0  \n",
       "2                          0                           0  \n",
       "3                          0                           0  \n",
       "4                          0                           0  "
      ]
     },
     "execution_count": 35,
     "metadata": {},
     "output_type": "execute_result"
    }
   ],
   "source": [
    "df = pd.read_excel('ADR_AGGRE_EXPORT AND IMPORT.xlsx')\n",
    "df.head()"
   ]
  },
  {
   "cell_type": "code",
   "execution_count": 3,
   "id": "70ac9ed3",
   "metadata": {},
   "outputs": [
    {
     "data": {
      "text/plain": [
       "Exporter                            1\n",
       "Importer                            2\n",
       "cross                         NGA_EGY\n",
       "Year                             2011\n",
       "Quantity_mt                         0\n",
       "Value_usd                           0\n",
       "Unnamed: 6                        NaN\n",
       "Import trade _metric Tons           0\n",
       "Import trade _Values _USD           0\n",
       "Name: 8, dtype: object"
      ]
     },
     "execution_count": 3,
     "metadata": {},
     "output_type": "execute_result"
    }
   ],
   "source": [
    "df.iloc[8]"
   ]
  },
  {
   "cell_type": "code",
   "execution_count": 36,
   "id": "c36e560f",
   "metadata": {},
   "outputs": [
    {
     "data": {
      "text/html": [
       "<div>\n",
       "<style scoped>\n",
       "    .dataframe tbody tr th:only-of-type {\n",
       "        vertical-align: middle;\n",
       "    }\n",
       "\n",
       "    .dataframe tbody tr th {\n",
       "        vertical-align: top;\n",
       "    }\n",
       "\n",
       "    .dataframe thead th {\n",
       "        text-align: right;\n",
       "    }\n",
       "</style>\n",
       "<table border=\"1\" class=\"dataframe\">\n",
       "  <thead>\n",
       "    <tr style=\"text-align: right;\">\n",
       "      <th></th>\n",
       "      <th>Exporter</th>\n",
       "      <th>Importer</th>\n",
       "      <th>cross</th>\n",
       "      <th>Year</th>\n",
       "      <th>Quantity_mt</th>\n",
       "      <th>Value_usd</th>\n",
       "      <th>Unnamed: 6</th>\n",
       "      <th>Import trade _metric Tons</th>\n",
       "      <th>Import trade _Values _USD</th>\n",
       "    </tr>\n",
       "  </thead>\n",
       "  <tbody>\n",
       "    <tr>\n",
       "      <th>0</th>\n",
       "      <td>1</td>\n",
       "      <td>2</td>\n",
       "      <td>NGA_EGY</td>\n",
       "      <td>2003</td>\n",
       "      <td>0</td>\n",
       "      <td>0</td>\n",
       "      <td>NaN</td>\n",
       "      <td>0</td>\n",
       "      <td>0</td>\n",
       "    </tr>\n",
       "    <tr>\n",
       "      <th>1</th>\n",
       "      <td>1</td>\n",
       "      <td>2</td>\n",
       "      <td>NGA_EGY</td>\n",
       "      <td>2004</td>\n",
       "      <td>0</td>\n",
       "      <td>0</td>\n",
       "      <td>NaN</td>\n",
       "      <td>0</td>\n",
       "      <td>0</td>\n",
       "    </tr>\n",
       "    <tr>\n",
       "      <th>2</th>\n",
       "      <td>1</td>\n",
       "      <td>2</td>\n",
       "      <td>NGA_EGY</td>\n",
       "      <td>2005</td>\n",
       "      <td>0</td>\n",
       "      <td>0</td>\n",
       "      <td>NaN</td>\n",
       "      <td>0</td>\n",
       "      <td>0</td>\n",
       "    </tr>\n",
       "    <tr>\n",
       "      <th>3</th>\n",
       "      <td>1</td>\n",
       "      <td>2</td>\n",
       "      <td>NGA_EGY</td>\n",
       "      <td>2006</td>\n",
       "      <td>0</td>\n",
       "      <td>0</td>\n",
       "      <td>NaN</td>\n",
       "      <td>0</td>\n",
       "      <td>0</td>\n",
       "    </tr>\n",
       "    <tr>\n",
       "      <th>4</th>\n",
       "      <td>1</td>\n",
       "      <td>2</td>\n",
       "      <td>NGA_EGY</td>\n",
       "      <td>2007</td>\n",
       "      <td>0</td>\n",
       "      <td>0</td>\n",
       "      <td>NaN</td>\n",
       "      <td>0</td>\n",
       "      <td>0</td>\n",
       "    </tr>\n",
       "    <tr>\n",
       "      <th>...</th>\n",
       "      <td>...</td>\n",
       "      <td>...</td>\n",
       "      <td>...</td>\n",
       "      <td>...</td>\n",
       "      <td>...</td>\n",
       "      <td>...</td>\n",
       "      <td>...</td>\n",
       "      <td>...</td>\n",
       "      <td>...</td>\n",
       "    </tr>\n",
       "    <tr>\n",
       "      <th>57235</th>\n",
       "      <td>54</td>\n",
       "      <td>53</td>\n",
       "      <td>ETH_SYC</td>\n",
       "      <td>2018</td>\n",
       "      <td>0</td>\n",
       "      <td>0</td>\n",
       "      <td>NaN</td>\n",
       "      <td>0</td>\n",
       "      <td>0</td>\n",
       "    </tr>\n",
       "    <tr>\n",
       "      <th>57236</th>\n",
       "      <td>54</td>\n",
       "      <td>53</td>\n",
       "      <td>ETH_SYC</td>\n",
       "      <td>2019</td>\n",
       "      <td>0</td>\n",
       "      <td>0</td>\n",
       "      <td>NaN</td>\n",
       "      <td>0</td>\n",
       "      <td>0</td>\n",
       "    </tr>\n",
       "    <tr>\n",
       "      <th>57237</th>\n",
       "      <td>54</td>\n",
       "      <td>53</td>\n",
       "      <td>ETH_SYC</td>\n",
       "      <td>2020</td>\n",
       "      <td>0</td>\n",
       "      <td>0</td>\n",
       "      <td>NaN</td>\n",
       "      <td>0</td>\n",
       "      <td>0</td>\n",
       "    </tr>\n",
       "    <tr>\n",
       "      <th>57238</th>\n",
       "      <td>54</td>\n",
       "      <td>53</td>\n",
       "      <td>ETH_SYC</td>\n",
       "      <td>2021</td>\n",
       "      <td>0</td>\n",
       "      <td>0</td>\n",
       "      <td>NaN</td>\n",
       "      <td>0</td>\n",
       "      <td>0</td>\n",
       "    </tr>\n",
       "    <tr>\n",
       "      <th>57239</th>\n",
       "      <td>54</td>\n",
       "      <td>53</td>\n",
       "      <td>ETH_SYC</td>\n",
       "      <td>2022</td>\n",
       "      <td>0</td>\n",
       "      <td>0</td>\n",
       "      <td>NaN</td>\n",
       "      <td>0</td>\n",
       "      <td>0</td>\n",
       "    </tr>\n",
       "  </tbody>\n",
       "</table>\n",
       "<p>57240 rows × 9 columns</p>\n",
       "</div>"
      ],
      "text/plain": [
       "       Exporter  Importer    cross  Year  Quantity_mt   Value_usd   \\\n",
       "0             1         2  NGA_EGY  2003             0           0   \n",
       "1             1         2  NGA_EGY  2004             0           0   \n",
       "2             1         2  NGA_EGY  2005             0           0   \n",
       "3             1         2  NGA_EGY  2006             0           0   \n",
       "4             1         2  NGA_EGY  2007             0           0   \n",
       "...         ...       ...      ...   ...           ...         ...   \n",
       "57235        54        53  ETH_SYC  2018             0           0   \n",
       "57236        54        53  ETH_SYC  2019             0           0   \n",
       "57237        54        53  ETH_SYC  2020             0           0   \n",
       "57238        54        53  ETH_SYC  2021             0           0   \n",
       "57239        54        53  ETH_SYC  2022             0           0   \n",
       "\n",
       "       Unnamed: 6  Import trade _metric Tons  Import trade _Values _USD   \n",
       "0             NaN                          0                           0  \n",
       "1             NaN                          0                           0  \n",
       "2             NaN                          0                           0  \n",
       "3             NaN                          0                           0  \n",
       "4             NaN                          0                           0  \n",
       "...           ...                        ...                         ...  \n",
       "57235         NaN                          0                           0  \n",
       "57236         NaN                          0                           0  \n",
       "57237         NaN                          0                           0  \n",
       "57238         NaN                          0                           0  \n",
       "57239         NaN                          0                           0  \n",
       "\n",
       "[57240 rows x 9 columns]"
      ]
     },
     "execution_count": 36,
     "metadata": {},
     "output_type": "execute_result"
    }
   ],
   "source": [
    "df"
   ]
  },
  {
   "cell_type": "code",
   "execution_count": 37,
   "id": "3c26a149",
   "metadata": {},
   "outputs": [],
   "source": [
    "df_filtered = df[(df['Import trade _Values _USD ']!=0) | (df['Quantity_mt '] !=0) | (df['Value_usd ']!=0) | (df['Import trade _metric Tons']!=0)]"
   ]
  },
  {
   "cell_type": "code",
   "execution_count": 38,
   "id": "36419511",
   "metadata": {},
   "outputs": [
    {
     "name": "stderr",
     "output_type": "stream",
     "text": [
      "C:\\Users\\USER\\AppData\\Local\\Temp\\ipykernel_7728\\1326941104.py:1: SettingWithCopyWarning:\n",
      "\n",
      "\n",
      "A value is trying to be set on a copy of a slice from a DataFrame.\n",
      "Try using .loc[row_indexer,col_indexer] = value instead\n",
      "\n",
      "See the caveats in the documentation: https://pandas.pydata.org/pandas-docs/stable/user_guide/indexing.html#returning-a-view-versus-a-copy\n",
      "\n",
      "C:\\Users\\USER\\AppData\\Local\\Temp\\ipykernel_7728\\1326941104.py:1: SettingWithCopyWarning:\n",
      "\n",
      "\n",
      "A value is trying to be set on a copy of a slice from a DataFrame.\n",
      "Try using .loc[row_indexer,col_indexer] = value instead\n",
      "\n",
      "See the caveats in the documentation: https://pandas.pydata.org/pandas-docs/stable/user_guide/indexing.html#returning-a-view-versus-a-copy\n",
      "\n"
     ]
    }
   ],
   "source": [
    "df_filtered[['country1','country2']] = df_filtered['cross'].str.split('_', expand=True)"
   ]
  },
  {
   "cell_type": "code",
   "execution_count": 39,
   "id": "c0ac6c2b",
   "metadata": {},
   "outputs": [
    {
     "data": {
      "text/html": [
       "<div>\n",
       "<style scoped>\n",
       "    .dataframe tbody tr th:only-of-type {\n",
       "        vertical-align: middle;\n",
       "    }\n",
       "\n",
       "    .dataframe tbody tr th {\n",
       "        vertical-align: top;\n",
       "    }\n",
       "\n",
       "    .dataframe thead th {\n",
       "        text-align: right;\n",
       "    }\n",
       "</style>\n",
       "<table border=\"1\" class=\"dataframe\">\n",
       "  <thead>\n",
       "    <tr style=\"text-align: right;\">\n",
       "      <th></th>\n",
       "      <th>Exporter</th>\n",
       "      <th>Importer</th>\n",
       "      <th>cross</th>\n",
       "      <th>Year</th>\n",
       "      <th>Quantity_mt</th>\n",
       "      <th>Value_usd</th>\n",
       "      <th>Unnamed: 6</th>\n",
       "      <th>Import trade _metric Tons</th>\n",
       "      <th>Import trade _Values _USD</th>\n",
       "      <th>country1</th>\n",
       "      <th>country2</th>\n",
       "    </tr>\n",
       "  </thead>\n",
       "  <tbody>\n",
       "    <tr>\n",
       "      <th>6</th>\n",
       "      <td>1</td>\n",
       "      <td>2</td>\n",
       "      <td>NGA_EGY</td>\n",
       "      <td>2009</td>\n",
       "      <td>0</td>\n",
       "      <td>0</td>\n",
       "      <td>NaN</td>\n",
       "      <td>35</td>\n",
       "      <td>136</td>\n",
       "      <td>NGA</td>\n",
       "      <td>EGY</td>\n",
       "    </tr>\n",
       "    <tr>\n",
       "      <th>17</th>\n",
       "      <td>1</td>\n",
       "      <td>2</td>\n",
       "      <td>NGA_EGY</td>\n",
       "      <td>2020</td>\n",
       "      <td>0</td>\n",
       "      <td>0</td>\n",
       "      <td>NaN</td>\n",
       "      <td>103</td>\n",
       "      <td>90</td>\n",
       "      <td>NGA</td>\n",
       "      <td>EGY</td>\n",
       "    </tr>\n",
       "    <tr>\n",
       "      <th>18</th>\n",
       "      <td>1</td>\n",
       "      <td>2</td>\n",
       "      <td>NGA_EGY</td>\n",
       "      <td>2021</td>\n",
       "      <td>0</td>\n",
       "      <td>0</td>\n",
       "      <td>NaN</td>\n",
       "      <td>0</td>\n",
       "      <td>1</td>\n",
       "      <td>NGA</td>\n",
       "      <td>EGY</td>\n",
       "    </tr>\n",
       "    <tr>\n",
       "      <th>27</th>\n",
       "      <td>1</td>\n",
       "      <td>3</td>\n",
       "      <td>NGA_COD</td>\n",
       "      <td>2010</td>\n",
       "      <td>2280</td>\n",
       "      <td>551</td>\n",
       "      <td>NaN</td>\n",
       "      <td>100</td>\n",
       "      <td>183</td>\n",
       "      <td>NGA</td>\n",
       "      <td>COD</td>\n",
       "    </tr>\n",
       "    <tr>\n",
       "      <th>28</th>\n",
       "      <td>1</td>\n",
       "      <td>3</td>\n",
       "      <td>NGA_COD</td>\n",
       "      <td>2011</td>\n",
       "      <td>0</td>\n",
       "      <td>0</td>\n",
       "      <td>NaN</td>\n",
       "      <td>59</td>\n",
       "      <td>56</td>\n",
       "      <td>NGA</td>\n",
       "      <td>COD</td>\n",
       "    </tr>\n",
       "    <tr>\n",
       "      <th>...</th>\n",
       "      <td>...</td>\n",
       "      <td>...</td>\n",
       "      <td>...</td>\n",
       "      <td>...</td>\n",
       "      <td>...</td>\n",
       "      <td>...</td>\n",
       "      <td>...</td>\n",
       "      <td>...</td>\n",
       "      <td>...</td>\n",
       "      <td>...</td>\n",
       "      <td>...</td>\n",
       "    </tr>\n",
       "    <tr>\n",
       "      <th>57145</th>\n",
       "      <td>54</td>\n",
       "      <td>49</td>\n",
       "      <td>ETH_DJI</td>\n",
       "      <td>2008</td>\n",
       "      <td>0</td>\n",
       "      <td>0</td>\n",
       "      <td>NaN</td>\n",
       "      <td>1</td>\n",
       "      <td>1</td>\n",
       "      <td>ETH</td>\n",
       "      <td>DJI</td>\n",
       "    </tr>\n",
       "    <tr>\n",
       "      <th>57146</th>\n",
       "      <td>54</td>\n",
       "      <td>49</td>\n",
       "      <td>ETH_DJI</td>\n",
       "      <td>2009</td>\n",
       "      <td>0</td>\n",
       "      <td>0</td>\n",
       "      <td>NaN</td>\n",
       "      <td>2</td>\n",
       "      <td>11</td>\n",
       "      <td>ETH</td>\n",
       "      <td>DJI</td>\n",
       "    </tr>\n",
       "    <tr>\n",
       "      <th>57149</th>\n",
       "      <td>54</td>\n",
       "      <td>49</td>\n",
       "      <td>ETH_DJI</td>\n",
       "      <td>2012</td>\n",
       "      <td>0</td>\n",
       "      <td>0</td>\n",
       "      <td>NaN</td>\n",
       "      <td>1</td>\n",
       "      <td>6</td>\n",
       "      <td>ETH</td>\n",
       "      <td>DJI</td>\n",
       "    </tr>\n",
       "    <tr>\n",
       "      <th>57151</th>\n",
       "      <td>54</td>\n",
       "      <td>49</td>\n",
       "      <td>ETH_DJI</td>\n",
       "      <td>2014</td>\n",
       "      <td>0</td>\n",
       "      <td>0</td>\n",
       "      <td>NaN</td>\n",
       "      <td>0</td>\n",
       "      <td>6</td>\n",
       "      <td>ETH</td>\n",
       "      <td>DJI</td>\n",
       "    </tr>\n",
       "    <tr>\n",
       "      <th>57153</th>\n",
       "      <td>54</td>\n",
       "      <td>49</td>\n",
       "      <td>ETH_DJI</td>\n",
       "      <td>2016</td>\n",
       "      <td>0</td>\n",
       "      <td>0</td>\n",
       "      <td>NaN</td>\n",
       "      <td>1</td>\n",
       "      <td>1</td>\n",
       "      <td>ETH</td>\n",
       "      <td>DJI</td>\n",
       "    </tr>\n",
       "  </tbody>\n",
       "</table>\n",
       "<p>8267 rows × 11 columns</p>\n",
       "</div>"
      ],
      "text/plain": [
       "       Exporter  Importer    cross  Year  Quantity_mt   Value_usd   \\\n",
       "6             1         2  NGA_EGY  2009             0           0   \n",
       "17            1         2  NGA_EGY  2020             0           0   \n",
       "18            1         2  NGA_EGY  2021             0           0   \n",
       "27            1         3  NGA_COD  2010          2280         551   \n",
       "28            1         3  NGA_COD  2011             0           0   \n",
       "...         ...       ...      ...   ...           ...         ...   \n",
       "57145        54        49  ETH_DJI  2008             0           0   \n",
       "57146        54        49  ETH_DJI  2009             0           0   \n",
       "57149        54        49  ETH_DJI  2012             0           0   \n",
       "57151        54        49  ETH_DJI  2014             0           0   \n",
       "57153        54        49  ETH_DJI  2016             0           0   \n",
       "\n",
       "       Unnamed: 6  Import trade _metric Tons  Import trade _Values _USD   \\\n",
       "6             NaN                         35                         136   \n",
       "17            NaN                        103                          90   \n",
       "18            NaN                          0                           1   \n",
       "27            NaN                        100                         183   \n",
       "28            NaN                         59                          56   \n",
       "...           ...                        ...                         ...   \n",
       "57145         NaN                          1                           1   \n",
       "57146         NaN                          2                          11   \n",
       "57149         NaN                          1                           6   \n",
       "57151         NaN                          0                           6   \n",
       "57153         NaN                          1                           1   \n",
       "\n",
       "      country1 country2  \n",
       "6          NGA      EGY  \n",
       "17         NGA      EGY  \n",
       "18         NGA      EGY  \n",
       "27         NGA      COD  \n",
       "28         NGA      COD  \n",
       "...        ...      ...  \n",
       "57145      ETH      DJI  \n",
       "57146      ETH      DJI  \n",
       "57149      ETH      DJI  \n",
       "57151      ETH      DJI  \n",
       "57153      ETH      DJI  \n",
       "\n",
       "[8267 rows x 11 columns]"
      ]
     },
     "execution_count": 39,
     "metadata": {},
     "output_type": "execute_result"
    }
   ],
   "source": [
    "#df_filtered = df_filtered[df_filtered['country1']== 'NGA']\n",
    "df_filtered"
   ]
  },
  {
   "cell_type": "code",
   "execution_count": 40,
   "id": "751a8883",
   "metadata": {},
   "outputs": [
    {
     "name": "stderr",
     "output_type": "stream",
     "text": [
      "C:\\Users\\USER\\AppData\\Local\\Temp\\ipykernel_7728\\3261805518.py:9: UserWarning:\n",
      "\n",
      "Geometry is in a geographic CRS. Results from 'centroid' are likely incorrect. Use 'GeoSeries.to_crs()' to re-project geometries to a projected CRS before this operation.\n",
      "\n",
      "\n",
      "C:\\Users\\USER\\AppData\\Local\\Temp\\ipykernel_7728\\3261805518.py:14: SettingWithCopyWarning:\n",
      "\n",
      "\n",
      "A value is trying to be set on a copy of a slice from a DataFrame.\n",
      "Try using .loc[row_indexer,col_indexer] = value instead\n",
      "\n",
      "See the caveats in the documentation: https://pandas.pydata.org/pandas-docs/stable/user_guide/indexing.html#returning-a-view-versus-a-copy\n",
      "\n",
      "C:\\Users\\USER\\AppData\\Local\\Temp\\ipykernel_7728\\3261805518.py:14: SettingWithCopyWarning:\n",
      "\n",
      "\n",
      "A value is trying to be set on a copy of a slice from a DataFrame.\n",
      "Try using .loc[row_indexer,col_indexer] = value instead\n",
      "\n",
      "See the caveats in the documentation: https://pandas.pydata.org/pandas-docs/stable/user_guide/indexing.html#returning-a-view-versus-a-copy\n",
      "\n",
      "C:\\Users\\USER\\AppData\\Local\\Temp\\ipykernel_7728\\3261805518.py:9: UserWarning:\n",
      "\n",
      "Geometry is in a geographic CRS. Results from 'centroid' are likely incorrect. Use 'GeoSeries.to_crs()' to re-project geometries to a projected CRS before this operation.\n",
      "\n",
      "\n",
      "C:\\Users\\USER\\AppData\\Local\\Temp\\ipykernel_7728\\3261805518.py:15: SettingWithCopyWarning:\n",
      "\n",
      "\n",
      "A value is trying to be set on a copy of a slice from a DataFrame.\n",
      "Try using .loc[row_indexer,col_indexer] = value instead\n",
      "\n",
      "See the caveats in the documentation: https://pandas.pydata.org/pandas-docs/stable/user_guide/indexing.html#returning-a-view-versus-a-copy\n",
      "\n",
      "C:\\Users\\USER\\AppData\\Local\\Temp\\ipykernel_7728\\3261805518.py:15: SettingWithCopyWarning:\n",
      "\n",
      "\n",
      "A value is trying to be set on a copy of a slice from a DataFrame.\n",
      "Try using .loc[row_indexer,col_indexer] = value instead\n",
      "\n",
      "See the caveats in the documentation: https://pandas.pydata.org/pandas-docs/stable/user_guide/indexing.html#returning-a-view-versus-a-copy\n",
      "\n"
     ]
    }
   ],
   "source": [
    "\n",
    "# Load the shapefile and reproject\n",
    "world = gpd.read_file(\"ne_110m_admin_0_countries.shp\")\n",
    "world = world.to_crs(epsg=4326 )  # Reproject to projected CRS\n",
    "\n",
    "# Function to get coordinates for a given country code\n",
    "def get_coordinates(country_code, world):\n",
    "    country = world[world['ISO_A3'] == country_code]  # Adjust 'ISO_A3' if needed\n",
    "    if not country.empty:\n",
    "        return country.geometry.centroid.x.iloc[0], country.geometry.centroid.y.iloc[0]\n",
    "    else:\n",
    "        return None, None\n",
    "\n",
    "# Assuming you have df_filtered ready, let's add coordinates for start and end countries\n",
    "df_filtered['longitude1'], df_filtered['latitude1'] = zip(*df_filtered['country1'].apply(lambda x: get_coordinates(x, world)))\n",
    "df_filtered['longitude2'], df_filtered['latitude2'] = zip(*df_filtered['country2'].apply(lambda x: get_coordinates(x, world)))\n"
   ]
  },
  {
   "cell_type": "code",
   "execution_count": 79,
   "id": "4904cc47",
   "metadata": {},
   "outputs": [
    {
     "name": "stderr",
     "output_type": "stream",
     "text": [
      "C:\\Users\\USER\\AppData\\Local\\Temp\\ipykernel_7728\\658675403.py:8: SettingWithCopyWarning:\n",
      "\n",
      "\n",
      "A value is trying to be set on a copy of a slice from a DataFrame.\n",
      "Try using .loc[row_indexer,col_indexer] = value instead\n",
      "\n",
      "See the caveats in the documentation: https://pandas.pydata.org/pandas-docs/stable/user_guide/indexing.html#returning-a-view-versus-a-copy\n",
      "\n",
      "C:\\Users\\USER\\AppData\\Local\\Temp\\ipykernel_7728\\658675403.py:11: SettingWithCopyWarning:\n",
      "\n",
      "\n",
      "A value is trying to be set on a copy of a slice from a DataFrame.\n",
      "Try using .loc[row_indexer,col_indexer] = value instead\n",
      "\n",
      "See the caveats in the documentation: https://pandas.pydata.org/pandas-docs/stable/user_guide/indexing.html#returning-a-view-versus-a-copy\n",
      "\n",
      "C:\\Users\\USER\\AppData\\Local\\Temp\\ipykernel_7728\\658675403.py:16: SettingWithCopyWarning:\n",
      "\n",
      "\n",
      "A value is trying to be set on a copy of a slice from a DataFrame.\n",
      "Try using .loc[row_indexer,col_indexer] = value instead\n",
      "\n",
      "See the caveats in the documentation: https://pandas.pydata.org/pandas-docs/stable/user_guide/indexing.html#returning-a-view-versus-a-copy\n",
      "\n",
      "C:\\Users\\USER\\AppData\\Local\\Temp\\ipykernel_7728\\658675403.py:19: SettingWithCopyWarning:\n",
      "\n",
      "\n",
      "A value is trying to be set on a copy of a slice from a DataFrame.\n",
      "Try using .loc[row_indexer,col_indexer] = value instead\n",
      "\n",
      "See the caveats in the documentation: https://pandas.pydata.org/pandas-docs/stable/user_guide/indexing.html#returning-a-view-versus-a-copy\n",
      "\n"
     ]
    }
   ],
   "source": [
    "# Define coordinates for MUS and SYC\n",
    "coordinates = {\n",
    "    'MUS': {'longitude': 57.5522, 'latitude': -20.3484},\n",
    "    'SYC': {'longitude': 55.4540, 'latitude': -4.6796}\n",
    "}\n",
    "\n",
    "# Fill missing coordinates for MUS and SYC\n",
    "df_filtered['longitude2'] = df_filtered.apply(\n",
    "    lambda row: coordinates[row['country2']]['longitude'] if row['country2'] in coordinates else row['longitude2'], axis=1\n",
    ")\n",
    "df_filtered['latitude2'] = df_filtered.apply(\n",
    "    lambda row: coordinates[row['country2']]['latitude'] if row['country2'] in coordinates else row['latitude2'], axis=1\n",
    ")\n",
    "\n",
    "# Similarly, if 'longitude1' and 'latitude1' are also missing for the exporting countries, you can update them:\n",
    "df_filtered['longitude1'] = df_filtered.apply(\n",
    "    lambda row: coordinates[row['country1']]['longitude'] if row['country1'] in coordinates else row['longitude1'], axis=1\n",
    ")\n",
    "df_filtered['latitude1'] = df_filtered.apply(\n",
    "    lambda row: coordinates[row['country1']]['latitude'] if row['country1'] in coordinates else row['latitude1'], axis=1\n",
    ")\n"
   ]
  },
  {
   "cell_type": "code",
   "execution_count": 80,
   "id": "fdd929ef",
   "metadata": {},
   "outputs": [],
   "source": [
    "df_filtered.to_csv(\"data_with_coordinates.csv\", index=False)"
   ]
  },
  {
   "cell_type": "code",
   "execution_count": 81,
   "id": "556b7a04",
   "metadata": {},
   "outputs": [
    {
     "data": {
      "text/html": [
       "<div>\n",
       "<style scoped>\n",
       "    .dataframe tbody tr th:only-of-type {\n",
       "        vertical-align: middle;\n",
       "    }\n",
       "\n",
       "    .dataframe tbody tr th {\n",
       "        vertical-align: top;\n",
       "    }\n",
       "\n",
       "    .dataframe thead th {\n",
       "        text-align: right;\n",
       "    }\n",
       "</style>\n",
       "<table border=\"1\" class=\"dataframe\">\n",
       "  <thead>\n",
       "    <tr style=\"text-align: right;\">\n",
       "      <th></th>\n",
       "      <th>Exporter</th>\n",
       "      <th>Importer</th>\n",
       "      <th>cross</th>\n",
       "      <th>Year</th>\n",
       "      <th>Quantity_mt</th>\n",
       "      <th>Value_usd</th>\n",
       "      <th>Unnamed: 6</th>\n",
       "      <th>Import trade _metric Tons</th>\n",
       "      <th>Import trade _Values _USD</th>\n",
       "      <th>country1</th>\n",
       "      <th>country2</th>\n",
       "      <th>longitude1</th>\n",
       "      <th>latitude1</th>\n",
       "      <th>longitude2</th>\n",
       "      <th>latitude2</th>\n",
       "      <th>trade_scaled</th>\n",
       "      <th>normal_trade</th>\n",
       "    </tr>\n",
       "  </thead>\n",
       "  <tbody>\n",
       "    <tr>\n",
       "      <th>6</th>\n",
       "      <td>1</td>\n",
       "      <td>2</td>\n",
       "      <td>NGA_EGY</td>\n",
       "      <td>2009</td>\n",
       "      <td>0</td>\n",
       "      <td>0</td>\n",
       "      <td>NaN</td>\n",
       "      <td>35</td>\n",
       "      <td>136</td>\n",
       "      <td>NGA</td>\n",
       "      <td>EGY</td>\n",
       "      <td>7.995128</td>\n",
       "      <td>9.548318</td>\n",
       "      <td>29.844462</td>\n",
       "      <td>26.506620</td>\n",
       "      <td>0.000045</td>\n",
       "      <td>94774.477150</td>\n",
       "    </tr>\n",
       "    <tr>\n",
       "      <th>17</th>\n",
       "      <td>1</td>\n",
       "      <td>2</td>\n",
       "      <td>NGA_EGY</td>\n",
       "      <td>2020</td>\n",
       "      <td>0</td>\n",
       "      <td>0</td>\n",
       "      <td>NaN</td>\n",
       "      <td>103</td>\n",
       "      <td>90</td>\n",
       "      <td>NGA</td>\n",
       "      <td>EGY</td>\n",
       "      <td>7.995128</td>\n",
       "      <td>9.548318</td>\n",
       "      <td>29.844462</td>\n",
       "      <td>26.506620</td>\n",
       "      <td>0.000133</td>\n",
       "      <td>84642.089731</td>\n",
       "    </tr>\n",
       "    <tr>\n",
       "      <th>18</th>\n",
       "      <td>1</td>\n",
       "      <td>2</td>\n",
       "      <td>NGA_EGY</td>\n",
       "      <td>2021</td>\n",
       "      <td>0</td>\n",
       "      <td>0</td>\n",
       "      <td>NaN</td>\n",
       "      <td>0</td>\n",
       "      <td>1</td>\n",
       "      <td>NGA</td>\n",
       "      <td>EGY</td>\n",
       "      <td>7.995128</td>\n",
       "      <td>9.548318</td>\n",
       "      <td>29.844462</td>\n",
       "      <td>26.506620</td>\n",
       "      <td>0.000000</td>\n",
       "      <td>50665.390236</td>\n",
       "    </tr>\n",
       "    <tr>\n",
       "      <th>27</th>\n",
       "      <td>1</td>\n",
       "      <td>3</td>\n",
       "      <td>NGA_COD</td>\n",
       "      <td>2010</td>\n",
       "      <td>2280</td>\n",
       "      <td>551</td>\n",
       "      <td>NaN</td>\n",
       "      <td>100</td>\n",
       "      <td>183</td>\n",
       "      <td>NGA</td>\n",
       "      <td>COD</td>\n",
       "      <td>7.995128</td>\n",
       "      <td>9.548318</td>\n",
       "      <td>23.582956</td>\n",
       "      <td>-2.850276</td>\n",
       "      <td>0.000129</td>\n",
       "      <td>53428.436112</td>\n",
       "    </tr>\n",
       "    <tr>\n",
       "      <th>28</th>\n",
       "      <td>1</td>\n",
       "      <td>3</td>\n",
       "      <td>NGA_COD</td>\n",
       "      <td>2011</td>\n",
       "      <td>0</td>\n",
       "      <td>0</td>\n",
       "      <td>NaN</td>\n",
       "      <td>59</td>\n",
       "      <td>56</td>\n",
       "      <td>NGA</td>\n",
       "      <td>COD</td>\n",
       "      <td>7.995128</td>\n",
       "      <td>9.548318</td>\n",
       "      <td>23.582956</td>\n",
       "      <td>-2.850276</td>\n",
       "      <td>0.000076</td>\n",
       "      <td>65555.713920</td>\n",
       "    </tr>\n",
       "    <tr>\n",
       "      <th>...</th>\n",
       "      <td>...</td>\n",
       "      <td>...</td>\n",
       "      <td>...</td>\n",
       "      <td>...</td>\n",
       "      <td>...</td>\n",
       "      <td>...</td>\n",
       "      <td>...</td>\n",
       "      <td>...</td>\n",
       "      <td>...</td>\n",
       "      <td>...</td>\n",
       "      <td>...</td>\n",
       "      <td>...</td>\n",
       "      <td>...</td>\n",
       "      <td>...</td>\n",
       "      <td>...</td>\n",
       "      <td>...</td>\n",
       "      <td>...</td>\n",
       "    </tr>\n",
       "    <tr>\n",
       "      <th>57145</th>\n",
       "      <td>54</td>\n",
       "      <td>49</td>\n",
       "      <td>ETH_DJI</td>\n",
       "      <td>2008</td>\n",
       "      <td>0</td>\n",
       "      <td>0</td>\n",
       "      <td>NaN</td>\n",
       "      <td>1</td>\n",
       "      <td>1</td>\n",
       "      <td>ETH</td>\n",
       "      <td>DJI</td>\n",
       "      <td>39.551256</td>\n",
       "      <td>8.653999</td>\n",
       "      <td>42.498020</td>\n",
       "      <td>11.773044</td>\n",
       "      <td>0.000001</td>\n",
       "      <td>82265.987590</td>\n",
       "    </tr>\n",
       "    <tr>\n",
       "      <th>57146</th>\n",
       "      <td>54</td>\n",
       "      <td>49</td>\n",
       "      <td>ETH_DJI</td>\n",
       "      <td>2009</td>\n",
       "      <td>0</td>\n",
       "      <td>0</td>\n",
       "      <td>NaN</td>\n",
       "      <td>2</td>\n",
       "      <td>11</td>\n",
       "      <td>ETH</td>\n",
       "      <td>DJI</td>\n",
       "      <td>39.551256</td>\n",
       "      <td>8.653999</td>\n",
       "      <td>42.498020</td>\n",
       "      <td>11.773044</td>\n",
       "      <td>0.000003</td>\n",
       "      <td>76291.737305</td>\n",
       "    </tr>\n",
       "    <tr>\n",
       "      <th>57149</th>\n",
       "      <td>54</td>\n",
       "      <td>49</td>\n",
       "      <td>ETH_DJI</td>\n",
       "      <td>2012</td>\n",
       "      <td>0</td>\n",
       "      <td>0</td>\n",
       "      <td>NaN</td>\n",
       "      <td>1</td>\n",
       "      <td>6</td>\n",
       "      <td>ETH</td>\n",
       "      <td>DJI</td>\n",
       "      <td>39.551256</td>\n",
       "      <td>8.653999</td>\n",
       "      <td>42.498020</td>\n",
       "      <td>11.773044</td>\n",
       "      <td>0.000001</td>\n",
       "      <td>67630.480408</td>\n",
       "    </tr>\n",
       "    <tr>\n",
       "      <th>57151</th>\n",
       "      <td>54</td>\n",
       "      <td>49</td>\n",
       "      <td>ETH_DJI</td>\n",
       "      <td>2014</td>\n",
       "      <td>0</td>\n",
       "      <td>0</td>\n",
       "      <td>NaN</td>\n",
       "      <td>0</td>\n",
       "      <td>6</td>\n",
       "      <td>ETH</td>\n",
       "      <td>DJI</td>\n",
       "      <td>39.551256</td>\n",
       "      <td>8.653999</td>\n",
       "      <td>42.498020</td>\n",
       "      <td>11.773044</td>\n",
       "      <td>0.000000</td>\n",
       "      <td>35644.987204</td>\n",
       "    </tr>\n",
       "    <tr>\n",
       "      <th>57153</th>\n",
       "      <td>54</td>\n",
       "      <td>49</td>\n",
       "      <td>ETH_DJI</td>\n",
       "      <td>2016</td>\n",
       "      <td>0</td>\n",
       "      <td>0</td>\n",
       "      <td>NaN</td>\n",
       "      <td>1</td>\n",
       "      <td>1</td>\n",
       "      <td>ETH</td>\n",
       "      <td>DJI</td>\n",
       "      <td>39.551256</td>\n",
       "      <td>8.653999</td>\n",
       "      <td>42.498020</td>\n",
       "      <td>11.773044</td>\n",
       "      <td>0.000001</td>\n",
       "      <td>85285.795936</td>\n",
       "    </tr>\n",
       "  </tbody>\n",
       "</table>\n",
       "<p>8267 rows × 17 columns</p>\n",
       "</div>"
      ],
      "text/plain": [
       "       Exporter  Importer    cross  Year  Quantity_mt   Value_usd   \\\n",
       "6             1         2  NGA_EGY  2009             0           0   \n",
       "17            1         2  NGA_EGY  2020             0           0   \n",
       "18            1         2  NGA_EGY  2021             0           0   \n",
       "27            1         3  NGA_COD  2010          2280         551   \n",
       "28            1         3  NGA_COD  2011             0           0   \n",
       "...         ...       ...      ...   ...           ...         ...   \n",
       "57145        54        49  ETH_DJI  2008             0           0   \n",
       "57146        54        49  ETH_DJI  2009             0           0   \n",
       "57149        54        49  ETH_DJI  2012             0           0   \n",
       "57151        54        49  ETH_DJI  2014             0           0   \n",
       "57153        54        49  ETH_DJI  2016             0           0   \n",
       "\n",
       "       Unnamed: 6  Import trade _metric Tons  Import trade _Values _USD   \\\n",
       "6             NaN                         35                         136   \n",
       "17            NaN                        103                          90   \n",
       "18            NaN                          0                           1   \n",
       "27            NaN                        100                         183   \n",
       "28            NaN                         59                          56   \n",
       "...           ...                        ...                         ...   \n",
       "57145         NaN                          1                           1   \n",
       "57146         NaN                          2                          11   \n",
       "57149         NaN                          1                           6   \n",
       "57151         NaN                          0                           6   \n",
       "57153         NaN                          1                           1   \n",
       "\n",
       "      country1 country2  longitude1  latitude1  longitude2  latitude2  \\\n",
       "6          NGA      EGY    7.995128   9.548318   29.844462  26.506620   \n",
       "17         NGA      EGY    7.995128   9.548318   29.844462  26.506620   \n",
       "18         NGA      EGY    7.995128   9.548318   29.844462  26.506620   \n",
       "27         NGA      COD    7.995128   9.548318   23.582956  -2.850276   \n",
       "28         NGA      COD    7.995128   9.548318   23.582956  -2.850276   \n",
       "...        ...      ...         ...        ...         ...        ...   \n",
       "57145      ETH      DJI   39.551256   8.653999   42.498020  11.773044   \n",
       "57146      ETH      DJI   39.551256   8.653999   42.498020  11.773044   \n",
       "57149      ETH      DJI   39.551256   8.653999   42.498020  11.773044   \n",
       "57151      ETH      DJI   39.551256   8.653999   42.498020  11.773044   \n",
       "57153      ETH      DJI   39.551256   8.653999   42.498020  11.773044   \n",
       "\n",
       "       trade_scaled  normal_trade  \n",
       "6          0.000045  94774.477150  \n",
       "17         0.000133  84642.089731  \n",
       "18         0.000000  50665.390236  \n",
       "27         0.000129  53428.436112  \n",
       "28         0.000076  65555.713920  \n",
       "...             ...           ...  \n",
       "57145      0.000001  82265.987590  \n",
       "57146      0.000003  76291.737305  \n",
       "57149      0.000001  67630.480408  \n",
       "57151      0.000000  35644.987204  \n",
       "57153      0.000001  85285.795936  \n",
       "\n",
       "[8267 rows x 17 columns]"
      ]
     },
     "execution_count": 81,
     "metadata": {},
     "output_type": "execute_result"
    }
   ],
   "source": [
    "df_filtered"
   ]
  },
  {
   "cell_type": "code",
   "execution_count": 52,
   "id": "febcae6f",
   "metadata": {},
   "outputs": [
    {
     "data": {
      "text/html": [
       "<div>\n",
       "<style scoped>\n",
       "    .dataframe tbody tr th:only-of-type {\n",
       "        vertical-align: middle;\n",
       "    }\n",
       "\n",
       "    .dataframe tbody tr th {\n",
       "        vertical-align: top;\n",
       "    }\n",
       "\n",
       "    .dataframe thead th {\n",
       "        text-align: right;\n",
       "    }\n",
       "</style>\n",
       "<table border=\"1\" class=\"dataframe\">\n",
       "  <thead>\n",
       "    <tr style=\"text-align: right;\">\n",
       "      <th></th>\n",
       "      <th></th>\n",
       "      <th></th>\n",
       "      <th></th>\n",
       "      <th></th>\n",
       "      <th></th>\n",
       "      <th></th>\n",
       "      <th>Import trade _metric Tons</th>\n",
       "      <th>Import trade _Values _USD</th>\n",
       "    </tr>\n",
       "    <tr>\n",
       "      <th>cross</th>\n",
       "      <th>country1</th>\n",
       "      <th>country2</th>\n",
       "      <th>longitude1</th>\n",
       "      <th>latitude1</th>\n",
       "      <th>longitude2</th>\n",
       "      <th>latitude2</th>\n",
       "      <th></th>\n",
       "      <th></th>\n",
       "    </tr>\n",
       "  </thead>\n",
       "  <tbody>\n",
       "    <tr>\n",
       "      <th>AGO_BEN</th>\n",
       "      <th>AGO</th>\n",
       "      <th>BEN</th>\n",
       "      <th>17.470573</th>\n",
       "      <th>-12.245869</th>\n",
       "      <th>2.337378</th>\n",
       "      <th>9.647431</th>\n",
       "      <td>0</td>\n",
       "      <td>0</td>\n",
       "    </tr>\n",
       "    <tr>\n",
       "      <th>AGO_CIV</th>\n",
       "      <th>AGO</th>\n",
       "      <th>CIV</th>\n",
       "      <th>17.470573</th>\n",
       "      <th>-12.245869</th>\n",
       "      <th>-5.612044</th>\n",
       "      <th>7.553755</th>\n",
       "      <td>0</td>\n",
       "      <td>44</td>\n",
       "    </tr>\n",
       "    <tr>\n",
       "      <th>AGO_CMR</th>\n",
       "      <th>AGO</th>\n",
       "      <th>CMR</th>\n",
       "      <th>17.470573</th>\n",
       "      <th>-12.245869</th>\n",
       "      <th>12.611552</th>\n",
       "      <th>5.663095</th>\n",
       "      <td>0</td>\n",
       "      <td>0</td>\n",
       "    </tr>\n",
       "    <tr>\n",
       "      <th>AGO_COD</th>\n",
       "      <th>AGO</th>\n",
       "      <th>COD</th>\n",
       "      <th>17.470573</th>\n",
       "      <th>-12.245869</th>\n",
       "      <th>23.582956</th>\n",
       "      <th>-2.850276</th>\n",
       "      <td>312</td>\n",
       "      <td>326</td>\n",
       "    </tr>\n",
       "    <tr>\n",
       "      <th>AGO_COG</th>\n",
       "      <th>AGO</th>\n",
       "      <th>COG</th>\n",
       "      <th>17.470573</th>\n",
       "      <th>-12.245869</th>\n",
       "      <th>15.134462</th>\n",
       "      <th>-0.837801</th>\n",
       "      <td>9775</td>\n",
       "      <td>9049</td>\n",
       "    </tr>\n",
       "    <tr>\n",
       "      <th>...</th>\n",
       "      <th>...</th>\n",
       "      <th>...</th>\n",
       "      <th>...</th>\n",
       "      <th>...</th>\n",
       "      <th>...</th>\n",
       "      <th>...</th>\n",
       "      <td>...</td>\n",
       "      <td>...</td>\n",
       "    </tr>\n",
       "    <tr>\n",
       "      <th>ZWE_NAM</th>\n",
       "      <th>ZWE</th>\n",
       "      <th>NAM</th>\n",
       "      <th>29.788548</th>\n",
       "      <th>-18.906988</th>\n",
       "      <th>17.156168</th>\n",
       "      <th>-22.099777</th>\n",
       "      <td>134788</td>\n",
       "      <td>112756</td>\n",
       "    </tr>\n",
       "    <tr>\n",
       "      <th>ZWE_TZA</th>\n",
       "      <th>ZWE</th>\n",
       "      <th>TZA</th>\n",
       "      <th>29.788548</th>\n",
       "      <th>-18.906988</th>\n",
       "      <th>34.752990</th>\n",
       "      <th>-6.257732</th>\n",
       "      <td>970</td>\n",
       "      <td>1446</td>\n",
       "    </tr>\n",
       "    <tr>\n",
       "      <th>ZWE_UGA</th>\n",
       "      <th>ZWE</th>\n",
       "      <th>UGA</th>\n",
       "      <th>29.788548</th>\n",
       "      <th>-18.906988</th>\n",
       "      <th>32.357550</th>\n",
       "      <th>1.295486</th>\n",
       "      <td>109</td>\n",
       "      <td>408</td>\n",
       "    </tr>\n",
       "    <tr>\n",
       "      <th>ZWE_ZAF</th>\n",
       "      <th>ZWE</th>\n",
       "      <th>ZAF</th>\n",
       "      <th>29.788548</th>\n",
       "      <th>-18.906988</th>\n",
       "      <th>25.048014</th>\n",
       "      <th>-28.947033</th>\n",
       "      <td>10980</td>\n",
       "      <td>23134</td>\n",
       "    </tr>\n",
       "    <tr>\n",
       "      <th>ZWE_ZMB</th>\n",
       "      <th>ZWE</th>\n",
       "      <th>ZMB</th>\n",
       "      <th>29.788548</th>\n",
       "      <th>-18.906988</th>\n",
       "      <th>27.727592</th>\n",
       "      <th>-13.395068</th>\n",
       "      <td>1162</td>\n",
       "      <td>2184</td>\n",
       "    </tr>\n",
       "  </tbody>\n",
       "</table>\n",
       "<p>937 rows × 2 columns</p>\n",
       "</div>"
      ],
      "text/plain": [
       "                                                                       Import trade _metric Tons  \\\n",
       "cross   country1 country2 longitude1 latitude1  longitude2 latitude2                               \n",
       "AGO_BEN AGO      BEN      17.470573  -12.245869  2.337378   9.647431                           0   \n",
       "AGO_CIV AGO      CIV      17.470573  -12.245869 -5.612044   7.553755                           0   \n",
       "AGO_CMR AGO      CMR      17.470573  -12.245869  12.611552  5.663095                           0   \n",
       "AGO_COD AGO      COD      17.470573  -12.245869  23.582956 -2.850276                         312   \n",
       "AGO_COG AGO      COG      17.470573  -12.245869  15.134462 -0.837801                        9775   \n",
       "...                                                                                          ...   \n",
       "ZWE_NAM ZWE      NAM      29.788548  -18.906988  17.156168 -22.099777                     134788   \n",
       "ZWE_TZA ZWE      TZA      29.788548  -18.906988  34.752990 -6.257732                         970   \n",
       "ZWE_UGA ZWE      UGA      29.788548  -18.906988  32.357550  1.295486                         109   \n",
       "ZWE_ZAF ZWE      ZAF      29.788548  -18.906988  25.048014 -28.947033                      10980   \n",
       "ZWE_ZMB ZWE      ZMB      29.788548  -18.906988  27.727592 -13.395068                       1162   \n",
       "\n",
       "                                                                       Import trade _Values _USD   \n",
       "cross   country1 country2 longitude1 latitude1  longitude2 latitude2                               \n",
       "AGO_BEN AGO      BEN      17.470573  -12.245869  2.337378   9.647431                            0  \n",
       "AGO_CIV AGO      CIV      17.470573  -12.245869 -5.612044   7.553755                           44  \n",
       "AGO_CMR AGO      CMR      17.470573  -12.245869  12.611552  5.663095                            0  \n",
       "AGO_COD AGO      COD      17.470573  -12.245869  23.582956 -2.850276                          326  \n",
       "AGO_COG AGO      COG      17.470573  -12.245869  15.134462 -0.837801                         9049  \n",
       "...                                                                                           ...  \n",
       "ZWE_NAM ZWE      NAM      29.788548  -18.906988  17.156168 -22.099777                      112756  \n",
       "ZWE_TZA ZWE      TZA      29.788548  -18.906988  34.752990 -6.257732                         1446  \n",
       "ZWE_UGA ZWE      UGA      29.788548  -18.906988  32.357550  1.295486                          408  \n",
       "ZWE_ZAF ZWE      ZAF      29.788548  -18.906988  25.048014 -28.947033                       23134  \n",
       "ZWE_ZMB ZWE      ZMB      29.788548  -18.906988  27.727592 -13.395068                        2184  \n",
       "\n",
       "[937 rows x 2 columns]"
      ]
     },
     "execution_count": 52,
     "metadata": {},
     "output_type": "execute_result"
    }
   ],
   "source": [
    "df1 = df_filtered.groupby(['cross','country1', 'country2', 'longitude1', 'latitude1', 'longitude2', 'latitude2'])[['Import trade _metric Tons', 'Import trade _Values _USD ']].sum()"
   ]
  },
  {
   "cell_type": "code",
   "execution_count": 51,
   "id": "efc43fae",
   "metadata": {},
   "outputs": [
    {
     "data": {
      "text/plain": [
       "Index(['Exporter', 'Importer', 'cross', 'Year', 'Quantity_mt ', 'Value_usd ',\n",
       "       'Unnamed: 6', 'Import trade _metric Tons', 'Import trade _Values _USD ',\n",
       "       'country1', 'country2', 'longitude1', 'latitude1', 'longitude2',\n",
       "       'latitude2'],\n",
       "      dtype='object')"
      ]
     },
     "execution_count": 51,
     "metadata": {},
     "output_type": "execute_result"
    }
   ],
   "source": [
    "df_filtered.columns"
   ]
  },
  {
   "cell_type": "code",
   "execution_count": 10,
   "id": "cbd4bde2",
   "metadata": {},
   "outputs": [],
   "source": [
    "nodes = df_filtered['country2'].unique().tolist() + ['NGA']\n",
    "x = []\n",
    "y = []\n",
    "z = []\n",
    "\n",
    "for _, row in df_filtered.iterrows():\n",
    "    x.append(nodes.index('NGA'))\n",
    "    y.append(nodes.index(row['country2']))\n",
    "    z.append(row['Import trade _metric Tons'])"
   ]
  },
  {
   "cell_type": "code",
   "execution_count": 11,
   "id": "8d7286f0",
   "metadata": {},
   "outputs": [
    {
     "data": {
      "text/plain": [
       "['EGY',\n",
       " 'COD',\n",
       " 'TZA',\n",
       " 'ZAF',\n",
       " 'KEN',\n",
       " 'UGA',\n",
       " 'SDN',\n",
       " 'DZA',\n",
       " 'MAR',\n",
       " 'AGO',\n",
       " 'GHA',\n",
       " 'CIV',\n",
       " 'CMR',\n",
       " 'NER',\n",
       " 'MLI',\n",
       " 'BFA',\n",
       " 'TCD',\n",
       " 'SEN',\n",
       " 'ZWE',\n",
       " 'GIN',\n",
       " 'RWA',\n",
       " 'BEN',\n",
       " 'BDI',\n",
       " 'TUN',\n",
       " 'TGO',\n",
       " 'SLE',\n",
       " 'CAF',\n",
       " 'LBR',\n",
       " 'MRT',\n",
       " 'ERI',\n",
       " 'GMB',\n",
       " 'BWA',\n",
       " 'NAM',\n",
       " 'GAB',\n",
       " 'GNB',\n",
       " 'GNQ',\n",
       " 'MUS',\n",
       " 'SWZ',\n",
       " 'SYC',\n",
       " 'ETH',\n",
       " 'NGA']"
      ]
     },
     "execution_count": 11,
     "metadata": {},
     "output_type": "execute_result"
    }
   ],
   "source": [
    "nodes"
   ]
  },
  {
   "cell_type": "code",
   "execution_count": 32,
   "id": "c860191c",
   "metadata": {},
   "outputs": [
    {
     "name": "stderr",
     "output_type": "stream",
     "text": [
      "C:\\Users\\USER\\AppData\\Local\\Temp\\ipykernel_7728\\2213540358.py:1: FutureWarning:\n",
      "\n",
      "The default value of numeric_only in DataFrameGroupBy.sum is deprecated. In a future version, numeric_only will default to False. Either specify numeric_only or select only columns which should be valid for the function.\n",
      "\n"
     ]
    },
    {
     "data": {
      "text/html": [
       "<div>\n",
       "<style scoped>\n",
       "    .dataframe tbody tr th:only-of-type {\n",
       "        vertical-align: middle;\n",
       "    }\n",
       "\n",
       "    .dataframe tbody tr th {\n",
       "        vertical-align: top;\n",
       "    }\n",
       "\n",
       "    .dataframe thead th {\n",
       "        text-align: right;\n",
       "    }\n",
       "</style>\n",
       "<table border=\"1\" class=\"dataframe\">\n",
       "  <thead>\n",
       "    <tr style=\"text-align: right;\">\n",
       "      <th></th>\n",
       "      <th>Quantity_mt</th>\n",
       "      <th>Value_usd</th>\n",
       "      <th>Unnamed: 6</th>\n",
       "      <th>Import trade _metric Tons</th>\n",
       "      <th>Import trade _Values _USD</th>\n",
       "    </tr>\n",
       "    <tr>\n",
       "      <th>cross</th>\n",
       "      <th></th>\n",
       "      <th></th>\n",
       "      <th></th>\n",
       "      <th></th>\n",
       "      <th></th>\n",
       "    </tr>\n",
       "  </thead>\n",
       "  <tbody>\n",
       "    <tr>\n",
       "      <th>NGA_AGO</th>\n",
       "      <td>222</td>\n",
       "      <td>130</td>\n",
       "      <td>0.0</td>\n",
       "      <td>2367</td>\n",
       "      <td>27915</td>\n",
       "    </tr>\n",
       "    <tr>\n",
       "      <th>NGA_BDI</th>\n",
       "      <td>12</td>\n",
       "      <td>15</td>\n",
       "      <td>0.0</td>\n",
       "      <td>0</td>\n",
       "      <td>0</td>\n",
       "    </tr>\n",
       "    <tr>\n",
       "      <th>NGA_BEN</th>\n",
       "      <td>2</td>\n",
       "      <td>10</td>\n",
       "      <td>0.0</td>\n",
       "      <td>2221</td>\n",
       "      <td>4019</td>\n",
       "    </tr>\n",
       "    <tr>\n",
       "      <th>NGA_BFA</th>\n",
       "      <td>95</td>\n",
       "      <td>847</td>\n",
       "      <td>0.0</td>\n",
       "      <td>118</td>\n",
       "      <td>296</td>\n",
       "    </tr>\n",
       "    <tr>\n",
       "      <th>NGA_BWA</th>\n",
       "      <td>726</td>\n",
       "      <td>3434</td>\n",
       "      <td>0.0</td>\n",
       "      <td>12697</td>\n",
       "      <td>56861</td>\n",
       "    </tr>\n",
       "    <tr>\n",
       "      <th>NGA_CAF</th>\n",
       "      <td>266</td>\n",
       "      <td>1872</td>\n",
       "      <td>0.0</td>\n",
       "      <td>7968</td>\n",
       "      <td>6852</td>\n",
       "    </tr>\n",
       "    <tr>\n",
       "      <th>NGA_CIV</th>\n",
       "      <td>23</td>\n",
       "      <td>329</td>\n",
       "      <td>0.0</td>\n",
       "      <td>70</td>\n",
       "      <td>9309</td>\n",
       "    </tr>\n",
       "    <tr>\n",
       "      <th>NGA_CMR</th>\n",
       "      <td>6</td>\n",
       "      <td>29</td>\n",
       "      <td>0.0</td>\n",
       "      <td>141</td>\n",
       "      <td>424</td>\n",
       "    </tr>\n",
       "    <tr>\n",
       "      <th>NGA_COD</th>\n",
       "      <td>2280</td>\n",
       "      <td>551</td>\n",
       "      <td>0.0</td>\n",
       "      <td>159</td>\n",
       "      <td>241</td>\n",
       "    </tr>\n",
       "    <tr>\n",
       "      <th>NGA_DZA</th>\n",
       "      <td>58</td>\n",
       "      <td>374</td>\n",
       "      <td>0.0</td>\n",
       "      <td>13970</td>\n",
       "      <td>33758</td>\n",
       "    </tr>\n",
       "    <tr>\n",
       "      <th>NGA_EGY</th>\n",
       "      <td>0</td>\n",
       "      <td>0</td>\n",
       "      <td>0.0</td>\n",
       "      <td>138</td>\n",
       "      <td>227</td>\n",
       "    </tr>\n",
       "    <tr>\n",
       "      <th>NGA_ERI</th>\n",
       "      <td>0</td>\n",
       "      <td>0</td>\n",
       "      <td>0.0</td>\n",
       "      <td>5</td>\n",
       "      <td>11</td>\n",
       "    </tr>\n",
       "    <tr>\n",
       "      <th>NGA_ETH</th>\n",
       "      <td>0</td>\n",
       "      <td>0</td>\n",
       "      <td>0.0</td>\n",
       "      <td>300</td>\n",
       "      <td>750</td>\n",
       "    </tr>\n",
       "    <tr>\n",
       "      <th>NGA_GAB</th>\n",
       "      <td>0</td>\n",
       "      <td>0</td>\n",
       "      <td>0.0</td>\n",
       "      <td>234</td>\n",
       "      <td>184</td>\n",
       "    </tr>\n",
       "    <tr>\n",
       "      <th>NGA_GHA</th>\n",
       "      <td>1481</td>\n",
       "      <td>1261</td>\n",
       "      <td>0.0</td>\n",
       "      <td>536</td>\n",
       "      <td>1786</td>\n",
       "    </tr>\n",
       "    <tr>\n",
       "      <th>NGA_GIN</th>\n",
       "      <td>0</td>\n",
       "      <td>0</td>\n",
       "      <td>0.0</td>\n",
       "      <td>24747</td>\n",
       "      <td>33225</td>\n",
       "    </tr>\n",
       "    <tr>\n",
       "      <th>NGA_GMB</th>\n",
       "      <td>0</td>\n",
       "      <td>1</td>\n",
       "      <td>0.0</td>\n",
       "      <td>242</td>\n",
       "      <td>289</td>\n",
       "    </tr>\n",
       "    <tr>\n",
       "      <th>NGA_GNB</th>\n",
       "      <td>1</td>\n",
       "      <td>966</td>\n",
       "      <td>0.0</td>\n",
       "      <td>20</td>\n",
       "      <td>1993</td>\n",
       "    </tr>\n",
       "    <tr>\n",
       "      <th>NGA_GNQ</th>\n",
       "      <td>44</td>\n",
       "      <td>230</td>\n",
       "      <td>0.0</td>\n",
       "      <td>0</td>\n",
       "      <td>0</td>\n",
       "    </tr>\n",
       "    <tr>\n",
       "      <th>NGA_KEN</th>\n",
       "      <td>0</td>\n",
       "      <td>0</td>\n",
       "      <td>0.0</td>\n",
       "      <td>15</td>\n",
       "      <td>45</td>\n",
       "    </tr>\n",
       "    <tr>\n",
       "      <th>NGA_LBR</th>\n",
       "      <td>0</td>\n",
       "      <td>0</td>\n",
       "      <td>0.0</td>\n",
       "      <td>19</td>\n",
       "      <td>133</td>\n",
       "    </tr>\n",
       "    <tr>\n",
       "      <th>NGA_MAR</th>\n",
       "      <td>87</td>\n",
       "      <td>1093</td>\n",
       "      <td>0.0</td>\n",
       "      <td>31305</td>\n",
       "      <td>101305</td>\n",
       "    </tr>\n",
       "    <tr>\n",
       "      <th>NGA_MLI</th>\n",
       "      <td>0</td>\n",
       "      <td>0</td>\n",
       "      <td>0.0</td>\n",
       "      <td>0</td>\n",
       "      <td>3</td>\n",
       "    </tr>\n",
       "    <tr>\n",
       "      <th>NGA_MRT</th>\n",
       "      <td>25</td>\n",
       "      <td>7788</td>\n",
       "      <td>0.0</td>\n",
       "      <td>1403681</td>\n",
       "      <td>893610</td>\n",
       "    </tr>\n",
       "    <tr>\n",
       "      <th>NGA_MUS</th>\n",
       "      <td>0</td>\n",
       "      <td>0</td>\n",
       "      <td>0.0</td>\n",
       "      <td>48632</td>\n",
       "      <td>45667</td>\n",
       "    </tr>\n",
       "    <tr>\n",
       "      <th>NGA_NAM</th>\n",
       "      <td>0</td>\n",
       "      <td>0</td>\n",
       "      <td>0.0</td>\n",
       "      <td>7329</td>\n",
       "      <td>12009</td>\n",
       "    </tr>\n",
       "    <tr>\n",
       "      <th>NGA_NER</th>\n",
       "      <td>43</td>\n",
       "      <td>202</td>\n",
       "      <td>0.0</td>\n",
       "      <td>22</td>\n",
       "      <td>369</td>\n",
       "    </tr>\n",
       "    <tr>\n",
       "      <th>NGA_RWA</th>\n",
       "      <td>0</td>\n",
       "      <td>0</td>\n",
       "      <td>0.0</td>\n",
       "      <td>0</td>\n",
       "      <td>1</td>\n",
       "    </tr>\n",
       "    <tr>\n",
       "      <th>NGA_SDN</th>\n",
       "      <td>2</td>\n",
       "      <td>1</td>\n",
       "      <td>0.0</td>\n",
       "      <td>0</td>\n",
       "      <td>0</td>\n",
       "    </tr>\n",
       "    <tr>\n",
       "      <th>NGA_SEN</th>\n",
       "      <td>0</td>\n",
       "      <td>0</td>\n",
       "      <td>0.0</td>\n",
       "      <td>5249</td>\n",
       "      <td>13156</td>\n",
       "    </tr>\n",
       "    <tr>\n",
       "      <th>NGA_SLE</th>\n",
       "      <td>21</td>\n",
       "      <td>18</td>\n",
       "      <td>0.0</td>\n",
       "      <td>414</td>\n",
       "      <td>544</td>\n",
       "    </tr>\n",
       "    <tr>\n",
       "      <th>NGA_SWZ</th>\n",
       "      <td>0</td>\n",
       "      <td>0</td>\n",
       "      <td>0.0</td>\n",
       "      <td>2355</td>\n",
       "      <td>13251</td>\n",
       "    </tr>\n",
       "    <tr>\n",
       "      <th>NGA_SYC</th>\n",
       "      <td>0</td>\n",
       "      <td>0</td>\n",
       "      <td>0.0</td>\n",
       "      <td>0</td>\n",
       "      <td>18</td>\n",
       "    </tr>\n",
       "    <tr>\n",
       "      <th>NGA_TCD</th>\n",
       "      <td>246</td>\n",
       "      <td>1280</td>\n",
       "      <td>0.0</td>\n",
       "      <td>13369</td>\n",
       "      <td>5044</td>\n",
       "    </tr>\n",
       "    <tr>\n",
       "      <th>NGA_TGO</th>\n",
       "      <td>0</td>\n",
       "      <td>0</td>\n",
       "      <td>0.0</td>\n",
       "      <td>1645</td>\n",
       "      <td>2153</td>\n",
       "    </tr>\n",
       "    <tr>\n",
       "      <th>NGA_TUN</th>\n",
       "      <td>86</td>\n",
       "      <td>528</td>\n",
       "      <td>0.0</td>\n",
       "      <td>0</td>\n",
       "      <td>0</td>\n",
       "    </tr>\n",
       "    <tr>\n",
       "      <th>NGA_TZA</th>\n",
       "      <td>52</td>\n",
       "      <td>155</td>\n",
       "      <td>0.0</td>\n",
       "      <td>735</td>\n",
       "      <td>598</td>\n",
       "    </tr>\n",
       "    <tr>\n",
       "      <th>NGA_UGA</th>\n",
       "      <td>0</td>\n",
       "      <td>0</td>\n",
       "      <td>0.0</td>\n",
       "      <td>997</td>\n",
       "      <td>1579</td>\n",
       "    </tr>\n",
       "    <tr>\n",
       "      <th>NGA_ZAF</th>\n",
       "      <td>608</td>\n",
       "      <td>6460</td>\n",
       "      <td>0.0</td>\n",
       "      <td>52935</td>\n",
       "      <td>80150</td>\n",
       "    </tr>\n",
       "    <tr>\n",
       "      <th>NGA_ZWE</th>\n",
       "      <td>0</td>\n",
       "      <td>2</td>\n",
       "      <td>0.0</td>\n",
       "      <td>0</td>\n",
       "      <td>0</td>\n",
       "    </tr>\n",
       "  </tbody>\n",
       "</table>\n",
       "</div>"
      ],
      "text/plain": [
       "         Quantity_mt   Value_usd   Unnamed: 6  Import trade _metric Tons  \\\n",
       "cross                                                                      \n",
       "NGA_AGO           222         130         0.0                       2367   \n",
       "NGA_BDI            12          15         0.0                          0   \n",
       "NGA_BEN             2          10         0.0                       2221   \n",
       "NGA_BFA            95         847         0.0                        118   \n",
       "NGA_BWA           726        3434         0.0                      12697   \n",
       "NGA_CAF           266        1872         0.0                       7968   \n",
       "NGA_CIV            23         329         0.0                         70   \n",
       "NGA_CMR             6          29         0.0                        141   \n",
       "NGA_COD          2280         551         0.0                        159   \n",
       "NGA_DZA            58         374         0.0                      13970   \n",
       "NGA_EGY             0           0         0.0                        138   \n",
       "NGA_ERI             0           0         0.0                          5   \n",
       "NGA_ETH             0           0         0.0                        300   \n",
       "NGA_GAB             0           0         0.0                        234   \n",
       "NGA_GHA          1481        1261         0.0                        536   \n",
       "NGA_GIN             0           0         0.0                      24747   \n",
       "NGA_GMB             0           1         0.0                        242   \n",
       "NGA_GNB             1         966         0.0                         20   \n",
       "NGA_GNQ            44         230         0.0                          0   \n",
       "NGA_KEN             0           0         0.0                         15   \n",
       "NGA_LBR             0           0         0.0                         19   \n",
       "NGA_MAR            87        1093         0.0                      31305   \n",
       "NGA_MLI             0           0         0.0                          0   \n",
       "NGA_MRT            25        7788         0.0                    1403681   \n",
       "NGA_MUS             0           0         0.0                      48632   \n",
       "NGA_NAM             0           0         0.0                       7329   \n",
       "NGA_NER            43         202         0.0                         22   \n",
       "NGA_RWA             0           0         0.0                          0   \n",
       "NGA_SDN             2           1         0.0                          0   \n",
       "NGA_SEN             0           0         0.0                       5249   \n",
       "NGA_SLE            21          18         0.0                        414   \n",
       "NGA_SWZ             0           0         0.0                       2355   \n",
       "NGA_SYC             0           0         0.0                          0   \n",
       "NGA_TCD           246        1280         0.0                      13369   \n",
       "NGA_TGO             0           0         0.0                       1645   \n",
       "NGA_TUN            86         528         0.0                          0   \n",
       "NGA_TZA            52         155         0.0                        735   \n",
       "NGA_UGA             0           0         0.0                        997   \n",
       "NGA_ZAF           608        6460         0.0                      52935   \n",
       "NGA_ZWE             0           2         0.0                          0   \n",
       "\n",
       "         Import trade _Values _USD   \n",
       "cross                                \n",
       "NGA_AGO                       27915  \n",
       "NGA_BDI                           0  \n",
       "NGA_BEN                        4019  \n",
       "NGA_BFA                         296  \n",
       "NGA_BWA                       56861  \n",
       "NGA_CAF                        6852  \n",
       "NGA_CIV                        9309  \n",
       "NGA_CMR                         424  \n",
       "NGA_COD                         241  \n",
       "NGA_DZA                       33758  \n",
       "NGA_EGY                         227  \n",
       "NGA_ERI                          11  \n",
       "NGA_ETH                         750  \n",
       "NGA_GAB                         184  \n",
       "NGA_GHA                        1786  \n",
       "NGA_GIN                       33225  \n",
       "NGA_GMB                         289  \n",
       "NGA_GNB                        1993  \n",
       "NGA_GNQ                           0  \n",
       "NGA_KEN                          45  \n",
       "NGA_LBR                         133  \n",
       "NGA_MAR                      101305  \n",
       "NGA_MLI                           3  \n",
       "NGA_MRT                      893610  \n",
       "NGA_MUS                       45667  \n",
       "NGA_NAM                       12009  \n",
       "NGA_NER                         369  \n",
       "NGA_RWA                           1  \n",
       "NGA_SDN                           0  \n",
       "NGA_SEN                       13156  \n",
       "NGA_SLE                         544  \n",
       "NGA_SWZ                       13251  \n",
       "NGA_SYC                          18  \n",
       "NGA_TCD                        5044  \n",
       "NGA_TGO                        2153  \n",
       "NGA_TUN                           0  \n",
       "NGA_TZA                         598  \n",
       "NGA_UGA                        1579  \n",
       "NGA_ZAF                       80150  \n",
       "NGA_ZWE                           0  "
      ]
     },
     "execution_count": 32,
     "metadata": {},
     "output_type": "execute_result"
    }
   ],
   "source": [
    "df_filtered.drop(['Year', 'Exporter', 'Importer', 'longitude1', 'latitude1', 'longitude2', 'latitude2'], axis=1).groupby('cross').sum()"
   ]
  },
  {
   "cell_type": "code",
   "execution_count": 33,
   "id": "cc1610de",
   "metadata": {},
   "outputs": [
    {
     "name": "stdout",
     "output_type": "stream",
     "text": [
      "<class 'pandas.core.frame.DataFrame'>\n",
      "Int64Index: 197 entries, 6 to 1058\n",
      "Data columns (total 15 columns):\n",
      " #   Column                      Non-Null Count  Dtype  \n",
      "---  ------                      --------------  -----  \n",
      " 0   Exporter                    197 non-null    int64  \n",
      " 1   Importer                    197 non-null    int64  \n",
      " 2   cross                       197 non-null    object \n",
      " 3   Year                        197 non-null    int64  \n",
      " 4   Quantity_mt                 197 non-null    int64  \n",
      " 5   Value_usd                   197 non-null    int64  \n",
      " 6   Unnamed: 6                  0 non-null      float64\n",
      " 7   Import trade _metric Tons   197 non-null    int64  \n",
      " 8   Import trade _Values _USD   197 non-null    int64  \n",
      " 9   country1                    197 non-null    object \n",
      " 10  country2                    197 non-null    object \n",
      " 11  longitude1                  197 non-null    float64\n",
      " 12  latitude1                   197 non-null    float64\n",
      " 13  longitude2                  187 non-null    float64\n",
      " 14  latitude2                   187 non-null    float64\n",
      "dtypes: float64(5), int64(7), object(3)\n",
      "memory usage: 28.7+ KB\n"
     ]
    }
   ],
   "source": [
    "df_filtered.info()"
   ]
  },
  {
   "cell_type": "code",
   "execution_count": 90,
   "id": "4b485be1",
   "metadata": {},
   "outputs": [
    {
     "name": "stdout",
     "output_type": "stream",
     "text": [
      "      Exporter  Importer    cross  Year  Quantity_mt   Value_usd   Unnamed: 6  \\\n",
      "6            1         2  NGA_EGY  2009             0           0         NaN   \n",
      "17           1         2  NGA_EGY  2020             0           0         NaN   \n",
      "18           1         2  NGA_EGY  2021             0           0         NaN   \n",
      "27           1         3  NGA_COD  2010          2280         551         NaN   \n",
      "28           1         3  NGA_COD  2011             0           0         NaN   \n",
      "...        ...       ...      ...   ...           ...         ...         ...   \n",
      "1025         1        53  NGA_SYC  2008             0           0         NaN   \n",
      "1037         1        53  NGA_SYC  2020             0           0         NaN   \n",
      "1038         1        53  NGA_SYC  2021             0           0         NaN   \n",
      "1047         1        54  NGA_ETH  2010             0           0         NaN   \n",
      "1058         1        54  NGA_ETH  2021             0           0         NaN   \n",
      "\n",
      "      Import trade _metric Tons  Import trade _Values _USD  country1 country2  \\\n",
      "6                            35                         136      NGA      EGY   \n",
      "17                          103                          90      NGA      EGY   \n",
      "18                            0                           1      NGA      EGY   \n",
      "27                          100                         183      NGA      COD   \n",
      "28                           59                          56      NGA      COD   \n",
      "...                         ...                         ...      ...      ...   \n",
      "1025                          0                          15      NGA      SYC   \n",
      "1037                          0                           2      NGA      SYC   \n",
      "1038                          0                           1      NGA      SYC   \n",
      "1047                        300                         749      NGA      ETH   \n",
      "1058                          0                           1      NGA      ETH   \n",
      "\n",
      "        longitude2     latitude2     longitude1     latitude1  \n",
      "6     3.321337e+06  3.055339e+06  890531.607886  1.063401e+06  \n",
      "17    3.321337e+06  3.055339e+06  890531.607886  1.063401e+06  \n",
      "18    3.321337e+06  3.055339e+06  890531.607886  1.063401e+06  \n",
      "27    2.625646e+06 -3.182711e+05  890531.607886  1.063401e+06  \n",
      "28    2.625646e+06 -3.182711e+05  890531.607886  1.063401e+06  \n",
      "...            ...           ...            ...           ...  \n",
      "1025           NaN           NaN  890531.607886  1.063401e+06  \n",
      "1037           NaN           NaN  890531.607886  1.063401e+06  \n",
      "1038           NaN           NaN  890531.607886  1.063401e+06  \n",
      "1047  4.402253e+06  9.641082e+05  890531.607886  1.063401e+06  \n",
      "1058  4.402253e+06  9.641082e+05  890531.607886  1.063401e+06  \n",
      "\n",
      "[197 rows x 15 columns]\n"
     ]
    }
   ],
   "source": [
    "import geopandas as gpd\n",
    "import pandas as pd\n",
    "\n",
    "\n",
    "world = gpd.read_file(\"ne_110m_admin_0_countries.shp\")\n",
    "world = world.to_crs(epsg=3395)\n",
    "\n",
    "\n",
    "def get_coordinates(country_code, world=world):\n",
    "    country = world[world['ISO_A3'] == country_code]\n",
    "    if not country.empty:\n",
    "        return country.geometry.centroid.x.iloc[0], country.geometry.centroid.y.iloc[0]\n",
    "    else:\n",
    "        return None, None\n",
    "\n",
    "# Load the Natural Earth dataset manually\n",
    "world = gpd.read_file(\"ne_110m_admin_0_countries.shp\")\n",
    "\n",
    "\n",
    "# Iterate over the country codes and add the coordinates to new columns\n",
    "df_filtered[['longitude2', 'latitude2']] = df_filtered['country2'].apply(lambda x: pd.Series(get_coordinates(x)))\n",
    "df_filtered[['longitude1', 'latitude1']] = df_filtered['country1'].apply(lambda x: pd.Series(get_coordinates(x)))\n",
    "\n",
    "print(df_filtered)\n"
   ]
  },
  {
   "cell_type": "code",
   "execution_count": 94,
   "id": "8befe64f",
   "metadata": {},
   "outputs": [
    {
     "ename": "ValueError",
     "evalue": "\n    Invalid value of type 'builtins.str' received for the 'locationmode' property of scattergeo\n        Received value: 'ISO-A3'\n\n    The 'locationmode' property is an enumeration that may be specified as:\n      - One of the following enumeration values:\n            ['ISO-3', 'USA-states', 'country names', 'geojson-id']",
     "output_type": "error",
     "traceback": [
      "\u001b[1;31m---------------------------------------------------------------------------\u001b[0m",
      "\u001b[1;31mValueError\u001b[0m                                Traceback (most recent call last)",
      "Cell \u001b[1;32mIn[94], line 10\u001b[0m\n\u001b[0;32m      8\u001b[0m \u001b[38;5;66;03m# Add each export flow as a line\u001b[39;00m\n\u001b[0;32m      9\u001b[0m \u001b[38;5;28;01mfor\u001b[39;00m i \u001b[38;5;129;01min\u001b[39;00m \u001b[38;5;28mrange\u001b[39m(\u001b[38;5;28mlen\u001b[39m(df_filtered)):\n\u001b[1;32m---> 10\u001b[0m     fig\u001b[38;5;241m.\u001b[39madd_trace(go\u001b[38;5;241m.\u001b[39mScattergeo(\n\u001b[0;32m     11\u001b[0m         locationmode\u001b[38;5;241m=\u001b[39m\u001b[38;5;124m\"\u001b[39m\u001b[38;5;124mISO-A3\u001b[39m\u001b[38;5;124m\"\u001b[39m,\n\u001b[0;32m     12\u001b[0m         lon\u001b[38;5;241m=\u001b[39m[df_filtered[\u001b[38;5;124m\"\u001b[39m\u001b[38;5;124mlongitude1\u001b[39m\u001b[38;5;124m\"\u001b[39m]\u001b[38;5;241m.\u001b[39miloc[i], df_filtered[\u001b[38;5;124m\"\u001b[39m\u001b[38;5;124mlongitude2\u001b[39m\u001b[38;5;124m\"\u001b[39m]\u001b[38;5;241m.\u001b[39miloc[i]],  \u001b[38;5;66;03m# Start and end longitude\u001b[39;00m\n\u001b[0;32m     13\u001b[0m         lat\u001b[38;5;241m=\u001b[39m[df_filtered[\u001b[38;5;124m\"\u001b[39m\u001b[38;5;124mlatitude1\u001b[39m\u001b[38;5;124m\"\u001b[39m]\u001b[38;5;241m.\u001b[39miloc[i], df_filtered[\u001b[38;5;124m\"\u001b[39m\u001b[38;5;124mlatitude2\u001b[39m\u001b[38;5;124m\"\u001b[39m]\u001b[38;5;241m.\u001b[39miloc[i]],  \u001b[38;5;66;03m# Start and end latitude\u001b[39;00m\n\u001b[0;32m     14\u001b[0m         mode\u001b[38;5;241m=\u001b[39m\u001b[38;5;124m\"\u001b[39m\u001b[38;5;124mlines\u001b[39m\u001b[38;5;124m\"\u001b[39m,\n\u001b[0;32m     15\u001b[0m         line\u001b[38;5;241m=\u001b[39m\u001b[38;5;28mdict\u001b[39m(\n\u001b[0;32m     16\u001b[0m             width\u001b[38;5;241m=\u001b[39m\u001b[38;5;241m2\u001b[39m,\n\u001b[0;32m     17\u001b[0m             color\u001b[38;5;241m=\u001b[39m\u001b[38;5;124m\"\u001b[39m\u001b[38;5;124mblue\u001b[39m\u001b[38;5;124m\"\u001b[39m \u001b[38;5;28;01mif\u001b[39;00m df_filtered[\u001b[38;5;124m\"\u001b[39m\u001b[38;5;124mImport trade _metric Tons\u001b[39m\u001b[38;5;124m\"\u001b[39m]\u001b[38;5;241m.\u001b[39miloc[i] \u001b[38;5;241m>\u001b[39m \u001b[38;5;241m200\u001b[39m \u001b[38;5;28;01melse\u001b[39;00m \u001b[38;5;124m\"\u001b[39m\u001b[38;5;124mgreen\u001b[39m\u001b[38;5;124m\"\u001b[39m  \u001b[38;5;66;03m# Example condition for line color\u001b[39;00m\n\u001b[0;32m     18\u001b[0m         ),\n\u001b[0;32m     19\u001b[0m         name\u001b[38;5;241m=\u001b[39m\u001b[38;5;124mf\u001b[39m\u001b[38;5;124m\"\u001b[39m\u001b[38;5;124mExport to \u001b[39m\u001b[38;5;132;01m{\u001b[39;00mdf_filtered[\u001b[38;5;124m'\u001b[39m\u001b[38;5;124mcountry2\u001b[39m\u001b[38;5;124m'\u001b[39m]\u001b[38;5;241m.\u001b[39miloc[i]\u001b[38;5;132;01m}\u001b[39;00m\u001b[38;5;124m\"\u001b[39m\n\u001b[0;32m     20\u001b[0m     ))\n\u001b[0;32m     22\u001b[0m \u001b[38;5;66;03m# Add exporting country as a scatter point\u001b[39;00m\n\u001b[0;32m     23\u001b[0m fig\u001b[38;5;241m.\u001b[39madd_trace(go\u001b[38;5;241m.\u001b[39mScattergeo(\n\u001b[0;32m     24\u001b[0m     lon\u001b[38;5;241m=\u001b[39m[df_filtered[\u001b[38;5;124m\"\u001b[39m\u001b[38;5;124mlongitude1\u001b[39m\u001b[38;5;124m\"\u001b[39m]\u001b[38;5;241m.\u001b[39miloc[\u001b[38;5;241m0\u001b[39m]],  \u001b[38;5;66;03m# Longitude of Nigeria\u001b[39;00m\n\u001b[0;32m     25\u001b[0m     lat\u001b[38;5;241m=\u001b[39m[df_filtered[\u001b[38;5;124m\"\u001b[39m\u001b[38;5;124mlatitude1\u001b[39m\u001b[38;5;124m\"\u001b[39m]\u001b[38;5;241m.\u001b[39miloc[\u001b[38;5;241m0\u001b[39m]],  \u001b[38;5;66;03m# Latitude of Nigeria\u001b[39;00m\n\u001b[1;32m   (...)\u001b[0m\n\u001b[0;32m     28\u001b[0m     name\u001b[38;5;241m=\u001b[39m\u001b[38;5;124m\"\u001b[39m\u001b[38;5;124mNigeria\u001b[39m\u001b[38;5;124m\"\u001b[39m\n\u001b[0;32m     29\u001b[0m ))\n",
      "File \u001b[1;32mC:\\ProgramData\\anaconda3\\Lib\\site-packages\\plotly\\graph_objs\\_scattergeo.py:2222\u001b[0m, in \u001b[0;36mScattergeo.__init__\u001b[1;34m(self, arg, connectgaps, customdata, customdatasrc, featureidkey, fill, fillcolor, geo, geojson, hoverinfo, hoverinfosrc, hoverlabel, hovertemplate, hovertemplatesrc, hovertext, hovertextsrc, ids, idssrc, lat, latsrc, legendgroup, legendgrouptitle, legendrank, line, locationmode, locations, locationssrc, lon, lonsrc, marker, meta, metasrc, mode, name, opacity, selected, selectedpoints, showlegend, stream, text, textfont, textposition, textpositionsrc, textsrc, texttemplate, texttemplatesrc, uid, uirevision, unselected, visible, **kwargs)\u001b[0m\n\u001b[0;32m   2220\u001b[0m _v \u001b[38;5;241m=\u001b[39m locationmode \u001b[38;5;28;01mif\u001b[39;00m locationmode \u001b[38;5;129;01mis\u001b[39;00m \u001b[38;5;129;01mnot\u001b[39;00m \u001b[38;5;28;01mNone\u001b[39;00m \u001b[38;5;28;01melse\u001b[39;00m _v\n\u001b[0;32m   2221\u001b[0m \u001b[38;5;28;01mif\u001b[39;00m _v \u001b[38;5;129;01mis\u001b[39;00m \u001b[38;5;129;01mnot\u001b[39;00m \u001b[38;5;28;01mNone\u001b[39;00m:\n\u001b[1;32m-> 2222\u001b[0m     \u001b[38;5;28mself\u001b[39m[\u001b[38;5;124m\"\u001b[39m\u001b[38;5;124mlocationmode\u001b[39m\u001b[38;5;124m\"\u001b[39m] \u001b[38;5;241m=\u001b[39m _v\n\u001b[0;32m   2223\u001b[0m _v \u001b[38;5;241m=\u001b[39m arg\u001b[38;5;241m.\u001b[39mpop(\u001b[38;5;124m\"\u001b[39m\u001b[38;5;124mlocations\u001b[39m\u001b[38;5;124m\"\u001b[39m, \u001b[38;5;28;01mNone\u001b[39;00m)\n\u001b[0;32m   2224\u001b[0m _v \u001b[38;5;241m=\u001b[39m locations \u001b[38;5;28;01mif\u001b[39;00m locations \u001b[38;5;129;01mis\u001b[39;00m \u001b[38;5;129;01mnot\u001b[39;00m \u001b[38;5;28;01mNone\u001b[39;00m \u001b[38;5;28;01melse\u001b[39;00m _v\n",
      "File \u001b[1;32mC:\\ProgramData\\anaconda3\\Lib\\site-packages\\plotly\\basedatatypes.py:4859\u001b[0m, in \u001b[0;36mBasePlotlyType.__setitem__\u001b[1;34m(self, prop, value)\u001b[0m\n\u001b[0;32m   4855\u001b[0m         \u001b[38;5;28mself\u001b[39m\u001b[38;5;241m.\u001b[39m_set_array_prop(prop, value)\n\u001b[0;32m   4857\u001b[0m     \u001b[38;5;66;03m# ### Handle simple property ###\u001b[39;00m\n\u001b[0;32m   4858\u001b[0m     \u001b[38;5;28;01melse\u001b[39;00m:\n\u001b[1;32m-> 4859\u001b[0m         \u001b[38;5;28mself\u001b[39m\u001b[38;5;241m.\u001b[39m_set_prop(prop, value)\n\u001b[0;32m   4860\u001b[0m \u001b[38;5;28;01melse\u001b[39;00m:\n\u001b[0;32m   4861\u001b[0m     \u001b[38;5;66;03m# Make sure properties dict is initialized\u001b[39;00m\n\u001b[0;32m   4862\u001b[0m     \u001b[38;5;28mself\u001b[39m\u001b[38;5;241m.\u001b[39m_init_props()\n",
      "File \u001b[1;32mC:\\ProgramData\\anaconda3\\Lib\\site-packages\\plotly\\basedatatypes.py:5203\u001b[0m, in \u001b[0;36mBasePlotlyType._set_prop\u001b[1;34m(self, prop, val)\u001b[0m\n\u001b[0;32m   5201\u001b[0m         \u001b[38;5;28;01mreturn\u001b[39;00m\n\u001b[0;32m   5202\u001b[0m     \u001b[38;5;28;01melse\u001b[39;00m:\n\u001b[1;32m-> 5203\u001b[0m         \u001b[38;5;28;01mraise\u001b[39;00m err\n\u001b[0;32m   5205\u001b[0m \u001b[38;5;66;03m# val is None\u001b[39;00m\n\u001b[0;32m   5206\u001b[0m \u001b[38;5;66;03m# -----------\u001b[39;00m\n\u001b[0;32m   5207\u001b[0m \u001b[38;5;28;01mif\u001b[39;00m val \u001b[38;5;129;01mis\u001b[39;00m \u001b[38;5;28;01mNone\u001b[39;00m:\n\u001b[0;32m   5208\u001b[0m     \u001b[38;5;66;03m# Check if we should send null update\u001b[39;00m\n",
      "File \u001b[1;32mC:\\ProgramData\\anaconda3\\Lib\\site-packages\\plotly\\basedatatypes.py:5198\u001b[0m, in \u001b[0;36mBasePlotlyType._set_prop\u001b[1;34m(self, prop, val)\u001b[0m\n\u001b[0;32m   5195\u001b[0m validator \u001b[38;5;241m=\u001b[39m \u001b[38;5;28mself\u001b[39m\u001b[38;5;241m.\u001b[39m_get_validator(prop)\n\u001b[0;32m   5197\u001b[0m \u001b[38;5;28;01mtry\u001b[39;00m:\n\u001b[1;32m-> 5198\u001b[0m     val \u001b[38;5;241m=\u001b[39m validator\u001b[38;5;241m.\u001b[39mvalidate_coerce(val)\n\u001b[0;32m   5199\u001b[0m \u001b[38;5;28;01mexcept\u001b[39;00m \u001b[38;5;167;01mValueError\u001b[39;00m \u001b[38;5;28;01mas\u001b[39;00m err:\n\u001b[0;32m   5200\u001b[0m     \u001b[38;5;28;01mif\u001b[39;00m \u001b[38;5;28mself\u001b[39m\u001b[38;5;241m.\u001b[39m_skip_invalid:\n",
      "File \u001b[1;32mC:\\ProgramData\\anaconda3\\Lib\\site-packages\\_plotly_utils\\basevalidators.py:611\u001b[0m, in \u001b[0;36mEnumeratedValidator.validate_coerce\u001b[1;34m(self, v)\u001b[0m\n\u001b[0;32m    609\u001b[0m     v \u001b[38;5;241m=\u001b[39m \u001b[38;5;28mself\u001b[39m\u001b[38;5;241m.\u001b[39mperform_replacemenet(v)\n\u001b[0;32m    610\u001b[0m     \u001b[38;5;28;01mif\u001b[39;00m \u001b[38;5;129;01mnot\u001b[39;00m \u001b[38;5;28mself\u001b[39m\u001b[38;5;241m.\u001b[39min_values(v):\n\u001b[1;32m--> 611\u001b[0m         \u001b[38;5;28mself\u001b[39m\u001b[38;5;241m.\u001b[39mraise_invalid_val(v)\n\u001b[0;32m    612\u001b[0m \u001b[38;5;28;01mreturn\u001b[39;00m v\n",
      "File \u001b[1;32mC:\\ProgramData\\anaconda3\\Lib\\site-packages\\_plotly_utils\\basevalidators.py:288\u001b[0m, in \u001b[0;36mBaseValidator.raise_invalid_val\u001b[1;34m(self, v, inds)\u001b[0m\n\u001b[0;32m    285\u001b[0m             \u001b[38;5;28;01mfor\u001b[39;00m i \u001b[38;5;129;01min\u001b[39;00m inds:\n\u001b[0;32m    286\u001b[0m                 name \u001b[38;5;241m+\u001b[39m\u001b[38;5;241m=\u001b[39m \u001b[38;5;124m\"\u001b[39m\u001b[38;5;124m[\u001b[39m\u001b[38;5;124m\"\u001b[39m \u001b[38;5;241m+\u001b[39m \u001b[38;5;28mstr\u001b[39m(i) \u001b[38;5;241m+\u001b[39m \u001b[38;5;124m\"\u001b[39m\u001b[38;5;124m]\u001b[39m\u001b[38;5;124m\"\u001b[39m\n\u001b[1;32m--> 288\u001b[0m         \u001b[38;5;28;01mraise\u001b[39;00m \u001b[38;5;167;01mValueError\u001b[39;00m(\n\u001b[0;32m    289\u001b[0m \u001b[38;5;250m            \u001b[39m\u001b[38;5;124;03m\"\"\"\u001b[39;00m\n\u001b[0;32m    290\u001b[0m \u001b[38;5;124;03m    Invalid value of type {typ} received for the '{name}' property of {pname}\u001b[39;00m\n\u001b[0;32m    291\u001b[0m \u001b[38;5;124;03m        Received value: {v}\u001b[39;00m\n\u001b[0;32m    292\u001b[0m \n\u001b[0;32m    293\u001b[0m \u001b[38;5;124;03m{valid_clr_desc}\"\"\"\u001b[39;00m\u001b[38;5;241m.\u001b[39mformat(\n\u001b[0;32m    294\u001b[0m                 name\u001b[38;5;241m=\u001b[39mname,\n\u001b[0;32m    295\u001b[0m                 pname\u001b[38;5;241m=\u001b[39m\u001b[38;5;28mself\u001b[39m\u001b[38;5;241m.\u001b[39mparent_name,\n\u001b[0;32m    296\u001b[0m                 typ\u001b[38;5;241m=\u001b[39mtype_str(v),\n\u001b[0;32m    297\u001b[0m                 v\u001b[38;5;241m=\u001b[39m\u001b[38;5;28mrepr\u001b[39m(v),\n\u001b[0;32m    298\u001b[0m                 valid_clr_desc\u001b[38;5;241m=\u001b[39m\u001b[38;5;28mself\u001b[39m\u001b[38;5;241m.\u001b[39mdescription(),\n\u001b[0;32m    299\u001b[0m             )\n\u001b[0;32m    300\u001b[0m         )\n",
      "\u001b[1;31mValueError\u001b[0m: \n    Invalid value of type 'builtins.str' received for the 'locationmode' property of scattergeo\n        Received value: 'ISO-A3'\n\n    The 'locationmode' property is an enumeration that may be specified as:\n      - One of the following enumeration values:\n            ['ISO-3', 'USA-states', 'country names', 'geojson-id']"
     ]
    }
   ],
   "source": [
    "import pandas as pd\n",
    "import plotly.graph_objects as go\n",
    "\n",
    "\n",
    "# Create a Scattergeo plot for arrows\n",
    "fig = go.Figure()\n",
    "\n",
    "# Add each export flow as a line\n",
    "for i in range(len(df_filtered)):\n",
    "    fig.add_trace(go.Scattergeo(\n",
    "        locationmode=\"ISO-3\",\n",
    "        lon=[df_filtered[\"longitude1\"].iloc[i], df_filtered[\"longitude2\"].iloc[i]],  # Start and end longitude\n",
    "        lat=[df_filtered[\"latitude1\"].iloc[i], df_filtered[\"latitude2\"].iloc[i]],  # Start and end latitude\n",
    "        mode=\"lines\",\n",
    "        line=dict(\n",
    "            width=2,\n",
    "            color=\"blue\" if df_filtered[\"Import trade _metric Tons\"].iloc[i] > 200 else \"green\"  # Example condition for line color\n",
    "        ),\n",
    "        name=f\"Export to {df_filtered['country2'].iloc[i]}\"\n",
    "    ))\n",
    "\n",
    "# Add exporting country as a scatter point\n",
    "fig.add_trace(go.Scattergeo(\n",
    "    lon=[df_filtered[\"longitude1\"].iloc[0]],  # Longitude of Nigeria\n",
    "    lat=[df_filtered[\"latitude1\"].iloc[0]],  # Latitude of Nigeria\n",
    "    mode=\"markers\",\n",
    "    marker=dict(size=10, color=\"red\"),\n",
    "    name=\"Nigeria\"\n",
    "))\n",
    "\n",
    "# Configure the layout\n",
    "fig.update_layout(\n",
    "    title_text=\"Flow Map: Exports from Nigeria\",\n",
    "    showlegend=True,\n",
    "    geo=dict(\n",
    "        showframe=False,\n",
    "        showcoastlines=True,\n",
    "        projection_type=\"natural earth\",\n",
    "    )\n",
    ")\n",
    "\n",
    "# Show the plot\n",
    "fig.show()\n"
   ]
  },
  {
   "cell_type": "code",
   "execution_count": 23,
   "id": "e1f07dc0",
   "metadata": {
    "scrolled": false
   },
   "outputs": [
    {
     "name": "stderr",
     "output_type": "stream",
     "text": [
      "C:\\Users\\USER\\AppData\\Local\\Temp\\ipykernel_7728\\4121582408.py:13: UserWarning:\n",
      "\n",
      "Geometry is in a geographic CRS. Results from 'centroid' are likely incorrect. Use 'GeoSeries.to_crs()' to re-project geometries to a projected CRS before this operation.\n",
      "\n",
      "\n"
     ]
    },
    {
     "data": {
      "application/vnd.plotly.v1+json": {
       "config": {
        "plotlyServerURL": "https://plot.ly"
       },
       "data": [
        {
         "lat": [
          9.548318418209965,
          26.50661999974957
         ],
         "line": {
          "color": "green",
          "width": 2
         },
         "locationmode": "ISO-3",
         "lon": [
          7.995127754089786,
          29.844461513124415
         ],
         "mode": "lines",
         "name": "Export to EGY",
         "type": "scattergeo"
        },
        {
         "lat": [
          9.548318418209965,
          26.50661999974957
         ],
         "line": {
          "color": "green",
          "width": 2
         },
         "locationmode": "ISO-3",
         "lon": [
          7.995127754089786,
          29.844461513124415
         ],
         "mode": "lines",
         "name": "Export to EGY",
         "type": "scattergeo"
        },
        {
         "lat": [
          9.548318418209965,
          26.50661999974957
         ],
         "line": {
          "color": "green",
          "width": 2
         },
         "locationmode": "ISO-3",
         "lon": [
          7.995127754089786,
          29.844461513124415
         ],
         "mode": "lines",
         "name": "Export to EGY",
         "type": "scattergeo"
        },
        {
         "lat": [
          9.548318418209965,
          -2.8502757110956667
         ],
         "line": {
          "color": "green",
          "width": 2
         },
         "locationmode": "ISO-3",
         "lon": [
          7.995127754089786,
          23.582955831479083
         ],
         "mode": "lines",
         "name": "Export to COD",
         "type": "scattergeo"
        },
        {
         "lat": [
          9.548318418209965,
          -2.8502757110956667
         ],
         "line": {
          "color": "green",
          "width": 2
         },
         "locationmode": "ISO-3",
         "lon": [
          7.995127754089786,
          23.582955831479083
         ],
         "mode": "lines",
         "name": "Export to COD",
         "type": "scattergeo"
        },
        {
         "lat": [
          9.548318418209965,
          -2.8502757110956667
         ],
         "line": {
          "color": "green",
          "width": 2
         },
         "locationmode": "ISO-3",
         "lon": [
          7.995127754089786,
          23.582955831479083
         ],
         "mode": "lines",
         "name": "Export to COD",
         "type": "scattergeo"
        },
        {
         "lat": [
          9.548318418209965,
          -6.257732428506092
         ],
         "line": {
          "color": "blue",
          "width": 2
         },
         "locationmode": "ISO-3",
         "lon": [
          7.995127754089786,
          34.75298985475595
         ],
         "mode": "lines",
         "name": "Export to TZA",
         "type": "scattergeo"
        },
        {
         "lat": [
          9.548318418209965,
          -6.257732428506092
         ],
         "line": {
          "color": "green",
          "width": 2
         },
         "locationmode": "ISO-3",
         "lon": [
          7.995127754089786,
          34.75298985475595
         ],
         "mode": "lines",
         "name": "Export to TZA",
         "type": "scattergeo"
        },
        {
         "lat": [
          9.548318418209965,
          -6.257732428506092
         ],
         "line": {
          "color": "green",
          "width": 2
         },
         "locationmode": "ISO-3",
         "lon": [
          7.995127754089786,
          34.75298985475595
         ],
         "mode": "lines",
         "name": "Export to TZA",
         "type": "scattergeo"
        },
        {
         "lat": [
          9.548318418209965,
          -28.947033259979115
         ],
         "line": {
          "color": "blue",
          "width": 2
         },
         "locationmode": "ISO-3",
         "lon": [
          7.995127754089786,
          25.048013879861678
         ],
         "mode": "lines",
         "name": "Export to ZAF",
         "type": "scattergeo"
        },
        {
         "lat": [
          9.548318418209965,
          -28.947033259979115
         ],
         "line": {
          "color": "blue",
          "width": 2
         },
         "locationmode": "ISO-3",
         "lon": [
          7.995127754089786,
          25.048013879861678
         ],
         "mode": "lines",
         "name": "Export to ZAF",
         "type": "scattergeo"
        },
        {
         "lat": [
          9.548318418209965,
          -28.947033259979115
         ],
         "line": {
          "color": "blue",
          "width": 2
         },
         "locationmode": "ISO-3",
         "lon": [
          7.995127754089786,
          25.048013879861678
         ],
         "mode": "lines",
         "name": "Export to ZAF",
         "type": "scattergeo"
        },
        {
         "lat": [
          9.548318418209965,
          -28.947033259979115
         ],
         "line": {
          "color": "green",
          "width": 2
         },
         "locationmode": "ISO-3",
         "lon": [
          7.995127754089786,
          25.048013879861678
         ],
         "mode": "lines",
         "name": "Export to ZAF",
         "type": "scattergeo"
        },
        {
         "lat": [
          9.548318418209965,
          -28.947033259979115
         ],
         "line": {
          "color": "blue",
          "width": 2
         },
         "locationmode": "ISO-3",
         "lon": [
          7.995127754089786,
          25.048013879861678
         ],
         "mode": "lines",
         "name": "Export to ZAF",
         "type": "scattergeo"
        },
        {
         "lat": [
          9.548318418209965,
          -28.947033259979115
         ],
         "line": {
          "color": "green",
          "width": 2
         },
         "locationmode": "ISO-3",
         "lon": [
          7.995127754089786,
          25.048013879861678
         ],
         "mode": "lines",
         "name": "Export to ZAF",
         "type": "scattergeo"
        },
        {
         "lat": [
          9.548318418209965,
          -28.947033259979115
         ],
         "line": {
          "color": "green",
          "width": 2
         },
         "locationmode": "ISO-3",
         "lon": [
          7.995127754089786,
          25.048013879861678
         ],
         "mode": "lines",
         "name": "Export to ZAF",
         "type": "scattergeo"
        },
        {
         "lat": [
          9.548318418209965,
          -28.947033259979115
         ],
         "line": {
          "color": "blue",
          "width": 2
         },
         "locationmode": "ISO-3",
         "lon": [
          7.995127754089786,
          25.048013879861678
         ],
         "mode": "lines",
         "name": "Export to ZAF",
         "type": "scattergeo"
        },
        {
         "lat": [
          9.548318418209965,
          -28.947033259979115
         ],
         "line": {
          "color": "blue",
          "width": 2
         },
         "locationmode": "ISO-3",
         "lon": [
          7.995127754089786,
          25.048013879861678
         ],
         "mode": "lines",
         "name": "Export to ZAF",
         "type": "scattergeo"
        },
        {
         "lat": [
          9.548318418209965,
          -28.947033259979115
         ],
         "line": {
          "color": "green",
          "width": 2
         },
         "locationmode": "ISO-3",
         "lon": [
          7.995127754089786,
          25.048013879861678
         ],
         "mode": "lines",
         "name": "Export to ZAF",
         "type": "scattergeo"
        },
        {
         "lat": [
          9.548318418209965,
          -28.947033259979115
         ],
         "line": {
          "color": "green",
          "width": 2
         },
         "locationmode": "ISO-3",
         "lon": [
          7.995127754089786,
          25.048013879861678
         ],
         "mode": "lines",
         "name": "Export to ZAF",
         "type": "scattergeo"
        },
        {
         "lat": [
          9.548318418209965,
          -28.947033259979115
         ],
         "line": {
          "color": "green",
          "width": 2
         },
         "locationmode": "ISO-3",
         "lon": [
          7.995127754089786,
          25.048013879861678
         ],
         "mode": "lines",
         "name": "Export to ZAF",
         "type": "scattergeo"
        },
        {
         "lat": [
          9.548318418209965,
          -28.947033259979115
         ],
         "line": {
          "color": "green",
          "width": 2
         },
         "locationmode": "ISO-3",
         "lon": [
          7.995127754089786,
          25.048013879861678
         ],
         "mode": "lines",
         "name": "Export to ZAF",
         "type": "scattergeo"
        },
        {
         "lat": [
          9.548318418209965,
          -28.947033259979115
         ],
         "line": {
          "color": "green",
          "width": 2
         },
         "locationmode": "ISO-3",
         "lon": [
          7.995127754089786,
          25.048013879861678
         ],
         "mode": "lines",
         "name": "Export to ZAF",
         "type": "scattergeo"
        },
        {
         "lat": [
          9.548318418209965,
          -28.947033259979115
         ],
         "line": {
          "color": "green",
          "width": 2
         },
         "locationmode": "ISO-3",
         "lon": [
          7.995127754089786,
          25.048013879861678
         ],
         "mode": "lines",
         "name": "Export to ZAF",
         "type": "scattergeo"
        },
        {
         "lat": [
          9.548318418209965,
          -28.947033259979115
         ],
         "line": {
          "color": "green",
          "width": 2
         },
         "locationmode": "ISO-3",
         "lon": [
          7.995127754089786,
          25.048013879861678
         ],
         "mode": "lines",
         "name": "Export to ZAF",
         "type": "scattergeo"
        },
        {
         "lat": [
          9.548318418209965,
          -28.947033259979115
         ],
         "line": {
          "color": "green",
          "width": 2
         },
         "locationmode": "ISO-3",
         "lon": [
          7.995127754089786,
          25.048013879861678
         ],
         "mode": "lines",
         "name": "Export to ZAF",
         "type": "scattergeo"
        },
        {
         "lat": [
          9.548318418209965,
          -28.947033259979115
         ],
         "line": {
          "color": "blue",
          "width": 2
         },
         "locationmode": "ISO-3",
         "lon": [
          7.995127754089786,
          25.048013879861678
         ],
         "mode": "lines",
         "name": "Export to ZAF",
         "type": "scattergeo"
        },
        {
         "lat": [
          9.548318418209965,
          0.5959662521769523
         ],
         "line": {
          "color": "green",
          "width": 2
         },
         "locationmode": "ISO-3",
         "lon": [
          7.995127754089786,
          37.791555286661385
         ],
         "mode": "lines",
         "name": "Export to KEN",
         "type": "scattergeo"
        },
        {
         "lat": [
          9.548318418209965,
          0.5959662521769523
         ],
         "line": {
          "color": "green",
          "width": 2
         },
         "locationmode": "ISO-3",
         "lon": [
          7.995127754089786,
          37.791555286661385
         ],
         "mode": "lines",
         "name": "Export to KEN",
         "type": "scattergeo"
        },
        {
         "lat": [
          9.548318418209965,
          0.5959662521769523
         ],
         "line": {
          "color": "green",
          "width": 2
         },
         "locationmode": "ISO-3",
         "lon": [
          7.995127754089786,
          37.791555286661385
         ],
         "mode": "lines",
         "name": "Export to KEN",
         "type": "scattergeo"
        },
        {
         "lat": [
          9.548318418209965,
          0.5959662521769523
         ],
         "line": {
          "color": "green",
          "width": 2
         },
         "locationmode": "ISO-3",
         "lon": [
          7.995127754089786,
          37.791555286661385
         ],
         "mode": "lines",
         "name": "Export to KEN",
         "type": "scattergeo"
        },
        {
         "lat": [
          9.548318418209965,
          1.2954855035097297
         ],
         "line": {
          "color": "blue",
          "width": 2
         },
         "locationmode": "ISO-3",
         "lon": [
          7.995127754089786,
          32.35755031998686
         ],
         "mode": "lines",
         "name": "Export to UGA",
         "type": "scattergeo"
        },
        {
         "lat": [
          9.548318418209965,
          1.2954855035097297
         ],
         "line": {
          "color": "green",
          "width": 2
         },
         "locationmode": "ISO-3",
         "lon": [
          7.995127754089786,
          32.35755031998686
         ],
         "mode": "lines",
         "name": "Export to UGA",
         "type": "scattergeo"
        },
        {
         "lat": [
          9.548318418209965,
          1.2954855035097297
         ],
         "line": {
          "color": "green",
          "width": 2
         },
         "locationmode": "ISO-3",
         "lon": [
          7.995127754089786,
          32.35755031998686
         ],
         "mode": "lines",
         "name": "Export to UGA",
         "type": "scattergeo"
        },
        {
         "lat": [
          9.548318418209965,
          15.990585003116717
         ],
         "line": {
          "color": "green",
          "width": 2
         },
         "locationmode": "ISO-3",
         "lon": [
          7.995127754089786,
          29.862604012257922
         ],
         "mode": "lines",
         "name": "Export to SDN",
         "type": "scattergeo"
        },
        {
         "lat": [
          9.548318418209965,
          28.185481278657537
         ],
         "line": {
          "color": "blue",
          "width": 2
         },
         "locationmode": "ISO-3",
         "lon": [
          7.995127754089786,
          2.5980477916183444
         ],
         "mode": "lines",
         "name": "Export to DZA",
         "type": "scattergeo"
        },
        {
         "lat": [
          9.548318418209965,
          28.185481278657537
         ],
         "line": {
          "color": "green",
          "width": 2
         },
         "locationmode": "ISO-3",
         "lon": [
          7.995127754089786,
          2.5980477916183444
         ],
         "mode": "lines",
         "name": "Export to DZA",
         "type": "scattergeo"
        },
        {
         "lat": [
          9.548318418209965,
          28.185481278657537
         ],
         "line": {
          "color": "blue",
          "width": 2
         },
         "locationmode": "ISO-3",
         "lon": [
          7.995127754089786,
          2.5980477916183444
         ],
         "mode": "lines",
         "name": "Export to DZA",
         "type": "scattergeo"
        },
        {
         "lat": [
          9.548318418209965,
          28.185481278657537
         ],
         "line": {
          "color": "blue",
          "width": 2
         },
         "locationmode": "ISO-3",
         "lon": [
          7.995127754089786,
          2.5980477916183444
         ],
         "mode": "lines",
         "name": "Export to DZA",
         "type": "scattergeo"
        },
        {
         "lat": [
          9.548318418209965,
          28.185481278657537
         ],
         "line": {
          "color": "blue",
          "width": 2
         },
         "locationmode": "ISO-3",
         "lon": [
          7.995127754089786,
          2.5980477916183444
         ],
         "mode": "lines",
         "name": "Export to DZA",
         "type": "scattergeo"
        },
        {
         "lat": [
          9.548318418209965,
          29.885394698302058
         ],
         "line": {
          "color": "blue",
          "width": 2
         },
         "locationmode": "ISO-3",
         "lon": [
          7.995127754089786,
          -8.420479544549693
         ],
         "mode": "lines",
         "name": "Export to MAR",
         "type": "scattergeo"
        },
        {
         "lat": [
          9.548318418209965,
          29.885394698302058
         ],
         "line": {
          "color": "blue",
          "width": 2
         },
         "locationmode": "ISO-3",
         "lon": [
          7.995127754089786,
          -8.420479544549693
         ],
         "mode": "lines",
         "name": "Export to MAR",
         "type": "scattergeo"
        },
        {
         "lat": [
          9.548318418209965,
          29.885394698302058
         ],
         "line": {
          "color": "blue",
          "width": 2
         },
         "locationmode": "ISO-3",
         "lon": [
          7.995127754089786,
          -8.420479544549693
         ],
         "mode": "lines",
         "name": "Export to MAR",
         "type": "scattergeo"
        },
        {
         "lat": [
          9.548318418209965,
          29.885394698302058
         ],
         "line": {
          "color": "blue",
          "width": 2
         },
         "locationmode": "ISO-3",
         "lon": [
          7.995127754089786,
          -8.420479544549693
         ],
         "mode": "lines",
         "name": "Export to MAR",
         "type": "scattergeo"
        },
        {
         "lat": [
          9.548318418209965,
          29.885394698302058
         ],
         "line": {
          "color": "blue",
          "width": 2
         },
         "locationmode": "ISO-3",
         "lon": [
          7.995127754089786,
          -8.420479544549693
         ],
         "mode": "lines",
         "name": "Export to MAR",
         "type": "scattergeo"
        },
        {
         "lat": [
          9.548318418209965,
          29.885394698302058
         ],
         "line": {
          "color": "blue",
          "width": 2
         },
         "locationmode": "ISO-3",
         "lon": [
          7.995127754089786,
          -8.420479544549693
         ],
         "mode": "lines",
         "name": "Export to MAR",
         "type": "scattergeo"
        },
        {
         "lat": [
          9.548318418209965,
          29.885394698302058
         ],
         "line": {
          "color": "blue",
          "width": 2
         },
         "locationmode": "ISO-3",
         "lon": [
          7.995127754089786,
          -8.420479544549693
         ],
         "mode": "lines",
         "name": "Export to MAR",
         "type": "scattergeo"
        },
        {
         "lat": [
          9.548318418209965,
          29.885394698302058
         ],
         "line": {
          "color": "green",
          "width": 2
         },
         "locationmode": "ISO-3",
         "lon": [
          7.995127754089786,
          -8.420479544549693
         ],
         "mode": "lines",
         "name": "Export to MAR",
         "type": "scattergeo"
        },
        {
         "lat": [
          9.548318418209965,
          29.885394698302058
         ],
         "line": {
          "color": "green",
          "width": 2
         },
         "locationmode": "ISO-3",
         "lon": [
          7.995127754089786,
          -8.420479544549693
         ],
         "mode": "lines",
         "name": "Export to MAR",
         "type": "scattergeo"
        },
        {
         "lat": [
          9.548318418209965,
          29.885394698302058
         ],
         "line": {
          "color": "green",
          "width": 2
         },
         "locationmode": "ISO-3",
         "lon": [
          7.995127754089786,
          -8.420479544549693
         ],
         "mode": "lines",
         "name": "Export to MAR",
         "type": "scattergeo"
        },
        {
         "lat": [
          9.548318418209965,
          29.885394698302058
         ],
         "line": {
          "color": "blue",
          "width": 2
         },
         "locationmode": "ISO-3",
         "lon": [
          7.995127754089786,
          -8.420479544549693
         ],
         "mode": "lines",
         "name": "Export to MAR",
         "type": "scattergeo"
        },
        {
         "lat": [
          9.548318418209965,
          29.885394698302058
         ],
         "line": {
          "color": "blue",
          "width": 2
         },
         "locationmode": "ISO-3",
         "lon": [
          7.995127754089786,
          -8.420479544549693
         ],
         "mode": "lines",
         "name": "Export to MAR",
         "type": "scattergeo"
        },
        {
         "lat": [
          9.548318418209965,
          29.885394698302058
         ],
         "line": {
          "color": "blue",
          "width": 2
         },
         "locationmode": "ISO-3",
         "lon": [
          7.995127754089786,
          -8.420479544549693
         ],
         "mode": "lines",
         "name": "Export to MAR",
         "type": "scattergeo"
        },
        {
         "lat": [
          9.548318418209965,
          29.885394698302058
         ],
         "line": {
          "color": "blue",
          "width": 2
         },
         "locationmode": "ISO-3",
         "lon": [
          7.995127754089786,
          -8.420479544549693
         ],
         "mode": "lines",
         "name": "Export to MAR",
         "type": "scattergeo"
        },
        {
         "lat": [
          9.548318418209965,
          29.885394698302058
         ],
         "line": {
          "color": "blue",
          "width": 2
         },
         "locationmode": "ISO-3",
         "lon": [
          7.995127754089786,
          -8.420479544549693
         ],
         "mode": "lines",
         "name": "Export to MAR",
         "type": "scattergeo"
        },
        {
         "lat": [
          9.548318418209965,
          -12.245869036133188
         ],
         "line": {
          "color": "blue",
          "width": 2
         },
         "locationmode": "ISO-3",
         "lon": [
          7.995127754089786,
          17.47057255231345
         ],
         "mode": "lines",
         "name": "Export to AGO",
         "type": "scattergeo"
        },
        {
         "lat": [
          9.548318418209965,
          -12.245869036133188
         ],
         "line": {
          "color": "green",
          "width": 2
         },
         "locationmode": "ISO-3",
         "lon": [
          7.995127754089786,
          17.47057255231345
         ],
         "mode": "lines",
         "name": "Export to AGO",
         "type": "scattergeo"
        },
        {
         "lat": [
          9.548318418209965,
          -12.245869036133188
         ],
         "line": {
          "color": "green",
          "width": 2
         },
         "locationmode": "ISO-3",
         "lon": [
          7.995127754089786,
          17.47057255231345
         ],
         "mode": "lines",
         "name": "Export to AGO",
         "type": "scattergeo"
        },
        {
         "lat": [
          9.548318418209965,
          -12.245869036133188
         ],
         "line": {
          "color": "green",
          "width": 2
         },
         "locationmode": "ISO-3",
         "lon": [
          7.995127754089786,
          17.47057255231345
         ],
         "mode": "lines",
         "name": "Export to AGO",
         "type": "scattergeo"
        },
        {
         "lat": [
          9.548318418209965,
          -12.245869036133188
         ],
         "line": {
          "color": "green",
          "width": 2
         },
         "locationmode": "ISO-3",
         "lon": [
          7.995127754089786,
          17.47057255231345
         ],
         "mode": "lines",
         "name": "Export to AGO",
         "type": "scattergeo"
        },
        {
         "lat": [
          9.548318418209965,
          -12.245869036133188
         ],
         "line": {
          "color": "green",
          "width": 2
         },
         "locationmode": "ISO-3",
         "lon": [
          7.995127754089786,
          17.47057255231345
         ],
         "mode": "lines",
         "name": "Export to AGO",
         "type": "scattergeo"
        },
        {
         "lat": [
          9.548318418209965,
          -12.245869036133188
         ],
         "line": {
          "color": "green",
          "width": 2
         },
         "locationmode": "ISO-3",
         "lon": [
          7.995127754089786,
          17.47057255231345
         ],
         "mode": "lines",
         "name": "Export to AGO",
         "type": "scattergeo"
        },
        {
         "lat": [
          9.548318418209965,
          -12.245869036133188
         ],
         "line": {
          "color": "green",
          "width": 2
         },
         "locationmode": "ISO-3",
         "lon": [
          7.995127754089786,
          17.47057255231345
         ],
         "mode": "lines",
         "name": "Export to AGO",
         "type": "scattergeo"
        },
        {
         "lat": [
          9.548318418209965,
          -12.245869036133188
         ],
         "line": {
          "color": "green",
          "width": 2
         },
         "locationmode": "ISO-3",
         "lon": [
          7.995127754089786,
          17.47057255231345
         ],
         "mode": "lines",
         "name": "Export to AGO",
         "type": "scattergeo"
        },
        {
         "lat": [
          9.548318418209965,
          -12.245869036133188
         ],
         "line": {
          "color": "blue",
          "width": 2
         },
         "locationmode": "ISO-3",
         "lon": [
          7.995127754089786,
          17.47057255231345
         ],
         "mode": "lines",
         "name": "Export to AGO",
         "type": "scattergeo"
        },
        {
         "lat": [
          9.548318418209965,
          -12.245869036133188
         ],
         "line": {
          "color": "green",
          "width": 2
         },
         "locationmode": "ISO-3",
         "lon": [
          7.995127754089786,
          17.47057255231345
         ],
         "mode": "lines",
         "name": "Export to AGO",
         "type": "scattergeo"
        },
        {
         "lat": [
          9.548318418209965,
          -12.245869036133188
         ],
         "line": {
          "color": "green",
          "width": 2
         },
         "locationmode": "ISO-3",
         "lon": [
          7.995127754089786,
          17.47057255231345
         ],
         "mode": "lines",
         "name": "Export to AGO",
         "type": "scattergeo"
        },
        {
         "lat": [
          9.548318418209965,
          -12.245869036133188
         ],
         "line": {
          "color": "green",
          "width": 2
         },
         "locationmode": "ISO-3",
         "lon": [
          7.995127754089786,
          17.47057255231345
         ],
         "mode": "lines",
         "name": "Export to AGO",
         "type": "scattergeo"
        },
        {
         "lat": [
          9.548318418209965,
          7.928651813099648
         ],
         "line": {
          "color": "blue",
          "width": 2
         },
         "locationmode": "ISO-3",
         "lon": [
          7.995127754089786,
          -1.2369685557063992
         ],
         "mode": "lines",
         "name": "Export to GHA",
         "type": "scattergeo"
        },
        {
         "lat": [
          9.548318418209965,
          7.928651813099648
         ],
         "line": {
          "color": "green",
          "width": 2
         },
         "locationmode": "ISO-3",
         "lon": [
          7.995127754089786,
          -1.2369685557063992
         ],
         "mode": "lines",
         "name": "Export to GHA",
         "type": "scattergeo"
        },
        {
         "lat": [
          9.548318418209965,
          7.928651813099648
         ],
         "line": {
          "color": "green",
          "width": 2
         },
         "locationmode": "ISO-3",
         "lon": [
          7.995127754089786,
          -1.2369685557063992
         ],
         "mode": "lines",
         "name": "Export to GHA",
         "type": "scattergeo"
        },
        {
         "lat": [
          9.548318418209965,
          7.928651813099648
         ],
         "line": {
          "color": "green",
          "width": 2
         },
         "locationmode": "ISO-3",
         "lon": [
          7.995127754089786,
          -1.2369685557063992
         ],
         "mode": "lines",
         "name": "Export to GHA",
         "type": "scattergeo"
        },
        {
         "lat": [
          9.548318418209965,
          7.928651813099648
         ],
         "line": {
          "color": "green",
          "width": 2
         },
         "locationmode": "ISO-3",
         "lon": [
          7.995127754089786,
          -1.2369685557063992
         ],
         "mode": "lines",
         "name": "Export to GHA",
         "type": "scattergeo"
        },
        {
         "lat": [
          9.548318418209965,
          7.928651813099648
         ],
         "line": {
          "color": "green",
          "width": 2
         },
         "locationmode": "ISO-3",
         "lon": [
          7.995127754089786,
          -1.2369685557063992
         ],
         "mode": "lines",
         "name": "Export to GHA",
         "type": "scattergeo"
        },
        {
         "lat": [
          9.548318418209965,
          7.5537550070104915
         ],
         "line": {
          "color": "green",
          "width": 2
         },
         "locationmode": "ISO-3",
         "lon": [
          7.995127754089786,
          -5.6120436452252225
         ],
         "mode": "lines",
         "name": "Export to CIV",
         "type": "scattergeo"
        },
        {
         "lat": [
          9.548318418209965,
          7.5537550070104915
         ],
         "line": {
          "color": "green",
          "width": 2
         },
         "locationmode": "ISO-3",
         "lon": [
          7.995127754089786,
          -5.6120436452252225
         ],
         "mode": "lines",
         "name": "Export to CIV",
         "type": "scattergeo"
        },
        {
         "lat": [
          9.548318418209965,
          7.5537550070104915
         ],
         "line": {
          "color": "green",
          "width": 2
         },
         "locationmode": "ISO-3",
         "lon": [
          7.995127754089786,
          -5.6120436452252225
         ],
         "mode": "lines",
         "name": "Export to CIV",
         "type": "scattergeo"
        },
        {
         "lat": [
          9.548318418209965,
          7.5537550070104915
         ],
         "line": {
          "color": "green",
          "width": 2
         },
         "locationmode": "ISO-3",
         "lon": [
          7.995127754089786,
          -5.6120436452252225
         ],
         "mode": "lines",
         "name": "Export to CIV",
         "type": "scattergeo"
        },
        {
         "lat": [
          9.548318418209965,
          5.663095287992696
         ],
         "line": {
          "color": "green",
          "width": 2
         },
         "locationmode": "ISO-3",
         "lon": [
          7.995127754089786,
          12.611551546501774
         ],
         "mode": "lines",
         "name": "Export to CMR",
         "type": "scattergeo"
        },
        {
         "lat": [
          9.548318418209965,
          5.663095287992696
         ],
         "line": {
          "color": "green",
          "width": 2
         },
         "locationmode": "ISO-3",
         "lon": [
          7.995127754089786,
          12.611551546501774
         ],
         "mode": "lines",
         "name": "Export to CMR",
         "type": "scattergeo"
        },
        {
         "lat": [
          9.548318418209965,
          5.663095287992696
         ],
         "line": {
          "color": "green",
          "width": 2
         },
         "locationmode": "ISO-3",
         "lon": [
          7.995127754089786,
          12.611551546501774
         ],
         "mode": "lines",
         "name": "Export to CMR",
         "type": "scattergeo"
        },
        {
         "lat": [
          9.548318418209965,
          5.663095287992696
         ],
         "line": {
          "color": "green",
          "width": 2
         },
         "locationmode": "ISO-3",
         "lon": [
          7.995127754089786,
          12.611551546501774
         ],
         "mode": "lines",
         "name": "Export to CMR",
         "type": "scattergeo"
        },
        {
         "lat": [
          9.548318418209965,
          5.663095287992696
         ],
         "line": {
          "color": "green",
          "width": 2
         },
         "locationmode": "ISO-3",
         "lon": [
          7.995127754089786,
          12.611551546501774
         ],
         "mode": "lines",
         "name": "Export to CMR",
         "type": "scattergeo"
        },
        {
         "lat": [
          9.548318418209965,
          5.663095287992696
         ],
         "line": {
          "color": "green",
          "width": 2
         },
         "locationmode": "ISO-3",
         "lon": [
          7.995127754089786,
          12.611551546501774
         ],
         "mode": "lines",
         "name": "Export to CMR",
         "type": "scattergeo"
        },
        {
         "lat": [
          9.548318418209965,
          17.345552814745542
         ],
         "line": {
          "color": "green",
          "width": 2
         },
         "locationmode": "ISO-3",
         "lon": [
          7.995127754089786,
          9.324427099857923
         ],
         "mode": "lines",
         "name": "Export to NER",
         "type": "scattergeo"
        },
        {
         "lat": [
          9.548318418209965,
          17.345552814745542
         ],
         "line": {
          "color": "green",
          "width": 2
         },
         "locationmode": "ISO-3",
         "lon": [
          7.995127754089786,
          9.324427099857923
         ],
         "mode": "lines",
         "name": "Export to NER",
         "type": "scattergeo"
        },
        {
         "lat": [
          9.548318418209965,
          17.345552814745542
         ],
         "line": {
          "color": "green",
          "width": 2
         },
         "locationmode": "ISO-3",
         "lon": [
          7.995127754089786,
          9.324427099857923
         ],
         "mode": "lines",
         "name": "Export to NER",
         "type": "scattergeo"
        },
        {
         "lat": [
          9.548318418209965,
          17.345552814745542
         ],
         "line": {
          "color": "green",
          "width": 2
         },
         "locationmode": "ISO-3",
         "lon": [
          7.995127754089786,
          9.324427099857923
         ],
         "mode": "lines",
         "name": "Export to NER",
         "type": "scattergeo"
        },
        {
         "lat": [
          9.548318418209965,
          17.345552814745542
         ],
         "line": {
          "color": "green",
          "width": 2
         },
         "locationmode": "ISO-3",
         "lon": [
          7.995127754089786,
          9.324427099857923
         ],
         "mode": "lines",
         "name": "Export to NER",
         "type": "scattergeo"
        },
        {
         "lat": [
          9.548318418209965,
          17.345552814745542
         ],
         "line": {
          "color": "green",
          "width": 2
         },
         "locationmode": "ISO-3",
         "lon": [
          7.995127754089786,
          9.324427099857923
         ],
         "mode": "lines",
         "name": "Export to NER",
         "type": "scattergeo"
        },
        {
         "lat": [
          9.548318418209965,
          17.345552814745542
         ],
         "line": {
          "color": "green",
          "width": 2
         },
         "locationmode": "ISO-3",
         "lon": [
          7.995127754089786,
          9.324427099857923
         ],
         "mode": "lines",
         "name": "Export to NER",
         "type": "scattergeo"
        },
        {
         "lat": [
          9.548318418209965,
          17.345552814745542
         ],
         "line": {
          "color": "green",
          "width": 2
         },
         "locationmode": "ISO-3",
         "lon": [
          7.995127754089786,
          9.324427099857923
         ],
         "mode": "lines",
         "name": "Export to NER",
         "type": "scattergeo"
        },
        {
         "lat": [
          9.548318418209965,
          17.345552814745542
         ],
         "line": {
          "color": "green",
          "width": 2
         },
         "locationmode": "ISO-3",
         "lon": [
          7.995127754089786,
          9.324427099857923
         ],
         "mode": "lines",
         "name": "Export to NER",
         "type": "scattergeo"
        },
        {
         "lat": [
          9.548318418209965,
          17.267772061700715
         ],
         "line": {
          "color": "green",
          "width": 2
         },
         "locationmode": "ISO-3",
         "lon": [
          7.995127754089786,
          -3.543294339453343
         ],
         "mode": "lines",
         "name": "Export to MLI",
         "type": "scattergeo"
        },
        {
         "lat": [
          9.548318418209965,
          12.311650494136712
         ],
         "line": {
          "color": "green",
          "width": 2
         },
         "locationmode": "ISO-3",
         "lon": [
          7.995127754089786,
          -1.77653745205594
         ],
         "mode": "lines",
         "name": "Export to BFA",
         "type": "scattergeo"
        },
        {
         "lat": [
          9.548318418209965,
          12.311650494136712
         ],
         "line": {
          "color": "green",
          "width": 2
         },
         "locationmode": "ISO-3",
         "lon": [
          7.995127754089786,
          -1.77653745205594
         ],
         "mode": "lines",
         "name": "Export to BFA",
         "type": "scattergeo"
        },
        {
         "lat": [
          9.548318418209965,
          15.328867399839682
         ],
         "line": {
          "color": "green",
          "width": 2
         },
         "locationmode": "ISO-3",
         "lon": [
          7.995127754089786,
          18.581329525332894
         ],
         "mode": "lines",
         "name": "Export to TCD",
         "type": "scattergeo"
        },
        {
         "lat": [
          9.548318418209965,
          15.328867399839682
         ],
         "line": {
          "color": "blue",
          "width": 2
         },
         "locationmode": "ISO-3",
         "lon": [
          7.995127754089786,
          18.581329525332894
         ],
         "mode": "lines",
         "name": "Export to TCD",
         "type": "scattergeo"
        },
        {
         "lat": [
          9.548318418209965,
          15.328867399839682
         ],
         "line": {
          "color": "green",
          "width": 2
         },
         "locationmode": "ISO-3",
         "lon": [
          7.995127754089786,
          18.581329525332894
         ],
         "mode": "lines",
         "name": "Export to TCD",
         "type": "scattergeo"
        },
        {
         "lat": [
          9.548318418209965,
          15.328867399839682
         ],
         "line": {
          "color": "green",
          "width": 2
         },
         "locationmode": "ISO-3",
         "lon": [
          7.995127754089786,
          18.581329525332894
         ],
         "mode": "lines",
         "name": "Export to TCD",
         "type": "scattergeo"
        },
        {
         "lat": [
          9.548318418209965,
          14.354139988452022
         ],
         "line": {
          "color": "green",
          "width": 2
         },
         "locationmode": "ISO-3",
         "lon": [
          7.995127754089786,
          -14.50980278585943
         ],
         "mode": "lines",
         "name": "Export to SEN",
         "type": "scattergeo"
        },
        {
         "lat": [
          9.548318418209965,
          14.354139988452022
         ],
         "line": {
          "color": "green",
          "width": 2
         },
         "locationmode": "ISO-3",
         "lon": [
          7.995127754089786,
          -14.50980278585943
         ],
         "mode": "lines",
         "name": "Export to SEN",
         "type": "scattergeo"
        },
        {
         "lat": [
          9.548318418209965,
          14.354139988452022
         ],
         "line": {
          "color": "blue",
          "width": 2
         },
         "locationmode": "ISO-3",
         "lon": [
          7.995127754089786,
          -14.50980278585943
         ],
         "mode": "lines",
         "name": "Export to SEN",
         "type": "scattergeo"
        },
        {
         "lat": [
          9.548318418209965,
          14.354139988452022
         ],
         "line": {
          "color": "green",
          "width": 2
         },
         "locationmode": "ISO-3",
         "lon": [
          7.995127754089786,
          -14.50980278585943
         ],
         "mode": "lines",
         "name": "Export to SEN",
         "type": "scattergeo"
        },
        {
         "lat": [
          9.548318418209965,
          14.354139988452022
         ],
         "line": {
          "color": "green",
          "width": 2
         },
         "locationmode": "ISO-3",
         "lon": [
          7.995127754089786,
          -14.50980278585943
         ],
         "mode": "lines",
         "name": "Export to SEN",
         "type": "scattergeo"
        },
        {
         "lat": [
          9.548318418209965,
          14.354139988452022
         ],
         "line": {
          "color": "green",
          "width": 2
         },
         "locationmode": "ISO-3",
         "lon": [
          7.995127754089786,
          -14.50980278585943
         ],
         "mode": "lines",
         "name": "Export to SEN",
         "type": "scattergeo"
        },
        {
         "lat": [
          9.548318418209965,
          14.354139988452022
         ],
         "line": {
          "color": "green",
          "width": 2
         },
         "locationmode": "ISO-3",
         "lon": [
          7.995127754089786,
          -14.50980278585943
         ],
         "mode": "lines",
         "name": "Export to SEN",
         "type": "scattergeo"
        },
        {
         "lat": [
          9.548318418209965,
          14.354139988452022
         ],
         "line": {
          "color": "green",
          "width": 2
         },
         "locationmode": "ISO-3",
         "lon": [
          7.995127754089786,
          -14.50980278585943
         ],
         "mode": "lines",
         "name": "Export to SEN",
         "type": "scattergeo"
        },
        {
         "lat": [
          9.548318418209965,
          14.354139988452022
         ],
         "line": {
          "color": "green",
          "width": 2
         },
         "locationmode": "ISO-3",
         "lon": [
          7.995127754089786,
          -14.50980278585943
         ],
         "mode": "lines",
         "name": "Export to SEN",
         "type": "scattergeo"
        },
        {
         "lat": [
          9.548318418209965,
          -18.906987947858802
         ],
         "line": {
          "color": "green",
          "width": 2
         },
         "locationmode": "ISO-3",
         "lon": [
          7.995127754089786,
          29.788548371892524
         ],
         "mode": "lines",
         "name": "Export to ZWE",
         "type": "scattergeo"
        },
        {
         "lat": [
          9.548318418209965,
          10.44827287727134
         ],
         "line": {
          "color": "blue",
          "width": 2
         },
         "locationmode": "ISO-3",
         "lon": [
          7.995127754089786,
          -11.060853741185456
         ],
         "mode": "lines",
         "name": "Export to GIN",
         "type": "scattergeo"
        },
        {
         "lat": [
          9.548318418209965,
          10.44827287727134
         ],
         "line": {
          "color": "blue",
          "width": 2
         },
         "locationmode": "ISO-3",
         "lon": [
          7.995127754089786,
          -11.060853741185456
         ],
         "mode": "lines",
         "name": "Export to GIN",
         "type": "scattergeo"
        },
        {
         "lat": [
          9.548318418209965,
          10.44827287727134
         ],
         "line": {
          "color": "green",
          "width": 2
         },
         "locationmode": "ISO-3",
         "lon": [
          7.995127754089786,
          -11.060853741185456
         ],
         "mode": "lines",
         "name": "Export to GIN",
         "type": "scattergeo"
        },
        {
         "lat": [
          9.548318418209965,
          10.44827287727134
         ],
         "line": {
          "color": "blue",
          "width": 2
         },
         "locationmode": "ISO-3",
         "lon": [
          7.995127754089786,
          -11.060853741185456
         ],
         "mode": "lines",
         "name": "Export to GIN",
         "type": "scattergeo"
        },
        {
         "lat": [
          9.548318418209965,
          10.44827287727134
         ],
         "line": {
          "color": "green",
          "width": 2
         },
         "locationmode": "ISO-3",
         "lon": [
          7.995127754089786,
          -11.060853741185456
         ],
         "mode": "lines",
         "name": "Export to GIN",
         "type": "scattergeo"
        },
        {
         "lat": [
          9.548318418209965,
          -2.0135144658341346
         ],
         "line": {
          "color": "green",
          "width": 2
         },
         "locationmode": "ISO-3",
         "lon": [
          7.995127754089786,
          29.91896392224289
         ],
         "mode": "lines",
         "name": "Export to RWA",
         "type": "scattergeo"
        },
        {
         "lat": [
          9.548318418209965,
          9.647430780663699
         ],
         "line": {
          "color": "green",
          "width": 2
         },
         "locationmode": "ISO-3",
         "lon": [
          7.995127754089786,
          2.337377553496156
         ],
         "mode": "lines",
         "name": "Export to BEN",
         "type": "scattergeo"
        },
        {
         "lat": [
          9.548318418209965,
          9.647430780663699
         ],
         "line": {
          "color": "blue",
          "width": 2
         },
         "locationmode": "ISO-3",
         "lon": [
          7.995127754089786,
          2.337377553496156
         ],
         "mode": "lines",
         "name": "Export to BEN",
         "type": "scattergeo"
        },
        {
         "lat": [
          9.548318418209965,
          9.647430780663699
         ],
         "line": {
          "color": "green",
          "width": 2
         },
         "locationmode": "ISO-3",
         "lon": [
          7.995127754089786,
          2.337377553496156
         ],
         "mode": "lines",
         "name": "Export to BEN",
         "type": "scattergeo"
        },
        {
         "lat": [
          9.548318418209965,
          9.647430780663699
         ],
         "line": {
          "color": "green",
          "width": 2
         },
         "locationmode": "ISO-3",
         "lon": [
          7.995127754089786,
          2.337377553496156
         ],
         "mode": "lines",
         "name": "Export to BEN",
         "type": "scattergeo"
        },
        {
         "lat": [
          9.548318418209965,
          -3.3773910753554657
         ],
         "line": {
          "color": "green",
          "width": 2
         },
         "locationmode": "ISO-3",
         "lon": [
          7.995127754089786,
          29.91389229542573
         ],
         "mode": "lines",
         "name": "Export to BDI",
         "type": "scattergeo"
        },
        {
         "lat": [
          9.548318418209965,
          34.172939036882376
         ],
         "line": {
          "color": "green",
          "width": 2
         },
         "locationmode": "ISO-3",
         "lon": [
          7.995127754089786,
          9.534716120695835
         ],
         "mode": "lines",
         "name": "Export to TUN",
         "type": "scattergeo"
        },
        {
         "lat": [
          9.548318418209965,
          34.172939036882376
         ],
         "line": {
          "color": "green",
          "width": 2
         },
         "locationmode": "ISO-3",
         "lon": [
          7.995127754089786,
          9.534716120695835
         ],
         "mode": "lines",
         "name": "Export to TUN",
         "type": "scattergeo"
        },
        {
         "lat": [
          9.548318418209965,
          8.439541954669616
         ],
         "line": {
          "color": "green",
          "width": 2
         },
         "locationmode": "ISO-3",
         "lon": [
          7.995127754089786,
          0.9964039436703582
         ],
         "mode": "lines",
         "name": "Export to TGO",
         "type": "scattergeo"
        },
        {
         "lat": [
          9.548318418209965,
          8.439541954669616
         ],
         "line": {
          "color": "blue",
          "width": 2
         },
         "locationmode": "ISO-3",
         "lon": [
          7.995127754089786,
          0.9964039436703582
         ],
         "mode": "lines",
         "name": "Export to TGO",
         "type": "scattergeo"
        },
        {
         "lat": [
          9.548318418209965,
          8.439541954669616
         ],
         "line": {
          "color": "green",
          "width": 2
         },
         "locationmode": "ISO-3",
         "lon": [
          7.995127754089786,
          0.9964039436703582
         ],
         "mode": "lines",
         "name": "Export to TGO",
         "type": "scattergeo"
        },
        {
         "lat": [
          9.548318418209965,
          8.439541954669616
         ],
         "line": {
          "color": "blue",
          "width": 2
         },
         "locationmode": "ISO-3",
         "lon": [
          7.995127754089786,
          0.9964039436703582
         ],
         "mode": "lines",
         "name": "Export to TGO",
         "type": "scattergeo"
        },
        {
         "lat": [
          9.548318418209965,
          8.53035372615305
         ],
         "line": {
          "color": "green",
          "width": 2
         },
         "locationmode": "ISO-3",
         "lon": [
          7.995127754089786,
          -11.795257428559948
         ],
         "mode": "lines",
         "name": "Export to SLE",
         "type": "scattergeo"
        },
        {
         "lat": [
          9.548318418209965,
          8.53035372615305
         ],
         "line": {
          "color": "green",
          "width": 2
         },
         "locationmode": "ISO-3",
         "lon": [
          7.995127754089786,
          -11.795257428559948
         ],
         "mode": "lines",
         "name": "Export to SLE",
         "type": "scattergeo"
        },
        {
         "lat": [
          9.548318418209965,
          8.53035372615305
         ],
         "line": {
          "color": "green",
          "width": 2
         },
         "locationmode": "ISO-3",
         "lon": [
          7.995127754089786,
          -11.795257428559948
         ],
         "mode": "lines",
         "name": "Export to SLE",
         "type": "scattergeo"
        },
        {
         "lat": [
          9.548318418209965,
          8.53035372615305
         ],
         "line": {
          "color": "green",
          "width": 2
         },
         "locationmode": "ISO-3",
         "lon": [
          7.995127754089786,
          -11.795257428559948
         ],
         "mode": "lines",
         "name": "Export to SLE",
         "type": "scattergeo"
        },
        {
         "lat": [
          9.548318418209965,
          8.53035372615305
         ],
         "line": {
          "color": "green",
          "width": 2
         },
         "locationmode": "ISO-3",
         "lon": [
          7.995127754089786,
          -11.795257428559948
         ],
         "mode": "lines",
         "name": "Export to SLE",
         "type": "scattergeo"
        },
        {
         "lat": [
          9.548318418209965,
          8.53035372615305
         ],
         "line": {
          "color": "green",
          "width": 2
         },
         "locationmode": "ISO-3",
         "lon": [
          7.995127754089786,
          -11.795257428559948
         ],
         "mode": "lines",
         "name": "Export to SLE",
         "type": "scattergeo"
        },
        {
         "lat": [
          9.548318418209965,
          8.53035372615305
         ],
         "line": {
          "color": "green",
          "width": 2
         },
         "locationmode": "ISO-3",
         "lon": [
          7.995127754089786,
          -11.795257428559948
         ],
         "mode": "lines",
         "name": "Export to SLE",
         "type": "scattergeo"
        },
        {
         "lat": [
          9.548318418209965,
          8.53035372615305
         ],
         "line": {
          "color": "green",
          "width": 2
         },
         "locationmode": "ISO-3",
         "lon": [
          7.995127754089786,
          -11.795257428559948
         ],
         "mode": "lines",
         "name": "Export to SLE",
         "type": "scattergeo"
        },
        {
         "lat": [
          9.548318418209965,
          8.53035372615305
         ],
         "line": {
          "color": "green",
          "width": 2
         },
         "locationmode": "ISO-3",
         "lon": [
          7.995127754089786,
          -11.795257428559948
         ],
         "mode": "lines",
         "name": "Export to SLE",
         "type": "scattergeo"
        },
        {
         "lat": [
          9.548318418209965,
          8.53035372615305
         ],
         "line": {
          "color": "green",
          "width": 2
         },
         "locationmode": "ISO-3",
         "lon": [
          7.995127754089786,
          -11.795257428559948
         ],
         "mode": "lines",
         "name": "Export to SLE",
         "type": "scattergeo"
        },
        {
         "lat": [
          9.548318418209965,
          8.53035372615305
         ],
         "line": {
          "color": "green",
          "width": 2
         },
         "locationmode": "ISO-3",
         "lon": [
          7.995127754089786,
          -11.795257428559948
         ],
         "mode": "lines",
         "name": "Export to SLE",
         "type": "scattergeo"
        },
        {
         "lat": [
          9.548318418209965,
          6.5427787059213145
         ],
         "line": {
          "color": "blue",
          "width": 2
         },
         "locationmode": "ISO-3",
         "lon": [
          7.995127754089786,
          20.374347291243915
         ],
         "mode": "lines",
         "name": "Export to CAF",
         "type": "scattergeo"
        },
        {
         "lat": [
          9.548318418209965,
          6.5427787059213145
         ],
         "line": {
          "color": "green",
          "width": 2
         },
         "locationmode": "ISO-3",
         "lon": [
          7.995127754089786,
          20.374347291243915
         ],
         "mode": "lines",
         "name": "Export to CAF",
         "type": "scattergeo"
        },
        {
         "lat": [
          9.548318418209965,
          6.431619862252993
         ],
         "line": {
          "color": "green",
          "width": 2
         },
         "locationmode": "ISO-3",
         "lon": [
          7.995127754089786,
          -9.410836154371117
         ],
         "mode": "lines",
         "name": "Export to LBR",
         "type": "scattergeo"
        },
        {
         "lat": [
          9.548318418209965,
          20.20926720635376
         ],
         "line": {
          "color": "blue",
          "width": 2
         },
         "locationmode": "ISO-3",
         "lon": [
          7.995127754089786,
          -10.326396925234992
         ],
         "mode": "lines",
         "name": "Export to MRT",
         "type": "scattergeo"
        },
        {
         "lat": [
          9.548318418209965,
          20.20926720635376
         ],
         "line": {
          "color": "blue",
          "width": 2
         },
         "locationmode": "ISO-3",
         "lon": [
          7.995127754089786,
          -10.326396925234992
         ],
         "mode": "lines",
         "name": "Export to MRT",
         "type": "scattergeo"
        },
        {
         "lat": [
          9.548318418209965,
          20.20926720635376
         ],
         "line": {
          "color": "blue",
          "width": 2
         },
         "locationmode": "ISO-3",
         "lon": [
          7.995127754089786,
          -10.326396925234992
         ],
         "mode": "lines",
         "name": "Export to MRT",
         "type": "scattergeo"
        },
        {
         "lat": [
          9.548318418209965,
          20.20926720635376
         ],
         "line": {
          "color": "blue",
          "width": 2
         },
         "locationmode": "ISO-3",
         "lon": [
          7.995127754089786,
          -10.326396925234992
         ],
         "mode": "lines",
         "name": "Export to MRT",
         "type": "scattergeo"
        },
        {
         "lat": [
          9.548318418209965,
          20.20926720635376
         ],
         "line": {
          "color": "green",
          "width": 2
         },
         "locationmode": "ISO-3",
         "lon": [
          7.995127754089786,
          -10.326396925234992
         ],
         "mode": "lines",
         "name": "Export to MRT",
         "type": "scattergeo"
        },
        {
         "lat": [
          9.548318418209965,
          20.20926720635376
         ],
         "line": {
          "color": "blue",
          "width": 2
         },
         "locationmode": "ISO-3",
         "lon": [
          7.995127754089786,
          -10.326396925234992
         ],
         "mode": "lines",
         "name": "Export to MRT",
         "type": "scattergeo"
        },
        {
         "lat": [
          9.548318418209965,
          20.20926720635376
         ],
         "line": {
          "color": "blue",
          "width": 2
         },
         "locationmode": "ISO-3",
         "lon": [
          7.995127754089786,
          -10.326396925234992
         ],
         "mode": "lines",
         "name": "Export to MRT",
         "type": "scattergeo"
        },
        {
         "lat": [
          9.548318418209965,
          20.20926720635376
         ],
         "line": {
          "color": "blue",
          "width": 2
         },
         "locationmode": "ISO-3",
         "lon": [
          7.995127754089786,
          -10.326396925234992
         ],
         "mode": "lines",
         "name": "Export to MRT",
         "type": "scattergeo"
        },
        {
         "lat": [
          9.548318418209965,
          20.20926720635376
         ],
         "line": {
          "color": "blue",
          "width": 2
         },
         "locationmode": "ISO-3",
         "lon": [
          7.995127754089786,
          -10.326396925234992
         ],
         "mode": "lines",
         "name": "Export to MRT",
         "type": "scattergeo"
        },
        {
         "lat": [
          9.548318418209965,
          20.20926720635376
         ],
         "line": {
          "color": "blue",
          "width": 2
         },
         "locationmode": "ISO-3",
         "lon": [
          7.995127754089786,
          -10.326396925234992
         ],
         "mode": "lines",
         "name": "Export to MRT",
         "type": "scattergeo"
        },
        {
         "lat": [
          9.548318418209965,
          20.20926720635376
         ],
         "line": {
          "color": "green",
          "width": 2
         },
         "locationmode": "ISO-3",
         "lon": [
          7.995127754089786,
          -10.326396925234992
         ],
         "mode": "lines",
         "name": "Export to MRT",
         "type": "scattergeo"
        },
        {
         "lat": [
          9.548318418209965,
          20.20926720635376
         ],
         "line": {
          "color": "green",
          "width": 2
         },
         "locationmode": "ISO-3",
         "lon": [
          7.995127754089786,
          -10.326396925234992
         ],
         "mode": "lines",
         "name": "Export to MRT",
         "type": "scattergeo"
        },
        {
         "lat": [
          9.548318418209965,
          20.20926720635376
         ],
         "line": {
          "color": "green",
          "width": 2
         },
         "locationmode": "ISO-3",
         "lon": [
          7.995127754089786,
          -10.326396925234992
         ],
         "mode": "lines",
         "name": "Export to MRT",
         "type": "scattergeo"
        },
        {
         "lat": [
          9.548318418209965,
          20.20926720635376
         ],
         "line": {
          "color": "blue",
          "width": 2
         },
         "locationmode": "ISO-3",
         "lon": [
          7.995127754089786,
          -10.326396925234992
         ],
         "mode": "lines",
         "name": "Export to MRT",
         "type": "scattergeo"
        },
        {
         "lat": [
          9.548318418209965,
          20.20926720635376
         ],
         "line": {
          "color": "blue",
          "width": 2
         },
         "locationmode": "ISO-3",
         "lon": [
          7.995127754089786,
          -10.326396925234992
         ],
         "mode": "lines",
         "name": "Export to MRT",
         "type": "scattergeo"
        },
        {
         "lat": [
          9.548318418209965,
          20.20926720635376
         ],
         "line": {
          "color": "blue",
          "width": 2
         },
         "locationmode": "ISO-3",
         "lon": [
          7.995127754089786,
          -10.326396925234992
         ],
         "mode": "lines",
         "name": "Export to MRT",
         "type": "scattergeo"
        },
        {
         "lat": [
          9.548318418209965,
          20.20926720635376
         ],
         "line": {
          "color": "blue",
          "width": 2
         },
         "locationmode": "ISO-3",
         "lon": [
          7.995127754089786,
          -10.326396925234992
         ],
         "mode": "lines",
         "name": "Export to MRT",
         "type": "scattergeo"
        },
        {
         "lat": [
          9.548318418209965,
          20.20926720635376
         ],
         "line": {
          "color": "blue",
          "width": 2
         },
         "locationmode": "ISO-3",
         "lon": [
          7.995127754089786,
          -10.326396925234992
         ],
         "mode": "lines",
         "name": "Export to MRT",
         "type": "scattergeo"
        },
        {
         "lat": [
          9.548318418209965,
          15.427276751412931
         ],
         "line": {
          "color": "green",
          "width": 2
         },
         "locationmode": "ISO-3",
         "lon": [
          7.995127754089786,
          38.67818692786484
         ],
         "mode": "lines",
         "name": "Export to ERI",
         "type": "scattergeo"
        },
        {
         "lat": [
          9.548318418209965,
          13.47533435870166
         ],
         "line": {
          "color": "green",
          "width": 2
         },
         "locationmode": "ISO-3",
         "lon": [
          7.995127754089786,
          -15.431872807730837
         ],
         "mode": "lines",
         "name": "Export to GMB",
         "type": "scattergeo"
        },
        {
         "lat": [
          9.548318418209965,
          13.47533435870166
         ],
         "line": {
          "color": "green",
          "width": 2
         },
         "locationmode": "ISO-3",
         "lon": [
          7.995127754089786,
          -15.431872807730837
         ],
         "mode": "lines",
         "name": "Export to GMB",
         "type": "scattergeo"
        },
        {
         "lat": [
          9.548318418209965,
          13.47533435870166
         ],
         "line": {
          "color": "green",
          "width": 2
         },
         "locationmode": "ISO-3",
         "lon": [
          7.995127754089786,
          -15.431872807730837
         ],
         "mode": "lines",
         "name": "Export to GMB",
         "type": "scattergeo"
        },
        {
         "lat": [
          9.548318418209965,
          13.47533435870166
         ],
         "line": {
          "color": "blue",
          "width": 2
         },
         "locationmode": "ISO-3",
         "lon": [
          7.995127754089786,
          -15.431872807730837
         ],
         "mode": "lines",
         "name": "Export to GMB",
         "type": "scattergeo"
        },
        {
         "lat": [
          9.548318418209965,
          -22.099711378826413
         ],
         "line": {
          "color": "blue",
          "width": 2
         },
         "locationmode": "ISO-3",
         "lon": [
          7.995127754089786,
          23.773081465789428
         ],
         "mode": "lines",
         "name": "Export to BWA",
         "type": "scattergeo"
        },
        {
         "lat": [
          9.548318418209965,
          -22.099711378826413
         ],
         "line": {
          "color": "blue",
          "width": 2
         },
         "locationmode": "ISO-3",
         "lon": [
          7.995127754089786,
          23.773081465789428
         ],
         "mode": "lines",
         "name": "Export to BWA",
         "type": "scattergeo"
        },
        {
         "lat": [
          9.548318418209965,
          -22.099711378826413
         ],
         "line": {
          "color": "blue",
          "width": 2
         },
         "locationmode": "ISO-3",
         "lon": [
          7.995127754089786,
          23.773081465789428
         ],
         "mode": "lines",
         "name": "Export to BWA",
         "type": "scattergeo"
        },
        {
         "lat": [
          9.548318418209965,
          -22.099711378826413
         ],
         "line": {
          "color": "blue",
          "width": 2
         },
         "locationmode": "ISO-3",
         "lon": [
          7.995127754089786,
          23.773081465789428
         ],
         "mode": "lines",
         "name": "Export to BWA",
         "type": "scattergeo"
        },
        {
         "lat": [
          9.548318418209965,
          -22.099776931731068
         ],
         "line": {
          "color": "blue",
          "width": 2
         },
         "locationmode": "ISO-3",
         "lon": [
          7.995127754089786,
          17.156168126194093
         ],
         "mode": "lines",
         "name": "Export to NAM",
         "type": "scattergeo"
        },
        {
         "lat": [
          9.548318418209965,
          -22.099776931731068
         ],
         "line": {
          "color": "blue",
          "width": 2
         },
         "locationmode": "ISO-3",
         "lon": [
          7.995127754089786,
          17.156168126194093
         ],
         "mode": "lines",
         "name": "Export to NAM",
         "type": "scattergeo"
        },
        {
         "lat": [
          9.548318418209965,
          -22.099776931731068
         ],
         "line": {
          "color": "green",
          "width": 2
         },
         "locationmode": "ISO-3",
         "lon": [
          7.995127754089786,
          17.156168126194093
         ],
         "mode": "lines",
         "name": "Export to NAM",
         "type": "scattergeo"
        },
        {
         "lat": [
          9.548318418209965,
          -22.099776931731068
         ],
         "line": {
          "color": "blue",
          "width": 2
         },
         "locationmode": "ISO-3",
         "lon": [
          7.995127754089786,
          17.156168126194093
         ],
         "mode": "lines",
         "name": "Export to NAM",
         "type": "scattergeo"
        },
        {
         "lat": [
          9.548318418209965,
          -22.099776931731068
         ],
         "line": {
          "color": "blue",
          "width": 2
         },
         "locationmode": "ISO-3",
         "lon": [
          7.995127754089786,
          17.156168126194093
         ],
         "mode": "lines",
         "name": "Export to NAM",
         "type": "scattergeo"
        },
        {
         "lat": [
          9.548318418209965,
          -22.099776931731068
         ],
         "line": {
          "color": "green",
          "width": 2
         },
         "locationmode": "ISO-3",
         "lon": [
          7.995127754089786,
          17.156168126194093
         ],
         "mode": "lines",
         "name": "Export to NAM",
         "type": "scattergeo"
        },
        {
         "lat": [
          9.548318418209965,
          -0.6470481398040288
         ],
         "line": {
          "color": "blue",
          "width": 2
         },
         "locationmode": "ISO-3",
         "lon": [
          7.995127754089786,
          11.687751174902044
         ],
         "mode": "lines",
         "name": "Export to GAB",
         "type": "scattergeo"
        },
        {
         "lat": [
          9.548318418209965,
          -0.6470481398040288
         ],
         "line": {
          "color": "green",
          "width": 2
         },
         "locationmode": "ISO-3",
         "lon": [
          7.995127754089786,
          11.687751174902044
         ],
         "mode": "lines",
         "name": "Export to GAB",
         "type": "scattergeo"
        },
        {
         "lat": [
          9.548318418209965,
          12.022704382325685
         ],
         "line": {
          "color": "green",
          "width": 2
         },
         "locationmode": "ISO-3",
         "lon": [
          7.995127754089786,
          -15.110623751667879
         ],
         "mode": "lines",
         "name": "Export to GNB",
         "type": "scattergeo"
        },
        {
         "lat": [
          9.548318418209965,
          12.022704382325685
         ],
         "line": {
          "color": "green",
          "width": 2
         },
         "locationmode": "ISO-3",
         "lon": [
          7.995127754089786,
          -15.110623751667879
         ],
         "mode": "lines",
         "name": "Export to GNB",
         "type": "scattergeo"
        },
        {
         "lat": [
          9.548318418209965,
          12.022704382325685
         ],
         "line": {
          "color": "green",
          "width": 2
         },
         "locationmode": "ISO-3",
         "lon": [
          7.995127754089786,
          -15.110623751667879
         ],
         "mode": "lines",
         "name": "Export to GNB",
         "type": "scattergeo"
        },
        {
         "lat": [
          9.548318418209965,
          1.6458643199600753
         ],
         "line": {
          "color": "green",
          "width": 2
         },
         "locationmode": "ISO-3",
         "lon": [
          7.995127754089786,
          10.366031325064027
         ],
         "mode": "lines",
         "name": "Export to GNQ",
         "type": "scattergeo"
        },
        {
         "lat": [
          9.548318418209965,
          null
         ],
         "line": {
          "color": "blue",
          "width": 2
         },
         "locationmode": "ISO-3",
         "lon": [
          7.995127754089786,
          null
         ],
         "mode": "lines",
         "name": "Export to MUS",
         "type": "scattergeo"
        },
        {
         "lat": [
          9.548318418209965,
          null
         ],
         "line": {
          "color": "blue",
          "width": 2
         },
         "locationmode": "ISO-3",
         "lon": [
          7.995127754089786,
          null
         ],
         "mode": "lines",
         "name": "Export to MUS",
         "type": "scattergeo"
        },
        {
         "lat": [
          9.548318418209965,
          null
         ],
         "line": {
          "color": "blue",
          "width": 2
         },
         "locationmode": "ISO-3",
         "lon": [
          7.995127754089786,
          null
         ],
         "mode": "lines",
         "name": "Export to MUS",
         "type": "scattergeo"
        },
        {
         "lat": [
          9.548318418209965,
          null
         ],
         "line": {
          "color": "blue",
          "width": 2
         },
         "locationmode": "ISO-3",
         "lon": [
          7.995127754089786,
          null
         ],
         "mode": "lines",
         "name": "Export to MUS",
         "type": "scattergeo"
        },
        {
         "lat": [
          9.548318418209965,
          null
         ],
         "line": {
          "color": "blue",
          "width": 2
         },
         "locationmode": "ISO-3",
         "lon": [
          7.995127754089786,
          null
         ],
         "mode": "lines",
         "name": "Export to MUS",
         "type": "scattergeo"
        },
        {
         "lat": [
          9.548318418209965,
          null
         ],
         "line": {
          "color": "green",
          "width": 2
         },
         "locationmode": "ISO-3",
         "lon": [
          7.995127754089786,
          null
         ],
         "mode": "lines",
         "name": "Export to MUS",
         "type": "scattergeo"
        },
        {
         "lat": [
          9.548318418209965,
          null
         ],
         "line": {
          "color": "green",
          "width": 2
         },
         "locationmode": "ISO-3",
         "lon": [
          7.995127754089786,
          null
         ],
         "mode": "lines",
         "name": "Export to MUS",
         "type": "scattergeo"
        },
        {
         "lat": [
          9.548318418209965,
          -26.48985528852001
         ],
         "line": {
          "color": "blue",
          "width": 2
         },
         "locationmode": "ISO-3",
         "lon": [
          7.995127754089786,
          31.39525590206532
         ],
         "mode": "lines",
         "name": "Export to SWZ",
         "type": "scattergeo"
        },
        {
         "lat": [
          9.548318418209965,
          -26.48985528852001
         ],
         "line": {
          "color": "blue",
          "width": 2
         },
         "locationmode": "ISO-3",
         "lon": [
          7.995127754089786,
          31.39525590206532
         ],
         "mode": "lines",
         "name": "Export to SWZ",
         "type": "scattergeo"
        },
        {
         "lat": [
          9.548318418209965,
          -26.48985528852001
         ],
         "line": {
          "color": "green",
          "width": 2
         },
         "locationmode": "ISO-3",
         "lon": [
          7.995127754089786,
          31.39525590206532
         ],
         "mode": "lines",
         "name": "Export to SWZ",
         "type": "scattergeo"
        },
        {
         "lat": [
          9.548318418209965,
          -26.48985528852001
         ],
         "line": {
          "color": "green",
          "width": 2
         },
         "locationmode": "ISO-3",
         "lon": [
          7.995127754089786,
          31.39525590206532
         ],
         "mode": "lines",
         "name": "Export to SWZ",
         "type": "scattergeo"
        },
        {
         "lat": [
          9.548318418209965,
          -26.48985528852001
         ],
         "line": {
          "color": "green",
          "width": 2
         },
         "locationmode": "ISO-3",
         "lon": [
          7.995127754089786,
          31.39525590206532
         ],
         "mode": "lines",
         "name": "Export to SWZ",
         "type": "scattergeo"
        },
        {
         "lat": [
          9.548318418209965,
          null
         ],
         "line": {
          "color": "green",
          "width": 2
         },
         "locationmode": "ISO-3",
         "lon": [
          7.995127754089786,
          null
         ],
         "mode": "lines",
         "name": "Export to SYC",
         "type": "scattergeo"
        },
        {
         "lat": [
          9.548318418209965,
          null
         ],
         "line": {
          "color": "green",
          "width": 2
         },
         "locationmode": "ISO-3",
         "lon": [
          7.995127754089786,
          null
         ],
         "mode": "lines",
         "name": "Export to SYC",
         "type": "scattergeo"
        },
        {
         "lat": [
          9.548318418209965,
          null
         ],
         "line": {
          "color": "green",
          "width": 2
         },
         "locationmode": "ISO-3",
         "lon": [
          7.995127754089786,
          null
         ],
         "mode": "lines",
         "name": "Export to SYC",
         "type": "scattergeo"
        },
        {
         "lat": [
          9.548318418209965,
          8.653999188132575
         ],
         "line": {
          "color": "blue",
          "width": 2
         },
         "locationmode": "ISO-3",
         "lon": [
          7.995127754089786,
          39.551255792937745
         ],
         "mode": "lines",
         "name": "Export to ETH",
         "type": "scattergeo"
        },
        {
         "lat": [
          9.548318418209965,
          8.653999188132575
         ],
         "line": {
          "color": "green",
          "width": 2
         },
         "locationmode": "ISO-3",
         "lon": [
          7.995127754089786,
          39.551255792937745
         ],
         "mode": "lines",
         "name": "Export to ETH",
         "type": "scattergeo"
        },
        {
         "lat": [
          9.548318418209965
         ],
         "lon": [
          7.995127754089786
         ],
         "marker": {
          "color": "red",
          "size": 10
         },
         "mode": "markers",
         "name": "Exporting Country",
         "type": "scattergeo"
        },
        {
         "hoverinfo": "location+z",
         "locationmode": "ISO-3",
         "locations": [
          "FJI",
          "TZA",
          "ESH",
          "CAN",
          "USA",
          "KAZ",
          "UZB",
          "PNG",
          "IDN",
          "ARG",
          "CHL",
          "COD",
          "SOM",
          "KEN",
          "SDN",
          "TCD",
          "HTI",
          "DOM",
          "RUS",
          "BHS",
          "FLK",
          "-99",
          "GRL",
          "ATF",
          "TLS",
          "ZAF",
          "LSO",
          "MEX",
          "URY",
          "BRA",
          "BOL",
          "PER",
          "COL",
          "PAN",
          "CRI",
          "NIC",
          "HND",
          "SLV",
          "GTM",
          "BLZ",
          "VEN",
          "GUY",
          "SUR",
          "-99",
          "ECU",
          "PRI",
          "JAM",
          "CUB",
          "ZWE",
          "BWA",
          "NAM",
          "SEN",
          "MLI",
          "MRT",
          "BEN",
          "NER",
          "NGA",
          "CMR",
          "TGO",
          "GHA",
          "CIV",
          "GIN",
          "GNB",
          "LBR",
          "SLE",
          "BFA",
          "CAF",
          "COG",
          "GAB",
          "GNQ",
          "ZMB",
          "MWI",
          "MOZ",
          "SWZ",
          "AGO",
          "BDI",
          "ISR",
          "LBN",
          "MDG",
          "PSE",
          "GMB",
          "TUN",
          "DZA",
          "JOR",
          "ARE",
          "QAT",
          "KWT",
          "IRQ",
          "OMN",
          "VUT",
          "KHM",
          "THA",
          "LAO",
          "MMR",
          "VNM",
          "PRK",
          "KOR",
          "MNG",
          "IND",
          "BGD",
          "BTN",
          "NPL",
          "PAK",
          "AFG",
          "TJK",
          "KGZ",
          "TKM",
          "IRN",
          "SYR",
          "ARM",
          "SWE",
          "BLR",
          "UKR",
          "POL",
          "AUT",
          "HUN",
          "MDA",
          "ROU",
          "LTU",
          "LVA",
          "EST",
          "DEU",
          "BGR",
          "GRC",
          "TUR",
          "ALB",
          "HRV",
          "CHE",
          "LUX",
          "BEL",
          "NLD",
          "PRT",
          "ESP",
          "IRL",
          "NCL",
          "SLB",
          "NZL",
          "AUS",
          "LKA",
          "CHN",
          "TWN",
          "ITA",
          "DNK",
          "GBR",
          "ISL",
          "AZE",
          "GEO",
          "PHL",
          "MYS",
          "BRN",
          "SVN",
          "FIN",
          "SVK",
          "CZE",
          "ERI",
          "JPN",
          "PRY",
          "YEM",
          "SAU",
          "ATA",
          "-99",
          "CYP",
          "MAR",
          "EGY",
          "LBY",
          "ETH",
          "DJI",
          "-99",
          "UGA",
          "RWA",
          "BIH",
          "MKD",
          "SRB",
          "MNE",
          "-99",
          "TTO",
          "SSD"
         ],
         "showscale": false,
         "type": "choropleth",
         "z": [
          1,
          1,
          1,
          1,
          1,
          1,
          1,
          1,
          1,
          1,
          1,
          1,
          1,
          1,
          1,
          1,
          1,
          1,
          1,
          1,
          1,
          1,
          1,
          1,
          1,
          1,
          1,
          1,
          1,
          1,
          1,
          1,
          1,
          1,
          1,
          1,
          1,
          1,
          1,
          1,
          1,
          1,
          1,
          1,
          1,
          1,
          1,
          1,
          1,
          1,
          1,
          1,
          1,
          1,
          1,
          1,
          1,
          1,
          1,
          1,
          1,
          1,
          1,
          1,
          1,
          1,
          1,
          1,
          1,
          1,
          1,
          1,
          1,
          1,
          1,
          1,
          1,
          1,
          1,
          1,
          1,
          1,
          1,
          1,
          1,
          1,
          1,
          1,
          1,
          1,
          1,
          1,
          1,
          1,
          1,
          1,
          1,
          1,
          1,
          1,
          1,
          1,
          1,
          1,
          1,
          1,
          1,
          1,
          1,
          1,
          1,
          1,
          1,
          1,
          1,
          1,
          1,
          1,
          1,
          1,
          1,
          1,
          1,
          1,
          1,
          1,
          1,
          1,
          1,
          1,
          1,
          1,
          1,
          1,
          1,
          1,
          1,
          1,
          1,
          1,
          1,
          1,
          1,
          1,
          1,
          1,
          1,
          1,
          1,
          1,
          1,
          1,
          1,
          1,
          1,
          1,
          1,
          1,
          1,
          1,
          1,
          1,
          1,
          1,
          1,
          1,
          1,
          1,
          1,
          1,
          1,
          1,
          1,
          1,
          1,
          1,
          1
         ]
        },
        {
         "lat": [
          -17.31630942638265
         ],
         "lon": [
          163.85316464458234
         ],
         "mode": "text",
         "showlegend": false,
         "text": "Fiji",
         "textfont": {
          "color": "black",
          "size": 8
         },
         "type": "scattergeo"
        },
        {
         "lat": [
          -6.257732428506092
         ],
         "lon": [
          34.75298985475595
         ],
         "mode": "text",
         "showlegend": false,
         "text": "Tanzania",
         "textfont": {
          "color": "black",
          "size": 8
         },
         "type": "scattergeo"
        },
        {
         "lat": [
          24.291172960208623
         ],
         "lon": [
          -12.13783111160779
         ],
         "mode": "text",
         "showlegend": false,
         "text": "W. Sahara",
         "textfont": {
          "color": "black",
          "size": 8
         },
         "type": "scattergeo"
        },
        {
         "lat": [
          61.46907614534896
         ],
         "lon": [
          -98.14238137209708
         ],
         "mode": "text",
         "showlegend": false,
         "text": "Canada",
         "textfont": {
          "color": "black",
          "size": 8
         },
         "type": "scattergeo"
        },
        {
         "lat": [
          45.70562800215178
         ],
         "lon": [
          -112.5994359115045
         ],
         "mode": "text",
         "showlegend": false,
         "text": "United States of America",
         "textfont": {
          "color": "black",
          "size": 8
         },
         "type": "scattergeo"
        },
        {
         "lat": [
          48.19166075218232
         ],
         "lon": [
          67.2846109811001
         ],
         "mode": "text",
         "showlegend": false,
         "text": "Kazakhstan",
         "textfont": {
          "color": "black",
          "size": 8
         },
         "type": "scattergeo"
        },
        {
         "lat": [
          41.748602664652246
         ],
         "lon": [
          63.20363952823182
         ],
         "mode": "text",
         "showlegend": false,
         "text": "Uzbekistan",
         "textfont": {
          "color": "black",
          "size": 8
         },
         "type": "scattergeo"
        },
        {
         "lat": [
          -6.451644514630347
         ],
         "lon": [
          145.31757462782247
         ],
         "mode": "text",
         "showlegend": false,
         "text": "Papua New Guinea",
         "textfont": {
          "color": "black",
          "size": 8
         },
         "type": "scattergeo"
        },
        {
         "lat": [
          -2.221737936520542
         ],
         "lon": [
          117.42340756227364
         ],
         "mode": "text",
         "showlegend": false,
         "text": "Indonesia",
         "textfont": {
          "color": "black",
          "size": 8
         },
         "type": "scattergeo"
        },
        {
         "lat": [
          -35.4468214894951
         ],
         "lon": [
          -65.17536077114173
         ],
         "mode": "text",
         "showlegend": false,
         "text": "Argentina",
         "textfont": {
          "color": "black",
          "size": 8
         },
         "type": "scattergeo"
        },
        {
         "lat": [
          -39.04701430994844
         ],
         "lon": [
          -71.5206439451643
         ],
         "mode": "text",
         "showlegend": false,
         "text": "Chile",
         "textfont": {
          "color": "black",
          "size": 8
         },
         "type": "scattergeo"
        },
        {
         "lat": [
          -2.8502757110956667
         ],
         "lon": [
          23.582955831479083
         ],
         "mode": "text",
         "showlegend": false,
         "text": "Dem. Rep. Congo",
         "textfont": {
          "color": "black",
          "size": 8
         },
         "type": "scattergeo"
        },
        {
         "lat": [
          4.752347756504953
         ],
         "lon": [
          45.72670076723565
         ],
         "mode": "text",
         "showlegend": false,
         "text": "Somalia",
         "textfont": {
          "color": "black",
          "size": 8
         },
         "type": "scattergeo"
        },
        {
         "lat": [
          0.5959662521769523
         ],
         "lon": [
          37.791555286661385
         ],
         "mode": "text",
         "showlegend": false,
         "text": "Kenya",
         "textfont": {
          "color": "black",
          "size": 8
         },
         "type": "scattergeo"
        },
        {
         "lat": [
          15.990585003116717
         ],
         "lon": [
          29.862604012257922
         ],
         "mode": "text",
         "showlegend": false,
         "text": "Sudan",
         "textfont": {
          "color": "black",
          "size": 8
         },
         "type": "scattergeo"
        },
        {
         "lat": [
          15.328867399839682
         ],
         "lon": [
          18.581329525332894
         ],
         "mode": "text",
         "showlegend": false,
         "text": "Chad",
         "textfont": {
          "color": "black",
          "size": 8
         },
         "type": "scattergeo"
        },
        {
         "lat": [
          18.900700691843337
         ],
         "lon": [
          -72.65801330535574
         ],
         "mode": "text",
         "showlegend": false,
         "text": "Haiti",
         "textfont": {
          "color": "black",
          "size": 8
         },
         "type": "scattergeo"
        },
        {
         "lat": [
          18.884487087982258
         ],
         "lon": [
          -70.46235845697531
         ],
         "mode": "text",
         "showlegend": false,
         "text": "Dominican Rep.",
         "textfont": {
          "color": "black",
          "size": 8
         },
         "type": "scattergeo"
        },
        {
         "lat": [
          61.961663494923
         ],
         "lon": [
          96.80331818290134
         ],
         "mode": "text",
         "showlegend": false,
         "text": "Russia",
         "textfont": {
          "color": "black",
          "size": 8
         },
         "type": "scattergeo"
        },
        {
         "lat": [
          25.515491725336624
         ],
         "lon": [
          -77.92997080393516
         ],
         "mode": "text",
         "showlegend": false,
         "text": "Bahamas",
         "textfont": {
          "color": "black",
          "size": 8
         },
         "type": "scattergeo"
        },
        {
         "lat": [
          -51.71322176551185
         ],
         "lon": [
          -59.42097279311021
         ],
         "mode": "text",
         "showlegend": false,
         "text": "Falkland Is.",
         "textfont": {
          "color": "black",
          "size": 8
         },
         "type": "scattergeo"
        },
        {
         "lat": [
          69.15685630975351
         ],
         "lon": [
          15.468119955206761
         ],
         "mode": "text",
         "showlegend": false,
         "text": "Norway",
         "textfont": {
          "color": "black",
          "size": 8
         },
         "type": "scattergeo"
        },
        {
         "lat": [
          74.77048769398986
         ],
         "lon": [
          -41.50018111492097
         ],
         "mode": "text",
         "showlegend": false,
         "text": "Greenland",
         "textfont": {
          "color": "black",
          "size": 8
         },
         "type": "scattergeo"
        },
        {
         "lat": [
          -49.306454911671985
         ],
         "lon": [
          69.5315804704237
         ],
         "mode": "text",
         "showlegend": false,
         "text": "Fr. S. Antarctic Lands",
         "textfont": {
          "color": "black",
          "size": 8
         },
         "type": "scattergeo"
        },
        {
         "lat": [
          -8.767760362467003
         ],
         "lon": [
          125.96630027368401
         ],
         "mode": "text",
         "showlegend": false,
         "text": "Timor-Leste",
         "textfont": {
          "color": "black",
          "size": 8
         },
         "type": "scattergeo"
        },
        {
         "lat": [
          -28.947033259979115
         ],
         "lon": [
          25.048013879861678
         ],
         "mode": "text",
         "showlegend": false,
         "text": "South Africa",
         "textfont": {
          "color": "black",
          "size": 8
         },
         "type": "scattergeo"
        },
        {
         "lat": [
          -29.625290493692013
         ],
         "lon": [
          28.170105295170494
         ],
         "mode": "text",
         "showlegend": false,
         "text": "Lesotho",
         "textfont": {
          "color": "black",
          "size": 8
         },
         "type": "scattergeo"
        },
        {
         "lat": [
          23.935371902244835
         ],
         "lon": [
          -102.5763495239869
         ],
         "mode": "text",
         "showlegend": false,
         "text": "Mexico",
         "textfont": {
          "color": "black",
          "size": 8
         },
         "type": "scattergeo"
        },
        {
         "lat": [
          -32.780904365230825
         ],
         "lon": [
          -56.003278666548475
         ],
         "mode": "text",
         "showlegend": false,
         "text": "Uruguay",
         "textfont": {
          "color": "black",
          "size": 8
         },
         "type": "scattergeo"
        },
        {
         "lat": [
          -10.806773643498916
         ],
         "lon": [
          -53.05434003576711
         ],
         "mode": "text",
         "showlegend": false,
         "text": "Brazil",
         "textfont": {
          "color": "black",
          "size": 8
         },
         "type": "scattergeo"
        },
        {
         "lat": [
          -16.72898701530584
         ],
         "lon": [
          -64.64140560603113
         ],
         "mode": "text",
         "showlegend": false,
         "text": "Bolivia",
         "textfont": {
          "color": "black",
          "size": 8
         },
         "type": "scattergeo"
        },
        {
         "lat": [
          -9.191562905134553
         ],
         "lon": [
          -74.39180581684722
         ],
         "mode": "text",
         "showlegend": false,
         "text": "Peru",
         "textfont": {
          "color": "black",
          "size": 8
         },
         "type": "scattergeo"
        },
        {
         "lat": [
          3.927213862709704
         ],
         "lon": [
          -73.07773208697478
         ],
         "mode": "text",
         "showlegend": false,
         "text": "Colombia",
         "textfont": {
          "color": "black",
          "size": 8
         },
         "type": "scattergeo"
        },
        {
         "lat": [
          8.530019388864652
         ],
         "lon": [
          -80.10916483549376
         ],
         "mode": "text",
         "showlegend": false,
         "text": "Panama",
         "textfont": {
          "color": "black",
          "size": 8
         },
         "type": "scattergeo"
        },
        {
         "lat": [
          9.965671127464528
         ],
         "lon": [
          -84.17542309600948
         ],
         "mode": "text",
         "showlegend": false,
         "text": "Costa Rica",
         "textfont": {
          "color": "black",
          "size": 8
         },
         "type": "scattergeo"
        },
        {
         "lat": [
          12.848190428036988
         ],
         "lon": [
          -85.02031850080252
         ],
         "mode": "text",
         "showlegend": false,
         "text": "Nicaragua",
         "textfont": {
          "color": "black",
          "size": 8
         },
         "type": "scattergeo"
        },
        {
         "lat": [
          14.822947081652929
         ],
         "lon": [
          -86.58996383801542
         ],
         "mode": "text",
         "showlegend": false,
         "text": "Honduras",
         "textfont": {
          "color": "black",
          "size": 8
         },
         "type": "scattergeo"
        },
        {
         "lat": [
          13.726091625794197
         ],
         "lon": [
          -88.87290317032377
         ],
         "mode": "text",
         "showlegend": false,
         "text": "El Salvador",
         "textfont": {
          "color": "black",
          "size": 8
         },
         "type": "scattergeo"
        },
        {
         "lat": [
          15.699360612026911
         ],
         "lon": [
          -90.36945836053154
         ],
         "mode": "text",
         "showlegend": false,
         "text": "Guatemala",
         "textfont": {
          "color": "black",
          "size": 8
         },
         "type": "scattergeo"
        },
        {
         "lat": [
          17.197089911451545
         ],
         "lon": [
          -88.70342125299318
         ],
         "mode": "text",
         "showlegend": false,
         "text": "Belize",
         "textfont": {
          "color": "black",
          "size": 8
         },
         "type": "scattergeo"
        },
        {
         "lat": [
          7.162132267639002
         ],
         "lon": [
          -66.16382727830238
         ],
         "mode": "text",
         "showlegend": false,
         "text": "Venezuela",
         "textfont": {
          "color": "black",
          "size": 8
         },
         "type": "scattergeo"
        },
        {
         "lat": [
          4.790225375174759
         ],
         "lon": [
          -58.97120310856251
         ],
         "mode": "text",
         "showlegend": false,
         "text": "Guyana",
         "textfont": {
          "color": "black",
          "size": 8
         },
         "type": "scattergeo"
        },
        {
         "lat": [
          4.1200080317588865
         ],
         "lon": [
          -55.91145629952073
         ],
         "mode": "text",
         "showlegend": false,
         "text": "Suriname",
         "textfont": {
          "color": "black",
          "size": 8
         },
         "type": "scattergeo"
        },
        {
         "lat": [
          42.46070432663372
         ],
         "lon": [
          -2.8766966992706267
         ],
         "mode": "text",
         "showlegend": false,
         "text": "France",
         "textfont": {
          "color": "black",
          "size": 8
         },
         "type": "scattergeo"
        },
        {
         "lat": [
          -1.4547717055405804
         ],
         "lon": [
          -78.38416674608374
         ],
         "mode": "text",
         "showlegend": false,
         "text": "Ecuador",
         "textfont": {
          "color": "black",
          "size": 8
         },
         "type": "scattergeo"
        },
        {
         "lat": [
          18.2372245709719
         ],
         "lon": [
          -66.47922227695507
         ],
         "mode": "text",
         "showlegend": false,
         "text": "Puerto Rico",
         "textfont": {
          "color": "black",
          "size": 8
         },
         "type": "scattergeo"
        },
        {
         "lat": [
          18.137636127868436
         ],
         "lon": [
          -77.32425480164892
         ],
         "mode": "text",
         "showlegend": false,
         "text": "Jamaica",
         "textfont": {
          "color": "black",
          "size": 8
         },
         "type": "scattergeo"
        },
        {
         "lat": [
          21.631751541025228
         ],
         "lon": [
          -78.96068490970256
         ],
         "mode": "text",
         "showlegend": false,
         "text": "Cuba",
         "textfont": {
          "color": "black",
          "size": 8
         },
         "type": "scattergeo"
        },
        {
         "lat": [
          -18.906987947858802
         ],
         "lon": [
          29.788548371892524
         ],
         "mode": "text",
         "showlegend": false,
         "text": "Zimbabwe",
         "textfont": {
          "color": "black",
          "size": 8
         },
         "type": "scattergeo"
        },
        {
         "lat": [
          -22.099711378826413
         ],
         "lon": [
          23.773081465789428
         ],
         "mode": "text",
         "showlegend": false,
         "text": "Botswana",
         "textfont": {
          "color": "black",
          "size": 8
         },
         "type": "scattergeo"
        },
        {
         "lat": [
          -22.099776931731068
         ],
         "lon": [
          17.156168126194093
         ],
         "mode": "text",
         "showlegend": false,
         "text": "Namibia",
         "textfont": {
          "color": "black",
          "size": 8
         },
         "type": "scattergeo"
        },
        {
         "lat": [
          14.354139988452022
         ],
         "lon": [
          -14.50980278585943
         ],
         "mode": "text",
         "showlegend": false,
         "text": "Senegal",
         "textfont": {
          "color": "black",
          "size": 8
         },
         "type": "scattergeo"
        },
        {
         "lat": [
          17.267772061700715
         ],
         "lon": [
          -3.543294339453343
         ],
         "mode": "text",
         "showlegend": false,
         "text": "Mali",
         "textfont": {
          "color": "black",
          "size": 8
         },
         "type": "scattergeo"
        },
        {
         "lat": [
          20.20926720635376
         ],
         "lon": [
          -10.326396925234992
         ],
         "mode": "text",
         "showlegend": false,
         "text": "Mauritania",
         "textfont": {
          "color": "black",
          "size": 8
         },
         "type": "scattergeo"
        },
        {
         "lat": [
          9.647430780663699
         ],
         "lon": [
          2.337377553496156
         ],
         "mode": "text",
         "showlegend": false,
         "text": "Benin",
         "textfont": {
          "color": "black",
          "size": 8
         },
         "type": "scattergeo"
        },
        {
         "lat": [
          17.345552814745542
         ],
         "lon": [
          9.324427099857923
         ],
         "mode": "text",
         "showlegend": false,
         "text": "Niger",
         "textfont": {
          "color": "black",
          "size": 8
         },
         "type": "scattergeo"
        },
        {
         "lat": [
          9.548318418209965
         ],
         "lon": [
          7.995127754089786
         ],
         "mode": "text",
         "showlegend": false,
         "text": "Nigeria",
         "textfont": {
          "color": "black",
          "size": 8
         },
         "type": "scattergeo"
        },
        {
         "lat": [
          5.663095287992696
         ],
         "lon": [
          12.611551546501774
         ],
         "mode": "text",
         "showlegend": false,
         "text": "Cameroon",
         "textfont": {
          "color": "black",
          "size": 8
         },
         "type": "scattergeo"
        },
        {
         "lat": [
          8.439541954669616
         ],
         "lon": [
          0.9964039436703582
         ],
         "mode": "text",
         "showlegend": false,
         "text": "Togo",
         "textfont": {
          "color": "black",
          "size": 8
         },
         "type": "scattergeo"
        },
        {
         "lat": [
          7.928651813099648
         ],
         "lon": [
          -1.2369685557063992
         ],
         "mode": "text",
         "showlegend": false,
         "text": "Ghana",
         "textfont": {
          "color": "black",
          "size": 8
         },
         "type": "scattergeo"
        },
        {
         "lat": [
          7.5537550070104915
         ],
         "lon": [
          -5.6120436452252225
         ],
         "mode": "text",
         "showlegend": false,
         "text": "Côte d'Ivoire",
         "textfont": {
          "color": "black",
          "size": 8
         },
         "type": "scattergeo"
        },
        {
         "lat": [
          10.44827287727134
         ],
         "lon": [
          -11.060853741185456
         ],
         "mode": "text",
         "showlegend": false,
         "text": "Guinea",
         "textfont": {
          "color": "black",
          "size": 8
         },
         "type": "scattergeo"
        },
        {
         "lat": [
          12.022704382325685
         ],
         "lon": [
          -15.110623751667879
         ],
         "mode": "text",
         "showlegend": false,
         "text": "Guinea-Bissau",
         "textfont": {
          "color": "black",
          "size": 8
         },
         "type": "scattergeo"
        },
        {
         "lat": [
          6.431619862252993
         ],
         "lon": [
          -9.410836154371117
         ],
         "mode": "text",
         "showlegend": false,
         "text": "Liberia",
         "textfont": {
          "color": "black",
          "size": 8
         },
         "type": "scattergeo"
        },
        {
         "lat": [
          8.53035372615305
         ],
         "lon": [
          -11.795257428559948
         ],
         "mode": "text",
         "showlegend": false,
         "text": "Sierra Leone",
         "textfont": {
          "color": "black",
          "size": 8
         },
         "type": "scattergeo"
        },
        {
         "lat": [
          12.311650494136712
         ],
         "lon": [
          -1.77653745205594
         ],
         "mode": "text",
         "showlegend": false,
         "text": "Burkina Faso",
         "textfont": {
          "color": "black",
          "size": 8
         },
         "type": "scattergeo"
        },
        {
         "lat": [
          6.5427787059213145
         ],
         "lon": [
          20.374347291243915
         ],
         "mode": "text",
         "showlegend": false,
         "text": "Central African Rep.",
         "textfont": {
          "color": "black",
          "size": 8
         },
         "type": "scattergeo"
        },
        {
         "lat": [
          -0.8378010872252886
         ],
         "lon": [
          15.13446176741353
         ],
         "mode": "text",
         "showlegend": false,
         "text": "Congo",
         "textfont": {
          "color": "black",
          "size": 8
         },
         "type": "scattergeo"
        },
        {
         "lat": [
          -0.6470481398040288
         ],
         "lon": [
          11.687751174902044
         ],
         "mode": "text",
         "showlegend": false,
         "text": "Gabon",
         "textfont": {
          "color": "black",
          "size": 8
         },
         "type": "scattergeo"
        },
        {
         "lat": [
          1.6458643199600753
         ],
         "lon": [
          10.366031325064027
         ],
         "mode": "text",
         "showlegend": false,
         "text": "Eq. Guinea",
         "textfont": {
          "color": "black",
          "size": 8
         },
         "type": "scattergeo"
        },
        {
         "lat": [
          -13.395067553524187
         ],
         "lon": [
          27.727591918760577
         ],
         "mode": "text",
         "showlegend": false,
         "text": "Zambia",
         "textfont": {
          "color": "black",
          "size": 8
         },
         "type": "scattergeo"
        },
        {
         "lat": [
          -13.172834992341919
         ],
         "lon": [
          34.193605326922366
         ],
         "mode": "text",
         "showlegend": false,
         "text": "Malawi",
         "textfont": {
          "color": "black",
          "size": 8
         },
         "type": "scattergeo"
        },
        {
         "lat": [
          -17.230448975659677
         ],
         "lon": [
          35.47261597864435
         ],
         "mode": "text",
         "showlegend": false,
         "text": "Mozambique",
         "textfont": {
          "color": "black",
          "size": 8
         },
         "type": "scattergeo"
        },
        {
         "lat": [
          -26.48985528852001
         ],
         "lon": [
          31.39525590206532
         ],
         "mode": "text",
         "showlegend": false,
         "text": "eSwatini",
         "textfont": {
          "color": "black",
          "size": 8
         },
         "type": "scattergeo"
        },
        {
         "lat": [
          -12.245869036133188
         ],
         "lon": [
          17.47057255231345
         ],
         "mode": "text",
         "showlegend": false,
         "text": "Angola",
         "textfont": {
          "color": "black",
          "size": 8
         },
         "type": "scattergeo"
        },
        {
         "lat": [
          -3.3773910753554657
         ],
         "lon": [
          29.91389229542573
         ],
         "mode": "text",
         "showlegend": false,
         "text": "Burundi",
         "textfont": {
          "color": "black",
          "size": 8
         },
         "type": "scattergeo"
        },
        {
         "lat": [
          31.4849193900197
         ],
         "lon": [
          35.003851206429005
         ],
         "mode": "text",
         "showlegend": false,
         "text": "Israel",
         "textfont": {
          "color": "black",
          "size": 8
         },
         "type": "scattergeo"
        },
        {
         "lat": [
          33.91182720781994
         ],
         "lon": [
          35.87098632001643
         ],
         "mode": "text",
         "showlegend": false,
         "text": "Lebanon",
         "textfont": {
          "color": "black",
          "size": 8
         },
         "type": "scattergeo"
        },
        {
         "lat": [
          -19.356114077828778
         ],
         "lon": [
          46.69117091471639
         ],
         "mode": "text",
         "showlegend": false,
         "text": "Madagascar",
         "textfont": {
          "color": "black",
          "size": 8
         },
         "type": "scattergeo"
        },
        {
         "lat": [
          31.94113662241515
         ],
         "lon": [
          35.27331962289024
         ],
         "mode": "text",
         "showlegend": false,
         "text": "Palestine",
         "textfont": {
          "color": "black",
          "size": 8
         },
         "type": "scattergeo"
        },
        {
         "lat": [
          13.47533435870166
         ],
         "lon": [
          -15.431872807730837
         ],
         "mode": "text",
         "showlegend": false,
         "text": "Gambia",
         "textfont": {
          "color": "black",
          "size": 8
         },
         "type": "scattergeo"
        },
        {
         "lat": [
          34.172939036882376
         ],
         "lon": [
          9.534716120695835
         ],
         "mode": "text",
         "showlegend": false,
         "text": "Tunisia",
         "textfont": {
          "color": "black",
          "size": 8
         },
         "type": "scattergeo"
        },
        {
         "lat": [
          28.185481278657537
         ],
         "lon": [
          2.5980477916183444
         ],
         "mode": "text",
         "showlegend": false,
         "text": "Algeria",
         "textfont": {
          "color": "black",
          "size": 8
         },
         "type": "scattergeo"
        },
        {
         "lat": [
          31.245490584748417
         ],
         "lon": [
          36.77945490632519
         ],
         "mode": "text",
         "showlegend": false,
         "text": "Jordan",
         "textfont": {
          "color": "black",
          "size": 8
         },
         "type": "scattergeo"
        },
        {
         "lat": [
          23.86863365334761
         ],
         "lon": [
          54.20671476159633
         ],
         "mode": "text",
         "showlegend": false,
         "text": "United Arab Emirates",
         "textfont": {
          "color": "black",
          "size": 8
         },
         "type": "scattergeo"
        },
        {
         "lat": [
          25.32185097420669
         ],
         "lon": [
          51.1835025789133
         ],
         "mode": "text",
         "showlegend": false,
         "text": "Qatar",
         "textfont": {
          "color": "black",
          "size": 8
         },
         "type": "scattergeo"
        },
        {
         "lat": [
          29.307266634033564
         ],
         "lon": [
          47.600098887626416
         ],
         "mode": "text",
         "showlegend": false,
         "text": "Kuwait",
         "textfont": {
          "color": "black",
          "size": 8
         },
         "type": "scattergeo"
        },
        {
         "lat": [
          33.03682096372491
         ],
         "lon": [
          43.75691096461423
         ],
         "mode": "text",
         "showlegend": false,
         "text": "Iraq",
         "textfont": {
          "color": "black",
          "size": 8
         },
         "type": "scattergeo"
        },
        {
         "lat": [
          20.611174374229545
         ],
         "lon": [
          56.09867281997542
         ],
         "mode": "text",
         "showlegend": false,
         "text": "Oman",
         "textfont": {
          "color": "black",
          "size": 8
         },
         "type": "scattergeo"
        },
        {
         "lat": [
          -15.542677057554924
         ],
         "lon": [
          167.07375126822674
         ],
         "mode": "text",
         "showlegend": false,
         "text": "Vanuatu",
         "textfont": {
          "color": "black",
          "size": 8
         },
         "type": "scattergeo"
        },
        {
         "lat": [
          12.684728629393506
         ],
         "lon": [
          104.87608532525192
         ],
         "mode": "text",
         "showlegend": false,
         "text": "Cambodia",
         "textfont": {
          "color": "black",
          "size": 8
         },
         "type": "scattergeo"
        },
        {
         "lat": [
          15.01697499141648
         ],
         "lon": [
          101.00613354626108
         ],
         "mode": "text",
         "showlegend": false,
         "text": "Thailand",
         "textfont": {
          "color": "black",
          "size": 8
         },
         "type": "scattergeo"
        },
        {
         "lat": [
          18.444978089036088
         ],
         "lon": [
          103.75025989504465
         ],
         "mode": "text",
         "showlegend": false,
         "text": "Laos",
         "textfont": {
          "color": "black",
          "size": 8
         },
         "type": "scattergeo"
        },
        {
         "lat": [
          21.016999873773827
         ],
         "lon": [
          96.50584094206161
         ],
         "mode": "text",
         "showlegend": false,
         "text": "Myanmar",
         "textfont": {
          "color": "black",
          "size": 8
         },
         "type": "scattergeo"
        },
        {
         "lat": [
          16.657937753254938
         ],
         "lon": [
          106.28584079705195
         ],
         "mode": "text",
         "showlegend": false,
         "text": "Vietnam",
         "textfont": {
          "color": "black",
          "size": 8
         },
         "type": "scattergeo"
        },
        {
         "lat": [
          40.14302033650109
         ],
         "lon": [
          127.16501590888976
         ],
         "mode": "text",
         "showlegend": false,
         "text": "North Korea",
         "textfont": {
          "color": "black",
          "size": 8
         },
         "type": "scattergeo"
        },
        {
         "lat": [
          36.42759860415487
         ],
         "lon": [
          127.8213171283307
         ],
         "mode": "text",
         "showlegend": false,
         "text": "South Korea",
         "textfont": {
          "color": "black",
          "size": 8
         },
         "type": "scattergeo"
        },
        {
         "lat": [
          46.82368112626357
         ],
         "lon": [
          102.94640620846634
         ],
         "mode": "text",
         "showlegend": false,
         "text": "Mongolia",
         "textfont": {
          "color": "black",
          "size": 8
         },
         "type": "scattergeo"
        },
        {
         "lat": [
          22.92500640740852
         ],
         "lon": [
          79.59370376325381
         ],
         "mode": "text",
         "showlegend": false,
         "text": "India",
         "textfont": {
          "color": "black",
          "size": 8
         },
         "type": "scattergeo"
        },
        {
         "lat": [
          23.83946179534406
         ],
         "lon": [
          90.26792827719598
         ],
         "mode": "text",
         "showlegend": false,
         "text": "Bangladesh",
         "textfont": {
          "color": "black",
          "size": 8
         },
         "type": "scattergeo"
        },
        {
         "lat": [
          27.427968649102027
         ],
         "lon": [
          90.4724248062037
         ],
         "mode": "text",
         "showlegend": false,
         "text": "Bhutan",
         "textfont": {
          "color": "black",
          "size": 8
         },
         "type": "scattergeo"
        },
        {
         "lat": [
          28.23944001904935
         ],
         "lon": [
          84.01317367692529
         ],
         "mode": "text",
         "showlegend": false,
         "text": "Nepal",
         "textfont": {
          "color": "black",
          "size": 8
         },
         "type": "scattergeo"
        },
        {
         "lat": [
          29.973460025547393
         ],
         "lon": [
          69.41399806318127
         ],
         "mode": "text",
         "showlegend": false,
         "text": "Pakistan",
         "textfont": {
          "color": "black",
          "size": 8
         },
         "type": "scattergeo"
        },
        {
         "lat": [
          33.85639928169076
         ],
         "lon": [
          66.08669022192831
         ],
         "mode": "text",
         "showlegend": false,
         "text": "Afghanistan",
         "textfont": {
          "color": "black",
          "size": 8
         },
         "type": "scattergeo"
        },
        {
         "lat": [
          38.58308146421082
         ],
         "lon": [
          71.03443504896113
         ],
         "mode": "text",
         "showlegend": false,
         "text": "Tajikistan",
         "textfont": {
          "color": "black",
          "size": 8
         },
         "type": "scattergeo"
        },
        {
         "lat": [
          41.50689371318262
         ],
         "lon": [
          74.62040481092558
         ],
         "mode": "text",
         "showlegend": false,
         "text": "Kyrgyzstan",
         "textfont": {
          "color": "black",
          "size": 8
         },
         "type": "scattergeo"
        },
        {
         "lat": [
          39.09124018017583
         ],
         "lon": [
          59.27543026236141
         ],
         "mode": "text",
         "showlegend": false,
         "text": "Turkmenistan",
         "textfont": {
          "color": "black",
          "size": 8
         },
         "type": "scattergeo"
        },
        {
         "lat": [
          32.51891731762539
         ],
         "lon": [
          54.285451496891426
         ],
         "mode": "text",
         "showlegend": false,
         "text": "Iran",
         "textfont": {
          "color": "black",
          "size": 8
         },
         "type": "scattergeo"
        },
        {
         "lat": [
          35.012614281129
         ],
         "lon": [
          38.54423941961137
         ],
         "mode": "text",
         "showlegend": false,
         "text": "Syria",
         "textfont": {
          "color": "black",
          "size": 8
         },
         "type": "scattergeo"
        },
        {
         "lat": [
          40.21660761230143
         ],
         "lon": [
          45.00029001101479
         ],
         "mode": "text",
         "showlegend": false,
         "text": "Armenia",
         "textfont": {
          "color": "black",
          "size": 8
         },
         "type": "scattergeo"
        },
        {
         "lat": [
          62.811484968080336
         ],
         "lon": [
          16.59626584684802
         ],
         "mode": "text",
         "showlegend": false,
         "text": "Sweden",
         "textfont": {
          "color": "black",
          "size": 8
         },
         "type": "scattergeo"
        },
        {
         "lat": [
          53.50634479481114
         ],
         "lon": [
          27.98135261544803
         ],
         "mode": "text",
         "showlegend": false,
         "text": "Belarus",
         "textfont": {
          "color": "black",
          "size": 8
         },
         "type": "scattergeo"
        },
        {
         "lat": [
          49.14882260840351
         ],
         "lon": [
          31.229122070266495
         ],
         "mode": "text",
         "showlegend": false,
         "text": "Ukraine",
         "textfont": {
          "color": "black",
          "size": 8
         },
         "type": "scattergeo"
        },
        {
         "lat": [
          52.14826021933187
         ],
         "lon": [
          19.31101430844868
         ],
         "mode": "text",
         "showlegend": false,
         "text": "Poland",
         "textfont": {
          "color": "black",
          "size": 8
         },
         "type": "scattergeo"
        },
        {
         "lat": [
          47.6139487927463
         ],
         "lon": [
          14.076158884337072
         ],
         "mode": "text",
         "showlegend": false,
         "text": "Austria",
         "textfont": {
          "color": "black",
          "size": 8
         },
         "type": "scattergeo"
        },
        {
         "lat": [
          47.19995117195427
         ],
         "lon": [
          19.357628627745918
         ],
         "mode": "text",
         "showlegend": false,
         "text": "Hungary",
         "textfont": {
          "color": "black",
          "size": 8
         },
         "type": "scattergeo"
        },
        {
         "lat": [
          47.20367642606752
         ],
         "lon": [
          28.41048279080328
         ],
         "mode": "text",
         "showlegend": false,
         "text": "Moldova",
         "textfont": {
          "color": "black",
          "size": 8
         },
         "type": "scattergeo"
        },
        {
         "lat": [
          45.857101035738005
         ],
         "lon": [
          24.943252494635377
         ],
         "mode": "text",
         "showlegend": false,
         "text": "Romania",
         "textfont": {
          "color": "black",
          "size": 8
         },
         "type": "scattergeo"
        },
        {
         "lat": [
          55.284319484766066
         ],
         "lon": [
          23.88064027584349
         ],
         "mode": "text",
         "showlegend": false,
         "text": "Lithuania",
         "textfont": {
          "color": "black",
          "size": 8
         },
         "type": "scattergeo"
        },
        {
         "lat": [
          56.80717513427924
         ],
         "lon": [
          24.833296149803438
         ],
         "mode": "text",
         "showlegend": false,
         "text": "Latvia",
         "textfont": {
          "color": "black",
          "size": 8
         },
         "type": "scattergeo"
        },
        {
         "lat": [
          58.643695426630906
         ],
         "lon": [
          25.824725613026608
         ],
         "mode": "text",
         "showlegend": false,
         "text": "Estonia",
         "textfont": {
          "color": "black",
          "size": 8
         },
         "type": "scattergeo"
        },
        {
         "lat": [
          51.13372269040778
         ],
         "lon": [
          10.288485092742851
         ],
         "mode": "text",
         "showlegend": false,
         "text": "Germany",
         "textfont": {
          "color": "black",
          "size": 8
         },
         "type": "scattergeo"
        },
        {
         "lat": [
          42.7531187620217
         ],
         "lon": [
          25.19511095327711
         ],
         "mode": "text",
         "showlegend": false,
         "text": "Bulgaria",
         "textfont": {
          "color": "black",
          "size": 8
         },
         "type": "scattergeo"
        },
        {
         "lat": [
          39.066715899713955
         ],
         "lon": [
          22.719813447095053
         ],
         "mode": "text",
         "showlegend": false,
         "text": "Greece",
         "textfont": {
          "color": "black",
          "size": 8
         },
         "type": "scattergeo"
        },
        {
         "lat": [
          39.06837194061471
         ],
         "lon": [
          35.116900150938406
         ],
         "mode": "text",
         "showlegend": false,
         "text": "Turkey",
         "textfont": {
          "color": "black",
          "size": 8
         },
         "type": "scattergeo"
        },
        {
         "lat": [
          41.141353306048785
         ],
         "lon": [
          20.03242643144321
         ],
         "mode": "text",
         "showlegend": false,
         "text": "Albania",
         "textfont": {
          "color": "black",
          "size": 8
         },
         "type": "scattergeo"
        },
        {
         "lat": [
          45.01623399593114
         ],
         "lon": [
          16.566189771645533
         ],
         "mode": "text",
         "showlegend": false,
         "text": "Croatia",
         "textfont": {
          "color": "black",
          "size": 8
         },
         "type": "scattergeo"
        },
        {
         "lat": [
          46.79173768366762
         ],
         "lon": [
          8.118300613385486
         ],
         "mode": "text",
         "showlegend": false,
         "text": "Switzerland",
         "textfont": {
          "color": "black",
          "size": 8
         },
         "type": "scattergeo"
        },
        {
         "lat": [
          49.76570507415103
         ],
         "lon": [
          5.965223432343999
         ],
         "mode": "text",
         "showlegend": false,
         "text": "Luxembourg",
         "textfont": {
          "color": "black",
          "size": 8
         },
         "type": "scattergeo"
        },
        {
         "lat": [
          50.65244095902296
         ],
         "lon": [
          4.580834113854935
         ],
         "mode": "text",
         "showlegend": false,
         "text": "Belgium",
         "textfont": {
          "color": "black",
          "size": 8
         },
         "type": "scattergeo"
        },
        {
         "lat": [
          52.298700374441786
         ],
         "lon": [
          5.512217100965399
         ],
         "mode": "text",
         "showlegend": false,
         "text": "Netherlands",
         "textfont": {
          "color": "black",
          "size": 8
         },
         "type": "scattergeo"
        },
        {
         "lat": [
          39.63404977497817
         ],
         "lon": [
          -8.055765588295687
         ],
         "mode": "text",
         "showlegend": false,
         "text": "Portugal",
         "textfont": {
          "color": "black",
          "size": 8
         },
         "type": "scattergeo"
        },
        {
         "lat": [
          40.348656106226734
         ],
         "lon": [
          -3.6170206023873743
         ],
         "mode": "text",
         "showlegend": false,
         "text": "Spain",
         "textfont": {
          "color": "black",
          "size": 8
         },
         "type": "scattergeo"
        },
        {
         "lat": [
          53.18059120995006
         ],
         "lon": [
          -8.010236544877012
         ],
         "mode": "text",
         "showlegend": false,
         "text": "Ireland",
         "textfont": {
          "color": "black",
          "size": 8
         },
         "type": "scattergeo"
        },
        {
         "lat": [
          -21.26135761252651
         ],
         "lon": [
          165.53447460087543
         ],
         "mode": "text",
         "showlegend": false,
         "text": "New Caledonia",
         "textfont": {
          "color": "black",
          "size": 8
         },
         "type": "scattergeo"
        },
        {
         "lat": [
          -8.852497470848528
         ],
         "lon": [
          159.9666154474296
         ],
         "mode": "text",
         "showlegend": false,
         "text": "Solomon Is.",
         "textfont": {
          "color": "black",
          "size": 8
         },
         "type": "scattergeo"
        },
        {
         "lat": [
          -41.662578757158684
         ],
         "lon": [
          172.70192594405574
         ],
         "mode": "text",
         "showlegend": false,
         "text": "New Zealand",
         "textfont": {
          "color": "black",
          "size": 8
         },
         "type": "scattergeo"
        },
        {
         "lat": [
          -25.730654779726077
         ],
         "lon": [
          134.50277547536595
         ],
         "mode": "text",
         "showlegend": false,
         "text": "Australia",
         "textfont": {
          "color": "black",
          "size": 8
         },
         "type": "scattergeo"
        },
        {
         "lat": [
          7.700534417248105
         ],
         "lon": [
          80.66723574931648
         ],
         "mode": "text",
         "showlegend": false,
         "text": "Sri Lanka",
         "textfont": {
          "color": "black",
          "size": 8
         },
         "type": "scattergeo"
        },
        {
         "lat": [
          36.555066531858685
         ],
         "lon": [
          103.88361230063249
         ],
         "mode": "text",
         "showlegend": false,
         "text": "China",
         "textfont": {
          "color": "black",
          "size": 8
         },
         "type": "scattergeo"
        },
        {
         "lat": [
          23.740964979784938
         ],
         "lon": [
          120.97480073748623
         ],
         "mode": "text",
         "showlegend": false,
         "text": "Taiwan",
         "textfont": {
          "color": "black",
          "size": 8
         },
         "type": "scattergeo"
        },
        {
         "lat": [
          42.751183052964265
         ],
         "lon": [
          12.140788372235871
         ],
         "mode": "text",
         "showlegend": false,
         "text": "Italy",
         "textfont": {
          "color": "black",
          "size": 8
         },
         "type": "scattergeo"
        },
        {
         "lat": [
          56.06393446179454
         ],
         "lon": [
          9.876372937675002
         ],
         "mode": "text",
         "showlegend": false,
         "text": "Denmark",
         "textfont": {
          "color": "black",
          "size": 8
         },
         "type": "scattergeo"
        },
        {
         "lat": [
          53.91477348053706
         ],
         "lon": [
          -2.8531353951805545
         ],
         "mode": "text",
         "showlegend": false,
         "text": "United Kingdom",
         "textfont": {
          "color": "black",
          "size": 8
         },
         "type": "scattergeo"
        },
        {
         "lat": [
          65.07427633529105
         ],
         "lon": [
          -18.761028770831768
         ],
         "mode": "text",
         "showlegend": false,
         "text": "Iceland",
         "textfont": {
          "color": "black",
          "size": 8
         },
         "type": "scattergeo"
        },
        {
         "lat": [
          40.22069054766167
         ],
         "lon": [
          47.553909558006055
         ],
         "mode": "text",
         "showlegend": false,
         "text": "Azerbaijan",
         "textfont": {
          "color": "black",
          "size": 8
         },
         "type": "scattergeo"
        },
        {
         "lat": [
          42.16201501415301
         ],
         "lon": [
          43.48154265409026
         ],
         "mode": "text",
         "showlegend": false,
         "text": "Georgia",
         "textfont": {
          "color": "black",
          "size": 8
         },
         "type": "scattergeo"
        },
        {
         "lat": [
          11.763799362297663
         ],
         "lon": [
          122.90267236988682
         ],
         "mode": "text",
         "showlegend": false,
         "text": "Philippines",
         "textfont": {
          "color": "black",
          "size": 8
         },
         "type": "scattergeo"
        },
        {
         "lat": [
          3.7255884257737155
         ],
         "lon": [
          109.6981484486297
         ],
         "mode": "text",
         "showlegend": false,
         "text": "Malaysia",
         "textfont": {
          "color": "black",
          "size": 8
         },
         "type": "scattergeo"
        },
        {
         "lat": [
          4.690250542520635
         ],
         "lon": [
          114.91510877393951
         ],
         "mode": "text",
         "showlegend": false,
         "text": "Brunei",
         "textfont": {
          "color": "black",
          "size": 8
         },
         "type": "scattergeo"
        },
        {
         "lat": [
          46.12542205901039
         ],
         "lon": [
          14.938152320795732
         ],
         "mode": "text",
         "showlegend": false,
         "text": "Slovenia",
         "textfont": {
          "color": "black",
          "size": 8
         },
         "type": "scattergeo"
        },
        {
         "lat": [
          64.50409403963651
         ],
         "lon": [
          26.211764610296353
         ],
         "mode": "text",
         "showlegend": false,
         "text": "Finland",
         "textfont": {
          "color": "black",
          "size": 8
         },
         "type": "scattergeo"
        },
        {
         "lat": [
          48.7267113517275
         ],
         "lon": [
          19.507657147433708
         ],
         "mode": "text",
         "showlegend": false,
         "text": "Slovakia",
         "textfont": {
          "color": "black",
          "size": 8
         },
         "type": "scattergeo"
        },
        {
         "lat": [
          49.775245294369
         ],
         "lon": [
          15.334558102365815
         ],
         "mode": "text",
         "showlegend": false,
         "text": "Czechia",
         "textfont": {
          "color": "black",
          "size": 8
         },
         "type": "scattergeo"
        },
        {
         "lat": [
          15.427276751412931
         ],
         "lon": [
          38.67818692786484
         ],
         "mode": "text",
         "showlegend": false,
         "text": "Eritrea",
         "textfont": {
          "color": "black",
          "size": 8
         },
         "type": "scattergeo"
        },
        {
         "lat": [
          37.66311081170466
         ],
         "lon": [
          138.06496213270776
         ],
         "mode": "text",
         "showlegend": false,
         "text": "Japan",
         "textfont": {
          "color": "black",
          "size": 8
         },
         "type": "scattergeo"
        },
        {
         "lat": [
          -23.248041946292087
         ],
         "lon": [
          -58.387387833505706
         ],
         "mode": "text",
         "showlegend": false,
         "text": "Paraguay",
         "textfont": {
          "color": "black",
          "size": 8
         },
         "type": "scattergeo"
        },
        {
         "lat": [
          15.913231950143004
         ],
         "lon": [
          47.535044758543485
         ],
         "mode": "text",
         "showlegend": false,
         "text": "Yemen",
         "textfont": {
          "color": "black",
          "size": 8
         },
         "type": "scattergeo"
        },
        {
         "lat": [
          24.123289839105293
         ],
         "lon": [
          44.51636376826477
         ],
         "mode": "text",
         "showlegend": false,
         "text": "Saudi Arabia",
         "textfont": {
          "color": "black",
          "size": 8
         },
         "type": "scattergeo"
        },
        {
         "lat": [
          -80.49198288284343
         ],
         "lon": [
          20.571000569842635
         ],
         "mode": "text",
         "showlegend": false,
         "text": "Antarctica",
         "textfont": {
          "color": "black",
          "size": 8
         },
         "type": "scattergeo"
        },
        {
         "lat": [
          35.273957681259716
         ],
         "lon": [
          33.5582859592249
         ],
         "mode": "text",
         "showlegend": false,
         "text": "N. Cyprus",
         "textfont": {
          "color": "black",
          "size": 8
         },
         "type": "scattergeo"
        },
        {
         "lat": [
          34.90706085094344
         ],
         "lon": [
          33.03955380295407
         ],
         "mode": "text",
         "showlegend": false,
         "text": "Cyprus",
         "textfont": {
          "color": "black",
          "size": 8
         },
         "type": "scattergeo"
        },
        {
         "lat": [
          29.885394698302058
         ],
         "lon": [
          -8.420479544549693
         ],
         "mode": "text",
         "showlegend": false,
         "text": "Morocco",
         "textfont": {
          "color": "black",
          "size": 8
         },
         "type": "scattergeo"
        },
        {
         "lat": [
          26.50661999974957
         ],
         "lon": [
          29.844461513124415
         ],
         "mode": "text",
         "showlegend": false,
         "text": "Egypt",
         "textfont": {
          "color": "black",
          "size": 8
         },
         "type": "scattergeo"
        },
        {
         "lat": [
          26.997460407020338
         ],
         "lon": [
          17.974352779160352
         ],
         "mode": "text",
         "showlegend": false,
         "text": "Libya",
         "textfont": {
          "color": "black",
          "size": 8
         },
         "type": "scattergeo"
        },
        {
         "lat": [
          8.653999188132575
         ],
         "lon": [
          39.551255792937745
         ],
         "mode": "text",
         "showlegend": false,
         "text": "Ethiopia",
         "textfont": {
          "color": "black",
          "size": 8
         },
         "type": "scattergeo"
        },
        {
         "lat": [
          11.773044395533926
         ],
         "lon": [
          42.4980197360445
         ],
         "mode": "text",
         "showlegend": false,
         "text": "Djibouti",
         "textfont": {
          "color": "black",
          "size": 8
         },
         "type": "scattergeo"
        },
        {
         "lat": [
          9.757971805222988
         ],
         "lon": [
          46.23074953490769
         ],
         "mode": "text",
         "showlegend": false,
         "text": "Somaliland",
         "textfont": {
          "color": "black",
          "size": 8
         },
         "type": "scattergeo"
        },
        {
         "lat": [
          1.2954855035097297
         ],
         "lon": [
          32.35755031998686
         ],
         "mode": "text",
         "showlegend": false,
         "text": "Uganda",
         "textfont": {
          "color": "black",
          "size": 8
         },
         "type": "scattergeo"
        },
        {
         "lat": [
          -2.0135144658341346
         ],
         "lon": [
          29.91896392224289
         ],
         "mode": "text",
         "showlegend": false,
         "text": "Rwanda",
         "textfont": {
          "color": "black",
          "size": 8
         },
         "type": "scattergeo"
        },
        {
         "lat": [
          44.1807677629747
         ],
         "lon": [
          17.816883270390086
         ],
         "mode": "text",
         "showlegend": false,
         "text": "Bosnia and Herz.",
         "textfont": {
          "color": "black",
          "size": 8
         },
         "type": "scattergeo"
        },
        {
         "lat": [
          41.60592964714007
         ],
         "lon": [
          21.697903375280845
         ],
         "mode": "text",
         "showlegend": false,
         "text": "North Macedonia",
         "textfont": {
          "color": "black",
          "size": 8
         },
         "type": "scattergeo"
        },
        {
         "lat": [
          44.23303653365162
         ],
         "lon": [
          20.819651926382583
         ],
         "mode": "text",
         "showlegend": false,
         "text": "Serbia",
         "textfont": {
          "color": "black",
          "size": 8
         },
         "type": "scattergeo"
        },
        {
         "lat": [
          42.78903960655908
         ],
         "lon": [
          19.2861817215929
         ],
         "mode": "text",
         "showlegend": false,
         "text": "Montenegro",
         "textfont": {
          "color": "black",
          "size": 8
         },
         "type": "scattergeo"
        },
        {
         "lat": [
          42.579367131816994
         ],
         "lon": [
          20.895355721342227
         ],
         "mode": "text",
         "showlegend": false,
         "text": "Kosovo",
         "textfont": {
          "color": "black",
          "size": 8
         },
         "type": "scattergeo"
        },
        {
         "lat": [
          10.428237089201879
         ],
         "lon": [
          -61.33036691444967
         ],
         "mode": "text",
         "showlegend": false,
         "text": "Trinidad and Tobago",
         "textfont": {
          "color": "black",
          "size": 8
         },
         "type": "scattergeo"
        },
        {
         "lat": [
          7.292890133516845
         ],
         "lon": [
          30.198617582461907
         ],
         "mode": "text",
         "showlegend": false,
         "text": "S. Sudan",
         "textfont": {
          "color": "black",
          "size": 8
         },
         "type": "scattergeo"
        }
       ],
       "layout": {
        "geo": {
         "projection": {
          "type": "natural earth"
         },
         "showcoastlines": true,
         "showframe": false
        },
        "showlegend": true,
        "template": {
         "data": {
          "bar": [
           {
            "error_x": {
             "color": "#2a3f5f"
            },
            "error_y": {
             "color": "#2a3f5f"
            },
            "marker": {
             "line": {
              "color": "#E5ECF6",
              "width": 0.5
             },
             "pattern": {
              "fillmode": "overlay",
              "size": 10,
              "solidity": 0.2
             }
            },
            "type": "bar"
           }
          ],
          "barpolar": [
           {
            "marker": {
             "line": {
              "color": "#E5ECF6",
              "width": 0.5
             },
             "pattern": {
              "fillmode": "overlay",
              "size": 10,
              "solidity": 0.2
             }
            },
            "type": "barpolar"
           }
          ],
          "carpet": [
           {
            "aaxis": {
             "endlinecolor": "#2a3f5f",
             "gridcolor": "white",
             "linecolor": "white",
             "minorgridcolor": "white",
             "startlinecolor": "#2a3f5f"
            },
            "baxis": {
             "endlinecolor": "#2a3f5f",
             "gridcolor": "white",
             "linecolor": "white",
             "minorgridcolor": "white",
             "startlinecolor": "#2a3f5f"
            },
            "type": "carpet"
           }
          ],
          "choropleth": [
           {
            "colorbar": {
             "outlinewidth": 0,
             "ticks": ""
            },
            "type": "choropleth"
           }
          ],
          "contour": [
           {
            "colorbar": {
             "outlinewidth": 0,
             "ticks": ""
            },
            "colorscale": [
             [
              0,
              "#0d0887"
             ],
             [
              0.1111111111111111,
              "#46039f"
             ],
             [
              0.2222222222222222,
              "#7201a8"
             ],
             [
              0.3333333333333333,
              "#9c179e"
             ],
             [
              0.4444444444444444,
              "#bd3786"
             ],
             [
              0.5555555555555556,
              "#d8576b"
             ],
             [
              0.6666666666666666,
              "#ed7953"
             ],
             [
              0.7777777777777778,
              "#fb9f3a"
             ],
             [
              0.8888888888888888,
              "#fdca26"
             ],
             [
              1,
              "#f0f921"
             ]
            ],
            "type": "contour"
           }
          ],
          "contourcarpet": [
           {
            "colorbar": {
             "outlinewidth": 0,
             "ticks": ""
            },
            "type": "contourcarpet"
           }
          ],
          "heatmap": [
           {
            "colorbar": {
             "outlinewidth": 0,
             "ticks": ""
            },
            "colorscale": [
             [
              0,
              "#0d0887"
             ],
             [
              0.1111111111111111,
              "#46039f"
             ],
             [
              0.2222222222222222,
              "#7201a8"
             ],
             [
              0.3333333333333333,
              "#9c179e"
             ],
             [
              0.4444444444444444,
              "#bd3786"
             ],
             [
              0.5555555555555556,
              "#d8576b"
             ],
             [
              0.6666666666666666,
              "#ed7953"
             ],
             [
              0.7777777777777778,
              "#fb9f3a"
             ],
             [
              0.8888888888888888,
              "#fdca26"
             ],
             [
              1,
              "#f0f921"
             ]
            ],
            "type": "heatmap"
           }
          ],
          "heatmapgl": [
           {
            "colorbar": {
             "outlinewidth": 0,
             "ticks": ""
            },
            "colorscale": [
             [
              0,
              "#0d0887"
             ],
             [
              0.1111111111111111,
              "#46039f"
             ],
             [
              0.2222222222222222,
              "#7201a8"
             ],
             [
              0.3333333333333333,
              "#9c179e"
             ],
             [
              0.4444444444444444,
              "#bd3786"
             ],
             [
              0.5555555555555556,
              "#d8576b"
             ],
             [
              0.6666666666666666,
              "#ed7953"
             ],
             [
              0.7777777777777778,
              "#fb9f3a"
             ],
             [
              0.8888888888888888,
              "#fdca26"
             ],
             [
              1,
              "#f0f921"
             ]
            ],
            "type": "heatmapgl"
           }
          ],
          "histogram": [
           {
            "marker": {
             "pattern": {
              "fillmode": "overlay",
              "size": 10,
              "solidity": 0.2
             }
            },
            "type": "histogram"
           }
          ],
          "histogram2d": [
           {
            "colorbar": {
             "outlinewidth": 0,
             "ticks": ""
            },
            "colorscale": [
             [
              0,
              "#0d0887"
             ],
             [
              0.1111111111111111,
              "#46039f"
             ],
             [
              0.2222222222222222,
              "#7201a8"
             ],
             [
              0.3333333333333333,
              "#9c179e"
             ],
             [
              0.4444444444444444,
              "#bd3786"
             ],
             [
              0.5555555555555556,
              "#d8576b"
             ],
             [
              0.6666666666666666,
              "#ed7953"
             ],
             [
              0.7777777777777778,
              "#fb9f3a"
             ],
             [
              0.8888888888888888,
              "#fdca26"
             ],
             [
              1,
              "#f0f921"
             ]
            ],
            "type": "histogram2d"
           }
          ],
          "histogram2dcontour": [
           {
            "colorbar": {
             "outlinewidth": 0,
             "ticks": ""
            },
            "colorscale": [
             [
              0,
              "#0d0887"
             ],
             [
              0.1111111111111111,
              "#46039f"
             ],
             [
              0.2222222222222222,
              "#7201a8"
             ],
             [
              0.3333333333333333,
              "#9c179e"
             ],
             [
              0.4444444444444444,
              "#bd3786"
             ],
             [
              0.5555555555555556,
              "#d8576b"
             ],
             [
              0.6666666666666666,
              "#ed7953"
             ],
             [
              0.7777777777777778,
              "#fb9f3a"
             ],
             [
              0.8888888888888888,
              "#fdca26"
             ],
             [
              1,
              "#f0f921"
             ]
            ],
            "type": "histogram2dcontour"
           }
          ],
          "mesh3d": [
           {
            "colorbar": {
             "outlinewidth": 0,
             "ticks": ""
            },
            "type": "mesh3d"
           }
          ],
          "parcoords": [
           {
            "line": {
             "colorbar": {
              "outlinewidth": 0,
              "ticks": ""
             }
            },
            "type": "parcoords"
           }
          ],
          "pie": [
           {
            "automargin": true,
            "type": "pie"
           }
          ],
          "scatter": [
           {
            "fillpattern": {
             "fillmode": "overlay",
             "size": 10,
             "solidity": 0.2
            },
            "type": "scatter"
           }
          ],
          "scatter3d": [
           {
            "line": {
             "colorbar": {
              "outlinewidth": 0,
              "ticks": ""
             }
            },
            "marker": {
             "colorbar": {
              "outlinewidth": 0,
              "ticks": ""
             }
            },
            "type": "scatter3d"
           }
          ],
          "scattercarpet": [
           {
            "marker": {
             "colorbar": {
              "outlinewidth": 0,
              "ticks": ""
             }
            },
            "type": "scattercarpet"
           }
          ],
          "scattergeo": [
           {
            "marker": {
             "colorbar": {
              "outlinewidth": 0,
              "ticks": ""
             }
            },
            "type": "scattergeo"
           }
          ],
          "scattergl": [
           {
            "marker": {
             "colorbar": {
              "outlinewidth": 0,
              "ticks": ""
             }
            },
            "type": "scattergl"
           }
          ],
          "scattermapbox": [
           {
            "marker": {
             "colorbar": {
              "outlinewidth": 0,
              "ticks": ""
             }
            },
            "type": "scattermapbox"
           }
          ],
          "scatterpolar": [
           {
            "marker": {
             "colorbar": {
              "outlinewidth": 0,
              "ticks": ""
             }
            },
            "type": "scatterpolar"
           }
          ],
          "scatterpolargl": [
           {
            "marker": {
             "colorbar": {
              "outlinewidth": 0,
              "ticks": ""
             }
            },
            "type": "scatterpolargl"
           }
          ],
          "scatterternary": [
           {
            "marker": {
             "colorbar": {
              "outlinewidth": 0,
              "ticks": ""
             }
            },
            "type": "scatterternary"
           }
          ],
          "surface": [
           {
            "colorbar": {
             "outlinewidth": 0,
             "ticks": ""
            },
            "colorscale": [
             [
              0,
              "#0d0887"
             ],
             [
              0.1111111111111111,
              "#46039f"
             ],
             [
              0.2222222222222222,
              "#7201a8"
             ],
             [
              0.3333333333333333,
              "#9c179e"
             ],
             [
              0.4444444444444444,
              "#bd3786"
             ],
             [
              0.5555555555555556,
              "#d8576b"
             ],
             [
              0.6666666666666666,
              "#ed7953"
             ],
             [
              0.7777777777777778,
              "#fb9f3a"
             ],
             [
              0.8888888888888888,
              "#fdca26"
             ],
             [
              1,
              "#f0f921"
             ]
            ],
            "type": "surface"
           }
          ],
          "table": [
           {
            "cells": {
             "fill": {
              "color": "#EBF0F8"
             },
             "line": {
              "color": "white"
             }
            },
            "header": {
             "fill": {
              "color": "#C8D4E3"
             },
             "line": {
              "color": "white"
             }
            },
            "type": "table"
           }
          ]
         },
         "layout": {
          "annotationdefaults": {
           "arrowcolor": "#2a3f5f",
           "arrowhead": 0,
           "arrowwidth": 1
          },
          "autotypenumbers": "strict",
          "coloraxis": {
           "colorbar": {
            "outlinewidth": 0,
            "ticks": ""
           }
          },
          "colorscale": {
           "diverging": [
            [
             0,
             "#8e0152"
            ],
            [
             0.1,
             "#c51b7d"
            ],
            [
             0.2,
             "#de77ae"
            ],
            [
             0.3,
             "#f1b6da"
            ],
            [
             0.4,
             "#fde0ef"
            ],
            [
             0.5,
             "#f7f7f7"
            ],
            [
             0.6,
             "#e6f5d0"
            ],
            [
             0.7,
             "#b8e186"
            ],
            [
             0.8,
             "#7fbc41"
            ],
            [
             0.9,
             "#4d9221"
            ],
            [
             1,
             "#276419"
            ]
           ],
           "sequential": [
            [
             0,
             "#0d0887"
            ],
            [
             0.1111111111111111,
             "#46039f"
            ],
            [
             0.2222222222222222,
             "#7201a8"
            ],
            [
             0.3333333333333333,
             "#9c179e"
            ],
            [
             0.4444444444444444,
             "#bd3786"
            ],
            [
             0.5555555555555556,
             "#d8576b"
            ],
            [
             0.6666666666666666,
             "#ed7953"
            ],
            [
             0.7777777777777778,
             "#fb9f3a"
            ],
            [
             0.8888888888888888,
             "#fdca26"
            ],
            [
             1,
             "#f0f921"
            ]
           ],
           "sequentialminus": [
            [
             0,
             "#0d0887"
            ],
            [
             0.1111111111111111,
             "#46039f"
            ],
            [
             0.2222222222222222,
             "#7201a8"
            ],
            [
             0.3333333333333333,
             "#9c179e"
            ],
            [
             0.4444444444444444,
             "#bd3786"
            ],
            [
             0.5555555555555556,
             "#d8576b"
            ],
            [
             0.6666666666666666,
             "#ed7953"
            ],
            [
             0.7777777777777778,
             "#fb9f3a"
            ],
            [
             0.8888888888888888,
             "#fdca26"
            ],
            [
             1,
             "#f0f921"
            ]
           ]
          },
          "colorway": [
           "#636efa",
           "#EF553B",
           "#00cc96",
           "#ab63fa",
           "#FFA15A",
           "#19d3f3",
           "#FF6692",
           "#B6E880",
           "#FF97FF",
           "#FECB52"
          ],
          "font": {
           "color": "#2a3f5f"
          },
          "geo": {
           "bgcolor": "white",
           "lakecolor": "white",
           "landcolor": "#E5ECF6",
           "showlakes": true,
           "showland": true,
           "subunitcolor": "white"
          },
          "hoverlabel": {
           "align": "left"
          },
          "hovermode": "closest",
          "mapbox": {
           "style": "light"
          },
          "paper_bgcolor": "white",
          "plot_bgcolor": "#E5ECF6",
          "polar": {
           "angularaxis": {
            "gridcolor": "white",
            "linecolor": "white",
            "ticks": ""
           },
           "bgcolor": "#E5ECF6",
           "radialaxis": {
            "gridcolor": "white",
            "linecolor": "white",
            "ticks": ""
           }
          },
          "scene": {
           "xaxis": {
            "backgroundcolor": "#E5ECF6",
            "gridcolor": "white",
            "gridwidth": 2,
            "linecolor": "white",
            "showbackground": true,
            "ticks": "",
            "zerolinecolor": "white"
           },
           "yaxis": {
            "backgroundcolor": "#E5ECF6",
            "gridcolor": "white",
            "gridwidth": 2,
            "linecolor": "white",
            "showbackground": true,
            "ticks": "",
            "zerolinecolor": "white"
           },
           "zaxis": {
            "backgroundcolor": "#E5ECF6",
            "gridcolor": "white",
            "gridwidth": 2,
            "linecolor": "white",
            "showbackground": true,
            "ticks": "",
            "zerolinecolor": "white"
           }
          },
          "shapedefaults": {
           "line": {
            "color": "#2a3f5f"
           }
          },
          "ternary": {
           "aaxis": {
            "gridcolor": "white",
            "linecolor": "white",
            "ticks": ""
           },
           "baxis": {
            "gridcolor": "white",
            "linecolor": "white",
            "ticks": ""
           },
           "bgcolor": "#E5ECF6",
           "caxis": {
            "gridcolor": "white",
            "linecolor": "white",
            "ticks": ""
           }
          },
          "title": {
           "x": 0.05
          },
          "xaxis": {
           "automargin": true,
           "gridcolor": "white",
           "linecolor": "white",
           "ticks": "",
           "title": {
            "standoff": 15
           },
           "zerolinecolor": "white",
           "zerolinewidth": 2
          },
          "yaxis": {
           "automargin": true,
           "gridcolor": "white",
           "linecolor": "white",
           "ticks": "",
           "title": {
            "standoff": 15
           },
           "zerolinecolor": "white",
           "zerolinewidth": 2
          }
         }
        },
        "title": {
         "text": "Flow Map: Exports from Nigeria"
        }
       }
      },
      "text/html": [
       "<div>                            <div id=\"2a0004a1-d09e-4d68-adc6-f602099133c6\" class=\"plotly-graph-div\" style=\"height:525px; width:100%;\"></div>            <script type=\"text/javascript\">                require([\"plotly\"], function(Plotly) {                    window.PLOTLYENV=window.PLOTLYENV || {};                                    if (document.getElementById(\"2a0004a1-d09e-4d68-adc6-f602099133c6\")) {                    Plotly.newPlot(                        \"2a0004a1-d09e-4d68-adc6-f602099133c6\",                        [{\"lat\":[9.548318418209965,26.50661999974957],\"line\":{\"color\":\"green\",\"width\":2},\"locationmode\":\"ISO-3\",\"lon\":[7.995127754089786,29.844461513124415],\"mode\":\"lines\",\"name\":\"Export to EGY\",\"type\":\"scattergeo\"},{\"lat\":[9.548318418209965,26.50661999974957],\"line\":{\"color\":\"green\",\"width\":2},\"locationmode\":\"ISO-3\",\"lon\":[7.995127754089786,29.844461513124415],\"mode\":\"lines\",\"name\":\"Export to EGY\",\"type\":\"scattergeo\"},{\"lat\":[9.548318418209965,26.50661999974957],\"line\":{\"color\":\"green\",\"width\":2},\"locationmode\":\"ISO-3\",\"lon\":[7.995127754089786,29.844461513124415],\"mode\":\"lines\",\"name\":\"Export to EGY\",\"type\":\"scattergeo\"},{\"lat\":[9.548318418209965,-2.8502757110956667],\"line\":{\"color\":\"green\",\"width\":2},\"locationmode\":\"ISO-3\",\"lon\":[7.995127754089786,23.582955831479083],\"mode\":\"lines\",\"name\":\"Export to COD\",\"type\":\"scattergeo\"},{\"lat\":[9.548318418209965,-2.8502757110956667],\"line\":{\"color\":\"green\",\"width\":2},\"locationmode\":\"ISO-3\",\"lon\":[7.995127754089786,23.582955831479083],\"mode\":\"lines\",\"name\":\"Export to COD\",\"type\":\"scattergeo\"},{\"lat\":[9.548318418209965,-2.8502757110956667],\"line\":{\"color\":\"green\",\"width\":2},\"locationmode\":\"ISO-3\",\"lon\":[7.995127754089786,23.582955831479083],\"mode\":\"lines\",\"name\":\"Export to COD\",\"type\":\"scattergeo\"},{\"lat\":[9.548318418209965,-6.257732428506092],\"line\":{\"color\":\"blue\",\"width\":2},\"locationmode\":\"ISO-3\",\"lon\":[7.995127754089786,34.75298985475595],\"mode\":\"lines\",\"name\":\"Export to TZA\",\"type\":\"scattergeo\"},{\"lat\":[9.548318418209965,-6.257732428506092],\"line\":{\"color\":\"green\",\"width\":2},\"locationmode\":\"ISO-3\",\"lon\":[7.995127754089786,34.75298985475595],\"mode\":\"lines\",\"name\":\"Export to TZA\",\"type\":\"scattergeo\"},{\"lat\":[9.548318418209965,-6.257732428506092],\"line\":{\"color\":\"green\",\"width\":2},\"locationmode\":\"ISO-3\",\"lon\":[7.995127754089786,34.75298985475595],\"mode\":\"lines\",\"name\":\"Export to TZA\",\"type\":\"scattergeo\"},{\"lat\":[9.548318418209965,-28.947033259979115],\"line\":{\"color\":\"blue\",\"width\":2},\"locationmode\":\"ISO-3\",\"lon\":[7.995127754089786,25.048013879861678],\"mode\":\"lines\",\"name\":\"Export to ZAF\",\"type\":\"scattergeo\"},{\"lat\":[9.548318418209965,-28.947033259979115],\"line\":{\"color\":\"blue\",\"width\":2},\"locationmode\":\"ISO-3\",\"lon\":[7.995127754089786,25.048013879861678],\"mode\":\"lines\",\"name\":\"Export to ZAF\",\"type\":\"scattergeo\"},{\"lat\":[9.548318418209965,-28.947033259979115],\"line\":{\"color\":\"blue\",\"width\":2},\"locationmode\":\"ISO-3\",\"lon\":[7.995127754089786,25.048013879861678],\"mode\":\"lines\",\"name\":\"Export to ZAF\",\"type\":\"scattergeo\"},{\"lat\":[9.548318418209965,-28.947033259979115],\"line\":{\"color\":\"green\",\"width\":2},\"locationmode\":\"ISO-3\",\"lon\":[7.995127754089786,25.048013879861678],\"mode\":\"lines\",\"name\":\"Export to ZAF\",\"type\":\"scattergeo\"},{\"lat\":[9.548318418209965,-28.947033259979115],\"line\":{\"color\":\"blue\",\"width\":2},\"locationmode\":\"ISO-3\",\"lon\":[7.995127754089786,25.048013879861678],\"mode\":\"lines\",\"name\":\"Export to ZAF\",\"type\":\"scattergeo\"},{\"lat\":[9.548318418209965,-28.947033259979115],\"line\":{\"color\":\"green\",\"width\":2},\"locationmode\":\"ISO-3\",\"lon\":[7.995127754089786,25.048013879861678],\"mode\":\"lines\",\"name\":\"Export to ZAF\",\"type\":\"scattergeo\"},{\"lat\":[9.548318418209965,-28.947033259979115],\"line\":{\"color\":\"green\",\"width\":2},\"locationmode\":\"ISO-3\",\"lon\":[7.995127754089786,25.048013879861678],\"mode\":\"lines\",\"name\":\"Export to ZAF\",\"type\":\"scattergeo\"},{\"lat\":[9.548318418209965,-28.947033259979115],\"line\":{\"color\":\"blue\",\"width\":2},\"locationmode\":\"ISO-3\",\"lon\":[7.995127754089786,25.048013879861678],\"mode\":\"lines\",\"name\":\"Export to ZAF\",\"type\":\"scattergeo\"},{\"lat\":[9.548318418209965,-28.947033259979115],\"line\":{\"color\":\"blue\",\"width\":2},\"locationmode\":\"ISO-3\",\"lon\":[7.995127754089786,25.048013879861678],\"mode\":\"lines\",\"name\":\"Export to ZAF\",\"type\":\"scattergeo\"},{\"lat\":[9.548318418209965,-28.947033259979115],\"line\":{\"color\":\"green\",\"width\":2},\"locationmode\":\"ISO-3\",\"lon\":[7.995127754089786,25.048013879861678],\"mode\":\"lines\",\"name\":\"Export to ZAF\",\"type\":\"scattergeo\"},{\"lat\":[9.548318418209965,-28.947033259979115],\"line\":{\"color\":\"green\",\"width\":2},\"locationmode\":\"ISO-3\",\"lon\":[7.995127754089786,25.048013879861678],\"mode\":\"lines\",\"name\":\"Export to ZAF\",\"type\":\"scattergeo\"},{\"lat\":[9.548318418209965,-28.947033259979115],\"line\":{\"color\":\"green\",\"width\":2},\"locationmode\":\"ISO-3\",\"lon\":[7.995127754089786,25.048013879861678],\"mode\":\"lines\",\"name\":\"Export to ZAF\",\"type\":\"scattergeo\"},{\"lat\":[9.548318418209965,-28.947033259979115],\"line\":{\"color\":\"green\",\"width\":2},\"locationmode\":\"ISO-3\",\"lon\":[7.995127754089786,25.048013879861678],\"mode\":\"lines\",\"name\":\"Export to ZAF\",\"type\":\"scattergeo\"},{\"lat\":[9.548318418209965,-28.947033259979115],\"line\":{\"color\":\"green\",\"width\":2},\"locationmode\":\"ISO-3\",\"lon\":[7.995127754089786,25.048013879861678],\"mode\":\"lines\",\"name\":\"Export to ZAF\",\"type\":\"scattergeo\"},{\"lat\":[9.548318418209965,-28.947033259979115],\"line\":{\"color\":\"green\",\"width\":2},\"locationmode\":\"ISO-3\",\"lon\":[7.995127754089786,25.048013879861678],\"mode\":\"lines\",\"name\":\"Export to ZAF\",\"type\":\"scattergeo\"},{\"lat\":[9.548318418209965,-28.947033259979115],\"line\":{\"color\":\"green\",\"width\":2},\"locationmode\":\"ISO-3\",\"lon\":[7.995127754089786,25.048013879861678],\"mode\":\"lines\",\"name\":\"Export to ZAF\",\"type\":\"scattergeo\"},{\"lat\":[9.548318418209965,-28.947033259979115],\"line\":{\"color\":\"green\",\"width\":2},\"locationmode\":\"ISO-3\",\"lon\":[7.995127754089786,25.048013879861678],\"mode\":\"lines\",\"name\":\"Export to ZAF\",\"type\":\"scattergeo\"},{\"lat\":[9.548318418209965,-28.947033259979115],\"line\":{\"color\":\"blue\",\"width\":2},\"locationmode\":\"ISO-3\",\"lon\":[7.995127754089786,25.048013879861678],\"mode\":\"lines\",\"name\":\"Export to ZAF\",\"type\":\"scattergeo\"},{\"lat\":[9.548318418209965,0.5959662521769523],\"line\":{\"color\":\"green\",\"width\":2},\"locationmode\":\"ISO-3\",\"lon\":[7.995127754089786,37.791555286661385],\"mode\":\"lines\",\"name\":\"Export to KEN\",\"type\":\"scattergeo\"},{\"lat\":[9.548318418209965,0.5959662521769523],\"line\":{\"color\":\"green\",\"width\":2},\"locationmode\":\"ISO-3\",\"lon\":[7.995127754089786,37.791555286661385],\"mode\":\"lines\",\"name\":\"Export to KEN\",\"type\":\"scattergeo\"},{\"lat\":[9.548318418209965,0.5959662521769523],\"line\":{\"color\":\"green\",\"width\":2},\"locationmode\":\"ISO-3\",\"lon\":[7.995127754089786,37.791555286661385],\"mode\":\"lines\",\"name\":\"Export to KEN\",\"type\":\"scattergeo\"},{\"lat\":[9.548318418209965,0.5959662521769523],\"line\":{\"color\":\"green\",\"width\":2},\"locationmode\":\"ISO-3\",\"lon\":[7.995127754089786,37.791555286661385],\"mode\":\"lines\",\"name\":\"Export to KEN\",\"type\":\"scattergeo\"},{\"lat\":[9.548318418209965,1.2954855035097297],\"line\":{\"color\":\"blue\",\"width\":2},\"locationmode\":\"ISO-3\",\"lon\":[7.995127754089786,32.35755031998686],\"mode\":\"lines\",\"name\":\"Export to UGA\",\"type\":\"scattergeo\"},{\"lat\":[9.548318418209965,1.2954855035097297],\"line\":{\"color\":\"green\",\"width\":2},\"locationmode\":\"ISO-3\",\"lon\":[7.995127754089786,32.35755031998686],\"mode\":\"lines\",\"name\":\"Export to UGA\",\"type\":\"scattergeo\"},{\"lat\":[9.548318418209965,1.2954855035097297],\"line\":{\"color\":\"green\",\"width\":2},\"locationmode\":\"ISO-3\",\"lon\":[7.995127754089786,32.35755031998686],\"mode\":\"lines\",\"name\":\"Export to UGA\",\"type\":\"scattergeo\"},{\"lat\":[9.548318418209965,15.990585003116717],\"line\":{\"color\":\"green\",\"width\":2},\"locationmode\":\"ISO-3\",\"lon\":[7.995127754089786,29.862604012257922],\"mode\":\"lines\",\"name\":\"Export to SDN\",\"type\":\"scattergeo\"},{\"lat\":[9.548318418209965,28.185481278657537],\"line\":{\"color\":\"blue\",\"width\":2},\"locationmode\":\"ISO-3\",\"lon\":[7.995127754089786,2.5980477916183444],\"mode\":\"lines\",\"name\":\"Export to DZA\",\"type\":\"scattergeo\"},{\"lat\":[9.548318418209965,28.185481278657537],\"line\":{\"color\":\"green\",\"width\":2},\"locationmode\":\"ISO-3\",\"lon\":[7.995127754089786,2.5980477916183444],\"mode\":\"lines\",\"name\":\"Export to DZA\",\"type\":\"scattergeo\"},{\"lat\":[9.548318418209965,28.185481278657537],\"line\":{\"color\":\"blue\",\"width\":2},\"locationmode\":\"ISO-3\",\"lon\":[7.995127754089786,2.5980477916183444],\"mode\":\"lines\",\"name\":\"Export to DZA\",\"type\":\"scattergeo\"},{\"lat\":[9.548318418209965,28.185481278657537],\"line\":{\"color\":\"blue\",\"width\":2},\"locationmode\":\"ISO-3\",\"lon\":[7.995127754089786,2.5980477916183444],\"mode\":\"lines\",\"name\":\"Export to DZA\",\"type\":\"scattergeo\"},{\"lat\":[9.548318418209965,28.185481278657537],\"line\":{\"color\":\"blue\",\"width\":2},\"locationmode\":\"ISO-3\",\"lon\":[7.995127754089786,2.5980477916183444],\"mode\":\"lines\",\"name\":\"Export to DZA\",\"type\":\"scattergeo\"},{\"lat\":[9.548318418209965,29.885394698302058],\"line\":{\"color\":\"blue\",\"width\":2},\"locationmode\":\"ISO-3\",\"lon\":[7.995127754089786,-8.420479544549693],\"mode\":\"lines\",\"name\":\"Export to MAR\",\"type\":\"scattergeo\"},{\"lat\":[9.548318418209965,29.885394698302058],\"line\":{\"color\":\"blue\",\"width\":2},\"locationmode\":\"ISO-3\",\"lon\":[7.995127754089786,-8.420479544549693],\"mode\":\"lines\",\"name\":\"Export to MAR\",\"type\":\"scattergeo\"},{\"lat\":[9.548318418209965,29.885394698302058],\"line\":{\"color\":\"blue\",\"width\":2},\"locationmode\":\"ISO-3\",\"lon\":[7.995127754089786,-8.420479544549693],\"mode\":\"lines\",\"name\":\"Export to MAR\",\"type\":\"scattergeo\"},{\"lat\":[9.548318418209965,29.885394698302058],\"line\":{\"color\":\"blue\",\"width\":2},\"locationmode\":\"ISO-3\",\"lon\":[7.995127754089786,-8.420479544549693],\"mode\":\"lines\",\"name\":\"Export to MAR\",\"type\":\"scattergeo\"},{\"lat\":[9.548318418209965,29.885394698302058],\"line\":{\"color\":\"blue\",\"width\":2},\"locationmode\":\"ISO-3\",\"lon\":[7.995127754089786,-8.420479544549693],\"mode\":\"lines\",\"name\":\"Export to MAR\",\"type\":\"scattergeo\"},{\"lat\":[9.548318418209965,29.885394698302058],\"line\":{\"color\":\"blue\",\"width\":2},\"locationmode\":\"ISO-3\",\"lon\":[7.995127754089786,-8.420479544549693],\"mode\":\"lines\",\"name\":\"Export to MAR\",\"type\":\"scattergeo\"},{\"lat\":[9.548318418209965,29.885394698302058],\"line\":{\"color\":\"blue\",\"width\":2},\"locationmode\":\"ISO-3\",\"lon\":[7.995127754089786,-8.420479544549693],\"mode\":\"lines\",\"name\":\"Export to MAR\",\"type\":\"scattergeo\"},{\"lat\":[9.548318418209965,29.885394698302058],\"line\":{\"color\":\"green\",\"width\":2},\"locationmode\":\"ISO-3\",\"lon\":[7.995127754089786,-8.420479544549693],\"mode\":\"lines\",\"name\":\"Export to MAR\",\"type\":\"scattergeo\"},{\"lat\":[9.548318418209965,29.885394698302058],\"line\":{\"color\":\"green\",\"width\":2},\"locationmode\":\"ISO-3\",\"lon\":[7.995127754089786,-8.420479544549693],\"mode\":\"lines\",\"name\":\"Export to MAR\",\"type\":\"scattergeo\"},{\"lat\":[9.548318418209965,29.885394698302058],\"line\":{\"color\":\"green\",\"width\":2},\"locationmode\":\"ISO-3\",\"lon\":[7.995127754089786,-8.420479544549693],\"mode\":\"lines\",\"name\":\"Export to MAR\",\"type\":\"scattergeo\"},{\"lat\":[9.548318418209965,29.885394698302058],\"line\":{\"color\":\"blue\",\"width\":2},\"locationmode\":\"ISO-3\",\"lon\":[7.995127754089786,-8.420479544549693],\"mode\":\"lines\",\"name\":\"Export to MAR\",\"type\":\"scattergeo\"},{\"lat\":[9.548318418209965,29.885394698302058],\"line\":{\"color\":\"blue\",\"width\":2},\"locationmode\":\"ISO-3\",\"lon\":[7.995127754089786,-8.420479544549693],\"mode\":\"lines\",\"name\":\"Export to MAR\",\"type\":\"scattergeo\"},{\"lat\":[9.548318418209965,29.885394698302058],\"line\":{\"color\":\"blue\",\"width\":2},\"locationmode\":\"ISO-3\",\"lon\":[7.995127754089786,-8.420479544549693],\"mode\":\"lines\",\"name\":\"Export to MAR\",\"type\":\"scattergeo\"},{\"lat\":[9.548318418209965,29.885394698302058],\"line\":{\"color\":\"blue\",\"width\":2},\"locationmode\":\"ISO-3\",\"lon\":[7.995127754089786,-8.420479544549693],\"mode\":\"lines\",\"name\":\"Export to MAR\",\"type\":\"scattergeo\"},{\"lat\":[9.548318418209965,29.885394698302058],\"line\":{\"color\":\"blue\",\"width\":2},\"locationmode\":\"ISO-3\",\"lon\":[7.995127754089786,-8.420479544549693],\"mode\":\"lines\",\"name\":\"Export to MAR\",\"type\":\"scattergeo\"},{\"lat\":[9.548318418209965,-12.245869036133188],\"line\":{\"color\":\"blue\",\"width\":2},\"locationmode\":\"ISO-3\",\"lon\":[7.995127754089786,17.47057255231345],\"mode\":\"lines\",\"name\":\"Export to AGO\",\"type\":\"scattergeo\"},{\"lat\":[9.548318418209965,-12.245869036133188],\"line\":{\"color\":\"green\",\"width\":2},\"locationmode\":\"ISO-3\",\"lon\":[7.995127754089786,17.47057255231345],\"mode\":\"lines\",\"name\":\"Export to AGO\",\"type\":\"scattergeo\"},{\"lat\":[9.548318418209965,-12.245869036133188],\"line\":{\"color\":\"green\",\"width\":2},\"locationmode\":\"ISO-3\",\"lon\":[7.995127754089786,17.47057255231345],\"mode\":\"lines\",\"name\":\"Export to AGO\",\"type\":\"scattergeo\"},{\"lat\":[9.548318418209965,-12.245869036133188],\"line\":{\"color\":\"green\",\"width\":2},\"locationmode\":\"ISO-3\",\"lon\":[7.995127754089786,17.47057255231345],\"mode\":\"lines\",\"name\":\"Export to AGO\",\"type\":\"scattergeo\"},{\"lat\":[9.548318418209965,-12.245869036133188],\"line\":{\"color\":\"green\",\"width\":2},\"locationmode\":\"ISO-3\",\"lon\":[7.995127754089786,17.47057255231345],\"mode\":\"lines\",\"name\":\"Export to AGO\",\"type\":\"scattergeo\"},{\"lat\":[9.548318418209965,-12.245869036133188],\"line\":{\"color\":\"green\",\"width\":2},\"locationmode\":\"ISO-3\",\"lon\":[7.995127754089786,17.47057255231345],\"mode\":\"lines\",\"name\":\"Export to AGO\",\"type\":\"scattergeo\"},{\"lat\":[9.548318418209965,-12.245869036133188],\"line\":{\"color\":\"green\",\"width\":2},\"locationmode\":\"ISO-3\",\"lon\":[7.995127754089786,17.47057255231345],\"mode\":\"lines\",\"name\":\"Export to AGO\",\"type\":\"scattergeo\"},{\"lat\":[9.548318418209965,-12.245869036133188],\"line\":{\"color\":\"green\",\"width\":2},\"locationmode\":\"ISO-3\",\"lon\":[7.995127754089786,17.47057255231345],\"mode\":\"lines\",\"name\":\"Export to AGO\",\"type\":\"scattergeo\"},{\"lat\":[9.548318418209965,-12.245869036133188],\"line\":{\"color\":\"green\",\"width\":2},\"locationmode\":\"ISO-3\",\"lon\":[7.995127754089786,17.47057255231345],\"mode\":\"lines\",\"name\":\"Export to AGO\",\"type\":\"scattergeo\"},{\"lat\":[9.548318418209965,-12.245869036133188],\"line\":{\"color\":\"blue\",\"width\":2},\"locationmode\":\"ISO-3\",\"lon\":[7.995127754089786,17.47057255231345],\"mode\":\"lines\",\"name\":\"Export to AGO\",\"type\":\"scattergeo\"},{\"lat\":[9.548318418209965,-12.245869036133188],\"line\":{\"color\":\"green\",\"width\":2},\"locationmode\":\"ISO-3\",\"lon\":[7.995127754089786,17.47057255231345],\"mode\":\"lines\",\"name\":\"Export to AGO\",\"type\":\"scattergeo\"},{\"lat\":[9.548318418209965,-12.245869036133188],\"line\":{\"color\":\"green\",\"width\":2},\"locationmode\":\"ISO-3\",\"lon\":[7.995127754089786,17.47057255231345],\"mode\":\"lines\",\"name\":\"Export to AGO\",\"type\":\"scattergeo\"},{\"lat\":[9.548318418209965,-12.245869036133188],\"line\":{\"color\":\"green\",\"width\":2},\"locationmode\":\"ISO-3\",\"lon\":[7.995127754089786,17.47057255231345],\"mode\":\"lines\",\"name\":\"Export to AGO\",\"type\":\"scattergeo\"},{\"lat\":[9.548318418209965,7.928651813099648],\"line\":{\"color\":\"blue\",\"width\":2},\"locationmode\":\"ISO-3\",\"lon\":[7.995127754089786,-1.2369685557063992],\"mode\":\"lines\",\"name\":\"Export to GHA\",\"type\":\"scattergeo\"},{\"lat\":[9.548318418209965,7.928651813099648],\"line\":{\"color\":\"green\",\"width\":2},\"locationmode\":\"ISO-3\",\"lon\":[7.995127754089786,-1.2369685557063992],\"mode\":\"lines\",\"name\":\"Export to GHA\",\"type\":\"scattergeo\"},{\"lat\":[9.548318418209965,7.928651813099648],\"line\":{\"color\":\"green\",\"width\":2},\"locationmode\":\"ISO-3\",\"lon\":[7.995127754089786,-1.2369685557063992],\"mode\":\"lines\",\"name\":\"Export to GHA\",\"type\":\"scattergeo\"},{\"lat\":[9.548318418209965,7.928651813099648],\"line\":{\"color\":\"green\",\"width\":2},\"locationmode\":\"ISO-3\",\"lon\":[7.995127754089786,-1.2369685557063992],\"mode\":\"lines\",\"name\":\"Export to GHA\",\"type\":\"scattergeo\"},{\"lat\":[9.548318418209965,7.928651813099648],\"line\":{\"color\":\"green\",\"width\":2},\"locationmode\":\"ISO-3\",\"lon\":[7.995127754089786,-1.2369685557063992],\"mode\":\"lines\",\"name\":\"Export to GHA\",\"type\":\"scattergeo\"},{\"lat\":[9.548318418209965,7.928651813099648],\"line\":{\"color\":\"green\",\"width\":2},\"locationmode\":\"ISO-3\",\"lon\":[7.995127754089786,-1.2369685557063992],\"mode\":\"lines\",\"name\":\"Export to GHA\",\"type\":\"scattergeo\"},{\"lat\":[9.548318418209965,7.5537550070104915],\"line\":{\"color\":\"green\",\"width\":2},\"locationmode\":\"ISO-3\",\"lon\":[7.995127754089786,-5.6120436452252225],\"mode\":\"lines\",\"name\":\"Export to CIV\",\"type\":\"scattergeo\"},{\"lat\":[9.548318418209965,7.5537550070104915],\"line\":{\"color\":\"green\",\"width\":2},\"locationmode\":\"ISO-3\",\"lon\":[7.995127754089786,-5.6120436452252225],\"mode\":\"lines\",\"name\":\"Export to CIV\",\"type\":\"scattergeo\"},{\"lat\":[9.548318418209965,7.5537550070104915],\"line\":{\"color\":\"green\",\"width\":2},\"locationmode\":\"ISO-3\",\"lon\":[7.995127754089786,-5.6120436452252225],\"mode\":\"lines\",\"name\":\"Export to CIV\",\"type\":\"scattergeo\"},{\"lat\":[9.548318418209965,7.5537550070104915],\"line\":{\"color\":\"green\",\"width\":2},\"locationmode\":\"ISO-3\",\"lon\":[7.995127754089786,-5.6120436452252225],\"mode\":\"lines\",\"name\":\"Export to CIV\",\"type\":\"scattergeo\"},{\"lat\":[9.548318418209965,5.663095287992696],\"line\":{\"color\":\"green\",\"width\":2},\"locationmode\":\"ISO-3\",\"lon\":[7.995127754089786,12.611551546501774],\"mode\":\"lines\",\"name\":\"Export to CMR\",\"type\":\"scattergeo\"},{\"lat\":[9.548318418209965,5.663095287992696],\"line\":{\"color\":\"green\",\"width\":2},\"locationmode\":\"ISO-3\",\"lon\":[7.995127754089786,12.611551546501774],\"mode\":\"lines\",\"name\":\"Export to CMR\",\"type\":\"scattergeo\"},{\"lat\":[9.548318418209965,5.663095287992696],\"line\":{\"color\":\"green\",\"width\":2},\"locationmode\":\"ISO-3\",\"lon\":[7.995127754089786,12.611551546501774],\"mode\":\"lines\",\"name\":\"Export to CMR\",\"type\":\"scattergeo\"},{\"lat\":[9.548318418209965,5.663095287992696],\"line\":{\"color\":\"green\",\"width\":2},\"locationmode\":\"ISO-3\",\"lon\":[7.995127754089786,12.611551546501774],\"mode\":\"lines\",\"name\":\"Export to CMR\",\"type\":\"scattergeo\"},{\"lat\":[9.548318418209965,5.663095287992696],\"line\":{\"color\":\"green\",\"width\":2},\"locationmode\":\"ISO-3\",\"lon\":[7.995127754089786,12.611551546501774],\"mode\":\"lines\",\"name\":\"Export to CMR\",\"type\":\"scattergeo\"},{\"lat\":[9.548318418209965,5.663095287992696],\"line\":{\"color\":\"green\",\"width\":2},\"locationmode\":\"ISO-3\",\"lon\":[7.995127754089786,12.611551546501774],\"mode\":\"lines\",\"name\":\"Export to CMR\",\"type\":\"scattergeo\"},{\"lat\":[9.548318418209965,17.345552814745542],\"line\":{\"color\":\"green\",\"width\":2},\"locationmode\":\"ISO-3\",\"lon\":[7.995127754089786,9.324427099857923],\"mode\":\"lines\",\"name\":\"Export to NER\",\"type\":\"scattergeo\"},{\"lat\":[9.548318418209965,17.345552814745542],\"line\":{\"color\":\"green\",\"width\":2},\"locationmode\":\"ISO-3\",\"lon\":[7.995127754089786,9.324427099857923],\"mode\":\"lines\",\"name\":\"Export to NER\",\"type\":\"scattergeo\"},{\"lat\":[9.548318418209965,17.345552814745542],\"line\":{\"color\":\"green\",\"width\":2},\"locationmode\":\"ISO-3\",\"lon\":[7.995127754089786,9.324427099857923],\"mode\":\"lines\",\"name\":\"Export to NER\",\"type\":\"scattergeo\"},{\"lat\":[9.548318418209965,17.345552814745542],\"line\":{\"color\":\"green\",\"width\":2},\"locationmode\":\"ISO-3\",\"lon\":[7.995127754089786,9.324427099857923],\"mode\":\"lines\",\"name\":\"Export to NER\",\"type\":\"scattergeo\"},{\"lat\":[9.548318418209965,17.345552814745542],\"line\":{\"color\":\"green\",\"width\":2},\"locationmode\":\"ISO-3\",\"lon\":[7.995127754089786,9.324427099857923],\"mode\":\"lines\",\"name\":\"Export to NER\",\"type\":\"scattergeo\"},{\"lat\":[9.548318418209965,17.345552814745542],\"line\":{\"color\":\"green\",\"width\":2},\"locationmode\":\"ISO-3\",\"lon\":[7.995127754089786,9.324427099857923],\"mode\":\"lines\",\"name\":\"Export to NER\",\"type\":\"scattergeo\"},{\"lat\":[9.548318418209965,17.345552814745542],\"line\":{\"color\":\"green\",\"width\":2},\"locationmode\":\"ISO-3\",\"lon\":[7.995127754089786,9.324427099857923],\"mode\":\"lines\",\"name\":\"Export to NER\",\"type\":\"scattergeo\"},{\"lat\":[9.548318418209965,17.345552814745542],\"line\":{\"color\":\"green\",\"width\":2},\"locationmode\":\"ISO-3\",\"lon\":[7.995127754089786,9.324427099857923],\"mode\":\"lines\",\"name\":\"Export to NER\",\"type\":\"scattergeo\"},{\"lat\":[9.548318418209965,17.345552814745542],\"line\":{\"color\":\"green\",\"width\":2},\"locationmode\":\"ISO-3\",\"lon\":[7.995127754089786,9.324427099857923],\"mode\":\"lines\",\"name\":\"Export to NER\",\"type\":\"scattergeo\"},{\"lat\":[9.548318418209965,17.267772061700715],\"line\":{\"color\":\"green\",\"width\":2},\"locationmode\":\"ISO-3\",\"lon\":[7.995127754089786,-3.543294339453343],\"mode\":\"lines\",\"name\":\"Export to MLI\",\"type\":\"scattergeo\"},{\"lat\":[9.548318418209965,12.311650494136712],\"line\":{\"color\":\"green\",\"width\":2},\"locationmode\":\"ISO-3\",\"lon\":[7.995127754089786,-1.77653745205594],\"mode\":\"lines\",\"name\":\"Export to BFA\",\"type\":\"scattergeo\"},{\"lat\":[9.548318418209965,12.311650494136712],\"line\":{\"color\":\"green\",\"width\":2},\"locationmode\":\"ISO-3\",\"lon\":[7.995127754089786,-1.77653745205594],\"mode\":\"lines\",\"name\":\"Export to BFA\",\"type\":\"scattergeo\"},{\"lat\":[9.548318418209965,15.328867399839682],\"line\":{\"color\":\"green\",\"width\":2},\"locationmode\":\"ISO-3\",\"lon\":[7.995127754089786,18.581329525332894],\"mode\":\"lines\",\"name\":\"Export to TCD\",\"type\":\"scattergeo\"},{\"lat\":[9.548318418209965,15.328867399839682],\"line\":{\"color\":\"blue\",\"width\":2},\"locationmode\":\"ISO-3\",\"lon\":[7.995127754089786,18.581329525332894],\"mode\":\"lines\",\"name\":\"Export to TCD\",\"type\":\"scattergeo\"},{\"lat\":[9.548318418209965,15.328867399839682],\"line\":{\"color\":\"green\",\"width\":2},\"locationmode\":\"ISO-3\",\"lon\":[7.995127754089786,18.581329525332894],\"mode\":\"lines\",\"name\":\"Export to TCD\",\"type\":\"scattergeo\"},{\"lat\":[9.548318418209965,15.328867399839682],\"line\":{\"color\":\"green\",\"width\":2},\"locationmode\":\"ISO-3\",\"lon\":[7.995127754089786,18.581329525332894],\"mode\":\"lines\",\"name\":\"Export to TCD\",\"type\":\"scattergeo\"},{\"lat\":[9.548318418209965,14.354139988452022],\"line\":{\"color\":\"green\",\"width\":2},\"locationmode\":\"ISO-3\",\"lon\":[7.995127754089786,-14.50980278585943],\"mode\":\"lines\",\"name\":\"Export to SEN\",\"type\":\"scattergeo\"},{\"lat\":[9.548318418209965,14.354139988452022],\"line\":{\"color\":\"green\",\"width\":2},\"locationmode\":\"ISO-3\",\"lon\":[7.995127754089786,-14.50980278585943],\"mode\":\"lines\",\"name\":\"Export to SEN\",\"type\":\"scattergeo\"},{\"lat\":[9.548318418209965,14.354139988452022],\"line\":{\"color\":\"blue\",\"width\":2},\"locationmode\":\"ISO-3\",\"lon\":[7.995127754089786,-14.50980278585943],\"mode\":\"lines\",\"name\":\"Export to SEN\",\"type\":\"scattergeo\"},{\"lat\":[9.548318418209965,14.354139988452022],\"line\":{\"color\":\"green\",\"width\":2},\"locationmode\":\"ISO-3\",\"lon\":[7.995127754089786,-14.50980278585943],\"mode\":\"lines\",\"name\":\"Export to SEN\",\"type\":\"scattergeo\"},{\"lat\":[9.548318418209965,14.354139988452022],\"line\":{\"color\":\"green\",\"width\":2},\"locationmode\":\"ISO-3\",\"lon\":[7.995127754089786,-14.50980278585943],\"mode\":\"lines\",\"name\":\"Export to SEN\",\"type\":\"scattergeo\"},{\"lat\":[9.548318418209965,14.354139988452022],\"line\":{\"color\":\"green\",\"width\":2},\"locationmode\":\"ISO-3\",\"lon\":[7.995127754089786,-14.50980278585943],\"mode\":\"lines\",\"name\":\"Export to SEN\",\"type\":\"scattergeo\"},{\"lat\":[9.548318418209965,14.354139988452022],\"line\":{\"color\":\"green\",\"width\":2},\"locationmode\":\"ISO-3\",\"lon\":[7.995127754089786,-14.50980278585943],\"mode\":\"lines\",\"name\":\"Export to SEN\",\"type\":\"scattergeo\"},{\"lat\":[9.548318418209965,14.354139988452022],\"line\":{\"color\":\"green\",\"width\":2},\"locationmode\":\"ISO-3\",\"lon\":[7.995127754089786,-14.50980278585943],\"mode\":\"lines\",\"name\":\"Export to SEN\",\"type\":\"scattergeo\"},{\"lat\":[9.548318418209965,14.354139988452022],\"line\":{\"color\":\"green\",\"width\":2},\"locationmode\":\"ISO-3\",\"lon\":[7.995127754089786,-14.50980278585943],\"mode\":\"lines\",\"name\":\"Export to SEN\",\"type\":\"scattergeo\"},{\"lat\":[9.548318418209965,-18.906987947858802],\"line\":{\"color\":\"green\",\"width\":2},\"locationmode\":\"ISO-3\",\"lon\":[7.995127754089786,29.788548371892524],\"mode\":\"lines\",\"name\":\"Export to ZWE\",\"type\":\"scattergeo\"},{\"lat\":[9.548318418209965,10.44827287727134],\"line\":{\"color\":\"blue\",\"width\":2},\"locationmode\":\"ISO-3\",\"lon\":[7.995127754089786,-11.060853741185456],\"mode\":\"lines\",\"name\":\"Export to GIN\",\"type\":\"scattergeo\"},{\"lat\":[9.548318418209965,10.44827287727134],\"line\":{\"color\":\"blue\",\"width\":2},\"locationmode\":\"ISO-3\",\"lon\":[7.995127754089786,-11.060853741185456],\"mode\":\"lines\",\"name\":\"Export to GIN\",\"type\":\"scattergeo\"},{\"lat\":[9.548318418209965,10.44827287727134],\"line\":{\"color\":\"green\",\"width\":2},\"locationmode\":\"ISO-3\",\"lon\":[7.995127754089786,-11.060853741185456],\"mode\":\"lines\",\"name\":\"Export to GIN\",\"type\":\"scattergeo\"},{\"lat\":[9.548318418209965,10.44827287727134],\"line\":{\"color\":\"blue\",\"width\":2},\"locationmode\":\"ISO-3\",\"lon\":[7.995127754089786,-11.060853741185456],\"mode\":\"lines\",\"name\":\"Export to GIN\",\"type\":\"scattergeo\"},{\"lat\":[9.548318418209965,10.44827287727134],\"line\":{\"color\":\"green\",\"width\":2},\"locationmode\":\"ISO-3\",\"lon\":[7.995127754089786,-11.060853741185456],\"mode\":\"lines\",\"name\":\"Export to GIN\",\"type\":\"scattergeo\"},{\"lat\":[9.548318418209965,-2.0135144658341346],\"line\":{\"color\":\"green\",\"width\":2},\"locationmode\":\"ISO-3\",\"lon\":[7.995127754089786,29.91896392224289],\"mode\":\"lines\",\"name\":\"Export to RWA\",\"type\":\"scattergeo\"},{\"lat\":[9.548318418209965,9.647430780663699],\"line\":{\"color\":\"green\",\"width\":2},\"locationmode\":\"ISO-3\",\"lon\":[7.995127754089786,2.337377553496156],\"mode\":\"lines\",\"name\":\"Export to BEN\",\"type\":\"scattergeo\"},{\"lat\":[9.548318418209965,9.647430780663699],\"line\":{\"color\":\"blue\",\"width\":2},\"locationmode\":\"ISO-3\",\"lon\":[7.995127754089786,2.337377553496156],\"mode\":\"lines\",\"name\":\"Export to BEN\",\"type\":\"scattergeo\"},{\"lat\":[9.548318418209965,9.647430780663699],\"line\":{\"color\":\"green\",\"width\":2},\"locationmode\":\"ISO-3\",\"lon\":[7.995127754089786,2.337377553496156],\"mode\":\"lines\",\"name\":\"Export to BEN\",\"type\":\"scattergeo\"},{\"lat\":[9.548318418209965,9.647430780663699],\"line\":{\"color\":\"green\",\"width\":2},\"locationmode\":\"ISO-3\",\"lon\":[7.995127754089786,2.337377553496156],\"mode\":\"lines\",\"name\":\"Export to BEN\",\"type\":\"scattergeo\"},{\"lat\":[9.548318418209965,-3.3773910753554657],\"line\":{\"color\":\"green\",\"width\":2},\"locationmode\":\"ISO-3\",\"lon\":[7.995127754089786,29.91389229542573],\"mode\":\"lines\",\"name\":\"Export to BDI\",\"type\":\"scattergeo\"},{\"lat\":[9.548318418209965,34.172939036882376],\"line\":{\"color\":\"green\",\"width\":2},\"locationmode\":\"ISO-3\",\"lon\":[7.995127754089786,9.534716120695835],\"mode\":\"lines\",\"name\":\"Export to TUN\",\"type\":\"scattergeo\"},{\"lat\":[9.548318418209965,34.172939036882376],\"line\":{\"color\":\"green\",\"width\":2},\"locationmode\":\"ISO-3\",\"lon\":[7.995127754089786,9.534716120695835],\"mode\":\"lines\",\"name\":\"Export to TUN\",\"type\":\"scattergeo\"},{\"lat\":[9.548318418209965,8.439541954669616],\"line\":{\"color\":\"green\",\"width\":2},\"locationmode\":\"ISO-3\",\"lon\":[7.995127754089786,0.9964039436703582],\"mode\":\"lines\",\"name\":\"Export to TGO\",\"type\":\"scattergeo\"},{\"lat\":[9.548318418209965,8.439541954669616],\"line\":{\"color\":\"blue\",\"width\":2},\"locationmode\":\"ISO-3\",\"lon\":[7.995127754089786,0.9964039436703582],\"mode\":\"lines\",\"name\":\"Export to TGO\",\"type\":\"scattergeo\"},{\"lat\":[9.548318418209965,8.439541954669616],\"line\":{\"color\":\"green\",\"width\":2},\"locationmode\":\"ISO-3\",\"lon\":[7.995127754089786,0.9964039436703582],\"mode\":\"lines\",\"name\":\"Export to TGO\",\"type\":\"scattergeo\"},{\"lat\":[9.548318418209965,8.439541954669616],\"line\":{\"color\":\"blue\",\"width\":2},\"locationmode\":\"ISO-3\",\"lon\":[7.995127754089786,0.9964039436703582],\"mode\":\"lines\",\"name\":\"Export to TGO\",\"type\":\"scattergeo\"},{\"lat\":[9.548318418209965,8.53035372615305],\"line\":{\"color\":\"green\",\"width\":2},\"locationmode\":\"ISO-3\",\"lon\":[7.995127754089786,-11.795257428559948],\"mode\":\"lines\",\"name\":\"Export to SLE\",\"type\":\"scattergeo\"},{\"lat\":[9.548318418209965,8.53035372615305],\"line\":{\"color\":\"green\",\"width\":2},\"locationmode\":\"ISO-3\",\"lon\":[7.995127754089786,-11.795257428559948],\"mode\":\"lines\",\"name\":\"Export to SLE\",\"type\":\"scattergeo\"},{\"lat\":[9.548318418209965,8.53035372615305],\"line\":{\"color\":\"green\",\"width\":2},\"locationmode\":\"ISO-3\",\"lon\":[7.995127754089786,-11.795257428559948],\"mode\":\"lines\",\"name\":\"Export to SLE\",\"type\":\"scattergeo\"},{\"lat\":[9.548318418209965,8.53035372615305],\"line\":{\"color\":\"green\",\"width\":2},\"locationmode\":\"ISO-3\",\"lon\":[7.995127754089786,-11.795257428559948],\"mode\":\"lines\",\"name\":\"Export to SLE\",\"type\":\"scattergeo\"},{\"lat\":[9.548318418209965,8.53035372615305],\"line\":{\"color\":\"green\",\"width\":2},\"locationmode\":\"ISO-3\",\"lon\":[7.995127754089786,-11.795257428559948],\"mode\":\"lines\",\"name\":\"Export to SLE\",\"type\":\"scattergeo\"},{\"lat\":[9.548318418209965,8.53035372615305],\"line\":{\"color\":\"green\",\"width\":2},\"locationmode\":\"ISO-3\",\"lon\":[7.995127754089786,-11.795257428559948],\"mode\":\"lines\",\"name\":\"Export to SLE\",\"type\":\"scattergeo\"},{\"lat\":[9.548318418209965,8.53035372615305],\"line\":{\"color\":\"green\",\"width\":2},\"locationmode\":\"ISO-3\",\"lon\":[7.995127754089786,-11.795257428559948],\"mode\":\"lines\",\"name\":\"Export to SLE\",\"type\":\"scattergeo\"},{\"lat\":[9.548318418209965,8.53035372615305],\"line\":{\"color\":\"green\",\"width\":2},\"locationmode\":\"ISO-3\",\"lon\":[7.995127754089786,-11.795257428559948],\"mode\":\"lines\",\"name\":\"Export to SLE\",\"type\":\"scattergeo\"},{\"lat\":[9.548318418209965,8.53035372615305],\"line\":{\"color\":\"green\",\"width\":2},\"locationmode\":\"ISO-3\",\"lon\":[7.995127754089786,-11.795257428559948],\"mode\":\"lines\",\"name\":\"Export to SLE\",\"type\":\"scattergeo\"},{\"lat\":[9.548318418209965,8.53035372615305],\"line\":{\"color\":\"green\",\"width\":2},\"locationmode\":\"ISO-3\",\"lon\":[7.995127754089786,-11.795257428559948],\"mode\":\"lines\",\"name\":\"Export to SLE\",\"type\":\"scattergeo\"},{\"lat\":[9.548318418209965,8.53035372615305],\"line\":{\"color\":\"green\",\"width\":2},\"locationmode\":\"ISO-3\",\"lon\":[7.995127754089786,-11.795257428559948],\"mode\":\"lines\",\"name\":\"Export to SLE\",\"type\":\"scattergeo\"},{\"lat\":[9.548318418209965,6.5427787059213145],\"line\":{\"color\":\"blue\",\"width\":2},\"locationmode\":\"ISO-3\",\"lon\":[7.995127754089786,20.374347291243915],\"mode\":\"lines\",\"name\":\"Export to CAF\",\"type\":\"scattergeo\"},{\"lat\":[9.548318418209965,6.5427787059213145],\"line\":{\"color\":\"green\",\"width\":2},\"locationmode\":\"ISO-3\",\"lon\":[7.995127754089786,20.374347291243915],\"mode\":\"lines\",\"name\":\"Export to CAF\",\"type\":\"scattergeo\"},{\"lat\":[9.548318418209965,6.431619862252993],\"line\":{\"color\":\"green\",\"width\":2},\"locationmode\":\"ISO-3\",\"lon\":[7.995127754089786,-9.410836154371117],\"mode\":\"lines\",\"name\":\"Export to LBR\",\"type\":\"scattergeo\"},{\"lat\":[9.548318418209965,20.20926720635376],\"line\":{\"color\":\"blue\",\"width\":2},\"locationmode\":\"ISO-3\",\"lon\":[7.995127754089786,-10.326396925234992],\"mode\":\"lines\",\"name\":\"Export to MRT\",\"type\":\"scattergeo\"},{\"lat\":[9.548318418209965,20.20926720635376],\"line\":{\"color\":\"blue\",\"width\":2},\"locationmode\":\"ISO-3\",\"lon\":[7.995127754089786,-10.326396925234992],\"mode\":\"lines\",\"name\":\"Export to MRT\",\"type\":\"scattergeo\"},{\"lat\":[9.548318418209965,20.20926720635376],\"line\":{\"color\":\"blue\",\"width\":2},\"locationmode\":\"ISO-3\",\"lon\":[7.995127754089786,-10.326396925234992],\"mode\":\"lines\",\"name\":\"Export to MRT\",\"type\":\"scattergeo\"},{\"lat\":[9.548318418209965,20.20926720635376],\"line\":{\"color\":\"blue\",\"width\":2},\"locationmode\":\"ISO-3\",\"lon\":[7.995127754089786,-10.326396925234992],\"mode\":\"lines\",\"name\":\"Export to MRT\",\"type\":\"scattergeo\"},{\"lat\":[9.548318418209965,20.20926720635376],\"line\":{\"color\":\"green\",\"width\":2},\"locationmode\":\"ISO-3\",\"lon\":[7.995127754089786,-10.326396925234992],\"mode\":\"lines\",\"name\":\"Export to MRT\",\"type\":\"scattergeo\"},{\"lat\":[9.548318418209965,20.20926720635376],\"line\":{\"color\":\"blue\",\"width\":2},\"locationmode\":\"ISO-3\",\"lon\":[7.995127754089786,-10.326396925234992],\"mode\":\"lines\",\"name\":\"Export to MRT\",\"type\":\"scattergeo\"},{\"lat\":[9.548318418209965,20.20926720635376],\"line\":{\"color\":\"blue\",\"width\":2},\"locationmode\":\"ISO-3\",\"lon\":[7.995127754089786,-10.326396925234992],\"mode\":\"lines\",\"name\":\"Export to MRT\",\"type\":\"scattergeo\"},{\"lat\":[9.548318418209965,20.20926720635376],\"line\":{\"color\":\"blue\",\"width\":2},\"locationmode\":\"ISO-3\",\"lon\":[7.995127754089786,-10.326396925234992],\"mode\":\"lines\",\"name\":\"Export to MRT\",\"type\":\"scattergeo\"},{\"lat\":[9.548318418209965,20.20926720635376],\"line\":{\"color\":\"blue\",\"width\":2},\"locationmode\":\"ISO-3\",\"lon\":[7.995127754089786,-10.326396925234992],\"mode\":\"lines\",\"name\":\"Export to MRT\",\"type\":\"scattergeo\"},{\"lat\":[9.548318418209965,20.20926720635376],\"line\":{\"color\":\"blue\",\"width\":2},\"locationmode\":\"ISO-3\",\"lon\":[7.995127754089786,-10.326396925234992],\"mode\":\"lines\",\"name\":\"Export to MRT\",\"type\":\"scattergeo\"},{\"lat\":[9.548318418209965,20.20926720635376],\"line\":{\"color\":\"green\",\"width\":2},\"locationmode\":\"ISO-3\",\"lon\":[7.995127754089786,-10.326396925234992],\"mode\":\"lines\",\"name\":\"Export to MRT\",\"type\":\"scattergeo\"},{\"lat\":[9.548318418209965,20.20926720635376],\"line\":{\"color\":\"green\",\"width\":2},\"locationmode\":\"ISO-3\",\"lon\":[7.995127754089786,-10.326396925234992],\"mode\":\"lines\",\"name\":\"Export to MRT\",\"type\":\"scattergeo\"},{\"lat\":[9.548318418209965,20.20926720635376],\"line\":{\"color\":\"green\",\"width\":2},\"locationmode\":\"ISO-3\",\"lon\":[7.995127754089786,-10.326396925234992],\"mode\":\"lines\",\"name\":\"Export to MRT\",\"type\":\"scattergeo\"},{\"lat\":[9.548318418209965,20.20926720635376],\"line\":{\"color\":\"blue\",\"width\":2},\"locationmode\":\"ISO-3\",\"lon\":[7.995127754089786,-10.326396925234992],\"mode\":\"lines\",\"name\":\"Export to MRT\",\"type\":\"scattergeo\"},{\"lat\":[9.548318418209965,20.20926720635376],\"line\":{\"color\":\"blue\",\"width\":2},\"locationmode\":\"ISO-3\",\"lon\":[7.995127754089786,-10.326396925234992],\"mode\":\"lines\",\"name\":\"Export to MRT\",\"type\":\"scattergeo\"},{\"lat\":[9.548318418209965,20.20926720635376],\"line\":{\"color\":\"blue\",\"width\":2},\"locationmode\":\"ISO-3\",\"lon\":[7.995127754089786,-10.326396925234992],\"mode\":\"lines\",\"name\":\"Export to MRT\",\"type\":\"scattergeo\"},{\"lat\":[9.548318418209965,20.20926720635376],\"line\":{\"color\":\"blue\",\"width\":2},\"locationmode\":\"ISO-3\",\"lon\":[7.995127754089786,-10.326396925234992],\"mode\":\"lines\",\"name\":\"Export to MRT\",\"type\":\"scattergeo\"},{\"lat\":[9.548318418209965,20.20926720635376],\"line\":{\"color\":\"blue\",\"width\":2},\"locationmode\":\"ISO-3\",\"lon\":[7.995127754089786,-10.326396925234992],\"mode\":\"lines\",\"name\":\"Export to MRT\",\"type\":\"scattergeo\"},{\"lat\":[9.548318418209965,15.427276751412931],\"line\":{\"color\":\"green\",\"width\":2},\"locationmode\":\"ISO-3\",\"lon\":[7.995127754089786,38.67818692786484],\"mode\":\"lines\",\"name\":\"Export to ERI\",\"type\":\"scattergeo\"},{\"lat\":[9.548318418209965,13.47533435870166],\"line\":{\"color\":\"green\",\"width\":2},\"locationmode\":\"ISO-3\",\"lon\":[7.995127754089786,-15.431872807730837],\"mode\":\"lines\",\"name\":\"Export to GMB\",\"type\":\"scattergeo\"},{\"lat\":[9.548318418209965,13.47533435870166],\"line\":{\"color\":\"green\",\"width\":2},\"locationmode\":\"ISO-3\",\"lon\":[7.995127754089786,-15.431872807730837],\"mode\":\"lines\",\"name\":\"Export to GMB\",\"type\":\"scattergeo\"},{\"lat\":[9.548318418209965,13.47533435870166],\"line\":{\"color\":\"green\",\"width\":2},\"locationmode\":\"ISO-3\",\"lon\":[7.995127754089786,-15.431872807730837],\"mode\":\"lines\",\"name\":\"Export to GMB\",\"type\":\"scattergeo\"},{\"lat\":[9.548318418209965,13.47533435870166],\"line\":{\"color\":\"blue\",\"width\":2},\"locationmode\":\"ISO-3\",\"lon\":[7.995127754089786,-15.431872807730837],\"mode\":\"lines\",\"name\":\"Export to GMB\",\"type\":\"scattergeo\"},{\"lat\":[9.548318418209965,-22.099711378826413],\"line\":{\"color\":\"blue\",\"width\":2},\"locationmode\":\"ISO-3\",\"lon\":[7.995127754089786,23.773081465789428],\"mode\":\"lines\",\"name\":\"Export to BWA\",\"type\":\"scattergeo\"},{\"lat\":[9.548318418209965,-22.099711378826413],\"line\":{\"color\":\"blue\",\"width\":2},\"locationmode\":\"ISO-3\",\"lon\":[7.995127754089786,23.773081465789428],\"mode\":\"lines\",\"name\":\"Export to BWA\",\"type\":\"scattergeo\"},{\"lat\":[9.548318418209965,-22.099711378826413],\"line\":{\"color\":\"blue\",\"width\":2},\"locationmode\":\"ISO-3\",\"lon\":[7.995127754089786,23.773081465789428],\"mode\":\"lines\",\"name\":\"Export to BWA\",\"type\":\"scattergeo\"},{\"lat\":[9.548318418209965,-22.099711378826413],\"line\":{\"color\":\"blue\",\"width\":2},\"locationmode\":\"ISO-3\",\"lon\":[7.995127754089786,23.773081465789428],\"mode\":\"lines\",\"name\":\"Export to BWA\",\"type\":\"scattergeo\"},{\"lat\":[9.548318418209965,-22.099776931731068],\"line\":{\"color\":\"blue\",\"width\":2},\"locationmode\":\"ISO-3\",\"lon\":[7.995127754089786,17.156168126194093],\"mode\":\"lines\",\"name\":\"Export to NAM\",\"type\":\"scattergeo\"},{\"lat\":[9.548318418209965,-22.099776931731068],\"line\":{\"color\":\"blue\",\"width\":2},\"locationmode\":\"ISO-3\",\"lon\":[7.995127754089786,17.156168126194093],\"mode\":\"lines\",\"name\":\"Export to NAM\",\"type\":\"scattergeo\"},{\"lat\":[9.548318418209965,-22.099776931731068],\"line\":{\"color\":\"green\",\"width\":2},\"locationmode\":\"ISO-3\",\"lon\":[7.995127754089786,17.156168126194093],\"mode\":\"lines\",\"name\":\"Export to NAM\",\"type\":\"scattergeo\"},{\"lat\":[9.548318418209965,-22.099776931731068],\"line\":{\"color\":\"blue\",\"width\":2},\"locationmode\":\"ISO-3\",\"lon\":[7.995127754089786,17.156168126194093],\"mode\":\"lines\",\"name\":\"Export to NAM\",\"type\":\"scattergeo\"},{\"lat\":[9.548318418209965,-22.099776931731068],\"line\":{\"color\":\"blue\",\"width\":2},\"locationmode\":\"ISO-3\",\"lon\":[7.995127754089786,17.156168126194093],\"mode\":\"lines\",\"name\":\"Export to NAM\",\"type\":\"scattergeo\"},{\"lat\":[9.548318418209965,-22.099776931731068],\"line\":{\"color\":\"green\",\"width\":2},\"locationmode\":\"ISO-3\",\"lon\":[7.995127754089786,17.156168126194093],\"mode\":\"lines\",\"name\":\"Export to NAM\",\"type\":\"scattergeo\"},{\"lat\":[9.548318418209965,-0.6470481398040288],\"line\":{\"color\":\"blue\",\"width\":2},\"locationmode\":\"ISO-3\",\"lon\":[7.995127754089786,11.687751174902044],\"mode\":\"lines\",\"name\":\"Export to GAB\",\"type\":\"scattergeo\"},{\"lat\":[9.548318418209965,-0.6470481398040288],\"line\":{\"color\":\"green\",\"width\":2},\"locationmode\":\"ISO-3\",\"lon\":[7.995127754089786,11.687751174902044],\"mode\":\"lines\",\"name\":\"Export to GAB\",\"type\":\"scattergeo\"},{\"lat\":[9.548318418209965,12.022704382325685],\"line\":{\"color\":\"green\",\"width\":2},\"locationmode\":\"ISO-3\",\"lon\":[7.995127754089786,-15.110623751667879],\"mode\":\"lines\",\"name\":\"Export to GNB\",\"type\":\"scattergeo\"},{\"lat\":[9.548318418209965,12.022704382325685],\"line\":{\"color\":\"green\",\"width\":2},\"locationmode\":\"ISO-3\",\"lon\":[7.995127754089786,-15.110623751667879],\"mode\":\"lines\",\"name\":\"Export to GNB\",\"type\":\"scattergeo\"},{\"lat\":[9.548318418209965,12.022704382325685],\"line\":{\"color\":\"green\",\"width\":2},\"locationmode\":\"ISO-3\",\"lon\":[7.995127754089786,-15.110623751667879],\"mode\":\"lines\",\"name\":\"Export to GNB\",\"type\":\"scattergeo\"},{\"lat\":[9.548318418209965,1.6458643199600753],\"line\":{\"color\":\"green\",\"width\":2},\"locationmode\":\"ISO-3\",\"lon\":[7.995127754089786,10.366031325064027],\"mode\":\"lines\",\"name\":\"Export to GNQ\",\"type\":\"scattergeo\"},{\"lat\":[9.548318418209965,null],\"line\":{\"color\":\"blue\",\"width\":2},\"locationmode\":\"ISO-3\",\"lon\":[7.995127754089786,null],\"mode\":\"lines\",\"name\":\"Export to MUS\",\"type\":\"scattergeo\"},{\"lat\":[9.548318418209965,null],\"line\":{\"color\":\"blue\",\"width\":2},\"locationmode\":\"ISO-3\",\"lon\":[7.995127754089786,null],\"mode\":\"lines\",\"name\":\"Export to MUS\",\"type\":\"scattergeo\"},{\"lat\":[9.548318418209965,null],\"line\":{\"color\":\"blue\",\"width\":2},\"locationmode\":\"ISO-3\",\"lon\":[7.995127754089786,null],\"mode\":\"lines\",\"name\":\"Export to MUS\",\"type\":\"scattergeo\"},{\"lat\":[9.548318418209965,null],\"line\":{\"color\":\"blue\",\"width\":2},\"locationmode\":\"ISO-3\",\"lon\":[7.995127754089786,null],\"mode\":\"lines\",\"name\":\"Export to MUS\",\"type\":\"scattergeo\"},{\"lat\":[9.548318418209965,null],\"line\":{\"color\":\"blue\",\"width\":2},\"locationmode\":\"ISO-3\",\"lon\":[7.995127754089786,null],\"mode\":\"lines\",\"name\":\"Export to MUS\",\"type\":\"scattergeo\"},{\"lat\":[9.548318418209965,null],\"line\":{\"color\":\"green\",\"width\":2},\"locationmode\":\"ISO-3\",\"lon\":[7.995127754089786,null],\"mode\":\"lines\",\"name\":\"Export to MUS\",\"type\":\"scattergeo\"},{\"lat\":[9.548318418209965,null],\"line\":{\"color\":\"green\",\"width\":2},\"locationmode\":\"ISO-3\",\"lon\":[7.995127754089786,null],\"mode\":\"lines\",\"name\":\"Export to MUS\",\"type\":\"scattergeo\"},{\"lat\":[9.548318418209965,-26.48985528852001],\"line\":{\"color\":\"blue\",\"width\":2},\"locationmode\":\"ISO-3\",\"lon\":[7.995127754089786,31.39525590206532],\"mode\":\"lines\",\"name\":\"Export to SWZ\",\"type\":\"scattergeo\"},{\"lat\":[9.548318418209965,-26.48985528852001],\"line\":{\"color\":\"blue\",\"width\":2},\"locationmode\":\"ISO-3\",\"lon\":[7.995127754089786,31.39525590206532],\"mode\":\"lines\",\"name\":\"Export to SWZ\",\"type\":\"scattergeo\"},{\"lat\":[9.548318418209965,-26.48985528852001],\"line\":{\"color\":\"green\",\"width\":2},\"locationmode\":\"ISO-3\",\"lon\":[7.995127754089786,31.39525590206532],\"mode\":\"lines\",\"name\":\"Export to SWZ\",\"type\":\"scattergeo\"},{\"lat\":[9.548318418209965,-26.48985528852001],\"line\":{\"color\":\"green\",\"width\":2},\"locationmode\":\"ISO-3\",\"lon\":[7.995127754089786,31.39525590206532],\"mode\":\"lines\",\"name\":\"Export to SWZ\",\"type\":\"scattergeo\"},{\"lat\":[9.548318418209965,-26.48985528852001],\"line\":{\"color\":\"green\",\"width\":2},\"locationmode\":\"ISO-3\",\"lon\":[7.995127754089786,31.39525590206532],\"mode\":\"lines\",\"name\":\"Export to SWZ\",\"type\":\"scattergeo\"},{\"lat\":[9.548318418209965,null],\"line\":{\"color\":\"green\",\"width\":2},\"locationmode\":\"ISO-3\",\"lon\":[7.995127754089786,null],\"mode\":\"lines\",\"name\":\"Export to SYC\",\"type\":\"scattergeo\"},{\"lat\":[9.548318418209965,null],\"line\":{\"color\":\"green\",\"width\":2},\"locationmode\":\"ISO-3\",\"lon\":[7.995127754089786,null],\"mode\":\"lines\",\"name\":\"Export to SYC\",\"type\":\"scattergeo\"},{\"lat\":[9.548318418209965,null],\"line\":{\"color\":\"green\",\"width\":2},\"locationmode\":\"ISO-3\",\"lon\":[7.995127754089786,null],\"mode\":\"lines\",\"name\":\"Export to SYC\",\"type\":\"scattergeo\"},{\"lat\":[9.548318418209965,8.653999188132575],\"line\":{\"color\":\"blue\",\"width\":2},\"locationmode\":\"ISO-3\",\"lon\":[7.995127754089786,39.551255792937745],\"mode\":\"lines\",\"name\":\"Export to ETH\",\"type\":\"scattergeo\"},{\"lat\":[9.548318418209965,8.653999188132575],\"line\":{\"color\":\"green\",\"width\":2},\"locationmode\":\"ISO-3\",\"lon\":[7.995127754089786,39.551255792937745],\"mode\":\"lines\",\"name\":\"Export to ETH\",\"type\":\"scattergeo\"},{\"lat\":[9.548318418209965],\"lon\":[7.995127754089786],\"marker\":{\"color\":\"red\",\"size\":10},\"mode\":\"markers\",\"name\":\"Exporting Country\",\"type\":\"scattergeo\"},{\"hoverinfo\":\"location+z\",\"locationmode\":\"ISO-3\",\"locations\":[\"FJI\",\"TZA\",\"ESH\",\"CAN\",\"USA\",\"KAZ\",\"UZB\",\"PNG\",\"IDN\",\"ARG\",\"CHL\",\"COD\",\"SOM\",\"KEN\",\"SDN\",\"TCD\",\"HTI\",\"DOM\",\"RUS\",\"BHS\",\"FLK\",\"-99\",\"GRL\",\"ATF\",\"TLS\",\"ZAF\",\"LSO\",\"MEX\",\"URY\",\"BRA\",\"BOL\",\"PER\",\"COL\",\"PAN\",\"CRI\",\"NIC\",\"HND\",\"SLV\",\"GTM\",\"BLZ\",\"VEN\",\"GUY\",\"SUR\",\"-99\",\"ECU\",\"PRI\",\"JAM\",\"CUB\",\"ZWE\",\"BWA\",\"NAM\",\"SEN\",\"MLI\",\"MRT\",\"BEN\",\"NER\",\"NGA\",\"CMR\",\"TGO\",\"GHA\",\"CIV\",\"GIN\",\"GNB\",\"LBR\",\"SLE\",\"BFA\",\"CAF\",\"COG\",\"GAB\",\"GNQ\",\"ZMB\",\"MWI\",\"MOZ\",\"SWZ\",\"AGO\",\"BDI\",\"ISR\",\"LBN\",\"MDG\",\"PSE\",\"GMB\",\"TUN\",\"DZA\",\"JOR\",\"ARE\",\"QAT\",\"KWT\",\"IRQ\",\"OMN\",\"VUT\",\"KHM\",\"THA\",\"LAO\",\"MMR\",\"VNM\",\"PRK\",\"KOR\",\"MNG\",\"IND\",\"BGD\",\"BTN\",\"NPL\",\"PAK\",\"AFG\",\"TJK\",\"KGZ\",\"TKM\",\"IRN\",\"SYR\",\"ARM\",\"SWE\",\"BLR\",\"UKR\",\"POL\",\"AUT\",\"HUN\",\"MDA\",\"ROU\",\"LTU\",\"LVA\",\"EST\",\"DEU\",\"BGR\",\"GRC\",\"TUR\",\"ALB\",\"HRV\",\"CHE\",\"LUX\",\"BEL\",\"NLD\",\"PRT\",\"ESP\",\"IRL\",\"NCL\",\"SLB\",\"NZL\",\"AUS\",\"LKA\",\"CHN\",\"TWN\",\"ITA\",\"DNK\",\"GBR\",\"ISL\",\"AZE\",\"GEO\",\"PHL\",\"MYS\",\"BRN\",\"SVN\",\"FIN\",\"SVK\",\"CZE\",\"ERI\",\"JPN\",\"PRY\",\"YEM\",\"SAU\",\"ATA\",\"-99\",\"CYP\",\"MAR\",\"EGY\",\"LBY\",\"ETH\",\"DJI\",\"-99\",\"UGA\",\"RWA\",\"BIH\",\"MKD\",\"SRB\",\"MNE\",\"-99\",\"TTO\",\"SSD\"],\"showscale\":false,\"z\":[1,1,1,1,1,1,1,1,1,1,1,1,1,1,1,1,1,1,1,1,1,1,1,1,1,1,1,1,1,1,1,1,1,1,1,1,1,1,1,1,1,1,1,1,1,1,1,1,1,1,1,1,1,1,1,1,1,1,1,1,1,1,1,1,1,1,1,1,1,1,1,1,1,1,1,1,1,1,1,1,1,1,1,1,1,1,1,1,1,1,1,1,1,1,1,1,1,1,1,1,1,1,1,1,1,1,1,1,1,1,1,1,1,1,1,1,1,1,1,1,1,1,1,1,1,1,1,1,1,1,1,1,1,1,1,1,1,1,1,1,1,1,1,1,1,1,1,1,1,1,1,1,1,1,1,1,1,1,1,1,1,1,1,1,1,1,1,1,1,1,1,1,1,1,1,1,1],\"type\":\"choropleth\"},{\"lat\":[-17.31630942638265],\"lon\":[163.85316464458234],\"mode\":\"text\",\"showlegend\":false,\"text\":\"Fiji\",\"textfont\":{\"color\":\"black\",\"size\":8},\"type\":\"scattergeo\"},{\"lat\":[-6.257732428506092],\"lon\":[34.75298985475595],\"mode\":\"text\",\"showlegend\":false,\"text\":\"Tanzania\",\"textfont\":{\"color\":\"black\",\"size\":8},\"type\":\"scattergeo\"},{\"lat\":[24.291172960208623],\"lon\":[-12.13783111160779],\"mode\":\"text\",\"showlegend\":false,\"text\":\"W. Sahara\",\"textfont\":{\"color\":\"black\",\"size\":8},\"type\":\"scattergeo\"},{\"lat\":[61.46907614534896],\"lon\":[-98.14238137209708],\"mode\":\"text\",\"showlegend\":false,\"text\":\"Canada\",\"textfont\":{\"color\":\"black\",\"size\":8},\"type\":\"scattergeo\"},{\"lat\":[45.70562800215178],\"lon\":[-112.5994359115045],\"mode\":\"text\",\"showlegend\":false,\"text\":\"United States of America\",\"textfont\":{\"color\":\"black\",\"size\":8},\"type\":\"scattergeo\"},{\"lat\":[48.19166075218232],\"lon\":[67.2846109811001],\"mode\":\"text\",\"showlegend\":false,\"text\":\"Kazakhstan\",\"textfont\":{\"color\":\"black\",\"size\":8},\"type\":\"scattergeo\"},{\"lat\":[41.748602664652246],\"lon\":[63.20363952823182],\"mode\":\"text\",\"showlegend\":false,\"text\":\"Uzbekistan\",\"textfont\":{\"color\":\"black\",\"size\":8},\"type\":\"scattergeo\"},{\"lat\":[-6.451644514630347],\"lon\":[145.31757462782247],\"mode\":\"text\",\"showlegend\":false,\"text\":\"Papua New Guinea\",\"textfont\":{\"color\":\"black\",\"size\":8},\"type\":\"scattergeo\"},{\"lat\":[-2.221737936520542],\"lon\":[117.42340756227364],\"mode\":\"text\",\"showlegend\":false,\"text\":\"Indonesia\",\"textfont\":{\"color\":\"black\",\"size\":8},\"type\":\"scattergeo\"},{\"lat\":[-35.4468214894951],\"lon\":[-65.17536077114173],\"mode\":\"text\",\"showlegend\":false,\"text\":\"Argentina\",\"textfont\":{\"color\":\"black\",\"size\":8},\"type\":\"scattergeo\"},{\"lat\":[-39.04701430994844],\"lon\":[-71.5206439451643],\"mode\":\"text\",\"showlegend\":false,\"text\":\"Chile\",\"textfont\":{\"color\":\"black\",\"size\":8},\"type\":\"scattergeo\"},{\"lat\":[-2.8502757110956667],\"lon\":[23.582955831479083],\"mode\":\"text\",\"showlegend\":false,\"text\":\"Dem. Rep. Congo\",\"textfont\":{\"color\":\"black\",\"size\":8},\"type\":\"scattergeo\"},{\"lat\":[4.752347756504953],\"lon\":[45.72670076723565],\"mode\":\"text\",\"showlegend\":false,\"text\":\"Somalia\",\"textfont\":{\"color\":\"black\",\"size\":8},\"type\":\"scattergeo\"},{\"lat\":[0.5959662521769523],\"lon\":[37.791555286661385],\"mode\":\"text\",\"showlegend\":false,\"text\":\"Kenya\",\"textfont\":{\"color\":\"black\",\"size\":8},\"type\":\"scattergeo\"},{\"lat\":[15.990585003116717],\"lon\":[29.862604012257922],\"mode\":\"text\",\"showlegend\":false,\"text\":\"Sudan\",\"textfont\":{\"color\":\"black\",\"size\":8},\"type\":\"scattergeo\"},{\"lat\":[15.328867399839682],\"lon\":[18.581329525332894],\"mode\":\"text\",\"showlegend\":false,\"text\":\"Chad\",\"textfont\":{\"color\":\"black\",\"size\":8},\"type\":\"scattergeo\"},{\"lat\":[18.900700691843337],\"lon\":[-72.65801330535574],\"mode\":\"text\",\"showlegend\":false,\"text\":\"Haiti\",\"textfont\":{\"color\":\"black\",\"size\":8},\"type\":\"scattergeo\"},{\"lat\":[18.884487087982258],\"lon\":[-70.46235845697531],\"mode\":\"text\",\"showlegend\":false,\"text\":\"Dominican Rep.\",\"textfont\":{\"color\":\"black\",\"size\":8},\"type\":\"scattergeo\"},{\"lat\":[61.961663494923],\"lon\":[96.80331818290134],\"mode\":\"text\",\"showlegend\":false,\"text\":\"Russia\",\"textfont\":{\"color\":\"black\",\"size\":8},\"type\":\"scattergeo\"},{\"lat\":[25.515491725336624],\"lon\":[-77.92997080393516],\"mode\":\"text\",\"showlegend\":false,\"text\":\"Bahamas\",\"textfont\":{\"color\":\"black\",\"size\":8},\"type\":\"scattergeo\"},{\"lat\":[-51.71322176551185],\"lon\":[-59.42097279311021],\"mode\":\"text\",\"showlegend\":false,\"text\":\"Falkland Is.\",\"textfont\":{\"color\":\"black\",\"size\":8},\"type\":\"scattergeo\"},{\"lat\":[69.15685630975351],\"lon\":[15.468119955206761],\"mode\":\"text\",\"showlegend\":false,\"text\":\"Norway\",\"textfont\":{\"color\":\"black\",\"size\":8},\"type\":\"scattergeo\"},{\"lat\":[74.77048769398986],\"lon\":[-41.50018111492097],\"mode\":\"text\",\"showlegend\":false,\"text\":\"Greenland\",\"textfont\":{\"color\":\"black\",\"size\":8},\"type\":\"scattergeo\"},{\"lat\":[-49.306454911671985],\"lon\":[69.5315804704237],\"mode\":\"text\",\"showlegend\":false,\"text\":\"Fr. S. Antarctic Lands\",\"textfont\":{\"color\":\"black\",\"size\":8},\"type\":\"scattergeo\"},{\"lat\":[-8.767760362467003],\"lon\":[125.96630027368401],\"mode\":\"text\",\"showlegend\":false,\"text\":\"Timor-Leste\",\"textfont\":{\"color\":\"black\",\"size\":8},\"type\":\"scattergeo\"},{\"lat\":[-28.947033259979115],\"lon\":[25.048013879861678],\"mode\":\"text\",\"showlegend\":false,\"text\":\"South Africa\",\"textfont\":{\"color\":\"black\",\"size\":8},\"type\":\"scattergeo\"},{\"lat\":[-29.625290493692013],\"lon\":[28.170105295170494],\"mode\":\"text\",\"showlegend\":false,\"text\":\"Lesotho\",\"textfont\":{\"color\":\"black\",\"size\":8},\"type\":\"scattergeo\"},{\"lat\":[23.935371902244835],\"lon\":[-102.5763495239869],\"mode\":\"text\",\"showlegend\":false,\"text\":\"Mexico\",\"textfont\":{\"color\":\"black\",\"size\":8},\"type\":\"scattergeo\"},{\"lat\":[-32.780904365230825],\"lon\":[-56.003278666548475],\"mode\":\"text\",\"showlegend\":false,\"text\":\"Uruguay\",\"textfont\":{\"color\":\"black\",\"size\":8},\"type\":\"scattergeo\"},{\"lat\":[-10.806773643498916],\"lon\":[-53.05434003576711],\"mode\":\"text\",\"showlegend\":false,\"text\":\"Brazil\",\"textfont\":{\"color\":\"black\",\"size\":8},\"type\":\"scattergeo\"},{\"lat\":[-16.72898701530584],\"lon\":[-64.64140560603113],\"mode\":\"text\",\"showlegend\":false,\"text\":\"Bolivia\",\"textfont\":{\"color\":\"black\",\"size\":8},\"type\":\"scattergeo\"},{\"lat\":[-9.191562905134553],\"lon\":[-74.39180581684722],\"mode\":\"text\",\"showlegend\":false,\"text\":\"Peru\",\"textfont\":{\"color\":\"black\",\"size\":8},\"type\":\"scattergeo\"},{\"lat\":[3.927213862709704],\"lon\":[-73.07773208697478],\"mode\":\"text\",\"showlegend\":false,\"text\":\"Colombia\",\"textfont\":{\"color\":\"black\",\"size\":8},\"type\":\"scattergeo\"},{\"lat\":[8.530019388864652],\"lon\":[-80.10916483549376],\"mode\":\"text\",\"showlegend\":false,\"text\":\"Panama\",\"textfont\":{\"color\":\"black\",\"size\":8},\"type\":\"scattergeo\"},{\"lat\":[9.965671127464528],\"lon\":[-84.17542309600948],\"mode\":\"text\",\"showlegend\":false,\"text\":\"Costa Rica\",\"textfont\":{\"color\":\"black\",\"size\":8},\"type\":\"scattergeo\"},{\"lat\":[12.848190428036988],\"lon\":[-85.02031850080252],\"mode\":\"text\",\"showlegend\":false,\"text\":\"Nicaragua\",\"textfont\":{\"color\":\"black\",\"size\":8},\"type\":\"scattergeo\"},{\"lat\":[14.822947081652929],\"lon\":[-86.58996383801542],\"mode\":\"text\",\"showlegend\":false,\"text\":\"Honduras\",\"textfont\":{\"color\":\"black\",\"size\":8},\"type\":\"scattergeo\"},{\"lat\":[13.726091625794197],\"lon\":[-88.87290317032377],\"mode\":\"text\",\"showlegend\":false,\"text\":\"El Salvador\",\"textfont\":{\"color\":\"black\",\"size\":8},\"type\":\"scattergeo\"},{\"lat\":[15.699360612026911],\"lon\":[-90.36945836053154],\"mode\":\"text\",\"showlegend\":false,\"text\":\"Guatemala\",\"textfont\":{\"color\":\"black\",\"size\":8},\"type\":\"scattergeo\"},{\"lat\":[17.197089911451545],\"lon\":[-88.70342125299318],\"mode\":\"text\",\"showlegend\":false,\"text\":\"Belize\",\"textfont\":{\"color\":\"black\",\"size\":8},\"type\":\"scattergeo\"},{\"lat\":[7.162132267639002],\"lon\":[-66.16382727830238],\"mode\":\"text\",\"showlegend\":false,\"text\":\"Venezuela\",\"textfont\":{\"color\":\"black\",\"size\":8},\"type\":\"scattergeo\"},{\"lat\":[4.790225375174759],\"lon\":[-58.97120310856251],\"mode\":\"text\",\"showlegend\":false,\"text\":\"Guyana\",\"textfont\":{\"color\":\"black\",\"size\":8},\"type\":\"scattergeo\"},{\"lat\":[4.1200080317588865],\"lon\":[-55.91145629952073],\"mode\":\"text\",\"showlegend\":false,\"text\":\"Suriname\",\"textfont\":{\"color\":\"black\",\"size\":8},\"type\":\"scattergeo\"},{\"lat\":[42.46070432663372],\"lon\":[-2.8766966992706267],\"mode\":\"text\",\"showlegend\":false,\"text\":\"France\",\"textfont\":{\"color\":\"black\",\"size\":8},\"type\":\"scattergeo\"},{\"lat\":[-1.4547717055405804],\"lon\":[-78.38416674608374],\"mode\":\"text\",\"showlegend\":false,\"text\":\"Ecuador\",\"textfont\":{\"color\":\"black\",\"size\":8},\"type\":\"scattergeo\"},{\"lat\":[18.2372245709719],\"lon\":[-66.47922227695507],\"mode\":\"text\",\"showlegend\":false,\"text\":\"Puerto Rico\",\"textfont\":{\"color\":\"black\",\"size\":8},\"type\":\"scattergeo\"},{\"lat\":[18.137636127868436],\"lon\":[-77.32425480164892],\"mode\":\"text\",\"showlegend\":false,\"text\":\"Jamaica\",\"textfont\":{\"color\":\"black\",\"size\":8},\"type\":\"scattergeo\"},{\"lat\":[21.631751541025228],\"lon\":[-78.96068490970256],\"mode\":\"text\",\"showlegend\":false,\"text\":\"Cuba\",\"textfont\":{\"color\":\"black\",\"size\":8},\"type\":\"scattergeo\"},{\"lat\":[-18.906987947858802],\"lon\":[29.788548371892524],\"mode\":\"text\",\"showlegend\":false,\"text\":\"Zimbabwe\",\"textfont\":{\"color\":\"black\",\"size\":8},\"type\":\"scattergeo\"},{\"lat\":[-22.099711378826413],\"lon\":[23.773081465789428],\"mode\":\"text\",\"showlegend\":false,\"text\":\"Botswana\",\"textfont\":{\"color\":\"black\",\"size\":8},\"type\":\"scattergeo\"},{\"lat\":[-22.099776931731068],\"lon\":[17.156168126194093],\"mode\":\"text\",\"showlegend\":false,\"text\":\"Namibia\",\"textfont\":{\"color\":\"black\",\"size\":8},\"type\":\"scattergeo\"},{\"lat\":[14.354139988452022],\"lon\":[-14.50980278585943],\"mode\":\"text\",\"showlegend\":false,\"text\":\"Senegal\",\"textfont\":{\"color\":\"black\",\"size\":8},\"type\":\"scattergeo\"},{\"lat\":[17.267772061700715],\"lon\":[-3.543294339453343],\"mode\":\"text\",\"showlegend\":false,\"text\":\"Mali\",\"textfont\":{\"color\":\"black\",\"size\":8},\"type\":\"scattergeo\"},{\"lat\":[20.20926720635376],\"lon\":[-10.326396925234992],\"mode\":\"text\",\"showlegend\":false,\"text\":\"Mauritania\",\"textfont\":{\"color\":\"black\",\"size\":8},\"type\":\"scattergeo\"},{\"lat\":[9.647430780663699],\"lon\":[2.337377553496156],\"mode\":\"text\",\"showlegend\":false,\"text\":\"Benin\",\"textfont\":{\"color\":\"black\",\"size\":8},\"type\":\"scattergeo\"},{\"lat\":[17.345552814745542],\"lon\":[9.324427099857923],\"mode\":\"text\",\"showlegend\":false,\"text\":\"Niger\",\"textfont\":{\"color\":\"black\",\"size\":8},\"type\":\"scattergeo\"},{\"lat\":[9.548318418209965],\"lon\":[7.995127754089786],\"mode\":\"text\",\"showlegend\":false,\"text\":\"Nigeria\",\"textfont\":{\"color\":\"black\",\"size\":8},\"type\":\"scattergeo\"},{\"lat\":[5.663095287992696],\"lon\":[12.611551546501774],\"mode\":\"text\",\"showlegend\":false,\"text\":\"Cameroon\",\"textfont\":{\"color\":\"black\",\"size\":8},\"type\":\"scattergeo\"},{\"lat\":[8.439541954669616],\"lon\":[0.9964039436703582],\"mode\":\"text\",\"showlegend\":false,\"text\":\"Togo\",\"textfont\":{\"color\":\"black\",\"size\":8},\"type\":\"scattergeo\"},{\"lat\":[7.928651813099648],\"lon\":[-1.2369685557063992],\"mode\":\"text\",\"showlegend\":false,\"text\":\"Ghana\",\"textfont\":{\"color\":\"black\",\"size\":8},\"type\":\"scattergeo\"},{\"lat\":[7.5537550070104915],\"lon\":[-5.6120436452252225],\"mode\":\"text\",\"showlegend\":false,\"text\":\"Côte d'Ivoire\",\"textfont\":{\"color\":\"black\",\"size\":8},\"type\":\"scattergeo\"},{\"lat\":[10.44827287727134],\"lon\":[-11.060853741185456],\"mode\":\"text\",\"showlegend\":false,\"text\":\"Guinea\",\"textfont\":{\"color\":\"black\",\"size\":8},\"type\":\"scattergeo\"},{\"lat\":[12.022704382325685],\"lon\":[-15.110623751667879],\"mode\":\"text\",\"showlegend\":false,\"text\":\"Guinea-Bissau\",\"textfont\":{\"color\":\"black\",\"size\":8},\"type\":\"scattergeo\"},{\"lat\":[6.431619862252993],\"lon\":[-9.410836154371117],\"mode\":\"text\",\"showlegend\":false,\"text\":\"Liberia\",\"textfont\":{\"color\":\"black\",\"size\":8},\"type\":\"scattergeo\"},{\"lat\":[8.53035372615305],\"lon\":[-11.795257428559948],\"mode\":\"text\",\"showlegend\":false,\"text\":\"Sierra Leone\",\"textfont\":{\"color\":\"black\",\"size\":8},\"type\":\"scattergeo\"},{\"lat\":[12.311650494136712],\"lon\":[-1.77653745205594],\"mode\":\"text\",\"showlegend\":false,\"text\":\"Burkina Faso\",\"textfont\":{\"color\":\"black\",\"size\":8},\"type\":\"scattergeo\"},{\"lat\":[6.5427787059213145],\"lon\":[20.374347291243915],\"mode\":\"text\",\"showlegend\":false,\"text\":\"Central African Rep.\",\"textfont\":{\"color\":\"black\",\"size\":8},\"type\":\"scattergeo\"},{\"lat\":[-0.8378010872252886],\"lon\":[15.13446176741353],\"mode\":\"text\",\"showlegend\":false,\"text\":\"Congo\",\"textfont\":{\"color\":\"black\",\"size\":8},\"type\":\"scattergeo\"},{\"lat\":[-0.6470481398040288],\"lon\":[11.687751174902044],\"mode\":\"text\",\"showlegend\":false,\"text\":\"Gabon\",\"textfont\":{\"color\":\"black\",\"size\":8},\"type\":\"scattergeo\"},{\"lat\":[1.6458643199600753],\"lon\":[10.366031325064027],\"mode\":\"text\",\"showlegend\":false,\"text\":\"Eq. Guinea\",\"textfont\":{\"color\":\"black\",\"size\":8},\"type\":\"scattergeo\"},{\"lat\":[-13.395067553524187],\"lon\":[27.727591918760577],\"mode\":\"text\",\"showlegend\":false,\"text\":\"Zambia\",\"textfont\":{\"color\":\"black\",\"size\":8},\"type\":\"scattergeo\"},{\"lat\":[-13.172834992341919],\"lon\":[34.193605326922366],\"mode\":\"text\",\"showlegend\":false,\"text\":\"Malawi\",\"textfont\":{\"color\":\"black\",\"size\":8},\"type\":\"scattergeo\"},{\"lat\":[-17.230448975659677],\"lon\":[35.47261597864435],\"mode\":\"text\",\"showlegend\":false,\"text\":\"Mozambique\",\"textfont\":{\"color\":\"black\",\"size\":8},\"type\":\"scattergeo\"},{\"lat\":[-26.48985528852001],\"lon\":[31.39525590206532],\"mode\":\"text\",\"showlegend\":false,\"text\":\"eSwatini\",\"textfont\":{\"color\":\"black\",\"size\":8},\"type\":\"scattergeo\"},{\"lat\":[-12.245869036133188],\"lon\":[17.47057255231345],\"mode\":\"text\",\"showlegend\":false,\"text\":\"Angola\",\"textfont\":{\"color\":\"black\",\"size\":8},\"type\":\"scattergeo\"},{\"lat\":[-3.3773910753554657],\"lon\":[29.91389229542573],\"mode\":\"text\",\"showlegend\":false,\"text\":\"Burundi\",\"textfont\":{\"color\":\"black\",\"size\":8},\"type\":\"scattergeo\"},{\"lat\":[31.4849193900197],\"lon\":[35.003851206429005],\"mode\":\"text\",\"showlegend\":false,\"text\":\"Israel\",\"textfont\":{\"color\":\"black\",\"size\":8},\"type\":\"scattergeo\"},{\"lat\":[33.91182720781994],\"lon\":[35.87098632001643],\"mode\":\"text\",\"showlegend\":false,\"text\":\"Lebanon\",\"textfont\":{\"color\":\"black\",\"size\":8},\"type\":\"scattergeo\"},{\"lat\":[-19.356114077828778],\"lon\":[46.69117091471639],\"mode\":\"text\",\"showlegend\":false,\"text\":\"Madagascar\",\"textfont\":{\"color\":\"black\",\"size\":8},\"type\":\"scattergeo\"},{\"lat\":[31.94113662241515],\"lon\":[35.27331962289024],\"mode\":\"text\",\"showlegend\":false,\"text\":\"Palestine\",\"textfont\":{\"color\":\"black\",\"size\":8},\"type\":\"scattergeo\"},{\"lat\":[13.47533435870166],\"lon\":[-15.431872807730837],\"mode\":\"text\",\"showlegend\":false,\"text\":\"Gambia\",\"textfont\":{\"color\":\"black\",\"size\":8},\"type\":\"scattergeo\"},{\"lat\":[34.172939036882376],\"lon\":[9.534716120695835],\"mode\":\"text\",\"showlegend\":false,\"text\":\"Tunisia\",\"textfont\":{\"color\":\"black\",\"size\":8},\"type\":\"scattergeo\"},{\"lat\":[28.185481278657537],\"lon\":[2.5980477916183444],\"mode\":\"text\",\"showlegend\":false,\"text\":\"Algeria\",\"textfont\":{\"color\":\"black\",\"size\":8},\"type\":\"scattergeo\"},{\"lat\":[31.245490584748417],\"lon\":[36.77945490632519],\"mode\":\"text\",\"showlegend\":false,\"text\":\"Jordan\",\"textfont\":{\"color\":\"black\",\"size\":8},\"type\":\"scattergeo\"},{\"lat\":[23.86863365334761],\"lon\":[54.20671476159633],\"mode\":\"text\",\"showlegend\":false,\"text\":\"United Arab Emirates\",\"textfont\":{\"color\":\"black\",\"size\":8},\"type\":\"scattergeo\"},{\"lat\":[25.32185097420669],\"lon\":[51.1835025789133],\"mode\":\"text\",\"showlegend\":false,\"text\":\"Qatar\",\"textfont\":{\"color\":\"black\",\"size\":8},\"type\":\"scattergeo\"},{\"lat\":[29.307266634033564],\"lon\":[47.600098887626416],\"mode\":\"text\",\"showlegend\":false,\"text\":\"Kuwait\",\"textfont\":{\"color\":\"black\",\"size\":8},\"type\":\"scattergeo\"},{\"lat\":[33.03682096372491],\"lon\":[43.75691096461423],\"mode\":\"text\",\"showlegend\":false,\"text\":\"Iraq\",\"textfont\":{\"color\":\"black\",\"size\":8},\"type\":\"scattergeo\"},{\"lat\":[20.611174374229545],\"lon\":[56.09867281997542],\"mode\":\"text\",\"showlegend\":false,\"text\":\"Oman\",\"textfont\":{\"color\":\"black\",\"size\":8},\"type\":\"scattergeo\"},{\"lat\":[-15.542677057554924],\"lon\":[167.07375126822674],\"mode\":\"text\",\"showlegend\":false,\"text\":\"Vanuatu\",\"textfont\":{\"color\":\"black\",\"size\":8},\"type\":\"scattergeo\"},{\"lat\":[12.684728629393506],\"lon\":[104.87608532525192],\"mode\":\"text\",\"showlegend\":false,\"text\":\"Cambodia\",\"textfont\":{\"color\":\"black\",\"size\":8},\"type\":\"scattergeo\"},{\"lat\":[15.01697499141648],\"lon\":[101.00613354626108],\"mode\":\"text\",\"showlegend\":false,\"text\":\"Thailand\",\"textfont\":{\"color\":\"black\",\"size\":8},\"type\":\"scattergeo\"},{\"lat\":[18.444978089036088],\"lon\":[103.75025989504465],\"mode\":\"text\",\"showlegend\":false,\"text\":\"Laos\",\"textfont\":{\"color\":\"black\",\"size\":8},\"type\":\"scattergeo\"},{\"lat\":[21.016999873773827],\"lon\":[96.50584094206161],\"mode\":\"text\",\"showlegend\":false,\"text\":\"Myanmar\",\"textfont\":{\"color\":\"black\",\"size\":8},\"type\":\"scattergeo\"},{\"lat\":[16.657937753254938],\"lon\":[106.28584079705195],\"mode\":\"text\",\"showlegend\":false,\"text\":\"Vietnam\",\"textfont\":{\"color\":\"black\",\"size\":8},\"type\":\"scattergeo\"},{\"lat\":[40.14302033650109],\"lon\":[127.16501590888976],\"mode\":\"text\",\"showlegend\":false,\"text\":\"North Korea\",\"textfont\":{\"color\":\"black\",\"size\":8},\"type\":\"scattergeo\"},{\"lat\":[36.42759860415487],\"lon\":[127.8213171283307],\"mode\":\"text\",\"showlegend\":false,\"text\":\"South Korea\",\"textfont\":{\"color\":\"black\",\"size\":8},\"type\":\"scattergeo\"},{\"lat\":[46.82368112626357],\"lon\":[102.94640620846634],\"mode\":\"text\",\"showlegend\":false,\"text\":\"Mongolia\",\"textfont\":{\"color\":\"black\",\"size\":8},\"type\":\"scattergeo\"},{\"lat\":[22.92500640740852],\"lon\":[79.59370376325381],\"mode\":\"text\",\"showlegend\":false,\"text\":\"India\",\"textfont\":{\"color\":\"black\",\"size\":8},\"type\":\"scattergeo\"},{\"lat\":[23.83946179534406],\"lon\":[90.26792827719598],\"mode\":\"text\",\"showlegend\":false,\"text\":\"Bangladesh\",\"textfont\":{\"color\":\"black\",\"size\":8},\"type\":\"scattergeo\"},{\"lat\":[27.427968649102027],\"lon\":[90.4724248062037],\"mode\":\"text\",\"showlegend\":false,\"text\":\"Bhutan\",\"textfont\":{\"color\":\"black\",\"size\":8},\"type\":\"scattergeo\"},{\"lat\":[28.23944001904935],\"lon\":[84.01317367692529],\"mode\":\"text\",\"showlegend\":false,\"text\":\"Nepal\",\"textfont\":{\"color\":\"black\",\"size\":8},\"type\":\"scattergeo\"},{\"lat\":[29.973460025547393],\"lon\":[69.41399806318127],\"mode\":\"text\",\"showlegend\":false,\"text\":\"Pakistan\",\"textfont\":{\"color\":\"black\",\"size\":8},\"type\":\"scattergeo\"},{\"lat\":[33.85639928169076],\"lon\":[66.08669022192831],\"mode\":\"text\",\"showlegend\":false,\"text\":\"Afghanistan\",\"textfont\":{\"color\":\"black\",\"size\":8},\"type\":\"scattergeo\"},{\"lat\":[38.58308146421082],\"lon\":[71.03443504896113],\"mode\":\"text\",\"showlegend\":false,\"text\":\"Tajikistan\",\"textfont\":{\"color\":\"black\",\"size\":8},\"type\":\"scattergeo\"},{\"lat\":[41.50689371318262],\"lon\":[74.62040481092558],\"mode\":\"text\",\"showlegend\":false,\"text\":\"Kyrgyzstan\",\"textfont\":{\"color\":\"black\",\"size\":8},\"type\":\"scattergeo\"},{\"lat\":[39.09124018017583],\"lon\":[59.27543026236141],\"mode\":\"text\",\"showlegend\":false,\"text\":\"Turkmenistan\",\"textfont\":{\"color\":\"black\",\"size\":8},\"type\":\"scattergeo\"},{\"lat\":[32.51891731762539],\"lon\":[54.285451496891426],\"mode\":\"text\",\"showlegend\":false,\"text\":\"Iran\",\"textfont\":{\"color\":\"black\",\"size\":8},\"type\":\"scattergeo\"},{\"lat\":[35.012614281129],\"lon\":[38.54423941961137],\"mode\":\"text\",\"showlegend\":false,\"text\":\"Syria\",\"textfont\":{\"color\":\"black\",\"size\":8},\"type\":\"scattergeo\"},{\"lat\":[40.21660761230143],\"lon\":[45.00029001101479],\"mode\":\"text\",\"showlegend\":false,\"text\":\"Armenia\",\"textfont\":{\"color\":\"black\",\"size\":8},\"type\":\"scattergeo\"},{\"lat\":[62.811484968080336],\"lon\":[16.59626584684802],\"mode\":\"text\",\"showlegend\":false,\"text\":\"Sweden\",\"textfont\":{\"color\":\"black\",\"size\":8},\"type\":\"scattergeo\"},{\"lat\":[53.50634479481114],\"lon\":[27.98135261544803],\"mode\":\"text\",\"showlegend\":false,\"text\":\"Belarus\",\"textfont\":{\"color\":\"black\",\"size\":8},\"type\":\"scattergeo\"},{\"lat\":[49.14882260840351],\"lon\":[31.229122070266495],\"mode\":\"text\",\"showlegend\":false,\"text\":\"Ukraine\",\"textfont\":{\"color\":\"black\",\"size\":8},\"type\":\"scattergeo\"},{\"lat\":[52.14826021933187],\"lon\":[19.31101430844868],\"mode\":\"text\",\"showlegend\":false,\"text\":\"Poland\",\"textfont\":{\"color\":\"black\",\"size\":8},\"type\":\"scattergeo\"},{\"lat\":[47.6139487927463],\"lon\":[14.076158884337072],\"mode\":\"text\",\"showlegend\":false,\"text\":\"Austria\",\"textfont\":{\"color\":\"black\",\"size\":8},\"type\":\"scattergeo\"},{\"lat\":[47.19995117195427],\"lon\":[19.357628627745918],\"mode\":\"text\",\"showlegend\":false,\"text\":\"Hungary\",\"textfont\":{\"color\":\"black\",\"size\":8},\"type\":\"scattergeo\"},{\"lat\":[47.20367642606752],\"lon\":[28.41048279080328],\"mode\":\"text\",\"showlegend\":false,\"text\":\"Moldova\",\"textfont\":{\"color\":\"black\",\"size\":8},\"type\":\"scattergeo\"},{\"lat\":[45.857101035738005],\"lon\":[24.943252494635377],\"mode\":\"text\",\"showlegend\":false,\"text\":\"Romania\",\"textfont\":{\"color\":\"black\",\"size\":8},\"type\":\"scattergeo\"},{\"lat\":[55.284319484766066],\"lon\":[23.88064027584349],\"mode\":\"text\",\"showlegend\":false,\"text\":\"Lithuania\",\"textfont\":{\"color\":\"black\",\"size\":8},\"type\":\"scattergeo\"},{\"lat\":[56.80717513427924],\"lon\":[24.833296149803438],\"mode\":\"text\",\"showlegend\":false,\"text\":\"Latvia\",\"textfont\":{\"color\":\"black\",\"size\":8},\"type\":\"scattergeo\"},{\"lat\":[58.643695426630906],\"lon\":[25.824725613026608],\"mode\":\"text\",\"showlegend\":false,\"text\":\"Estonia\",\"textfont\":{\"color\":\"black\",\"size\":8},\"type\":\"scattergeo\"},{\"lat\":[51.13372269040778],\"lon\":[10.288485092742851],\"mode\":\"text\",\"showlegend\":false,\"text\":\"Germany\",\"textfont\":{\"color\":\"black\",\"size\":8},\"type\":\"scattergeo\"},{\"lat\":[42.7531187620217],\"lon\":[25.19511095327711],\"mode\":\"text\",\"showlegend\":false,\"text\":\"Bulgaria\",\"textfont\":{\"color\":\"black\",\"size\":8},\"type\":\"scattergeo\"},{\"lat\":[39.066715899713955],\"lon\":[22.719813447095053],\"mode\":\"text\",\"showlegend\":false,\"text\":\"Greece\",\"textfont\":{\"color\":\"black\",\"size\":8},\"type\":\"scattergeo\"},{\"lat\":[39.06837194061471],\"lon\":[35.116900150938406],\"mode\":\"text\",\"showlegend\":false,\"text\":\"Turkey\",\"textfont\":{\"color\":\"black\",\"size\":8},\"type\":\"scattergeo\"},{\"lat\":[41.141353306048785],\"lon\":[20.03242643144321],\"mode\":\"text\",\"showlegend\":false,\"text\":\"Albania\",\"textfont\":{\"color\":\"black\",\"size\":8},\"type\":\"scattergeo\"},{\"lat\":[45.01623399593114],\"lon\":[16.566189771645533],\"mode\":\"text\",\"showlegend\":false,\"text\":\"Croatia\",\"textfont\":{\"color\":\"black\",\"size\":8},\"type\":\"scattergeo\"},{\"lat\":[46.79173768366762],\"lon\":[8.118300613385486],\"mode\":\"text\",\"showlegend\":false,\"text\":\"Switzerland\",\"textfont\":{\"color\":\"black\",\"size\":8},\"type\":\"scattergeo\"},{\"lat\":[49.76570507415103],\"lon\":[5.965223432343999],\"mode\":\"text\",\"showlegend\":false,\"text\":\"Luxembourg\",\"textfont\":{\"color\":\"black\",\"size\":8},\"type\":\"scattergeo\"},{\"lat\":[50.65244095902296],\"lon\":[4.580834113854935],\"mode\":\"text\",\"showlegend\":false,\"text\":\"Belgium\",\"textfont\":{\"color\":\"black\",\"size\":8},\"type\":\"scattergeo\"},{\"lat\":[52.298700374441786],\"lon\":[5.512217100965399],\"mode\":\"text\",\"showlegend\":false,\"text\":\"Netherlands\",\"textfont\":{\"color\":\"black\",\"size\":8},\"type\":\"scattergeo\"},{\"lat\":[39.63404977497817],\"lon\":[-8.055765588295687],\"mode\":\"text\",\"showlegend\":false,\"text\":\"Portugal\",\"textfont\":{\"color\":\"black\",\"size\":8},\"type\":\"scattergeo\"},{\"lat\":[40.348656106226734],\"lon\":[-3.6170206023873743],\"mode\":\"text\",\"showlegend\":false,\"text\":\"Spain\",\"textfont\":{\"color\":\"black\",\"size\":8},\"type\":\"scattergeo\"},{\"lat\":[53.18059120995006],\"lon\":[-8.010236544877012],\"mode\":\"text\",\"showlegend\":false,\"text\":\"Ireland\",\"textfont\":{\"color\":\"black\",\"size\":8},\"type\":\"scattergeo\"},{\"lat\":[-21.26135761252651],\"lon\":[165.53447460087543],\"mode\":\"text\",\"showlegend\":false,\"text\":\"New Caledonia\",\"textfont\":{\"color\":\"black\",\"size\":8},\"type\":\"scattergeo\"},{\"lat\":[-8.852497470848528],\"lon\":[159.9666154474296],\"mode\":\"text\",\"showlegend\":false,\"text\":\"Solomon Is.\",\"textfont\":{\"color\":\"black\",\"size\":8},\"type\":\"scattergeo\"},{\"lat\":[-41.662578757158684],\"lon\":[172.70192594405574],\"mode\":\"text\",\"showlegend\":false,\"text\":\"New Zealand\",\"textfont\":{\"color\":\"black\",\"size\":8},\"type\":\"scattergeo\"},{\"lat\":[-25.730654779726077],\"lon\":[134.50277547536595],\"mode\":\"text\",\"showlegend\":false,\"text\":\"Australia\",\"textfont\":{\"color\":\"black\",\"size\":8},\"type\":\"scattergeo\"},{\"lat\":[7.700534417248105],\"lon\":[80.66723574931648],\"mode\":\"text\",\"showlegend\":false,\"text\":\"Sri Lanka\",\"textfont\":{\"color\":\"black\",\"size\":8},\"type\":\"scattergeo\"},{\"lat\":[36.555066531858685],\"lon\":[103.88361230063249],\"mode\":\"text\",\"showlegend\":false,\"text\":\"China\",\"textfont\":{\"color\":\"black\",\"size\":8},\"type\":\"scattergeo\"},{\"lat\":[23.740964979784938],\"lon\":[120.97480073748623],\"mode\":\"text\",\"showlegend\":false,\"text\":\"Taiwan\",\"textfont\":{\"color\":\"black\",\"size\":8},\"type\":\"scattergeo\"},{\"lat\":[42.751183052964265],\"lon\":[12.140788372235871],\"mode\":\"text\",\"showlegend\":false,\"text\":\"Italy\",\"textfont\":{\"color\":\"black\",\"size\":8},\"type\":\"scattergeo\"},{\"lat\":[56.06393446179454],\"lon\":[9.876372937675002],\"mode\":\"text\",\"showlegend\":false,\"text\":\"Denmark\",\"textfont\":{\"color\":\"black\",\"size\":8},\"type\":\"scattergeo\"},{\"lat\":[53.91477348053706],\"lon\":[-2.8531353951805545],\"mode\":\"text\",\"showlegend\":false,\"text\":\"United Kingdom\",\"textfont\":{\"color\":\"black\",\"size\":8},\"type\":\"scattergeo\"},{\"lat\":[65.07427633529105],\"lon\":[-18.761028770831768],\"mode\":\"text\",\"showlegend\":false,\"text\":\"Iceland\",\"textfont\":{\"color\":\"black\",\"size\":8},\"type\":\"scattergeo\"},{\"lat\":[40.22069054766167],\"lon\":[47.553909558006055],\"mode\":\"text\",\"showlegend\":false,\"text\":\"Azerbaijan\",\"textfont\":{\"color\":\"black\",\"size\":8},\"type\":\"scattergeo\"},{\"lat\":[42.16201501415301],\"lon\":[43.48154265409026],\"mode\":\"text\",\"showlegend\":false,\"text\":\"Georgia\",\"textfont\":{\"color\":\"black\",\"size\":8},\"type\":\"scattergeo\"},{\"lat\":[11.763799362297663],\"lon\":[122.90267236988682],\"mode\":\"text\",\"showlegend\":false,\"text\":\"Philippines\",\"textfont\":{\"color\":\"black\",\"size\":8},\"type\":\"scattergeo\"},{\"lat\":[3.7255884257737155],\"lon\":[109.6981484486297],\"mode\":\"text\",\"showlegend\":false,\"text\":\"Malaysia\",\"textfont\":{\"color\":\"black\",\"size\":8},\"type\":\"scattergeo\"},{\"lat\":[4.690250542520635],\"lon\":[114.91510877393951],\"mode\":\"text\",\"showlegend\":false,\"text\":\"Brunei\",\"textfont\":{\"color\":\"black\",\"size\":8},\"type\":\"scattergeo\"},{\"lat\":[46.12542205901039],\"lon\":[14.938152320795732],\"mode\":\"text\",\"showlegend\":false,\"text\":\"Slovenia\",\"textfont\":{\"color\":\"black\",\"size\":8},\"type\":\"scattergeo\"},{\"lat\":[64.50409403963651],\"lon\":[26.211764610296353],\"mode\":\"text\",\"showlegend\":false,\"text\":\"Finland\",\"textfont\":{\"color\":\"black\",\"size\":8},\"type\":\"scattergeo\"},{\"lat\":[48.7267113517275],\"lon\":[19.507657147433708],\"mode\":\"text\",\"showlegend\":false,\"text\":\"Slovakia\",\"textfont\":{\"color\":\"black\",\"size\":8},\"type\":\"scattergeo\"},{\"lat\":[49.775245294369],\"lon\":[15.334558102365815],\"mode\":\"text\",\"showlegend\":false,\"text\":\"Czechia\",\"textfont\":{\"color\":\"black\",\"size\":8},\"type\":\"scattergeo\"},{\"lat\":[15.427276751412931],\"lon\":[38.67818692786484],\"mode\":\"text\",\"showlegend\":false,\"text\":\"Eritrea\",\"textfont\":{\"color\":\"black\",\"size\":8},\"type\":\"scattergeo\"},{\"lat\":[37.66311081170466],\"lon\":[138.06496213270776],\"mode\":\"text\",\"showlegend\":false,\"text\":\"Japan\",\"textfont\":{\"color\":\"black\",\"size\":8},\"type\":\"scattergeo\"},{\"lat\":[-23.248041946292087],\"lon\":[-58.387387833505706],\"mode\":\"text\",\"showlegend\":false,\"text\":\"Paraguay\",\"textfont\":{\"color\":\"black\",\"size\":8},\"type\":\"scattergeo\"},{\"lat\":[15.913231950143004],\"lon\":[47.535044758543485],\"mode\":\"text\",\"showlegend\":false,\"text\":\"Yemen\",\"textfont\":{\"color\":\"black\",\"size\":8},\"type\":\"scattergeo\"},{\"lat\":[24.123289839105293],\"lon\":[44.51636376826477],\"mode\":\"text\",\"showlegend\":false,\"text\":\"Saudi Arabia\",\"textfont\":{\"color\":\"black\",\"size\":8},\"type\":\"scattergeo\"},{\"lat\":[-80.49198288284343],\"lon\":[20.571000569842635],\"mode\":\"text\",\"showlegend\":false,\"text\":\"Antarctica\",\"textfont\":{\"color\":\"black\",\"size\":8},\"type\":\"scattergeo\"},{\"lat\":[35.273957681259716],\"lon\":[33.5582859592249],\"mode\":\"text\",\"showlegend\":false,\"text\":\"N. Cyprus\",\"textfont\":{\"color\":\"black\",\"size\":8},\"type\":\"scattergeo\"},{\"lat\":[34.90706085094344],\"lon\":[33.03955380295407],\"mode\":\"text\",\"showlegend\":false,\"text\":\"Cyprus\",\"textfont\":{\"color\":\"black\",\"size\":8},\"type\":\"scattergeo\"},{\"lat\":[29.885394698302058],\"lon\":[-8.420479544549693],\"mode\":\"text\",\"showlegend\":false,\"text\":\"Morocco\",\"textfont\":{\"color\":\"black\",\"size\":8},\"type\":\"scattergeo\"},{\"lat\":[26.50661999974957],\"lon\":[29.844461513124415],\"mode\":\"text\",\"showlegend\":false,\"text\":\"Egypt\",\"textfont\":{\"color\":\"black\",\"size\":8},\"type\":\"scattergeo\"},{\"lat\":[26.997460407020338],\"lon\":[17.974352779160352],\"mode\":\"text\",\"showlegend\":false,\"text\":\"Libya\",\"textfont\":{\"color\":\"black\",\"size\":8},\"type\":\"scattergeo\"},{\"lat\":[8.653999188132575],\"lon\":[39.551255792937745],\"mode\":\"text\",\"showlegend\":false,\"text\":\"Ethiopia\",\"textfont\":{\"color\":\"black\",\"size\":8},\"type\":\"scattergeo\"},{\"lat\":[11.773044395533926],\"lon\":[42.4980197360445],\"mode\":\"text\",\"showlegend\":false,\"text\":\"Djibouti\",\"textfont\":{\"color\":\"black\",\"size\":8},\"type\":\"scattergeo\"},{\"lat\":[9.757971805222988],\"lon\":[46.23074953490769],\"mode\":\"text\",\"showlegend\":false,\"text\":\"Somaliland\",\"textfont\":{\"color\":\"black\",\"size\":8},\"type\":\"scattergeo\"},{\"lat\":[1.2954855035097297],\"lon\":[32.35755031998686],\"mode\":\"text\",\"showlegend\":false,\"text\":\"Uganda\",\"textfont\":{\"color\":\"black\",\"size\":8},\"type\":\"scattergeo\"},{\"lat\":[-2.0135144658341346],\"lon\":[29.91896392224289],\"mode\":\"text\",\"showlegend\":false,\"text\":\"Rwanda\",\"textfont\":{\"color\":\"black\",\"size\":8},\"type\":\"scattergeo\"},{\"lat\":[44.1807677629747],\"lon\":[17.816883270390086],\"mode\":\"text\",\"showlegend\":false,\"text\":\"Bosnia and Herz.\",\"textfont\":{\"color\":\"black\",\"size\":8},\"type\":\"scattergeo\"},{\"lat\":[41.60592964714007],\"lon\":[21.697903375280845],\"mode\":\"text\",\"showlegend\":false,\"text\":\"North Macedonia\",\"textfont\":{\"color\":\"black\",\"size\":8},\"type\":\"scattergeo\"},{\"lat\":[44.23303653365162],\"lon\":[20.819651926382583],\"mode\":\"text\",\"showlegend\":false,\"text\":\"Serbia\",\"textfont\":{\"color\":\"black\",\"size\":8},\"type\":\"scattergeo\"},{\"lat\":[42.78903960655908],\"lon\":[19.2861817215929],\"mode\":\"text\",\"showlegend\":false,\"text\":\"Montenegro\",\"textfont\":{\"color\":\"black\",\"size\":8},\"type\":\"scattergeo\"},{\"lat\":[42.579367131816994],\"lon\":[20.895355721342227],\"mode\":\"text\",\"showlegend\":false,\"text\":\"Kosovo\",\"textfont\":{\"color\":\"black\",\"size\":8},\"type\":\"scattergeo\"},{\"lat\":[10.428237089201879],\"lon\":[-61.33036691444967],\"mode\":\"text\",\"showlegend\":false,\"text\":\"Trinidad and Tobago\",\"textfont\":{\"color\":\"black\",\"size\":8},\"type\":\"scattergeo\"},{\"lat\":[7.292890133516845],\"lon\":[30.198617582461907],\"mode\":\"text\",\"showlegend\":false,\"text\":\"S. Sudan\",\"textfont\":{\"color\":\"black\",\"size\":8},\"type\":\"scattergeo\"}],                        {\"template\":{\"data\":{\"histogram2dcontour\":[{\"type\":\"histogram2dcontour\",\"colorbar\":{\"outlinewidth\":0,\"ticks\":\"\"},\"colorscale\":[[0.0,\"#0d0887\"],[0.1111111111111111,\"#46039f\"],[0.2222222222222222,\"#7201a8\"],[0.3333333333333333,\"#9c179e\"],[0.4444444444444444,\"#bd3786\"],[0.5555555555555556,\"#d8576b\"],[0.6666666666666666,\"#ed7953\"],[0.7777777777777778,\"#fb9f3a\"],[0.8888888888888888,\"#fdca26\"],[1.0,\"#f0f921\"]]}],\"choropleth\":[{\"type\":\"choropleth\",\"colorbar\":{\"outlinewidth\":0,\"ticks\":\"\"}}],\"histogram2d\":[{\"type\":\"histogram2d\",\"colorbar\":{\"outlinewidth\":0,\"ticks\":\"\"},\"colorscale\":[[0.0,\"#0d0887\"],[0.1111111111111111,\"#46039f\"],[0.2222222222222222,\"#7201a8\"],[0.3333333333333333,\"#9c179e\"],[0.4444444444444444,\"#bd3786\"],[0.5555555555555556,\"#d8576b\"],[0.6666666666666666,\"#ed7953\"],[0.7777777777777778,\"#fb9f3a\"],[0.8888888888888888,\"#fdca26\"],[1.0,\"#f0f921\"]]}],\"heatmap\":[{\"type\":\"heatmap\",\"colorbar\":{\"outlinewidth\":0,\"ticks\":\"\"},\"colorscale\":[[0.0,\"#0d0887\"],[0.1111111111111111,\"#46039f\"],[0.2222222222222222,\"#7201a8\"],[0.3333333333333333,\"#9c179e\"],[0.4444444444444444,\"#bd3786\"],[0.5555555555555556,\"#d8576b\"],[0.6666666666666666,\"#ed7953\"],[0.7777777777777778,\"#fb9f3a\"],[0.8888888888888888,\"#fdca26\"],[1.0,\"#f0f921\"]]}],\"heatmapgl\":[{\"type\":\"heatmapgl\",\"colorbar\":{\"outlinewidth\":0,\"ticks\":\"\"},\"colorscale\":[[0.0,\"#0d0887\"],[0.1111111111111111,\"#46039f\"],[0.2222222222222222,\"#7201a8\"],[0.3333333333333333,\"#9c179e\"],[0.4444444444444444,\"#bd3786\"],[0.5555555555555556,\"#d8576b\"],[0.6666666666666666,\"#ed7953\"],[0.7777777777777778,\"#fb9f3a\"],[0.8888888888888888,\"#fdca26\"],[1.0,\"#f0f921\"]]}],\"contourcarpet\":[{\"type\":\"contourcarpet\",\"colorbar\":{\"outlinewidth\":0,\"ticks\":\"\"}}],\"contour\":[{\"type\":\"contour\",\"colorbar\":{\"outlinewidth\":0,\"ticks\":\"\"},\"colorscale\":[[0.0,\"#0d0887\"],[0.1111111111111111,\"#46039f\"],[0.2222222222222222,\"#7201a8\"],[0.3333333333333333,\"#9c179e\"],[0.4444444444444444,\"#bd3786\"],[0.5555555555555556,\"#d8576b\"],[0.6666666666666666,\"#ed7953\"],[0.7777777777777778,\"#fb9f3a\"],[0.8888888888888888,\"#fdca26\"],[1.0,\"#f0f921\"]]}],\"surface\":[{\"type\":\"surface\",\"colorbar\":{\"outlinewidth\":0,\"ticks\":\"\"},\"colorscale\":[[0.0,\"#0d0887\"],[0.1111111111111111,\"#46039f\"],[0.2222222222222222,\"#7201a8\"],[0.3333333333333333,\"#9c179e\"],[0.4444444444444444,\"#bd3786\"],[0.5555555555555556,\"#d8576b\"],[0.6666666666666666,\"#ed7953\"],[0.7777777777777778,\"#fb9f3a\"],[0.8888888888888888,\"#fdca26\"],[1.0,\"#f0f921\"]]}],\"mesh3d\":[{\"type\":\"mesh3d\",\"colorbar\":{\"outlinewidth\":0,\"ticks\":\"\"}}],\"scatter\":[{\"fillpattern\":{\"fillmode\":\"overlay\",\"size\":10,\"solidity\":0.2},\"type\":\"scatter\"}],\"parcoords\":[{\"type\":\"parcoords\",\"line\":{\"colorbar\":{\"outlinewidth\":0,\"ticks\":\"\"}}}],\"scatterpolargl\":[{\"type\":\"scatterpolargl\",\"marker\":{\"colorbar\":{\"outlinewidth\":0,\"ticks\":\"\"}}}],\"bar\":[{\"error_x\":{\"color\":\"#2a3f5f\"},\"error_y\":{\"color\":\"#2a3f5f\"},\"marker\":{\"line\":{\"color\":\"#E5ECF6\",\"width\":0.5},\"pattern\":{\"fillmode\":\"overlay\",\"size\":10,\"solidity\":0.2}},\"type\":\"bar\"}],\"scattergeo\":[{\"type\":\"scattergeo\",\"marker\":{\"colorbar\":{\"outlinewidth\":0,\"ticks\":\"\"}}}],\"scatterpolar\":[{\"type\":\"scatterpolar\",\"marker\":{\"colorbar\":{\"outlinewidth\":0,\"ticks\":\"\"}}}],\"histogram\":[{\"marker\":{\"pattern\":{\"fillmode\":\"overlay\",\"size\":10,\"solidity\":0.2}},\"type\":\"histogram\"}],\"scattergl\":[{\"type\":\"scattergl\",\"marker\":{\"colorbar\":{\"outlinewidth\":0,\"ticks\":\"\"}}}],\"scatter3d\":[{\"type\":\"scatter3d\",\"line\":{\"colorbar\":{\"outlinewidth\":0,\"ticks\":\"\"}},\"marker\":{\"colorbar\":{\"outlinewidth\":0,\"ticks\":\"\"}}}],\"scattermapbox\":[{\"type\":\"scattermapbox\",\"marker\":{\"colorbar\":{\"outlinewidth\":0,\"ticks\":\"\"}}}],\"scatterternary\":[{\"type\":\"scatterternary\",\"marker\":{\"colorbar\":{\"outlinewidth\":0,\"ticks\":\"\"}}}],\"scattercarpet\":[{\"type\":\"scattercarpet\",\"marker\":{\"colorbar\":{\"outlinewidth\":0,\"ticks\":\"\"}}}],\"carpet\":[{\"aaxis\":{\"endlinecolor\":\"#2a3f5f\",\"gridcolor\":\"white\",\"linecolor\":\"white\",\"minorgridcolor\":\"white\",\"startlinecolor\":\"#2a3f5f\"},\"baxis\":{\"endlinecolor\":\"#2a3f5f\",\"gridcolor\":\"white\",\"linecolor\":\"white\",\"minorgridcolor\":\"white\",\"startlinecolor\":\"#2a3f5f\"},\"type\":\"carpet\"}],\"table\":[{\"cells\":{\"fill\":{\"color\":\"#EBF0F8\"},\"line\":{\"color\":\"white\"}},\"header\":{\"fill\":{\"color\":\"#C8D4E3\"},\"line\":{\"color\":\"white\"}},\"type\":\"table\"}],\"barpolar\":[{\"marker\":{\"line\":{\"color\":\"#E5ECF6\",\"width\":0.5},\"pattern\":{\"fillmode\":\"overlay\",\"size\":10,\"solidity\":0.2}},\"type\":\"barpolar\"}],\"pie\":[{\"automargin\":true,\"type\":\"pie\"}]},\"layout\":{\"autotypenumbers\":\"strict\",\"colorway\":[\"#636efa\",\"#EF553B\",\"#00cc96\",\"#ab63fa\",\"#FFA15A\",\"#19d3f3\",\"#FF6692\",\"#B6E880\",\"#FF97FF\",\"#FECB52\"],\"font\":{\"color\":\"#2a3f5f\"},\"hovermode\":\"closest\",\"hoverlabel\":{\"align\":\"left\"},\"paper_bgcolor\":\"white\",\"plot_bgcolor\":\"#E5ECF6\",\"polar\":{\"bgcolor\":\"#E5ECF6\",\"angularaxis\":{\"gridcolor\":\"white\",\"linecolor\":\"white\",\"ticks\":\"\"},\"radialaxis\":{\"gridcolor\":\"white\",\"linecolor\":\"white\",\"ticks\":\"\"}},\"ternary\":{\"bgcolor\":\"#E5ECF6\",\"aaxis\":{\"gridcolor\":\"white\",\"linecolor\":\"white\",\"ticks\":\"\"},\"baxis\":{\"gridcolor\":\"white\",\"linecolor\":\"white\",\"ticks\":\"\"},\"caxis\":{\"gridcolor\":\"white\",\"linecolor\":\"white\",\"ticks\":\"\"}},\"coloraxis\":{\"colorbar\":{\"outlinewidth\":0,\"ticks\":\"\"}},\"colorscale\":{\"sequential\":[[0.0,\"#0d0887\"],[0.1111111111111111,\"#46039f\"],[0.2222222222222222,\"#7201a8\"],[0.3333333333333333,\"#9c179e\"],[0.4444444444444444,\"#bd3786\"],[0.5555555555555556,\"#d8576b\"],[0.6666666666666666,\"#ed7953\"],[0.7777777777777778,\"#fb9f3a\"],[0.8888888888888888,\"#fdca26\"],[1.0,\"#f0f921\"]],\"sequentialminus\":[[0.0,\"#0d0887\"],[0.1111111111111111,\"#46039f\"],[0.2222222222222222,\"#7201a8\"],[0.3333333333333333,\"#9c179e\"],[0.4444444444444444,\"#bd3786\"],[0.5555555555555556,\"#d8576b\"],[0.6666666666666666,\"#ed7953\"],[0.7777777777777778,\"#fb9f3a\"],[0.8888888888888888,\"#fdca26\"],[1.0,\"#f0f921\"]],\"diverging\":[[0,\"#8e0152\"],[0.1,\"#c51b7d\"],[0.2,\"#de77ae\"],[0.3,\"#f1b6da\"],[0.4,\"#fde0ef\"],[0.5,\"#f7f7f7\"],[0.6,\"#e6f5d0\"],[0.7,\"#b8e186\"],[0.8,\"#7fbc41\"],[0.9,\"#4d9221\"],[1,\"#276419\"]]},\"xaxis\":{\"gridcolor\":\"white\",\"linecolor\":\"white\",\"ticks\":\"\",\"title\":{\"standoff\":15},\"zerolinecolor\":\"white\",\"automargin\":true,\"zerolinewidth\":2},\"yaxis\":{\"gridcolor\":\"white\",\"linecolor\":\"white\",\"ticks\":\"\",\"title\":{\"standoff\":15},\"zerolinecolor\":\"white\",\"automargin\":true,\"zerolinewidth\":2},\"scene\":{\"xaxis\":{\"backgroundcolor\":\"#E5ECF6\",\"gridcolor\":\"white\",\"linecolor\":\"white\",\"showbackground\":true,\"ticks\":\"\",\"zerolinecolor\":\"white\",\"gridwidth\":2},\"yaxis\":{\"backgroundcolor\":\"#E5ECF6\",\"gridcolor\":\"white\",\"linecolor\":\"white\",\"showbackground\":true,\"ticks\":\"\",\"zerolinecolor\":\"white\",\"gridwidth\":2},\"zaxis\":{\"backgroundcolor\":\"#E5ECF6\",\"gridcolor\":\"white\",\"linecolor\":\"white\",\"showbackground\":true,\"ticks\":\"\",\"zerolinecolor\":\"white\",\"gridwidth\":2}},\"shapedefaults\":{\"line\":{\"color\":\"#2a3f5f\"}},\"annotationdefaults\":{\"arrowcolor\":\"#2a3f5f\",\"arrowhead\":0,\"arrowwidth\":1},\"geo\":{\"bgcolor\":\"white\",\"landcolor\":\"#E5ECF6\",\"subunitcolor\":\"white\",\"showland\":true,\"showlakes\":true,\"lakecolor\":\"white\"},\"title\":{\"x\":0.05},\"mapbox\":{\"style\":\"light\"}}},\"title\":{\"text\":\"Flow Map: Exports from Nigeria\"},\"geo\":{\"projection\":{\"type\":\"natural earth\"},\"showframe\":false,\"showcoastlines\":true},\"showlegend\":true},                        {\"responsive\": true}                    ).then(function(){\n",
       "                            \n",
       "var gd = document.getElementById('2a0004a1-d09e-4d68-adc6-f602099133c6');\n",
       "var x = new MutationObserver(function (mutations, observer) {{\n",
       "        var display = window.getComputedStyle(gd).display;\n",
       "        if (!display || display === 'none') {{\n",
       "            console.log([gd, 'removed!']);\n",
       "            Plotly.purge(gd);\n",
       "            observer.disconnect();\n",
       "        }}\n",
       "}});\n",
       "\n",
       "// Listen for the removal of the full notebook cells\n",
       "var notebookContainer = gd.closest('#notebook-container');\n",
       "if (notebookContainer) {{\n",
       "    x.observe(notebookContainer, {childList: true});\n",
       "}}\n",
       "\n",
       "// Listen for the clearing of the current output cell\n",
       "var outputEl = gd.closest('.output');\n",
       "if (outputEl) {{\n",
       "    x.observe(outputEl, {childList: true});\n",
       "}}\n",
       "\n",
       "                        })                };                });            </script>        </div>"
      ]
     },
     "metadata": {},
     "output_type": "display_data"
    }
   ],
   "source": [
    "import pandas as pd\n",
    "import plotly.graph_objects as go\n",
    "import geopandas as gpd\n",
    "\n",
    "# Load the shapefile and reproject\n",
    "world = gpd.read_file(\"ne_110m_admin_0_countries.shp\")\n",
    "world = world.to_crs(epsg=4326 )  # Reproject to projected CRS\n",
    "\n",
    "# Function to get coordinates for a given country code\n",
    "def get_coordinates(country_code, world):\n",
    "    country = world[world['ISO_A3'] == country_code]  # Adjust 'ISO_A3' if needed\n",
    "    if not country.empty:\n",
    "        return country.geometry.centroid.x.iloc[0], country.geometry.centroid.y.iloc[0]\n",
    "    else:\n",
    "        return None, None\n",
    "\n",
    "# Assuming you have df_filtered ready, let's add coordinates for start and end countries\n",
    "df_filtered['longitude1'], df_filtered['latitude1'] = zip(*df_filtered['country1'].apply(lambda x: get_coordinates(x, world)))\n",
    "df_filtered['longitude2'], df_filtered['latitude2'] = zip(*df_filtered['country2'].apply(lambda x: get_coordinates(x, world)))\n",
    "\n",
    "# Create a Scattergeo plot for arrows\n",
    "fig = go.Figure()\n",
    "\n",
    "# Add each export flow as a line\n",
    "for i in range(len(df_filtered)):\n",
    "    fig.add_trace(go.Scattergeo(\n",
    "        locationmode=\"ISO-3\",\n",
    "        lon=[df_filtered[\"longitude1\"].iloc[i], df_filtered[\"longitude2\"].iloc[i]],  # Start and end longitude\n",
    "        lat=[df_filtered[\"latitude1\"].iloc[i], df_filtered[\"latitude2\"].iloc[i]],  # Start and end latitude\n",
    "        mode=\"lines\",\n",
    "        line=dict(\n",
    "            width=2,\n",
    "            color=\"blue\" if df_filtered[\"Import trade _metric Tons\"].iloc[i] > 200 else \"green\"  # Example condition for line color\n",
    "        ),\n",
    "        name=f\"Export to {df_filtered['country2'].iloc[i]}\"\n",
    "    ))\n",
    "\n",
    "# Add exporting country as a scatter point (you can dynamically add this for multiple exporting countries)\n",
    "fig.add_trace(go.Scattergeo(\n",
    "    lon=[df_filtered[\"longitude1\"].iloc[0]],  # Longitude of first exporting country\n",
    "    lat=[df_filtered[\"latitude1\"].iloc[0]],  # Latitude of first exporting country\n",
    "    mode=\"markers\",\n",
    "    marker=dict(size=10, color=\"red\"),\n",
    "    name=\"Exporting Country\"\n",
    "))\n",
    "\n",
    "fig.add_trace(go.Choropleth(\n",
    "    z=[1] * len(world),  # A dummy value just to show the outlines (you can adjust the 'z' value for color)\n",
    "    hoverinfo=\"location+z\",  # Shows country name and value on hover\n",
    "    locationmode=\"ISO-3\",  # Use 3-letter country codes\n",
    "    locations=world['ISO_A3'],  # Country codes\n",
    "    showscale=False,  # No color scale for this trace\n",
    "    #line=dict(color=\"black\", width=0.5),  # Country outlines\n",
    "))\n",
    "\n",
    "# Add country labels (country names)\n",
    "for i, country in world.iterrows():\n",
    "    fig.add_trace(go.Scattergeo(\n",
    "        lon=[country.geometry.centroid.x],\n",
    "        lat=[country.geometry.centroid.y],\n",
    "        text=country['NAME'],  # Country name\n",
    "        mode=\"text\",\n",
    "        textfont=dict(size=8, color=\"black\"),\n",
    "        showlegend=False\n",
    "    ))\n",
    "\n",
    "# Configure the layout\n",
    "fig.update_layout(\n",
    "    title_text=\"Flow Map: Exports from Nigeria\",\n",
    "    showlegend=True,\n",
    "    geo=dict(\n",
    "        showframe=False,\n",
    "        showcoastlines=True,\n",
    "        projection_type=\"natural earth\",\n",
    "    )\n",
    ")\n",
    "\n",
    "# Show the plot\n",
    "fig.show()\n"
   ]
  },
  {
   "cell_type": "code",
   "execution_count": 61,
   "id": "61942491",
   "metadata": {},
   "outputs": [
    {
     "name": "stderr",
     "output_type": "stream",
     "text": [
      "C:\\Users\\USER\\AppData\\Local\\Temp\\ipykernel_7728\\3794624969.py:2: SettingWithCopyWarning:\n",
      "\n",
      "\n",
      "A value is trying to be set on a copy of a slice from a DataFrame.\n",
      "Try using .loc[row_indexer,col_indexer] = value instead\n",
      "\n",
      "See the caveats in the documentation: https://pandas.pydata.org/pandas-docs/stable/user_guide/indexing.html#returning-a-view-versus-a-copy\n",
      "\n",
      "C:\\Users\\USER\\AppData\\Local\\Temp\\ipykernel_7728\\3794624969.py:3: UserWarning:\n",
      "\n",
      "\n",
      "\n",
      "`distplot` is a deprecated function and will be removed in seaborn v0.14.0.\n",
      "\n",
      "Please adapt your code to use either `displot` (a figure-level function with\n",
      "similar flexibility) or `histplot` (an axes-level function for histograms).\n",
      "\n",
      "For a guide to updating your code to use the new functions, please see\n",
      "https://gist.github.com/mwaskom/de44147ed2974457ad6372750bbe5751\n",
      "\n",
      "\n"
     ]
    },
    {
     "data": {
      "text/plain": [
       "<Axes: xlabel='trade_scaled', ylabel='Density'>"
      ]
     },
     "execution_count": 61,
     "metadata": {},
     "output_type": "execute_result"
    },
    {
     "data": {
      "image/png": "[encoded data removed]",
      "text/plain": [
       "<Figure size 640x480 with 1 Axes>"
      ]
     },
     "metadata": {},
     "output_type": "display_data"
    }
   ],
   "source": [
    "mini, maxi =df_filtered['Import trade _metric Tons'].min(), df_filtered['Import trade _metric Tons'].max()\n",
    "df_filtered['trade_scaled']= df_filtered['Import trade _metric Tons'].apply(lambda x: (x-mini)/(maxi-mini))\n",
    "sns.distplot(df_filtered['trade_scaled'])"
   ]
  },
  {
   "cell_type": "code",
   "execution_count": 65,
   "id": "63665979",
   "metadata": {},
   "outputs": [
    {
     "name": "stderr",
     "output_type": "stream",
     "text": [
      "C:\\Users\\USER\\AppData\\Local\\Temp\\ipykernel_7728\\1002660753.py:11: SettingWithCopyWarning:\n",
      "\n",
      "\n",
      "A value is trying to be set on a copy of a slice from a DataFrame.\n",
      "Try using .loc[row_indexer,col_indexer] = value instead\n",
      "\n",
      "See the caveats in the documentation: https://pandas.pydata.org/pandas-docs/stable/user_guide/indexing.html#returning-a-view-versus-a-copy\n",
      "\n",
      "C:\\Users\\USER\\AppData\\Local\\Temp\\ipykernel_7728\\1002660753.py:13: SettingWithCopyWarning:\n",
      "\n",
      "\n",
      "A value is trying to be set on a copy of a slice from a DataFrame.\n",
      "Try using .loc[row_indexer,col_indexer] = value instead\n",
      "\n",
      "See the caveats in the documentation: https://pandas.pydata.org/pandas-docs/stable/user_guide/indexing.html#returning-a-view-versus-a-copy\n",
      "\n",
      "C:\\Users\\USER\\AppData\\Local\\Temp\\ipykernel_7728\\1002660753.py:15: UserWarning:\n",
      "\n",
      "\n",
      "\n",
      "`distplot` is a deprecated function and will be removed in seaborn v0.14.0.\n",
      "\n",
      "Please adapt your code to use either `displot` (a figure-level function with\n",
      "similar flexibility) or `histplot` (an axes-level function for histograms).\n",
      "\n",
      "For a guide to updating your code to use the new functions, please see\n",
      "https://gist.github.com/mwaskom/de44147ed2974457ad6372750bbe5751\n",
      "\n",
      "\n"
     ]
    },
    {
     "data": {
      "text/plain": [
       "<Axes: xlabel='normal_trade', ylabel='Density'>"
      ]
     },
     "execution_count": 65,
     "metadata": {},
     "output_type": "execute_result"
    },
    {
     "data": {
      "image/png": "[encoded data removed]",
      "text/plain": [
       "<Figure size 640x480 with 1 Axes>"
      ]
     },
     "metadata": {},
     "output_type": "display_data"
    }
   ],
   "source": [
    "mean_value = df_filtered['Import trade _metric Tons'].mean()\n",
    "std_dev = df_filtered['Import trade _metric Tons'].std()\n",
    "\n",
    "# Generate normal distribution for 'Import trade _metric Tons' values\n",
    "# Ensure we generate the same number of values as in the 'dff' dataframe\n",
    "normal_dist_values = np.random.normal(loc=mean_value, scale=std_dev, size=len(df_filtered))\n",
    "shift_value = abs(min(normal_dist_values))  # Find the minimum value and ensure it's positive\n",
    "normal_dist_values += shift_value\n",
    "\n",
    "# Update your DataFrame with these shifted values\n",
    "df_filtered['normal_trade'] = normal_dist_values\n",
    "\n",
    "sns.distplot(df_filtered['normal_trade'])"
   ]
  },
  {
   "cell_type": "code",
   "execution_count": 70,
   "id": "c139c856",
   "metadata": {},
   "outputs": [
    {
     "name": "stderr",
     "output_type": "stream",
     "text": [
      "C:\\Users\\USER\\AppData\\Local\\Temp\\ipykernel_7728\\3216880868.py:21: UserWarning:\n",
      "\n",
      "\n",
      "\n",
      "`distplot` is a deprecated function and will be removed in seaborn v0.14.0.\n",
      "\n",
      "Please adapt your code to use either `displot` (a figure-level function with\n",
      "similar flexibility) or `histplot` (an axes-level function for histograms).\n",
      "\n",
      "For a guide to updating your code to use the new functions, please see\n",
      "https://gist.github.com/mwaskom/de44147ed2974457ad6372750bbe5751\n",
      "\n",
      "\n"
     ]
    },
    {
     "data": {
      "text/plain": [
       "<Axes: xlabel='normalized_trade', ylabel='Density'>"
      ]
     },
     "execution_count": 70,
     "metadata": {},
     "output_type": "execute_result"
    },
    {
     "data": {
      "image/png": "[encoded data removed]",
      "text/plain": [
       "<Figure size 640x480 with 1 Axes>"
      ]
     },
     "metadata": {},
     "output_type": "display_data"
    }
   ],
   "source": [
    "import numpy as np\n",
    "\n",
    "# Make a copy of the dataframe\n",
    "dff = df_filtered.copy()\n",
    "\n",
    "# Calculate the mean and standard deviation of 'Import trade _metric Tons'\n",
    "mean_value = dff['Import trade _metric Tons'].mean()\n",
    "std_dev = dff['Import trade _metric Tons'].std()\n",
    "\n",
    "# Standardize the 'Import trade _metric Tons' values\n",
    "dff['normalized_trade'] = (dff['Import trade _metric Tons'] - mean_value) / std_dev\n",
    "\n",
    "# Shift the values so they are positive (you can scale them as needed)\n",
    "shift_value = abs(dff['normalized_trade'].min())  # Shift to make sure no negative values\n",
    "dff['normalized_trade'] += shift_value  # Add shift to all values\n",
    "\n",
    "# If you want to scale them back to a specific range (like between 0 and 100 or some other range)\n",
    "# You can multiply by a constant factor here, for example:\n",
    "#dff['normalized_trade'] /= 100  # Scales values between 0 and 100\n",
    "\n",
    "sns.distplot(dff['normalized_trade'])"
   ]
  },
  {
   "cell_type": "code",
   "execution_count": 83,
   "id": "6fcc1dd5",
   "metadata": {},
   "outputs": [
    {
     "data": {
      "text/plain": [
       "Index(['Exporter', 'Importer', 'cross', 'Year', 'Quantity_mt ', 'Value_usd ',\n",
       "       'Unnamed: 6', 'Import trade _metric Tons', 'Import trade _Values _USD ',\n",
       "       'country1', 'country2', 'longitude1', 'latitude1', 'longitude2',\n",
       "       'latitude2', 'trade_scaled', 'normal_trade'],\n",
       "      dtype='object')"
      ]
     },
     "execution_count": 83,
     "metadata": {},
     "output_type": "execute_result"
    }
   ],
   "source": [
    "df_filtered.columns"
   ]
  },
  {
   "cell_type": "code",
   "execution_count": 76,
   "id": "0fff15aa",
   "metadata": {},
   "outputs": [
    {
     "name": "stderr",
     "output_type": "stream",
     "text": [
      "C:\\Users\\USER\\AppData\\Local\\Temp\\ipykernel_7728\\210886307.py:27: UserWarning:\n",
      "\n",
      "\n",
      "\n",
      "`distplot` is a deprecated function and will be removed in seaborn v0.14.0.\n",
      "\n",
      "Please adapt your code to use either `displot` (a figure-level function with\n",
      "similar flexibility) or `histplot` (an axes-level function for histograms).\n",
      "\n",
      "For a guide to updating your code to use the new functions, please see\n",
      "https://gist.github.com/mwaskom/de44147ed2974457ad6372750bbe5751\n",
      "\n",
      "\n"
     ]
    },
    {
     "data": {
      "text/plain": [
       "<Axes: xlabel='normal_trade', ylabel='Density'>"
      ]
     },
     "execution_count": 76,
     "metadata": {},
     "output_type": "execute_result"
    },
    {
     "data": {
      "image/png": "[encoded data removed]",
      "text/plain": [
       "<Figure size 640x480 with 1 Axes>"
      ]
     },
     "metadata": {},
     "output_type": "display_data"
    }
   ],
   "source": [
    "import numpy as np\n",
    "import scipy.stats as stats\n",
    "\n",
    "# Copy the dataframe\n",
    "dff = df_filtered.copy()\n",
    "\n",
    "# Get the 'Import trade _metric Tons' column\n",
    "data = dff['Import trade _metric Tons']\n",
    "\n",
    "# Fit the data to a normal distribution\n",
    "mean_value = np.mean(data)\n",
    "std_dev = np.std(data)\n",
    "\n",
    "# Normalize the data to have a mean of 0 and standard deviation of 1\n",
    "normalized_data = (data - mean_value) / std_dev\n",
    "\n",
    "# Now, use the normal distribution to scale the values back\n",
    "# Use the CDF (Cumulative Distribution Function) to map the data points to a normal distribution\n",
    "normal_distribution_values = stats.norm.cdf(normalized_data)\n",
    "\n",
    "# If you want to scale these values back into a desired range, for example between 0 and 100\n",
    "scaled_values = normal_distribution_values * 100\n",
    "\n",
    "# Assign the transformed values back to the dataframe\n",
    "dff['normal_trade'] = scaled_values\n",
    "\n",
    "sns.distplot(dff['normal_trade'])\n",
    "# If you want to view the distribution of the transformed data\n",
    "\n"
   ]
  },
  {
   "cell_type": "code",
   "execution_count": 77,
   "id": "1a7a9c4e",
   "metadata": {
    "scrolled": true
   },
   "outputs": [
    {
     "data": {
      "application/vnd.plotly.v1+json": {
       "config": {
        "plotlyServerURL": "https://plot.ly"
       },
       "data": [
        {
         "link": {
          "color": "rgba(0,0,150,0.2)",
          "source": [
           40,
           40,
           40,
           40,
           40,
           40,
           40,
           40,
           40,
           40,
           40,
           40,
           40,
           40,
           40,
           40,
           40,
           40,
           40,
           40,
           40,
           40,
           40,
           40,
           40,
           40,
           40,
           40,
           40,
           40,
           40,
           40,
           40,
           40,
           40,
           40,
           40,
           40,
           40,
           40,
           40,
           40,
           40,
           40,
           40,
           40,
           40,
           40,
           40,
           40,
           40,
           40,
           40,
           40,
           40,
           40,
           40,
           40,
           40,
           40,
           40,
           40,
           40,
           40,
           40,
           40,
           40,
           40,
           40,
           40,
           40,
           40,
           40,
           40,
           40,
           40,
           40,
           40,
           40,
           40,
           40,
           40,
           40,
           40,
           40,
           40,
           40,
           40,
           40,
           40,
           40,
           40,
           40,
           40,
           40,
           40,
           40,
           40,
           40,
           40,
           40,
           40,
           40,
           40,
           40,
           40,
           40,
           40,
           40,
           40,
           40,
           40,
           40,
           40,
           40,
           40,
           40,
           40,
           40,
           40,
           40,
           40,
           40,
           40,
           40,
           40,
           40,
           40,
           40,
           40,
           40,
           40,
           40,
           40,
           40,
           40,
           40,
           40,
           40,
           40,
           40,
           40,
           40,
           40,
           40,
           40,
           40,
           40,
           40,
           40,
           40,
           40,
           40,
           40,
           40,
           40,
           40,
           40,
           40,
           40,
           40,
           40,
           40,
           40,
           40,
           40,
           40,
           40,
           40,
           40,
           40,
           40,
           40,
           40,
           40,
           40,
           40,
           40,
           40,
           40,
           40,
           40,
           40,
           40,
           40,
           40,
           40,
           40,
           40,
           40,
           40,
           40,
           40,
           40,
           40,
           40,
           40
          ],
          "target": [
           0,
           0,
           0,
           1,
           1,
           1,
           2,
           2,
           2,
           3,
           3,
           3,
           3,
           3,
           3,
           3,
           3,
           3,
           3,
           3,
           3,
           3,
           3,
           3,
           3,
           3,
           3,
           4,
           4,
           4,
           4,
           5,
           5,
           5,
           6,
           7,
           7,
           7,
           7,
           7,
           8,
           8,
           8,
           8,
           8,
           8,
           8,
           8,
           8,
           8,
           8,
           8,
           8,
           8,
           8,
           9,
           9,
           9,
           9,
           9,
           9,
           9,
           9,
           9,
           9,
           9,
           9,
           9,
           10,
           10,
           10,
           10,
           10,
           10,
           11,
           11,
           11,
           11,
           12,
           12,
           12,
           12,
           12,
           12,
           13,
           13,
           13,
           13,
           13,
           13,
           13,
           13,
           13,
           14,
           15,
           15,
           16,
           16,
           16,
           16,
           17,
           17,
           17,
           17,
           17,
           17,
           17,
           17,
           17,
           18,
           19,
           19,
           19,
           19,
           19,
           20,
           21,
           21,
           21,
           21,
           22,
           23,
           23,
           24,
           24,
           24,
           24,
           25,
           25,
           25,
           25,
           25,
           25,
           25,
           25,
           25,
           25,
           25,
           26,
           26,
           27,
           28,
           28,
           28,
           28,
           28,
           28,
           28,
           28,
           28,
           28,
           28,
           28,
           28,
           28,
           28,
           28,
           28,
           28,
           29,
           30,
           30,
           30,
           30,
           31,
           31,
           31,
           31,
           32,
           32,
           32,
           32,
           32,
           32,
           33,
           33,
           34,
           34,
           34,
           35,
           36,
           36,
           36,
           36,
           36,
           36,
           36,
           37,
           37,
           37,
           37,
           37,
           38,
           38,
           38,
           39,
           39
          ],
          "value": [
           35,
           103,
           0,
           100,
           59,
           0,
           735,
           0,
           0,
           13162,
           25589,
           8901,
           11,
           485,
           113,
           154,
           1088,
           850,
           190,
           0,
           0,
           0,
           41,
           46,
           16,
           129,
           2160,
           0,
           0,
           14,
           1,
           883,
           113,
           1,
           0,
           5058,
           10,
           2936,
           4358,
           1608,
           3061,
           793,
           3076,
           714,
           422,
           1908,
           488,
           0,
           0,
           0,
           2446,
           5655,
           5053,
           2787,
           4902,
           708,
           0,
           152,
           4,
           0,
           1,
           4,
           1,
           0,
           1326,
           168,
           2,
           1,
           502,
           0,
           10,
           0,
           24,
           0,
           25,
           0,
           7,
           38,
           0,
           8,
           68,
           0,
           46,
           19,
           0,
           0,
           0,
           0,
           0,
           4,
           4,
           7,
           7,
           0,
           118,
           0,
           0,
           13369,
           0,
           0,
           0,
           6,
           4907,
           116,
           164,
           0,
           0,
           28,
           28,
           0,
           23198,
           1135,
           39,
           375,
           0,
           0,
           1,
           2136,
           0,
           84,
           0,
           0,
           0,
           15,
           1271,
           0,
           359,
           30,
           53,
           10,
           31,
           60,
           40,
           50,
           0,
           20,
           80,
           40,
           7968,
           0,
           19,
           20509,
           775236,
           9990,
           10628,
           22,
           475542,
           3444,
           3010,
           1450,
           2040,
           0,
           0,
           0,
           19075,
           24369,
           23980,
           18398,
           15988,
           5,
           0,
           3,
           19,
           220,
           3493,
           688,
           7882,
           634,
           5141,
           212,
           26,
           1027,
           923,
           0,
           211,
           23,
           2,
           16,
           2,
           0,
           27110,
           8292,
           6806,
           6167,
           254,
           3,
           0,
           2098,
           249,
           3,
           4,
           1,
           0,
           0,
           0,
           300,
           0
          ]
         },
         "node": {
          "color": "blue",
          "label": [
           "EGY",
           "COD",
           "TZA",
           "ZAF",
           "KEN",
           "UGA",
           "SDN",
           "DZA",
           "MAR",
           "AGO",
           "GHA",
           "CIV",
           "CMR",
           "NER",
           "MLI",
           "BFA",
           "TCD",
           "SEN",
           "ZWE",
           "GIN",
           "RWA",
           "BEN",
           "BDI",
           "TUN",
           "TGO",
           "SLE",
           "CAF",
           "LBR",
           "MRT",
           "ERI",
           "GMB",
           "BWA",
           "NAM",
           "GAB",
           "GNB",
           "GNQ",
           "MUS",
           "SWZ",
           "SYC",
           "ETH",
           "NGA"
          ],
          "line": {
           "color": "black",
           "width": 0.5
          },
          "pad": 15,
          "thickness": 20
         },
         "type": "sankey"
        }
       ],
       "layout": {
        "font": {
         "size": 12
        },
        "template": {
         "data": {
          "bar": [
           {
            "error_x": {
             "color": "#2a3f5f"
            },
            "error_y": {
             "color": "#2a3f5f"
            },
            "marker": {
             "line": {
              "color": "#E5ECF6",
              "width": 0.5
             },
             "pattern": {
              "fillmode": "overlay",
              "size": 10,
              "solidity": 0.2
             }
            },
            "type": "bar"
           }
          ],
          "barpolar": [
           {
            "marker": {
             "line": {
              "color": "#E5ECF6",
              "width": 0.5
             },
             "pattern": {
              "fillmode": "overlay",
              "size": 10,
              "solidity": 0.2
             }
            },
            "type": "barpolar"
           }
          ],
          "carpet": [
           {
            "aaxis": {
             "endlinecolor": "#2a3f5f",
             "gridcolor": "white",
             "linecolor": "white",
             "minorgridcolor": "white",
             "startlinecolor": "#2a3f5f"
            },
            "baxis": {
             "endlinecolor": "#2a3f5f",
             "gridcolor": "white",
             "linecolor": "white",
             "minorgridcolor": "white",
             "startlinecolor": "#2a3f5f"
            },
            "type": "carpet"
           }
          ],
          "choropleth": [
           {
            "colorbar": {
             "outlinewidth": 0,
             "ticks": ""
            },
            "type": "choropleth"
           }
          ],
          "contour": [
           {
            "colorbar": {
             "outlinewidth": 0,
             "ticks": ""
            },
            "colorscale": [
             [
              0,
              "#0d0887"
             ],
             [
              0.1111111111111111,
              "#46039f"
             ],
             [
              0.2222222222222222,
              "#7201a8"
             ],
             [
              0.3333333333333333,
              "#9c179e"
             ],
             [
              0.4444444444444444,
              "#bd3786"
             ],
             [
              0.5555555555555556,
              "#d8576b"
             ],
             [
              0.6666666666666666,
              "#ed7953"
             ],
             [
              0.7777777777777778,
              "#fb9f3a"
             ],
             [
              0.8888888888888888,
              "#fdca26"
             ],
             [
              1,
              "#f0f921"
             ]
            ],
            "type": "contour"
           }
          ],
          "contourcarpet": [
           {
            "colorbar": {
             "outlinewidth": 0,
             "ticks": ""
            },
            "type": "contourcarpet"
           }
          ],
          "heatmap": [
           {
            "colorbar": {
             "outlinewidth": 0,
             "ticks": ""
            },
            "colorscale": [
             [
              0,
              "#0d0887"
             ],
             [
              0.1111111111111111,
              "#46039f"
             ],
             [
              0.2222222222222222,
              "#7201a8"
             ],
             [
              0.3333333333333333,
              "#9c179e"
             ],
             [
              0.4444444444444444,
              "#bd3786"
             ],
             [
              0.5555555555555556,
              "#d8576b"
             ],
             [
              0.6666666666666666,
              "#ed7953"
             ],
             [
              0.7777777777777778,
              "#fb9f3a"
             ],
             [
              0.8888888888888888,
              "#fdca26"
             ],
             [
              1,
              "#f0f921"
             ]
            ],
            "type": "heatmap"
           }
          ],
          "heatmapgl": [
           {
            "colorbar": {
             "outlinewidth": 0,
             "ticks": ""
            },
            "colorscale": [
             [
              0,
              "#0d0887"
             ],
             [
              0.1111111111111111,
              "#46039f"
             ],
             [
              0.2222222222222222,
              "#7201a8"
             ],
             [
              0.3333333333333333,
              "#9c179e"
             ],
             [
              0.4444444444444444,
              "#bd3786"
             ],
             [
              0.5555555555555556,
              "#d8576b"
             ],
             [
              0.6666666666666666,
              "#ed7953"
             ],
             [
              0.7777777777777778,
              "#fb9f3a"
             ],
             [
              0.8888888888888888,
              "#fdca26"
             ],
             [
              1,
              "#f0f921"
             ]
            ],
            "type": "heatmapgl"
           }
          ],
          "histogram": [
           {
            "marker": {
             "pattern": {
              "fillmode": "overlay",
              "size": 10,
              "solidity": 0.2
             }
            },
            "type": "histogram"
           }
          ],
          "histogram2d": [
           {
            "colorbar": {
             "outlinewidth": 0,
             "ticks": ""
            },
            "colorscale": [
             [
              0,
              "#0d0887"
             ],
             [
              0.1111111111111111,
              "#46039f"
             ],
             [
              0.2222222222222222,
              "#7201a8"
             ],
             [
              0.3333333333333333,
              "#9c179e"
             ],
             [
              0.4444444444444444,
              "#bd3786"
             ],
             [
              0.5555555555555556,
              "#d8576b"
             ],
             [
              0.6666666666666666,
              "#ed7953"
             ],
             [
              0.7777777777777778,
              "#fb9f3a"
             ],
             [
              0.8888888888888888,
              "#fdca26"
             ],
             [
              1,
              "#f0f921"
             ]
            ],
            "type": "histogram2d"
           }
          ],
          "histogram2dcontour": [
           {
            "colorbar": {
             "outlinewidth": 0,
             "ticks": ""
            },
            "colorscale": [
             [
              0,
              "#0d0887"
             ],
             [
              0.1111111111111111,
              "#46039f"
             ],
             [
              0.2222222222222222,
              "#7201a8"
             ],
             [
              0.3333333333333333,
              "#9c179e"
             ],
             [
              0.4444444444444444,
              "#bd3786"
             ],
             [
              0.5555555555555556,
              "#d8576b"
             ],
             [
              0.6666666666666666,
              "#ed7953"
             ],
             [
              0.7777777777777778,
              "#fb9f3a"
             ],
             [
              0.8888888888888888,
              "#fdca26"
             ],
             [
              1,
              "#f0f921"
             ]
            ],
            "type": "histogram2dcontour"
           }
          ],
          "mesh3d": [
           {
            "colorbar": {
             "outlinewidth": 0,
             "ticks": ""
            },
            "type": "mesh3d"
           }
          ],
          "parcoords": [
           {
            "line": {
             "colorbar": {
              "outlinewidth": 0,
              "ticks": ""
             }
            },
            "type": "parcoords"
           }
          ],
          "pie": [
           {
            "automargin": true,
            "type": "pie"
           }
          ],
          "scatter": [
           {
            "fillpattern": {
             "fillmode": "overlay",
             "size": 10,
             "solidity": 0.2
            },
            "type": "scatter"
           }
          ],
          "scatter3d": [
           {
            "line": {
             "colorbar": {
              "outlinewidth": 0,
              "ticks": ""
             }
            },
            "marker": {
             "colorbar": {
              "outlinewidth": 0,
              "ticks": ""
             }
            },
            "type": "scatter3d"
           }
          ],
          "scattercarpet": [
           {
            "marker": {
             "colorbar": {
              "outlinewidth": 0,
              "ticks": ""
             }
            },
            "type": "scattercarpet"
           }
          ],
          "scattergeo": [
           {
            "marker": {
             "colorbar": {
              "outlinewidth": 0,
              "ticks": ""
             }
            },
            "type": "scattergeo"
           }
          ],
          "scattergl": [
           {
            "marker": {
             "colorbar": {
              "outlinewidth": 0,
              "ticks": ""
             }
            },
            "type": "scattergl"
           }
          ],
          "scattermapbox": [
           {
            "marker": {
             "colorbar": {
              "outlinewidth": 0,
              "ticks": ""
             }
            },
            "type": "scattermapbox"
           }
          ],
          "scatterpolar": [
           {
            "marker": {
             "colorbar": {
              "outlinewidth": 0,
              "ticks": ""
             }
            },
            "type": "scatterpolar"
           }
          ],
          "scatterpolargl": [
           {
            "marker": {
             "colorbar": {
              "outlinewidth": 0,
              "ticks": ""
             }
            },
            "type": "scatterpolargl"
           }
          ],
          "scatterternary": [
           {
            "marker": {
             "colorbar": {
              "outlinewidth": 0,
              "ticks": ""
             }
            },
            "type": "scatterternary"
           }
          ],
          "surface": [
           {
            "colorbar": {
             "outlinewidth": 0,
             "ticks": ""
            },
            "colorscale": [
             [
              0,
              "#0d0887"
             ],
             [
              0.1111111111111111,
              "#46039f"
             ],
             [
              0.2222222222222222,
              "#7201a8"
             ],
             [
              0.3333333333333333,
              "#9c179e"
             ],
             [
              0.4444444444444444,
              "#bd3786"
             ],
             [
              0.5555555555555556,
              "#d8576b"
             ],
             [
              0.6666666666666666,
              "#ed7953"
             ],
             [
              0.7777777777777778,
              "#fb9f3a"
             ],
             [
              0.8888888888888888,
              "#fdca26"
             ],
             [
              1,
              "#f0f921"
             ]
            ],
            "type": "surface"
           }
          ],
          "table": [
           {
            "cells": {
             "fill": {
              "color": "#EBF0F8"
             },
             "line": {
              "color": "white"
             }
            },
            "header": {
             "fill": {
              "color": "#C8D4E3"
             },
             "line": {
              "color": "white"
             }
            },
            "type": "table"
           }
          ]
         },
         "layout": {
          "annotationdefaults": {
           "arrowcolor": "#2a3f5f",
           "arrowhead": 0,
           "arrowwidth": 1
          },
          "autotypenumbers": "strict",
          "coloraxis": {
           "colorbar": {
            "outlinewidth": 0,
            "ticks": ""
           }
          },
          "colorscale": {
           "diverging": [
            [
             0,
             "#8e0152"
            ],
            [
             0.1,
             "#c51b7d"
            ],
            [
             0.2,
             "#de77ae"
            ],
            [
             0.3,
             "#f1b6da"
            ],
            [
             0.4,
             "#fde0ef"
            ],
            [
             0.5,
             "#f7f7f7"
            ],
            [
             0.6,
             "#e6f5d0"
            ],
            [
             0.7,
             "#b8e186"
            ],
            [
             0.8,
             "#7fbc41"
            ],
            [
             0.9,
             "#4d9221"
            ],
            [
             1,
             "#276419"
            ]
           ],
           "sequential": [
            [
             0,
             "#0d0887"
            ],
            [
             0.1111111111111111,
             "#46039f"
            ],
            [
             0.2222222222222222,
             "#7201a8"
            ],
            [
             0.3333333333333333,
             "#9c179e"
            ],
            [
             0.4444444444444444,
             "#bd3786"
            ],
            [
             0.5555555555555556,
             "#d8576b"
            ],
            [
             0.6666666666666666,
             "#ed7953"
            ],
            [
             0.7777777777777778,
             "#fb9f3a"
            ],
            [
             0.8888888888888888,
             "#fdca26"
            ],
            [
             1,
             "#f0f921"
            ]
           ],
           "sequentialminus": [
            [
             0,
             "#0d0887"
            ],
            [
             0.1111111111111111,
             "#46039f"
            ],
            [
             0.2222222222222222,
             "#7201a8"
            ],
            [
             0.3333333333333333,
             "#9c179e"
            ],
            [
             0.4444444444444444,
             "#bd3786"
            ],
            [
             0.5555555555555556,
             "#d8576b"
            ],
            [
             0.6666666666666666,
             "#ed7953"
            ],
            [
             0.7777777777777778,
             "#fb9f3a"
            ],
            [
             0.8888888888888888,
             "#fdca26"
            ],
            [
             1,
             "#f0f921"
            ]
           ]
          },
          "colorway": [
           "#636efa",
           "#EF553B",
           "#00cc96",
           "#ab63fa",
           "#FFA15A",
           "#19d3f3",
           "#FF6692",
           "#B6E880",
           "#FF97FF",
           "#FECB52"
          ],
          "font": {
           "color": "#2a3f5f"
          },
          "geo": {
           "bgcolor": "white",
           "lakecolor": "white",
           "landcolor": "#E5ECF6",
           "showlakes": true,
           "showland": true,
           "subunitcolor": "white"
          },
          "hoverlabel": {
           "align": "left"
          },
          "hovermode": "closest",
          "mapbox": {
           "style": "light"
          },
          "paper_bgcolor": "white",
          "plot_bgcolor": "#E5ECF6",
          "polar": {
           "angularaxis": {
            "gridcolor": "white",
            "linecolor": "white",
            "ticks": ""
           },
           "bgcolor": "#E5ECF6",
           "radialaxis": {
            "gridcolor": "white",
            "linecolor": "white",
            "ticks": ""
           }
          },
          "scene": {
           "xaxis": {
            "backgroundcolor": "#E5ECF6",
            "gridcolor": "white",
            "gridwidth": 2,
            "linecolor": "white",
            "showbackground": true,
            "ticks": "",
            "zerolinecolor": "white"
           },
           "yaxis": {
            "backgroundcolor": "#E5ECF6",
            "gridcolor": "white",
            "gridwidth": 2,
            "linecolor": "white",
            "showbackground": true,
            "ticks": "",
            "zerolinecolor": "white"
           },
           "zaxis": {
            "backgroundcolor": "#E5ECF6",
            "gridcolor": "white",
            "gridwidth": 2,
            "linecolor": "white",
            "showbackground": true,
            "ticks": "",
            "zerolinecolor": "white"
           }
          },
          "shapedefaults": {
           "line": {
            "color": "#2a3f5f"
           }
          },
          "ternary": {
           "aaxis": {
            "gridcolor": "white",
            "linecolor": "white",
            "ticks": ""
           },
           "baxis": {
            "gridcolor": "white",
            "linecolor": "white",
            "ticks": ""
           },
           "bgcolor": "#E5ECF6",
           "caxis": {
            "gridcolor": "white",
            "linecolor": "white",
            "ticks": ""
           }
          },
          "title": {
           "x": 0.05
          },
          "xaxis": {
           "automargin": true,
           "gridcolor": "white",
           "linecolor": "white",
           "ticks": "",
           "title": {
            "standoff": 15
           },
           "zerolinecolor": "white",
           "zerolinewidth": 2
          },
          "yaxis": {
           "automargin": true,
           "gridcolor": "white",
           "linecolor": "white",
           "ticks": "",
           "title": {
            "standoff": 15
           },
           "zerolinecolor": "white",
           "zerolinewidth": 2
          }
         }
        },
        "title": {
         "text": "Sankey Diagram for Trade Flow"
        }
       }
      },
      "text/html": [
       "<div>                            <div id=\"01a0cf3f-e0c2-4335-ac55-294b384c97b6\" class=\"plotly-graph-div\" style=\"height:525px; width:100%;\"></div>            <script type=\"text/javascript\">                require([\"plotly\"], function(Plotly) {                    window.PLOTLYENV=window.PLOTLYENV || {};                                    if (document.getElementById(\"01a0cf3f-e0c2-4335-ac55-294b384c97b6\")) {                    Plotly.newPlot(                        \"01a0cf3f-e0c2-4335-ac55-294b384c97b6\",                        [{\"link\":{\"color\":\"rgba(0,0,150,0.2)\",\"source\":[40,40,40,40,40,40,40,40,40,40,40,40,40,40,40,40,40,40,40,40,40,40,40,40,40,40,40,40,40,40,40,40,40,40,40,40,40,40,40,40,40,40,40,40,40,40,40,40,40,40,40,40,40,40,40,40,40,40,40,40,40,40,40,40,40,40,40,40,40,40,40,40,40,40,40,40,40,40,40,40,40,40,40,40,40,40,40,40,40,40,40,40,40,40,40,40,40,40,40,40,40,40,40,40,40,40,40,40,40,40,40,40,40,40,40,40,40,40,40,40,40,40,40,40,40,40,40,40,40,40,40,40,40,40,40,40,40,40,40,40,40,40,40,40,40,40,40,40,40,40,40,40,40,40,40,40,40,40,40,40,40,40,40,40,40,40,40,40,40,40,40,40,40,40,40,40,40,40,40,40,40,40,40,40,40,40,40,40,40,40,40,40,40,40,40,40,40],\"target\":[0,0,0,1,1,1,2,2,2,3,3,3,3,3,3,3,3,3,3,3,3,3,3,3,3,3,3,4,4,4,4,5,5,5,6,7,7,7,7,7,8,8,8,8,8,8,8,8,8,8,8,8,8,8,8,9,9,9,9,9,9,9,9,9,9,9,9,9,10,10,10,10,10,10,11,11,11,11,12,12,12,12,12,12,13,13,13,13,13,13,13,13,13,14,15,15,16,16,16,16,17,17,17,17,17,17,17,17,17,18,19,19,19,19,19,20,21,21,21,21,22,23,23,24,24,24,24,25,25,25,25,25,25,25,25,25,25,25,26,26,27,28,28,28,28,28,28,28,28,28,28,28,28,28,28,28,28,28,28,29,30,30,30,30,31,31,31,31,32,32,32,32,32,32,33,33,34,34,34,35,36,36,36,36,36,36,36,37,37,37,37,37,38,38,38,39,39],\"value\":[35,103,0,100,59,0,735,0,0,13162,25589,8901,11,485,113,154,1088,850,190,0,0,0,41,46,16,129,2160,0,0,14,1,883,113,1,0,5058,10,2936,4358,1608,3061,793,3076,714,422,1908,488,0,0,0,2446,5655,5053,2787,4902,708,0,152,4,0,1,4,1,0,1326,168,2,1,502,0,10,0,24,0,25,0,7,38,0,8,68,0,46,19,0,0,0,0,0,4,4,7,7,0,118,0,0,13369,0,0,0,6,4907,116,164,0,0,28,28,0,23198,1135,39,375,0,0,1,2136,0,84,0,0,0,15,1271,0,359,30,53,10,31,60,40,50,0,20,80,40,7968,0,19,20509,775236,9990,10628,22,475542,3444,3010,1450,2040,0,0,0,19075,24369,23980,18398,15988,5,0,3,19,220,3493,688,7882,634,5141,212,26,1027,923,0,211,23,2,16,2,0,27110,8292,6806,6167,254,3,0,2098,249,3,4,1,0,0,0,300,0]},\"node\":{\"color\":\"blue\",\"label\":[\"EGY\",\"COD\",\"TZA\",\"ZAF\",\"KEN\",\"UGA\",\"SDN\",\"DZA\",\"MAR\",\"AGO\",\"GHA\",\"CIV\",\"CMR\",\"NER\",\"MLI\",\"BFA\",\"TCD\",\"SEN\",\"ZWE\",\"GIN\",\"RWA\",\"BEN\",\"BDI\",\"TUN\",\"TGO\",\"SLE\",\"CAF\",\"LBR\",\"MRT\",\"ERI\",\"GMB\",\"BWA\",\"NAM\",\"GAB\",\"GNB\",\"GNQ\",\"MUS\",\"SWZ\",\"SYC\",\"ETH\",\"NGA\"],\"line\":{\"color\":\"black\",\"width\":0.5},\"pad\":15,\"thickness\":20},\"type\":\"sankey\"}],                        {\"template\":{\"data\":{\"histogram2dcontour\":[{\"type\":\"histogram2dcontour\",\"colorbar\":{\"outlinewidth\":0,\"ticks\":\"\"},\"colorscale\":[[0.0,\"#0d0887\"],[0.1111111111111111,\"#46039f\"],[0.2222222222222222,\"#7201a8\"],[0.3333333333333333,\"#9c179e\"],[0.4444444444444444,\"#bd3786\"],[0.5555555555555556,\"#d8576b\"],[0.6666666666666666,\"#ed7953\"],[0.7777777777777778,\"#fb9f3a\"],[0.8888888888888888,\"#fdca26\"],[1.0,\"#f0f921\"]]}],\"choropleth\":[{\"type\":\"choropleth\",\"colorbar\":{\"outlinewidth\":0,\"ticks\":\"\"}}],\"histogram2d\":[{\"type\":\"histogram2d\",\"colorbar\":{\"outlinewidth\":0,\"ticks\":\"\"},\"colorscale\":[[0.0,\"#0d0887\"],[0.1111111111111111,\"#46039f\"],[0.2222222222222222,\"#7201a8\"],[0.3333333333333333,\"#9c179e\"],[0.4444444444444444,\"#bd3786\"],[0.5555555555555556,\"#d8576b\"],[0.6666666666666666,\"#ed7953\"],[0.7777777777777778,\"#fb9f3a\"],[0.8888888888888888,\"#fdca26\"],[1.0,\"#f0f921\"]]}],\"heatmap\":[{\"type\":\"heatmap\",\"colorbar\":{\"outlinewidth\":0,\"ticks\":\"\"},\"colorscale\":[[0.0,\"#0d0887\"],[0.1111111111111111,\"#46039f\"],[0.2222222222222222,\"#7201a8\"],[0.3333333333333333,\"#9c179e\"],[0.4444444444444444,\"#bd3786\"],[0.5555555555555556,\"#d8576b\"],[0.6666666666666666,\"#ed7953\"],[0.7777777777777778,\"#fb9f3a\"],[0.8888888888888888,\"#fdca26\"],[1.0,\"#f0f921\"]]}],\"heatmapgl\":[{\"type\":\"heatmapgl\",\"colorbar\":{\"outlinewidth\":0,\"ticks\":\"\"},\"colorscale\":[[0.0,\"#0d0887\"],[0.1111111111111111,\"#46039f\"],[0.2222222222222222,\"#7201a8\"],[0.3333333333333333,\"#9c179e\"],[0.4444444444444444,\"#bd3786\"],[0.5555555555555556,\"#d8576b\"],[0.6666666666666666,\"#ed7953\"],[0.7777777777777778,\"#fb9f3a\"],[0.8888888888888888,\"#fdca26\"],[1.0,\"#f0f921\"]]}],\"contourcarpet\":[{\"type\":\"contourcarpet\",\"colorbar\":{\"outlinewidth\":0,\"ticks\":\"\"}}],\"contour\":[{\"type\":\"contour\",\"colorbar\":{\"outlinewidth\":0,\"ticks\":\"\"},\"colorscale\":[[0.0,\"#0d0887\"],[0.1111111111111111,\"#46039f\"],[0.2222222222222222,\"#7201a8\"],[0.3333333333333333,\"#9c179e\"],[0.4444444444444444,\"#bd3786\"],[0.5555555555555556,\"#d8576b\"],[0.6666666666666666,\"#ed7953\"],[0.7777777777777778,\"#fb9f3a\"],[0.8888888888888888,\"#fdca26\"],[1.0,\"#f0f921\"]]}],\"surface\":[{\"type\":\"surface\",\"colorbar\":{\"outlinewidth\":0,\"ticks\":\"\"},\"colorscale\":[[0.0,\"#0d0887\"],[0.1111111111111111,\"#46039f\"],[0.2222222222222222,\"#7201a8\"],[0.3333333333333333,\"#9c179e\"],[0.4444444444444444,\"#bd3786\"],[0.5555555555555556,\"#d8576b\"],[0.6666666666666666,\"#ed7953\"],[0.7777777777777778,\"#fb9f3a\"],[0.8888888888888888,\"#fdca26\"],[1.0,\"#f0f921\"]]}],\"mesh3d\":[{\"type\":\"mesh3d\",\"colorbar\":{\"outlinewidth\":0,\"ticks\":\"\"}}],\"scatter\":[{\"fillpattern\":{\"fillmode\":\"overlay\",\"size\":10,\"solidity\":0.2},\"type\":\"scatter\"}],\"parcoords\":[{\"type\":\"parcoords\",\"line\":{\"colorbar\":{\"outlinewidth\":0,\"ticks\":\"\"}}}],\"scatterpolargl\":[{\"type\":\"scatterpolargl\",\"marker\":{\"colorbar\":{\"outlinewidth\":0,\"ticks\":\"\"}}}],\"bar\":[{\"error_x\":{\"color\":\"#2a3f5f\"},\"error_y\":{\"color\":\"#2a3f5f\"},\"marker\":{\"line\":{\"color\":\"#E5ECF6\",\"width\":0.5},\"pattern\":{\"fillmode\":\"overlay\",\"size\":10,\"solidity\":0.2}},\"type\":\"bar\"}],\"scattergeo\":[{\"type\":\"scattergeo\",\"marker\":{\"colorbar\":{\"outlinewidth\":0,\"ticks\":\"\"}}}],\"scatterpolar\":[{\"type\":\"scatterpolar\",\"marker\":{\"colorbar\":{\"outlinewidth\":0,\"ticks\":\"\"}}}],\"histogram\":[{\"marker\":{\"pattern\":{\"fillmode\":\"overlay\",\"size\":10,\"solidity\":0.2}},\"type\":\"histogram\"}],\"scattergl\":[{\"type\":\"scattergl\",\"marker\":{\"colorbar\":{\"outlinewidth\":0,\"ticks\":\"\"}}}],\"scatter3d\":[{\"type\":\"scatter3d\",\"line\":{\"colorbar\":{\"outlinewidth\":0,\"ticks\":\"\"}},\"marker\":{\"colorbar\":{\"outlinewidth\":0,\"ticks\":\"\"}}}],\"scattermapbox\":[{\"type\":\"scattermapbox\",\"marker\":{\"colorbar\":{\"outlinewidth\":0,\"ticks\":\"\"}}}],\"scatterternary\":[{\"type\":\"scatterternary\",\"marker\":{\"colorbar\":{\"outlinewidth\":0,\"ticks\":\"\"}}}],\"scattercarpet\":[{\"type\":\"scattercarpet\",\"marker\":{\"colorbar\":{\"outlinewidth\":0,\"ticks\":\"\"}}}],\"carpet\":[{\"aaxis\":{\"endlinecolor\":\"#2a3f5f\",\"gridcolor\":\"white\",\"linecolor\":\"white\",\"minorgridcolor\":\"white\",\"startlinecolor\":\"#2a3f5f\"},\"baxis\":{\"endlinecolor\":\"#2a3f5f\",\"gridcolor\":\"white\",\"linecolor\":\"white\",\"minorgridcolor\":\"white\",\"startlinecolor\":\"#2a3f5f\"},\"type\":\"carpet\"}],\"table\":[{\"cells\":{\"fill\":{\"color\":\"#EBF0F8\"},\"line\":{\"color\":\"white\"}},\"header\":{\"fill\":{\"color\":\"#C8D4E3\"},\"line\":{\"color\":\"white\"}},\"type\":\"table\"}],\"barpolar\":[{\"marker\":{\"line\":{\"color\":\"#E5ECF6\",\"width\":0.5},\"pattern\":{\"fillmode\":\"overlay\",\"size\":10,\"solidity\":0.2}},\"type\":\"barpolar\"}],\"pie\":[{\"automargin\":true,\"type\":\"pie\"}]},\"layout\":{\"autotypenumbers\":\"strict\",\"colorway\":[\"#636efa\",\"#EF553B\",\"#00cc96\",\"#ab63fa\",\"#FFA15A\",\"#19d3f3\",\"#FF6692\",\"#B6E880\",\"#FF97FF\",\"#FECB52\"],\"font\":{\"color\":\"#2a3f5f\"},\"hovermode\":\"closest\",\"hoverlabel\":{\"align\":\"left\"},\"paper_bgcolor\":\"white\",\"plot_bgcolor\":\"#E5ECF6\",\"polar\":{\"bgcolor\":\"#E5ECF6\",\"angularaxis\":{\"gridcolor\":\"white\",\"linecolor\":\"white\",\"ticks\":\"\"},\"radialaxis\":{\"gridcolor\":\"white\",\"linecolor\":\"white\",\"ticks\":\"\"}},\"ternary\":{\"bgcolor\":\"#E5ECF6\",\"aaxis\":{\"gridcolor\":\"white\",\"linecolor\":\"white\",\"ticks\":\"\"},\"baxis\":{\"gridcolor\":\"white\",\"linecolor\":\"white\",\"ticks\":\"\"},\"caxis\":{\"gridcolor\":\"white\",\"linecolor\":\"white\",\"ticks\":\"\"}},\"coloraxis\":{\"colorbar\":{\"outlinewidth\":0,\"ticks\":\"\"}},\"colorscale\":{\"sequential\":[[0.0,\"#0d0887\"],[0.1111111111111111,\"#46039f\"],[0.2222222222222222,\"#7201a8\"],[0.3333333333333333,\"#9c179e\"],[0.4444444444444444,\"#bd3786\"],[0.5555555555555556,\"#d8576b\"],[0.6666666666666666,\"#ed7953\"],[0.7777777777777778,\"#fb9f3a\"],[0.8888888888888888,\"#fdca26\"],[1.0,\"#f0f921\"]],\"sequentialminus\":[[0.0,\"#0d0887\"],[0.1111111111111111,\"#46039f\"],[0.2222222222222222,\"#7201a8\"],[0.3333333333333333,\"#9c179e\"],[0.4444444444444444,\"#bd3786\"],[0.5555555555555556,\"#d8576b\"],[0.6666666666666666,\"#ed7953\"],[0.7777777777777778,\"#fb9f3a\"],[0.8888888888888888,\"#fdca26\"],[1.0,\"#f0f921\"]],\"diverging\":[[0,\"#8e0152\"],[0.1,\"#c51b7d\"],[0.2,\"#de77ae\"],[0.3,\"#f1b6da\"],[0.4,\"#fde0ef\"],[0.5,\"#f7f7f7\"],[0.6,\"#e6f5d0\"],[0.7,\"#b8e186\"],[0.8,\"#7fbc41\"],[0.9,\"#4d9221\"],[1,\"#276419\"]]},\"xaxis\":{\"gridcolor\":\"white\",\"linecolor\":\"white\",\"ticks\":\"\",\"title\":{\"standoff\":15},\"zerolinecolor\":\"white\",\"automargin\":true,\"zerolinewidth\":2},\"yaxis\":{\"gridcolor\":\"white\",\"linecolor\":\"white\",\"ticks\":\"\",\"title\":{\"standoff\":15},\"zerolinecolor\":\"white\",\"automargin\":true,\"zerolinewidth\":2},\"scene\":{\"xaxis\":{\"backgroundcolor\":\"#E5ECF6\",\"gridcolor\":\"white\",\"linecolor\":\"white\",\"showbackground\":true,\"ticks\":\"\",\"zerolinecolor\":\"white\",\"gridwidth\":2},\"yaxis\":{\"backgroundcolor\":\"#E5ECF6\",\"gridcolor\":\"white\",\"linecolor\":\"white\",\"showbackground\":true,\"ticks\":\"\",\"zerolinecolor\":\"white\",\"gridwidth\":2},\"zaxis\":{\"backgroundcolor\":\"#E5ECF6\",\"gridcolor\":\"white\",\"linecolor\":\"white\",\"showbackground\":true,\"ticks\":\"\",\"zerolinecolor\":\"white\",\"gridwidth\":2}},\"shapedefaults\":{\"line\":{\"color\":\"#2a3f5f\"}},\"annotationdefaults\":{\"arrowcolor\":\"#2a3f5f\",\"arrowhead\":0,\"arrowwidth\":1},\"geo\":{\"bgcolor\":\"white\",\"landcolor\":\"#E5ECF6\",\"subunitcolor\":\"white\",\"showland\":true,\"showlakes\":true,\"lakecolor\":\"white\"},\"title\":{\"x\":0.05},\"mapbox\":{\"style\":\"light\"}}},\"title\":{\"text\":\"Sankey Diagram for Trade Flow\"},\"font\":{\"size\":12}},                        {\"responsive\": true}                    ).then(function(){\n",
       "                            \n",
       "var gd = document.getElementById('01a0cf3f-e0c2-4335-ac55-294b384c97b6');\n",
       "var x = new MutationObserver(function (mutations, observer) {{\n",
       "        var display = window.getComputedStyle(gd).display;\n",
       "        if (!display || display === 'none') {{\n",
       "            console.log([gd, 'removed!']);\n",
       "            Plotly.purge(gd);\n",
       "            observer.disconnect();\n",
       "        }}\n",
       "}});\n",
       "\n",
       "// Listen for the removal of the full notebook cells\n",
       "var notebookContainer = gd.closest('#notebook-container');\n",
       "if (notebookContainer) {{\n",
       "    x.observe(notebookContainer, {childList: true});\n",
       "}}\n",
       "\n",
       "// Listen for the clearing of the current output cell\n",
       "var outputEl = gd.closest('.output');\n",
       "if (outputEl) {{\n",
       "    x.observe(outputEl, {childList: true});\n",
       "}}\n",
       "\n",
       "                        })                };                });            </script>        </div>"
      ]
     },
     "metadata": {},
     "output_type": "display_data"
    }
   ],
   "source": [
    "links= dict(source= x, target= y, value= z)\n",
    "\n",
    "fig = go.Figure(go.Sankey(\n",
    "    node=dict(\n",
    "        pad=15,\n",
    "        thickness=20,\n",
    "        line=dict(color=\"black\", width=0.5),\n",
    "        label=nodes,\n",
    "        color=\"blue\"\n",
    "    ),\n",
    "    link=dict(\n",
    "        source=links['source'],\n",
    "        target=links['target'],\n",
    "        value=links['value'],\n",
    "        color=\"rgba(0,0,150,0.2)\"\n",
    "    )\n",
    "))\n",
    "\n",
    "# Add a title\n",
    "fig.update_layout(title_text=\"Sankey Diagram for Trade Flow\", font_size=12)\n",
    "\n",
    "# Show the plot\n",
    "fig.show()"
   ]
  },
  {
   "cell_type": "code",
   "execution_count": 82,
   "id": "df8de4a2",
   "metadata": {},
   "outputs": [
    {
     "data": {
      "text/html": [
       "        <script type=\"text/javascript\">\n",
       "        window.PlotlyConfig = {MathJaxConfig: 'local'};\n",
       "        if (window.MathJax && window.MathJax.Hub && window.MathJax.Hub.Config) {window.MathJax.Hub.Config({SVG: {font: \"STIX-Web\"}});}\n",
       "        if (typeof require !== 'undefined') {\n",
       "        require.undef(\"plotly\");\n",
       "        requirejs.config({\n",
       "            paths: {\n",
       "                'plotly': ['https://cdn.plot.ly/plotly-2.12.1.min']\n",
       "            }\n",
       "        });\n",
       "        require(['plotly'], function(Plotly) {\n",
       "            window._Plotly = Plotly;\n",
       "        });\n",
       "        }\n",
       "        </script>\n",
       "        "
      ]
     },
     "metadata": {},
     "output_type": "display_data"
    },
    {
     "data": {
      "application/vnd.plotly.v1+json": {
       "config": {
        "plotlyServerURL": "https://plot.ly"
       },
       "data": [
        {
         "coloraxis": "coloraxis",
         "geo": "geo",
         "hovertemplate": "<b>%{hovertext}</b><br><br>country2=%{location}<br>Import trade _metric Tons=%{z}<extra></extra>",
         "hovertext": [
          "AGO",
          "BDI",
          "BEN",
          "BFA",
          "BWA",
          "CAF",
          "CIV",
          "CMR",
          "COD",
          "DZA",
          "EGY",
          "ERI",
          "ETH",
          "GAB",
          "GHA",
          "GIN",
          "GMB",
          "GNB",
          "GNQ",
          "KEN",
          "LBR",
          "MAR",
          "MLI",
          "MRT",
          "MUS",
          "NAM",
          "NER",
          "RWA",
          "SDN",
          "SEN",
          "SLE",
          "SWZ",
          "SYC",
          "TCD",
          "TGO",
          "TUN",
          "TZA",
          "UGA",
          "ZAF",
          "ZWE"
         ],
         "locationmode": "ISO-3",
         "locations": [
          "AGO",
          "BDI",
          "BEN",
          "BFA",
          "BWA",
          "CAF",
          "CIV",
          "CMR",
          "COD",
          "DZA",
          "EGY",
          "ERI",
          "ETH",
          "GAB",
          "GHA",
          "GIN",
          "GMB",
          "GNB",
          "GNQ",
          "KEN",
          "LBR",
          "MAR",
          "MLI",
          "MRT",
          "MUS",
          "NAM",
          "NER",
          "RWA",
          "SDN",
          "SEN",
          "SLE",
          "SWZ",
          "SYC",
          "TCD",
          "TGO",
          "TUN",
          "TZA",
          "UGA",
          "ZAF",
          "ZWE"
         ],
         "name": "",
         "type": "choropleth",
         "z": [
          2367,
          0,
          2221,
          118,
          12697,
          7968,
          70,
          141,
          159,
          13970,
          138,
          5,
          300,
          234,
          536,
          24747,
          242,
          20,
          0,
          15,
          19,
          31305,
          0,
          1403681,
          48632,
          7329,
          22,
          0,
          0,
          5249,
          414,
          2355,
          0,
          13369,
          1645,
          0,
          735,
          997,
          52935,
          0
         ]
        }
       ],
       "layout": {
        "coloraxis": {
         "colorbar": {
          "title": {
           "text": "Import trade _metric Tons"
          }
         },
         "colorscale": [
          [
           0,
           "#440154"
          ],
          [
           0.1111111111111111,
           "#482878"
          ],
          [
           0.2222222222222222,
           "#3e4989"
          ],
          [
           0.3333333333333333,
           "#31688e"
          ],
          [
           0.4444444444444444,
           "#26828e"
          ],
          [
           0.5555555555555556,
           "#1f9e89"
          ],
          [
           0.6666666666666666,
           "#35b779"
          ],
          [
           0.7777777777777778,
           "#6ece58"
          ],
          [
           0.8888888888888888,
           "#b5de2b"
          ],
          [
           1,
           "#fde725"
          ]
         ]
        },
        "geo": {
         "center": {},
         "domain": {
          "x": [
           0,
           1
          ],
          "y": [
           0,
           1
          ]
         }
        },
        "legend": {
         "tracegroupgap": 0
        },
        "template": {
         "data": {
          "bar": [
           {
            "error_x": {
             "color": "#2a3f5f"
            },
            "error_y": {
             "color": "#2a3f5f"
            },
            "marker": {
             "line": {
              "color": "#E5ECF6",
              "width": 0.5
             },
             "pattern": {
              "fillmode": "overlay",
              "size": 10,
              "solidity": 0.2
             }
            },
            "type": "bar"
           }
          ],
          "barpolar": [
           {
            "marker": {
             "line": {
              "color": "#E5ECF6",
              "width": 0.5
             },
             "pattern": {
              "fillmode": "overlay",
              "size": 10,
              "solidity": 0.2
             }
            },
            "type": "barpolar"
           }
          ],
          "carpet": [
           {
            "aaxis": {
             "endlinecolor": "#2a3f5f",
             "gridcolor": "white",
             "linecolor": "white",
             "minorgridcolor": "white",
             "startlinecolor": "#2a3f5f"
            },
            "baxis": {
             "endlinecolor": "#2a3f5f",
             "gridcolor": "white",
             "linecolor": "white",
             "minorgridcolor": "white",
             "startlinecolor": "#2a3f5f"
            },
            "type": "carpet"
           }
          ],
          "choropleth": [
           {
            "colorbar": {
             "outlinewidth": 0,
             "ticks": ""
            },
            "type": "choropleth"
           }
          ],
          "contour": [
           {
            "colorbar": {
             "outlinewidth": 0,
             "ticks": ""
            },
            "colorscale": [
             [
              0,
              "#0d0887"
             ],
             [
              0.1111111111111111,
              "#46039f"
             ],
             [
              0.2222222222222222,
              "#7201a8"
             ],
             [
              0.3333333333333333,
              "#9c179e"
             ],
             [
              0.4444444444444444,
              "#bd3786"
             ],
             [
              0.5555555555555556,
              "#d8576b"
             ],
             [
              0.6666666666666666,
              "#ed7953"
             ],
             [
              0.7777777777777778,
              "#fb9f3a"
             ],
             [
              0.8888888888888888,
              "#fdca26"
             ],
             [
              1,
              "#f0f921"
             ]
            ],
            "type": "contour"
           }
          ],
          "contourcarpet": [
           {
            "colorbar": {
             "outlinewidth": 0,
             "ticks": ""
            },
            "type": "contourcarpet"
           }
          ],
          "heatmap": [
           {
            "colorbar": {
             "outlinewidth": 0,
             "ticks": ""
            },
            "colorscale": [
             [
              0,
              "#0d0887"
             ],
             [
              0.1111111111111111,
              "#46039f"
             ],
             [
              0.2222222222222222,
              "#7201a8"
             ],
             [
              0.3333333333333333,
              "#9c179e"
             ],
             [
              0.4444444444444444,
              "#bd3786"
             ],
             [
              0.5555555555555556,
              "#d8576b"
             ],
             [
              0.6666666666666666,
              "#ed7953"
             ],
             [
              0.7777777777777778,
              "#fb9f3a"
             ],
             [
              0.8888888888888888,
              "#fdca26"
             ],
             [
              1,
              "#f0f921"
             ]
            ],
            "type": "heatmap"
           }
          ],
          "heatmapgl": [
           {
            "colorbar": {
             "outlinewidth": 0,
             "ticks": ""
            },
            "colorscale": [
             [
              0,
              "#0d0887"
             ],
             [
              0.1111111111111111,
              "#46039f"
             ],
             [
              0.2222222222222222,
              "#7201a8"
             ],
             [
              0.3333333333333333,
              "#9c179e"
             ],
             [
              0.4444444444444444,
              "#bd3786"
             ],
             [
              0.5555555555555556,
              "#d8576b"
             ],
             [
              0.6666666666666666,
              "#ed7953"
             ],
             [
              0.7777777777777778,
              "#fb9f3a"
             ],
             [
              0.8888888888888888,
              "#fdca26"
             ],
             [
              1,
              "#f0f921"
             ]
            ],
            "type": "heatmapgl"
           }
          ],
          "histogram": [
           {
            "marker": {
             "pattern": {
              "fillmode": "overlay",
              "size": 10,
              "solidity": 0.2
             }
            },
            "type": "histogram"
           }
          ],
          "histogram2d": [
           {
            "colorbar": {
             "outlinewidth": 0,
             "ticks": ""
            },
            "colorscale": [
             [
              0,
              "#0d0887"
             ],
             [
              0.1111111111111111,
              "#46039f"
             ],
             [
              0.2222222222222222,
              "#7201a8"
             ],
             [
              0.3333333333333333,
              "#9c179e"
             ],
             [
              0.4444444444444444,
              "#bd3786"
             ],
             [
              0.5555555555555556,
              "#d8576b"
             ],
             [
              0.6666666666666666,
              "#ed7953"
             ],
             [
              0.7777777777777778,
              "#fb9f3a"
             ],
             [
              0.8888888888888888,
              "#fdca26"
             ],
             [
              1,
              "#f0f921"
             ]
            ],
            "type": "histogram2d"
           }
          ],
          "histogram2dcontour": [
           {
            "colorbar": {
             "outlinewidth": 0,
             "ticks": ""
            },
            "colorscale": [
             [
              0,
              "#0d0887"
             ],
             [
              0.1111111111111111,
              "#46039f"
             ],
             [
              0.2222222222222222,
              "#7201a8"
             ],
             [
              0.3333333333333333,
              "#9c179e"
             ],
             [
              0.4444444444444444,
              "#bd3786"
             ],
             [
              0.5555555555555556,
              "#d8576b"
             ],
             [
              0.6666666666666666,
              "#ed7953"
             ],
             [
              0.7777777777777778,
              "#fb9f3a"
             ],
             [
              0.8888888888888888,
              "#fdca26"
             ],
             [
              1,
              "#f0f921"
             ]
            ],
            "type": "histogram2dcontour"
           }
          ],
          "mesh3d": [
           {
            "colorbar": {
             "outlinewidth": 0,
             "ticks": ""
            },
            "type": "mesh3d"
           }
          ],
          "parcoords": [
           {
            "line": {
             "colorbar": {
              "outlinewidth": 0,
              "ticks": ""
             }
            },
            "type": "parcoords"
           }
          ],
          "pie": [
           {
            "automargin": true,
            "type": "pie"
           }
          ],
          "scatter": [
           {
            "fillpattern": {
             "fillmode": "overlay",
             "size": 10,
             "solidity": 0.2
            },
            "type": "scatter"
           }
          ],
          "scatter3d": [
           {
            "line": {
             "colorbar": {
              "outlinewidth": 0,
              "ticks": ""
             }
            },
            "marker": {
             "colorbar": {
              "outlinewidth": 0,
              "ticks": ""
             }
            },
            "type": "scatter3d"
           }
          ],
          "scattercarpet": [
           {
            "marker": {
             "colorbar": {
              "outlinewidth": 0,
              "ticks": ""
             }
            },
            "type": "scattercarpet"
           }
          ],
          "scattergeo": [
           {
            "marker": {
             "colorbar": {
              "outlinewidth": 0,
              "ticks": ""
             }
            },
            "type": "scattergeo"
           }
          ],
          "scattergl": [
           {
            "marker": {
             "colorbar": {
              "outlinewidth": 0,
              "ticks": ""
             }
            },
            "type": "scattergl"
           }
          ],
          "scattermapbox": [
           {
            "marker": {
             "colorbar": {
              "outlinewidth": 0,
              "ticks": ""
             }
            },
            "type": "scattermapbox"
           }
          ],
          "scatterpolar": [
           {
            "marker": {
             "colorbar": {
              "outlinewidth": 0,
              "ticks": ""
             }
            },
            "type": "scatterpolar"
           }
          ],
          "scatterpolargl": [
           {
            "marker": {
             "colorbar": {
              "outlinewidth": 0,
              "ticks": ""
             }
            },
            "type": "scatterpolargl"
           }
          ],
          "scatterternary": [
           {
            "marker": {
             "colorbar": {
              "outlinewidth": 0,
              "ticks": ""
             }
            },
            "type": "scatterternary"
           }
          ],
          "surface": [
           {
            "colorbar": {
             "outlinewidth": 0,
             "ticks": ""
            },
            "colorscale": [
             [
              0,
              "#0d0887"
             ],
             [
              0.1111111111111111,
              "#46039f"
             ],
             [
              0.2222222222222222,
              "#7201a8"
             ],
             [
              0.3333333333333333,
              "#9c179e"
             ],
             [
              0.4444444444444444,
              "#bd3786"
             ],
             [
              0.5555555555555556,
              "#d8576b"
             ],
             [
              0.6666666666666666,
              "#ed7953"
             ],
             [
              0.7777777777777778,
              "#fb9f3a"
             ],
             [
              0.8888888888888888,
              "#fdca26"
             ],
             [
              1,
              "#f0f921"
             ]
            ],
            "type": "surface"
           }
          ],
          "table": [
           {
            "cells": {
             "fill": {
              "color": "#EBF0F8"
             },
             "line": {
              "color": "white"
             }
            },
            "header": {
             "fill": {
              "color": "#C8D4E3"
             },
             "line": {
              "color": "white"
             }
            },
            "type": "table"
           }
          ]
         },
         "layout": {
          "annotationdefaults": {
           "arrowcolor": "#2a3f5f",
           "arrowhead": 0,
           "arrowwidth": 1
          },
          "autotypenumbers": "strict",
          "coloraxis": {
           "colorbar": {
            "outlinewidth": 0,
            "ticks": ""
           }
          },
          "colorscale": {
           "diverging": [
            [
             0,
             "#8e0152"
            ],
            [
             0.1,
             "#c51b7d"
            ],
            [
             0.2,
             "#de77ae"
            ],
            [
             0.3,
             "#f1b6da"
            ],
            [
             0.4,
             "#fde0ef"
            ],
            [
             0.5,
             "#f7f7f7"
            ],
            [
             0.6,
             "#e6f5d0"
            ],
            [
             0.7,
             "#b8e186"
            ],
            [
             0.8,
             "#7fbc41"
            ],
            [
             0.9,
             "#4d9221"
            ],
            [
             1,
             "#276419"
            ]
           ],
           "sequential": [
            [
             0,
             "#0d0887"
            ],
            [
             0.1111111111111111,
             "#46039f"
            ],
            [
             0.2222222222222222,
             "#7201a8"
            ],
            [
             0.3333333333333333,
             "#9c179e"
            ],
            [
             0.4444444444444444,
             "#bd3786"
            ],
            [
             0.5555555555555556,
             "#d8576b"
            ],
            [
             0.6666666666666666,
             "#ed7953"
            ],
            [
             0.7777777777777778,
             "#fb9f3a"
            ],
            [
             0.8888888888888888,
             "#fdca26"
            ],
            [
             1,
             "#f0f921"
            ]
           ],
           "sequentialminus": [
            [
             0,
             "#0d0887"
            ],
            [
             0.1111111111111111,
             "#46039f"
            ],
            [
             0.2222222222222222,
             "#7201a8"
            ],
            [
             0.3333333333333333,
             "#9c179e"
            ],
            [
             0.4444444444444444,
             "#bd3786"
            ],
            [
             0.5555555555555556,
             "#d8576b"
            ],
            [
             0.6666666666666666,
             "#ed7953"
            ],
            [
             0.7777777777777778,
             "#fb9f3a"
            ],
            [
             0.8888888888888888,
             "#fdca26"
            ],
            [
             1,
             "#f0f921"
            ]
           ]
          },
          "colorway": [
           "#636efa",
           "#EF553B",
           "#00cc96",
           "#ab63fa",
           "#FFA15A",
           "#19d3f3",
           "#FF6692",
           "#B6E880",
           "#FF97FF",
           "#FECB52"
          ],
          "font": {
           "color": "#2a3f5f"
          },
          "geo": {
           "bgcolor": "white",
           "lakecolor": "white",
           "landcolor": "#E5ECF6",
           "showlakes": true,
           "showland": true,
           "subunitcolor": "white"
          },
          "hoverlabel": {
           "align": "left"
          },
          "hovermode": "closest",
          "mapbox": {
           "style": "light"
          },
          "paper_bgcolor": "white",
          "plot_bgcolor": "#E5ECF6",
          "polar": {
           "angularaxis": {
            "gridcolor": "white",
            "linecolor": "white",
            "ticks": ""
           },
           "bgcolor": "#E5ECF6",
           "radialaxis": {
            "gridcolor": "white",
            "linecolor": "white",
            "ticks": ""
           }
          },
          "scene": {
           "xaxis": {
            "backgroundcolor": "#E5ECF6",
            "gridcolor": "white",
            "gridwidth": 2,
            "linecolor": "white",
            "showbackground": true,
            "ticks": "",
            "zerolinecolor": "white"
           },
           "yaxis": {
            "backgroundcolor": "#E5ECF6",
            "gridcolor": "white",
            "gridwidth": 2,
            "linecolor": "white",
            "showbackground": true,
            "ticks": "",
            "zerolinecolor": "white"
           },
           "zaxis": {
            "backgroundcolor": "#E5ECF6",
            "gridcolor": "white",
            "gridwidth": 2,
            "linecolor": "white",
            "showbackground": true,
            "ticks": "",
            "zerolinecolor": "white"
           }
          },
          "shapedefaults": {
           "line": {
            "color": "#2a3f5f"
           }
          },
          "ternary": {
           "aaxis": {
            "gridcolor": "white",
            "linecolor": "white",
            "ticks": ""
           },
           "baxis": {
            "gridcolor": "white",
            "linecolor": "white",
            "ticks": ""
           },
           "bgcolor": "#E5ECF6",
           "caxis": {
            "gridcolor": "white",
            "linecolor": "white",
            "ticks": ""
           }
          },
          "title": {
           "x": 0.05
          },
          "xaxis": {
           "automargin": true,
           "gridcolor": "white",
           "linecolor": "white",
           "ticks": "",
           "title": {
            "standoff": 15
           },
           "zerolinecolor": "white",
           "zerolinewidth": 2
          },
          "yaxis": {
           "automargin": true,
           "gridcolor": "white",
           "linecolor": "white",
           "ticks": "",
           "title": {
            "standoff": 15
           },
           "zerolinecolor": "white",
           "zerolinewidth": 2
          }
         }
        },
        "title": {
         "text": "Exports from Nigeria to Other Countries"
        }
       }
      },
      "text/html": [
       "<div>                            <div id=\"90953ed3-ef71-41b8-9593-d0cadbe564fd\" class=\"plotly-graph-div\" style=\"height:525px; width:100%;\"></div>            <script type=\"text/javascript\">                require([\"plotly\"], function(Plotly) {                    window.PLOTLYENV=window.PLOTLYENV || {};                                    if (document.getElementById(\"90953ed3-ef71-41b8-9593-d0cadbe564fd\")) {                    Plotly.newPlot(                        \"90953ed3-ef71-41b8-9593-d0cadbe564fd\",                        [{\"coloraxis\":\"coloraxis\",\"geo\":\"geo\",\"hovertemplate\":\"<b>%{hovertext}</b><br><br>country2=%{location}<br>Import trade _metric Tons=%{z}<extra></extra>\",\"hovertext\":[\"AGO\",\"BDI\",\"BEN\",\"BFA\",\"BWA\",\"CAF\",\"CIV\",\"CMR\",\"COD\",\"DZA\",\"EGY\",\"ERI\",\"ETH\",\"GAB\",\"GHA\",\"GIN\",\"GMB\",\"GNB\",\"GNQ\",\"KEN\",\"LBR\",\"MAR\",\"MLI\",\"MRT\",\"MUS\",\"NAM\",\"NER\",\"RWA\",\"SDN\",\"SEN\",\"SLE\",\"SWZ\",\"SYC\",\"TCD\",\"TGO\",\"TUN\",\"TZA\",\"UGA\",\"ZAF\",\"ZWE\"],\"locationmode\":\"ISO-3\",\"locations\":[\"AGO\",\"BDI\",\"BEN\",\"BFA\",\"BWA\",\"CAF\",\"CIV\",\"CMR\",\"COD\",\"DZA\",\"EGY\",\"ERI\",\"ETH\",\"GAB\",\"GHA\",\"GIN\",\"GMB\",\"GNB\",\"GNQ\",\"KEN\",\"LBR\",\"MAR\",\"MLI\",\"MRT\",\"MUS\",\"NAM\",\"NER\",\"RWA\",\"SDN\",\"SEN\",\"SLE\",\"SWZ\",\"SYC\",\"TCD\",\"TGO\",\"TUN\",\"TZA\",\"UGA\",\"ZAF\",\"ZWE\"],\"name\":\"\",\"z\":[2367,0,2221,118,12697,7968,70,141,159,13970,138,5,300,234,536,24747,242,20,0,15,19,31305,0,1403681,48632,7329,22,0,0,5249,414,2355,0,13369,1645,0,735,997,52935,0],\"type\":\"choropleth\"}],                        {\"template\":{\"data\":{\"histogram2dcontour\":[{\"type\":\"histogram2dcontour\",\"colorbar\":{\"outlinewidth\":0,\"ticks\":\"\"},\"colorscale\":[[0.0,\"#0d0887\"],[0.1111111111111111,\"#46039f\"],[0.2222222222222222,\"#7201a8\"],[0.3333333333333333,\"#9c179e\"],[0.4444444444444444,\"#bd3786\"],[0.5555555555555556,\"#d8576b\"],[0.6666666666666666,\"#ed7953\"],[0.7777777777777778,\"#fb9f3a\"],[0.8888888888888888,\"#fdca26\"],[1.0,\"#f0f921\"]]}],\"choropleth\":[{\"type\":\"choropleth\",\"colorbar\":{\"outlinewidth\":0,\"ticks\":\"\"}}],\"histogram2d\":[{\"type\":\"histogram2d\",\"colorbar\":{\"outlinewidth\":0,\"ticks\":\"\"},\"colorscale\":[[0.0,\"#0d0887\"],[0.1111111111111111,\"#46039f\"],[0.2222222222222222,\"#7201a8\"],[0.3333333333333333,\"#9c179e\"],[0.4444444444444444,\"#bd3786\"],[0.5555555555555556,\"#d8576b\"],[0.6666666666666666,\"#ed7953\"],[0.7777777777777778,\"#fb9f3a\"],[0.8888888888888888,\"#fdca26\"],[1.0,\"#f0f921\"]]}],\"heatmap\":[{\"type\":\"heatmap\",\"colorbar\":{\"outlinewidth\":0,\"ticks\":\"\"},\"colorscale\":[[0.0,\"#0d0887\"],[0.1111111111111111,\"#46039f\"],[0.2222222222222222,\"#7201a8\"],[0.3333333333333333,\"#9c179e\"],[0.4444444444444444,\"#bd3786\"],[0.5555555555555556,\"#d8576b\"],[0.6666666666666666,\"#ed7953\"],[0.7777777777777778,\"#fb9f3a\"],[0.8888888888888888,\"#fdca26\"],[1.0,\"#f0f921\"]]}],\"heatmapgl\":[{\"type\":\"heatmapgl\",\"colorbar\":{\"outlinewidth\":0,\"ticks\":\"\"},\"colorscale\":[[0.0,\"#0d0887\"],[0.1111111111111111,\"#46039f\"],[0.2222222222222222,\"#7201a8\"],[0.3333333333333333,\"#9c179e\"],[0.4444444444444444,\"#bd3786\"],[0.5555555555555556,\"#d8576b\"],[0.6666666666666666,\"#ed7953\"],[0.7777777777777778,\"#fb9f3a\"],[0.8888888888888888,\"#fdca26\"],[1.0,\"#f0f921\"]]}],\"contourcarpet\":[{\"type\":\"contourcarpet\",\"colorbar\":{\"outlinewidth\":0,\"ticks\":\"\"}}],\"contour\":[{\"type\":\"contour\",\"colorbar\":{\"outlinewidth\":0,\"ticks\":\"\"},\"colorscale\":[[0.0,\"#0d0887\"],[0.1111111111111111,\"#46039f\"],[0.2222222222222222,\"#7201a8\"],[0.3333333333333333,\"#9c179e\"],[0.4444444444444444,\"#bd3786\"],[0.5555555555555556,\"#d8576b\"],[0.6666666666666666,\"#ed7953\"],[0.7777777777777778,\"#fb9f3a\"],[0.8888888888888888,\"#fdca26\"],[1.0,\"#f0f921\"]]}],\"surface\":[{\"type\":\"surface\",\"colorbar\":{\"outlinewidth\":0,\"ticks\":\"\"},\"colorscale\":[[0.0,\"#0d0887\"],[0.1111111111111111,\"#46039f\"],[0.2222222222222222,\"#7201a8\"],[0.3333333333333333,\"#9c179e\"],[0.4444444444444444,\"#bd3786\"],[0.5555555555555556,\"#d8576b\"],[0.6666666666666666,\"#ed7953\"],[0.7777777777777778,\"#fb9f3a\"],[0.8888888888888888,\"#fdca26\"],[1.0,\"#f0f921\"]]}],\"mesh3d\":[{\"type\":\"mesh3d\",\"colorbar\":{\"outlinewidth\":0,\"ticks\":\"\"}}],\"scatter\":[{\"fillpattern\":{\"fillmode\":\"overlay\",\"size\":10,\"solidity\":0.2},\"type\":\"scatter\"}],\"parcoords\":[{\"type\":\"parcoords\",\"line\":{\"colorbar\":{\"outlinewidth\":0,\"ticks\":\"\"}}}],\"scatterpolargl\":[{\"type\":\"scatterpolargl\",\"marker\":{\"colorbar\":{\"outlinewidth\":0,\"ticks\":\"\"}}}],\"bar\":[{\"error_x\":{\"color\":\"#2a3f5f\"},\"error_y\":{\"color\":\"#2a3f5f\"},\"marker\":{\"line\":{\"color\":\"#E5ECF6\",\"width\":0.5},\"pattern\":{\"fillmode\":\"overlay\",\"size\":10,\"solidity\":0.2}},\"type\":\"bar\"}],\"scattergeo\":[{\"type\":\"scattergeo\",\"marker\":{\"colorbar\":{\"outlinewidth\":0,\"ticks\":\"\"}}}],\"scatterpolar\":[{\"type\":\"scatterpolar\",\"marker\":{\"colorbar\":{\"outlinewidth\":0,\"ticks\":\"\"}}}],\"histogram\":[{\"marker\":{\"pattern\":{\"fillmode\":\"overlay\",\"size\":10,\"solidity\":0.2}},\"type\":\"histogram\"}],\"scattergl\":[{\"type\":\"scattergl\",\"marker\":{\"colorbar\":{\"outlinewidth\":0,\"ticks\":\"\"}}}],\"scatter3d\":[{\"type\":\"scatter3d\",\"line\":{\"colorbar\":{\"outlinewidth\":0,\"ticks\":\"\"}},\"marker\":{\"colorbar\":{\"outlinewidth\":0,\"ticks\":\"\"}}}],\"scattermapbox\":[{\"type\":\"scattermapbox\",\"marker\":{\"colorbar\":{\"outlinewidth\":0,\"ticks\":\"\"}}}],\"scatterternary\":[{\"type\":\"scatterternary\",\"marker\":{\"colorbar\":{\"outlinewidth\":0,\"ticks\":\"\"}}}],\"scattercarpet\":[{\"type\":\"scattercarpet\",\"marker\":{\"colorbar\":{\"outlinewidth\":0,\"ticks\":\"\"}}}],\"carpet\":[{\"aaxis\":{\"endlinecolor\":\"#2a3f5f\",\"gridcolor\":\"white\",\"linecolor\":\"white\",\"minorgridcolor\":\"white\",\"startlinecolor\":\"#2a3f5f\"},\"baxis\":{\"endlinecolor\":\"#2a3f5f\",\"gridcolor\":\"white\",\"linecolor\":\"white\",\"minorgridcolor\":\"white\",\"startlinecolor\":\"#2a3f5f\"},\"type\":\"carpet\"}],\"table\":[{\"cells\":{\"fill\":{\"color\":\"#EBF0F8\"},\"line\":{\"color\":\"white\"}},\"header\":{\"fill\":{\"color\":\"#C8D4E3\"},\"line\":{\"color\":\"white\"}},\"type\":\"table\"}],\"barpolar\":[{\"marker\":{\"line\":{\"color\":\"#E5ECF6\",\"width\":0.5},\"pattern\":{\"fillmode\":\"overlay\",\"size\":10,\"solidity\":0.2}},\"type\":\"barpolar\"}],\"pie\":[{\"automargin\":true,\"type\":\"pie\"}]},\"layout\":{\"autotypenumbers\":\"strict\",\"colorway\":[\"#636efa\",\"#EF553B\",\"#00cc96\",\"#ab63fa\",\"#FFA15A\",\"#19d3f3\",\"#FF6692\",\"#B6E880\",\"#FF97FF\",\"#FECB52\"],\"font\":{\"color\":\"#2a3f5f\"},\"hovermode\":\"closest\",\"hoverlabel\":{\"align\":\"left\"},\"paper_bgcolor\":\"white\",\"plot_bgcolor\":\"#E5ECF6\",\"polar\":{\"bgcolor\":\"#E5ECF6\",\"angularaxis\":{\"gridcolor\":\"white\",\"linecolor\":\"white\",\"ticks\":\"\"},\"radialaxis\":{\"gridcolor\":\"white\",\"linecolor\":\"white\",\"ticks\":\"\"}},\"ternary\":{\"bgcolor\":\"#E5ECF6\",\"aaxis\":{\"gridcolor\":\"white\",\"linecolor\":\"white\",\"ticks\":\"\"},\"baxis\":{\"gridcolor\":\"white\",\"linecolor\":\"white\",\"ticks\":\"\"},\"caxis\":{\"gridcolor\":\"white\",\"linecolor\":\"white\",\"ticks\":\"\"}},\"coloraxis\":{\"colorbar\":{\"outlinewidth\":0,\"ticks\":\"\"}},\"colorscale\":{\"sequential\":[[0.0,\"#0d0887\"],[0.1111111111111111,\"#46039f\"],[0.2222222222222222,\"#7201a8\"],[0.3333333333333333,\"#9c179e\"],[0.4444444444444444,\"#bd3786\"],[0.5555555555555556,\"#d8576b\"],[0.6666666666666666,\"#ed7953\"],[0.7777777777777778,\"#fb9f3a\"],[0.8888888888888888,\"#fdca26\"],[1.0,\"#f0f921\"]],\"sequentialminus\":[[0.0,\"#0d0887\"],[0.1111111111111111,\"#46039f\"],[0.2222222222222222,\"#7201a8\"],[0.3333333333333333,\"#9c179e\"],[0.4444444444444444,\"#bd3786\"],[0.5555555555555556,\"#d8576b\"],[0.6666666666666666,\"#ed7953\"],[0.7777777777777778,\"#fb9f3a\"],[0.8888888888888888,\"#fdca26\"],[1.0,\"#f0f921\"]],\"diverging\":[[0,\"#8e0152\"],[0.1,\"#c51b7d\"],[0.2,\"#de77ae\"],[0.3,\"#f1b6da\"],[0.4,\"#fde0ef\"],[0.5,\"#f7f7f7\"],[0.6,\"#e6f5d0\"],[0.7,\"#b8e186\"],[0.8,\"#7fbc41\"],[0.9,\"#4d9221\"],[1,\"#276419\"]]},\"xaxis\":{\"gridcolor\":\"white\",\"linecolor\":\"white\",\"ticks\":\"\",\"title\":{\"standoff\":15},\"zerolinecolor\":\"white\",\"automargin\":true,\"zerolinewidth\":2},\"yaxis\":{\"gridcolor\":\"white\",\"linecolor\":\"white\",\"ticks\":\"\",\"title\":{\"standoff\":15},\"zerolinecolor\":\"white\",\"automargin\":true,\"zerolinewidth\":2},\"scene\":{\"xaxis\":{\"backgroundcolor\":\"#E5ECF6\",\"gridcolor\":\"white\",\"linecolor\":\"white\",\"showbackground\":true,\"ticks\":\"\",\"zerolinecolor\":\"white\",\"gridwidth\":2},\"yaxis\":{\"backgroundcolor\":\"#E5ECF6\",\"gridcolor\":\"white\",\"linecolor\":\"white\",\"showbackground\":true,\"ticks\":\"\",\"zerolinecolor\":\"white\",\"gridwidth\":2},\"zaxis\":{\"backgroundcolor\":\"#E5ECF6\",\"gridcolor\":\"white\",\"linecolor\":\"white\",\"showbackground\":true,\"ticks\":\"\",\"zerolinecolor\":\"white\",\"gridwidth\":2}},\"shapedefaults\":{\"line\":{\"color\":\"#2a3f5f\"}},\"annotationdefaults\":{\"arrowcolor\":\"#2a3f5f\",\"arrowhead\":0,\"arrowwidth\":1},\"geo\":{\"bgcolor\":\"white\",\"landcolor\":\"#E5ECF6\",\"subunitcolor\":\"white\",\"showland\":true,\"showlakes\":true,\"lakecolor\":\"white\"},\"title\":{\"x\":0.05},\"mapbox\":{\"style\":\"light\"}}},\"geo\":{\"domain\":{\"x\":[0.0,1.0],\"y\":[0.0,1.0]},\"center\":{}},\"coloraxis\":{\"colorbar\":{\"title\":{\"text\":\"Import trade _metric Tons\"}},\"colorscale\":[[0.0,\"#440154\"],[0.1111111111111111,\"#482878\"],[0.2222222222222222,\"#3e4989\"],[0.3333333333333333,\"#31688e\"],[0.4444444444444444,\"#26828e\"],[0.5555555555555556,\"#1f9e89\"],[0.6666666666666666,\"#35b779\"],[0.7777777777777778,\"#6ece58\"],[0.8888888888888888,\"#b5de2b\"],[1.0,\"#fde725\"]]},\"legend\":{\"tracegroupgap\":0},\"title\":{\"text\":\"Exports from Nigeria to Other Countries\"}},                        {\"responsive\": true}                    ).then(function(){\n",
       "                            \n",
       "var gd = document.getElementById('90953ed3-ef71-41b8-9593-d0cadbe564fd');\n",
       "var x = new MutationObserver(function (mutations, observer) {{\n",
       "        var display = window.getComputedStyle(gd).display;\n",
       "        if (!display || display === 'none') {{\n",
       "            console.log([gd, 'removed!']);\n",
       "            Plotly.purge(gd);\n",
       "            observer.disconnect();\n",
       "        }}\n",
       "}});\n",
       "\n",
       "// Listen for the removal of the full notebook cells\n",
       "var notebookContainer = gd.closest('#notebook-container');\n",
       "if (notebookContainer) {{\n",
       "    x.observe(notebookContainer, {childList: true});\n",
       "}}\n",
       "\n",
       "// Listen for the clearing of the current output cell\n",
       "var outputEl = gd.closest('.output');\n",
       "if (outputEl) {{\n",
       "    x.observe(outputEl, {childList: true});\n",
       "}}\n",
       "\n",
       "                        })                };                });            </script>        </div>"
      ]
     },
     "metadata": {},
     "output_type": "display_data"
    }
   ],
   "source": [
    "import pandas as pd\n",
    "import plotly.express as px\n",
    "from plotly.offline import init_notebook_mode\n",
    "init_notebook_mode(connected=True)\n",
    "\n",
    "\n",
    "# Example data\n",
    "\n",
    "\n",
    "# Aggregate data if needed (sum imports/exports for each country)\n",
    "df_grouped = df_filtered.groupby(\"country2\").agg({'Import trade _metric Tons': \"sum\"}).reset_index()\n",
    "\n",
    "# Create the map plot\n",
    "fig = px.choropleth(\n",
    "    df_grouped,\n",
    "    locations=\"country2\",          # Column with country codes (ISO Alpha-3)\n",
    "    locationmode=\"ISO-3\",            # ISO Alpha-3 standard for countries\n",
    "    color=\"Import trade _metric Tons\",                 # Column for color intensity (e.g., exports or imports)\n",
    "    hover_name=\"country2\",         # Displayed when hovering\n",
    "    title=\"Exports from Nigeria to Other Countries\",\n",
    "    color_continuous_scale=\"Viridis\" # Color scale\n",
    ")\n",
    "\n",
    "# Show the plot\n",
    "fig.show()\n"
   ]
  },
  {
   "cell_type": "code",
   "execution_count": 83,
   "id": "d325ea5f",
   "metadata": {},
   "outputs": [
    {
     "name": "stdout",
     "output_type": "stream",
     "text": [
      "Defaulting to user installation because normal site-packages is not writeable\n",
      "Collecting geopandas\n",
      "  Obtaining dependency information for geopandas from https://files.pythonhosted.org/packages/c4/64/7d344cfcef5efddf9cf32f59af7f855828e9d74b5f862eddf5bfd9f25323/geopandas-1.0.1-py3-none-any.whl.metadata\n",
      "  Downloading geopandas-1.0.1-py3-none-any.whl.metadata (2.2 kB)\n",
      "Requirement already satisfied: numpy>=1.22 in c:\\users\\user\\appdata\\roaming\\python\\python311\\site-packages (from geopandas) (1.24.4)\n",
      "Collecting pyogrio>=0.7.2 (from geopandas)\n",
      "  Obtaining dependency information for pyogrio>=0.7.2 from https://files.pythonhosted.org/packages/94/8d/24f21e6a93ca418231aee3bddade7a0766c89c523832f29e08a8860f83e6/pyogrio-0.10.0-cp311-cp311-win_amd64.whl.metadata\n",
      "  Downloading pyogrio-0.10.0-cp311-cp311-win_amd64.whl.metadata (5.6 kB)\n",
      "Requirement already satisfied: packaging in c:\\users\\user\\appdata\\roaming\\python\\python311\\site-packages (from geopandas) (24.2)\n",
      "Requirement already satisfied: pandas>=1.4.0 in c:\\users\\user\\appdata\\roaming\\python\\python311\\site-packages (from geopandas) (1.5.3)\n",
      "Collecting pyproj>=3.3.0 (from geopandas)\n",
      "  Obtaining dependency information for pyproj>=3.3.0 from https://files.pythonhosted.org/packages/26/0c/b084e8839a117eaad8cb4fbaa81bbb24c6f183de0ee95c6c4e2770ab6f09/pyproj-3.7.0-cp311-cp311-win_amd64.whl.metadata\n",
      "  Downloading pyproj-3.7.0-cp311-cp311-win_amd64.whl.metadata (31 kB)\n",
      "Collecting shapely>=2.0.0 (from geopandas)\n",
      "  Obtaining dependency information for shapely>=2.0.0 from https://files.pythonhosted.org/packages/b1/5a/6a67d929c467a1973b6bb9f0b00159cc343b02bf9a8d26db1abd2f87aa23/shapely-2.0.6-cp311-cp311-win_amd64.whl.metadata\n",
      "  Downloading shapely-2.0.6-cp311-cp311-win_amd64.whl.metadata (7.2 kB)\n",
      "Requirement already satisfied: python-dateutil>=2.8.1 in c:\\programdata\\anaconda3\\lib\\site-packages (from pandas>=1.4.0->geopandas) (2.8.2)\n",
      "Requirement already satisfied: pytz>=2020.1 in c:\\programdata\\anaconda3\\lib\\site-packages (from pandas>=1.4.0->geopandas) (2023.3.post1)\n",
      "Requirement already satisfied: certifi in c:\\programdata\\anaconda3\\lib\\site-packages (from pyogrio>=0.7.2->geopandas) (2023.11.17)\n",
      "Requirement already satisfied: six>=1.5 in c:\\programdata\\anaconda3\\lib\\site-packages (from python-dateutil>=2.8.1->pandas>=1.4.0->geopandas) (1.16.0)\n",
      "Downloading geopandas-1.0.1-py3-none-any.whl (323 kB)\n",
      "   ---------------------------------------- 0.0/323.6 kB ? eta -:--:--\n",
      "   ------- -------------------------------- 61.4/323.6 kB 1.1 MB/s eta 0:00:01\n",
      "   ------- -------------------------------- 61.4/323.6 kB 1.1 MB/s eta 0:00:01\n",
      "   --------- ----------------------------- 81.9/323.6 kB 508.4 kB/s eta 0:00:01\n",
      "   ---------------- --------------------- 143.4/323.6 kB 774.0 kB/s eta 0:00:01\n",
      "   --------------------- ---------------- 184.3/323.6 kB 857.5 kB/s eta 0:00:01\n",
      "   --------------------- ---------------- 184.3/323.6 kB 857.5 kB/s eta 0:00:01\n",
      "   ------------------------------ ------- 256.0/323.6 kB 749.3 kB/s eta 0:00:01\n",
      "   -------------------------------------- 323.6/323.6 kB 835.6 kB/s eta 0:00:00\n",
      "Downloading pyogrio-0.10.0-cp311-cp311-win_amd64.whl (16.2 MB)\n",
      "   ---------------------------------------- 0.0/16.2 MB ? eta -:--:--\n",
      "   ---------------------------------------- 0.1/16.2 MB 2.0 MB/s eta 0:00:09\n",
      "   ---------------------------------------- 0.2/16.2 MB 2.1 MB/s eta 0:00:08\n",
      "    --------------------------------------- 0.3/16.2 MB 2.3 MB/s eta 0:00:08\n",
      "    --------------------------------------- 0.3/16.2 MB 1.8 MB/s eta 0:00:09\n",
      "    --------------------------------------- 0.4/16.2 MB 1.7 MB/s eta 0:00:10\n",
      "    --------------------------------------- 0.4/16.2 MB 1.7 MB/s eta 0:00:10\n",
      "    --------------------------------------- 0.4/16.2 MB 1.7 MB/s eta 0:00:10\n",
      "    --------------------------------------- 0.4/16.2 MB 1.7 MB/s eta 0:00:10\n",
      "    --------------------------------------- 0.4/16.2 MB 1.7 MB/s eta 0:00:10\n",
      "   - -------------------------------------- 0.7/16.2 MB 1.6 MB/s eta 0:00:10\n",
      "   - -------------------------------------- 0.8/16.2 MB 1.5 MB/s eta 0:00:11\n",
      "   -- ------------------------------------- 0.8/16.2 MB 1.5 MB/s eta 0:00:10\n",
      "   -- ------------------------------------- 0.9/16.2 MB 1.5 MB/s eta 0:00:11\n",
      "   -- ------------------------------------- 0.9/16.2 MB 1.5 MB/s eta 0:00:11\n",
      "   -- ------------------------------------- 1.0/16.2 MB 1.4 MB/s eta 0:00:11\n",
      "   -- ------------------------------------- 1.1/16.2 MB 1.5 MB/s eta 0:00:11\n",
      "   -- ------------------------------------- 1.1/16.2 MB 1.4 MB/s eta 0:00:11\n",
      "   -- ------------------------------------- 1.2/16.2 MB 1.4 MB/s eta 0:00:11\n",
      "   --- ------------------------------------ 1.2/16.2 MB 1.4 MB/s eta 0:00:11\n",
      "   --- ------------------------------------ 1.3/16.2 MB 1.4 MB/s eta 0:00:11\n",
      "   --- ------------------------------------ 1.3/16.2 MB 1.4 MB/s eta 0:00:11\n",
      "   --- ------------------------------------ 1.4/16.2 MB 1.4 MB/s eta 0:00:11\n",
      "   --- ------------------------------------ 1.5/16.2 MB 1.4 MB/s eta 0:00:11\n",
      "   --- ------------------------------------ 1.6/16.2 MB 1.4 MB/s eta 0:00:11\n",
      "   ---- ----------------------------------- 1.7/16.2 MB 1.4 MB/s eta 0:00:11\n",
      "   ---- ----------------------------------- 1.7/16.2 MB 1.4 MB/s eta 0:00:11\n",
      "   ---- ----------------------------------- 1.8/16.2 MB 1.4 MB/s eta 0:00:11\n",
      "   ---- ----------------------------------- 1.8/16.2 MB 1.4 MB/s eta 0:00:11\n",
      "   ---- ----------------------------------- 1.9/16.2 MB 1.4 MB/s eta 0:00:11\n",
      "   ---- ----------------------------------- 2.0/16.2 MB 1.4 MB/s eta 0:00:11\n",
      "   ----- ---------------------------------- 2.0/16.2 MB 1.4 MB/s eta 0:00:11\n",
      "   ----- ---------------------------------- 2.0/16.2 MB 1.4 MB/s eta 0:00:11\n",
      "   ----- ---------------------------------- 2.1/16.2 MB 1.4 MB/s eta 0:00:11\n",
      "   ----- ---------------------------------- 2.2/16.2 MB 1.4 MB/s eta 0:00:11\n",
      "   ----- ---------------------------------- 2.3/16.2 MB 1.4 MB/s eta 0:00:11\n",
      "   ----- ---------------------------------- 2.3/16.2 MB 1.4 MB/s eta 0:00:11\n",
      "   ----- ---------------------------------- 2.4/16.2 MB 1.4 MB/s eta 0:00:11\n",
      "   ------ --------------------------------- 2.5/16.2 MB 1.4 MB/s eta 0:00:10\n",
      "   ------ --------------------------------- 2.5/16.2 MB 1.4 MB/s eta 0:00:10\n",
      "   ------ --------------------------------- 2.6/16.2 MB 1.4 MB/s eta 0:00:10\n",
      "   ------ --------------------------------- 2.7/16.2 MB 1.4 MB/s eta 0:00:10\n",
      "   ------ --------------------------------- 2.8/16.2 MB 1.4 MB/s eta 0:00:10\n",
      "   ------ --------------------------------- 2.8/16.2 MB 1.4 MB/s eta 0:00:10\n",
      "   ------- -------------------------------- 2.9/16.2 MB 1.4 MB/s eta 0:00:10\n",
      "   ------- -------------------------------- 3.0/16.2 MB 1.4 MB/s eta 0:00:10\n",
      "   ------- -------------------------------- 3.0/16.2 MB 1.4 MB/s eta 0:00:10\n",
      "   ------- -------------------------------- 3.0/16.2 MB 1.4 MB/s eta 0:00:10\n",
      "   ------- -------------------------------- 3.0/16.2 MB 1.4 MB/s eta 0:00:10\n",
      "   ------- -------------------------------- 3.0/16.2 MB 1.4 MB/s eta 0:00:10\n",
      "   -------- ------------------------------- 3.3/16.2 MB 1.4 MB/s eta 0:00:10\n",
      "   -------- ------------------------------- 3.4/16.2 MB 1.4 MB/s eta 0:00:10\n",
      "   -------- ------------------------------- 3.4/16.2 MB 1.4 MB/s eta 0:00:10\n",
      "   -------- ------------------------------- 3.4/16.2 MB 1.4 MB/s eta 0:00:10\n",
      "   -------- ------------------------------- 3.5/16.2 MB 1.4 MB/s eta 0:00:10\n",
      "   -------- ------------------------------- 3.6/16.2 MB 1.4 MB/s eta 0:00:10\n",
      "   -------- ------------------------------- 3.6/16.2 MB 1.4 MB/s eta 0:00:10\n",
      "   -------- ------------------------------- 3.6/16.2 MB 1.3 MB/s eta 0:00:10\n",
      "   -------- ------------------------------- 3.6/16.2 MB 1.3 MB/s eta 0:00:10\n",
      "   --------- ------------------------------ 3.7/16.2 MB 1.3 MB/s eta 0:00:10\n",
      "   --------- ------------------------------ 3.8/16.2 MB 1.3 MB/s eta 0:00:10\n",
      "   --------- ------------------------------ 3.8/16.2 MB 1.3 MB/s eta 0:00:10\n",
      "   --------- ------------------------------ 3.8/16.2 MB 1.3 MB/s eta 0:00:10\n",
      "   --------- ------------------------------ 3.9/16.2 MB 1.3 MB/s eta 0:00:10\n",
      "   --------- ------------------------------ 3.9/16.2 MB 1.3 MB/s eta 0:00:10\n",
      "   --------- ------------------------------ 4.0/16.2 MB 1.3 MB/s eta 0:00:10\n",
      "   --------- ------------------------------ 4.0/16.2 MB 1.3 MB/s eta 0:00:10\n",
      "   ---------- ----------------------------- 4.1/16.2 MB 1.3 MB/s eta 0:00:10\n",
      "   ---------- ----------------------------- 4.1/16.2 MB 1.3 MB/s eta 0:00:10\n",
      "   ---------- ----------------------------- 4.1/16.2 MB 1.3 MB/s eta 0:00:10\n",
      "   ---------- ----------------------------- 4.2/16.2 MB 1.3 MB/s eta 0:00:10\n",
      "   ---------- ----------------------------- 4.2/16.2 MB 1.3 MB/s eta 0:00:10\n",
      "   ---------- ----------------------------- 4.3/16.2 MB 1.2 MB/s eta 0:00:10\n",
      "   ---------- ----------------------------- 4.3/16.2 MB 1.2 MB/s eta 0:00:10\n",
      "   ---------- ----------------------------- 4.3/16.2 MB 1.2 MB/s eta 0:00:10\n",
      "   ----------- ---------------------------- 4.5/16.2 MB 1.2 MB/s eta 0:00:10\n",
      "   ----------- ---------------------------- 4.5/16.2 MB 1.2 MB/s eta 0:00:10\n",
      "   ----------- ---------------------------- 4.5/16.2 MB 1.2 MB/s eta 0:00:10\n",
      "   ----------- ---------------------------- 4.6/16.2 MB 1.2 MB/s eta 0:00:10\n",
      "   ----------- ---------------------------- 4.6/16.2 MB 1.2 MB/s eta 0:00:10\n",
      "   ----------- ---------------------------- 4.7/16.2 MB 1.2 MB/s eta 0:00:10\n",
      "   ----------- ---------------------------- 4.7/16.2 MB 1.2 MB/s eta 0:00:10\n",
      "   ----------- ---------------------------- 4.8/16.2 MB 1.2 MB/s eta 0:00:10\n",
      "   ----------- ---------------------------- 4.8/16.2 MB 1.2 MB/s eta 0:00:10\n",
      "   ----------- ---------------------------- 4.8/16.2 MB 1.2 MB/s eta 0:00:10\n",
      "   ------------ --------------------------- 4.9/16.2 MB 1.2 MB/s eta 0:00:10\n",
      "   ------------ --------------------------- 4.9/16.2 MB 1.2 MB/s eta 0:00:10\n",
      "   ------------ --------------------------- 5.0/16.2 MB 1.2 MB/s eta 0:00:10\n",
      "   ------------ --------------------------- 5.0/16.2 MB 1.2 MB/s eta 0:00:10\n",
      "   ------------ --------------------------- 5.0/16.2 MB 1.2 MB/s eta 0:00:10\n",
      "   ------------ --------------------------- 5.1/16.2 MB 1.2 MB/s eta 0:00:10\n",
      "   ------------ --------------------------- 5.2/16.2 MB 1.2 MB/s eta 0:00:10\n",
      "   ------------ --------------------------- 5.2/16.2 MB 1.2 MB/s eta 0:00:10\n",
      "   ------------ --------------------------- 5.2/16.2 MB 1.2 MB/s eta 0:00:10\n",
      "   ------------- -------------------------- 5.3/16.2 MB 1.2 MB/s eta 0:00:10\n",
      "   ------------- -------------------------- 5.3/16.2 MB 1.2 MB/s eta 0:00:10\n",
      "   ------------- -------------------------- 5.4/16.2 MB 1.2 MB/s eta 0:00:10\n",
      "   ------------- -------------------------- 5.4/16.2 MB 1.2 MB/s eta 0:00:10\n",
      "   ------------- -------------------------- 5.5/16.2 MB 1.2 MB/s eta 0:00:10\n",
      "   ------------- -------------------------- 5.5/16.2 MB 1.2 MB/s eta 0:00:10\n",
      "   ------------- -------------------------- 5.5/16.2 MB 1.2 MB/s eta 0:00:10\n",
      "   ------------- -------------------------- 5.6/16.2 MB 1.2 MB/s eta 0:00:10\n",
      "   ------------- -------------------------- 5.6/16.2 MB 1.1 MB/s eta 0:00:10\n",
      "   -------------- ------------------------- 5.7/16.2 MB 1.2 MB/s eta 0:00:10\n",
      "   -------------- ------------------------- 5.7/16.2 MB 1.1 MB/s eta 0:00:10\n",
      "   -------------- ------------------------- 5.8/16.2 MB 1.1 MB/s eta 0:00:10\n",
      "   -------------- ------------------------- 5.8/16.2 MB 1.1 MB/s eta 0:00:10\n",
      "   -------------- ------------------------- 5.9/16.2 MB 1.1 MB/s eta 0:00:10\n",
      "   -------------- ------------------------- 5.9/16.2 MB 1.1 MB/s eta 0:00:09\n",
      "   -------------- ------------------------- 5.9/16.2 MB 1.1 MB/s eta 0:00:09\n",
      "   -------------- ------------------------- 6.0/16.2 MB 1.1 MB/s eta 0:00:09\n",
      "   -------------- ------------------------- 6.0/16.2 MB 1.1 MB/s eta 0:00:09\n",
      "   --------------- ------------------------ 6.1/16.2 MB 1.1 MB/s eta 0:00:09\n",
      "   --------------- ------------------------ 6.1/16.2 MB 1.1 MB/s eta 0:00:09\n",
      "   --------------- ------------------------ 6.2/16.2 MB 1.1 MB/s eta 0:00:09\n",
      "   --------------- ------------------------ 6.2/16.2 MB 1.1 MB/s eta 0:00:09\n",
      "   --------------- ------------------------ 6.3/16.2 MB 1.1 MB/s eta 0:00:09\n",
      "   --------------- ------------------------ 6.3/16.2 MB 1.1 MB/s eta 0:00:09\n",
      "   --------------- ------------------------ 6.4/16.2 MB 1.1 MB/s eta 0:00:09\n",
      "   --------------- ------------------------ 6.4/16.2 MB 1.1 MB/s eta 0:00:09\n",
      "   --------------- ------------------------ 6.4/16.2 MB 1.1 MB/s eta 0:00:09\n",
      "   ---------------- ----------------------- 6.5/16.2 MB 1.1 MB/s eta 0:00:09\n",
      "   ---------------- ----------------------- 6.5/16.2 MB 1.1 MB/s eta 0:00:09\n",
      "   ---------------- ----------------------- 6.6/16.2 MB 1.1 MB/s eta 0:00:09\n",
      "   ---------------- ----------------------- 6.7/16.2 MB 1.1 MB/s eta 0:00:09\n",
      "   ---------------- ----------------------- 6.7/16.2 MB 1.1 MB/s eta 0:00:09\n",
      "   ---------------- ----------------------- 6.8/16.2 MB 1.1 MB/s eta 0:00:09\n",
      "   ---------------- ----------------------- 6.8/16.2 MB 1.1 MB/s eta 0:00:09\n",
      "   ---------------- ----------------------- 6.9/16.2 MB 1.1 MB/s eta 0:00:09\n",
      "   ----------------- ---------------------- 6.9/16.2 MB 1.1 MB/s eta 0:00:09\n",
      "   ----------------- ---------------------- 6.9/16.2 MB 1.1 MB/s eta 0:00:09\n",
      "   ----------------- ---------------------- 7.0/16.2 MB 1.1 MB/s eta 0:00:09\n",
      "   ----------------- ---------------------- 7.0/16.2 MB 1.1 MB/s eta 0:00:09\n",
      "   ----------------- ---------------------- 7.1/16.2 MB 1.1 MB/s eta 0:00:09\n",
      "   ----------------- ---------------------- 7.1/16.2 MB 1.1 MB/s eta 0:00:09\n",
      "   ----------------- ---------------------- 7.2/16.2 MB 1.1 MB/s eta 0:00:09\n",
      "   ----------------- ---------------------- 7.2/16.2 MB 1.1 MB/s eta 0:00:09\n",
      "   ------------------ --------------------- 7.3/16.2 MB 1.1 MB/s eta 0:00:09\n",
      "   ------------------ --------------------- 7.3/16.2 MB 1.1 MB/s eta 0:00:08\n",
      "   ------------------ --------------------- 7.4/16.2 MB 1.1 MB/s eta 0:00:08\n",
      "   ------------------ --------------------- 7.4/16.2 MB 1.1 MB/s eta 0:00:08\n",
      "   ------------------ --------------------- 7.5/16.2 MB 1.1 MB/s eta 0:00:08\n",
      "   ------------------ --------------------- 7.5/16.2 MB 1.1 MB/s eta 0:00:08\n",
      "   ------------------ --------------------- 7.6/16.2 MB 1.1 MB/s eta 0:00:08\n",
      "   ------------------ --------------------- 7.6/16.2 MB 1.1 MB/s eta 0:00:08\n",
      "   ------------------- -------------------- 7.7/16.2 MB 1.1 MB/s eta 0:00:08\n",
      "   ------------------- -------------------- 7.7/16.2 MB 1.1 MB/s eta 0:00:08\n",
      "   ------------------- -------------------- 7.8/16.2 MB 1.1 MB/s eta 0:00:08\n",
      "   ------------------- -------------------- 7.8/16.2 MB 1.1 MB/s eta 0:00:08\n",
      "   ------------------- -------------------- 7.9/16.2 MB 1.1 MB/s eta 0:00:08\n",
      "   ------------------- -------------------- 7.9/16.2 MB 1.1 MB/s eta 0:00:08\n",
      "   ------------------- -------------------- 8.0/16.2 MB 1.1 MB/s eta 0:00:08\n",
      "   ------------------- -------------------- 8.0/16.2 MB 1.1 MB/s eta 0:00:08\n",
      "   ------------------- -------------------- 8.1/16.2 MB 1.1 MB/s eta 0:00:08\n",
      "   -------------------- ------------------- 8.1/16.2 MB 1.1 MB/s eta 0:00:08\n",
      "   -------------------- ------------------- 8.2/16.2 MB 1.1 MB/s eta 0:00:08\n",
      "   -------------------- ------------------- 8.2/16.2 MB 1.1 MB/s eta 0:00:08\n",
      "   -------------------- ------------------- 8.2/16.2 MB 1.1 MB/s eta 0:00:08\n",
      "   -------------------- ------------------- 8.3/16.2 MB 1.1 MB/s eta 0:00:08\n",
      "   -------------------- ------------------- 8.3/16.2 MB 1.1 MB/s eta 0:00:08\n",
      "   -------------------- ------------------- 8.3/16.2 MB 1.1 MB/s eta 0:00:08\n",
      "   -------------------- ------------------- 8.4/16.2 MB 1.1 MB/s eta 0:00:08\n",
      "   -------------------- ------------------- 8.5/16.2 MB 1.1 MB/s eta 0:00:08\n",
      "   --------------------- ------------------ 8.5/16.2 MB 1.1 MB/s eta 0:00:07\n",
      "   --------------------- ------------------ 8.5/16.2 MB 1.1 MB/s eta 0:00:07\n",
      "   --------------------- ------------------ 8.6/16.2 MB 1.1 MB/s eta 0:00:07\n",
      "   --------------------- ------------------ 8.7/16.2 MB 1.1 MB/s eta 0:00:07\n",
      "   --------------------- ------------------ 8.7/16.2 MB 1.1 MB/s eta 0:00:07\n",
      "   --------------------- ------------------ 8.7/16.2 MB 1.1 MB/s eta 0:00:07\n",
      "   --------------------- ------------------ 8.8/16.2 MB 1.1 MB/s eta 0:00:07\n",
      "   --------------------- ------------------ 8.8/16.2 MB 1.1 MB/s eta 0:00:07\n",
      "   --------------------- ------------------ 8.9/16.2 MB 1.1 MB/s eta 0:00:07\n",
      "   ---------------------- ----------------- 8.9/16.2 MB 1.1 MB/s eta 0:00:07\n",
      "   ---------------------- ----------------- 8.9/16.2 MB 1.1 MB/s eta 0:00:07\n",
      "   ---------------------- ----------------- 8.9/16.2 MB 1.1 MB/s eta 0:00:07\n",
      "   ---------------------- ----------------- 8.9/16.2 MB 1.1 MB/s eta 0:00:07\n",
      "   ---------------------- ----------------- 8.9/16.2 MB 1.1 MB/s eta 0:00:07\n",
      "   ---------------------- ----------------- 9.1/16.2 MB 1.1 MB/s eta 0:00:07\n",
      "   ---------------------- ----------------- 9.1/16.2 MB 1.1 MB/s eta 0:00:07\n",
      "   ---------------------- ----------------- 9.1/16.2 MB 1.1 MB/s eta 0:00:07\n",
      "   ---------------------- ----------------- 9.1/16.2 MB 1.1 MB/s eta 0:00:07\n",
      "   ---------------------- ----------------- 9.2/16.2 MB 1.0 MB/s eta 0:00:07\n",
      "   ---------------------- ----------------- 9.2/16.2 MB 1.0 MB/s eta 0:00:07\n",
      "   ---------------------- ----------------- 9.2/16.2 MB 1.0 MB/s eta 0:00:07\n",
      "   ---------------------- ----------------- 9.3/16.2 MB 1.0 MB/s eta 0:00:07\n",
      "   ----------------------- ---------------- 9.3/16.2 MB 1.0 MB/s eta 0:00:07\n",
      "   ----------------------- ---------------- 9.4/16.2 MB 1.0 MB/s eta 0:00:07\n",
      "   ----------------------- ---------------- 9.4/16.2 MB 1.0 MB/s eta 0:00:07\n",
      "   ----------------------- ---------------- 9.5/16.2 MB 1.0 MB/s eta 0:00:07\n",
      "   ----------------------- ---------------- 9.5/16.2 MB 1.0 MB/s eta 0:00:07\n",
      "   ----------------------- ---------------- 9.6/16.2 MB 1.0 MB/s eta 0:00:07\n",
      "   ----------------------- ---------------- 9.6/16.2 MB 1.0 MB/s eta 0:00:07\n",
      "   ----------------------- ---------------- 9.7/16.2 MB 1.0 MB/s eta 0:00:07\n",
      "   ------------------------ --------------- 9.7/16.2 MB 1.0 MB/s eta 0:00:07\n",
      "   ------------------------ --------------- 9.7/16.2 MB 1.0 MB/s eta 0:00:07\n",
      "   ------------------------ --------------- 9.8/16.2 MB 1.0 MB/s eta 0:00:07\n",
      "   ------------------------ --------------- 9.8/16.2 MB 1.0 MB/s eta 0:00:07\n",
      "   ------------------------ --------------- 9.9/16.2 MB 1.0 MB/s eta 0:00:07\n",
      "   ------------------------ --------------- 10.0/16.2 MB 1.0 MB/s eta 0:00:06\n",
      "   ------------------------ --------------- 10.0/16.2 MB 1.0 MB/s eta 0:00:06\n",
      "   ------------------------ --------------- 10.0/16.2 MB 1.0 MB/s eta 0:00:06\n",
      "   ------------------------ --------------- 10.1/16.2 MB 1.0 MB/s eta 0:00:06\n",
      "   ------------------------- -------------- 10.1/16.2 MB 1.0 MB/s eta 0:00:06\n",
      "   ------------------------- -------------- 10.2/16.2 MB 1.0 MB/s eta 0:00:06\n",
      "   ------------------------- -------------- 10.2/16.2 MB 1.0 MB/s eta 0:00:06\n",
      "   ------------------------- -------------- 10.2/16.2 MB 1.0 MB/s eta 0:00:06\n",
      "   ------------------------- -------------- 10.3/16.2 MB 1.0 MB/s eta 0:00:06\n",
      "   ------------------------- -------------- 10.4/16.2 MB 1.0 MB/s eta 0:00:06\n",
      "   ------------------------- -------------- 10.4/16.2 MB 1.0 MB/s eta 0:00:06\n",
      "   ------------------------- -------------- 10.4/16.2 MB 1.0 MB/s eta 0:00:06\n",
      "   ------------------------- -------------- 10.5/16.2 MB 1.0 MB/s eta 0:00:06\n",
      "   -------------------------- ------------- 10.5/16.2 MB 1.0 MB/s eta 0:00:06\n",
      "   -------------------------- ------------- 10.6/16.2 MB 1.0 MB/s eta 0:00:06\n",
      "   -------------------------- ------------- 10.6/16.2 MB 1.0 MB/s eta 0:00:06\n",
      "   -------------------------- ------------- 10.7/16.2 MB 1.0 MB/s eta 0:00:06\n",
      "   -------------------------- ------------- 10.7/16.2 MB 1.0 MB/s eta 0:00:06\n",
      "   -------------------------- ------------- 10.8/16.2 MB 1.0 MB/s eta 0:00:06\n",
      "   -------------------------- ------------- 10.8/16.2 MB 1.0 MB/s eta 0:00:06\n",
      "   -------------------------- ------------- 10.9/16.2 MB 1.0 MB/s eta 0:00:06\n",
      "   --------------------------- ------------ 10.9/16.2 MB 1.0 MB/s eta 0:00:06\n",
      "   --------------------------- ------------ 11.0/16.2 MB 1.0 MB/s eta 0:00:06\n",
      "   --------------------------- ------------ 11.0/16.2 MB 1.0 MB/s eta 0:00:06\n",
      "   --------------------------- ------------ 11.0/16.2 MB 1.0 MB/s eta 0:00:06\n",
      "   --------------------------- ------------ 11.0/16.2 MB 1.0 MB/s eta 0:00:06\n",
      "   --------------------------- ------------ 11.0/16.2 MB 1.0 MB/s eta 0:00:06\n",
      "   --------------------------- ------------ 11.0/16.2 MB 1.0 MB/s eta 0:00:06\n",
      "   --------------------------- ------------ 11.0/16.2 MB 1.0 MB/s eta 0:00:06\n",
      "   --------------------------- ------------ 11.0/16.2 MB 1.0 MB/s eta 0:00:06\n",
      "   --------------------------- ------------ 11.0/16.2 MB 1.0 MB/s eta 0:00:06\n",
      "   --------------------------- ------------ 11.0/16.2 MB 1.0 MB/s eta 0:00:06\n",
      "   --------------------------- ------------ 11.0/16.2 MB 1.0 MB/s eta 0:00:06\n",
      "   --------------------------- ------------ 11.0/16.2 MB 1.0 MB/s eta 0:00:06\n",
      "   --------------------------- ------------ 11.0/16.2 MB 1.0 MB/s eta 0:00:06\n",
      "   --------------------------- ------------ 11.0/16.2 MB 1.0 MB/s eta 0:00:06\n",
      "   --------------------------- ------------ 11.0/16.2 MB 1.0 MB/s eta 0:00:06\n",
      "   --------------------------- ------------ 11.0/16.2 MB 1.0 MB/s eta 0:00:06\n",
      "   --------------------------- ------------ 11.2/16.2 MB 951.6 kB/s eta 0:00:06\n",
      "   --------------------------- ------------ 11.2/16.2 MB 951.6 kB/s eta 0:00:06\n",
      "   --------------------------- ------------ 11.2/16.2 MB 951.6 kB/s eta 0:00:06\n",
      "   --------------------------- ------------ 11.3/16.2 MB 939.4 kB/s eta 0:00:06\n",
      "   --------------------------- ------------ 11.3/16.2 MB 939.3 kB/s eta 0:00:06\n",
      "   ---------------------------- ----------- 11.3/16.2 MB 942.1 kB/s eta 0:00:06\n",
      "   ---------------------------- ----------- 11.4/16.2 MB 939.4 kB/s eta 0:00:06\n",
      "   ---------------------------- ----------- 11.4/16.2 MB 939.4 kB/s eta 0:00:06\n",
      "   ---------------------------- ----------- 11.4/16.2 MB 939.4 kB/s eta 0:00:06\n",
      "   ---------------------------- ----------- 11.4/16.2 MB 939.4 kB/s eta 0:00:06\n",
      "   ---------------------------- ----------- 11.4/16.2 MB 939.4 kB/s eta 0:00:06\n",
      "   ---------------------------- ----------- 11.4/16.2 MB 939.4 kB/s eta 0:00:06\n",
      "   ---------------------------- ----------- 11.4/16.2 MB 939.4 kB/s eta 0:00:06\n",
      "   ---------------------------- ----------- 11.4/16.2 MB 939.4 kB/s eta 0:00:06\n",
      "   ---------------------------- ----------- 11.4/16.2 MB 939.4 kB/s eta 0:00:06\n",
      "   ---------------------------- ----------- 11.4/16.2 MB 939.4 kB/s eta 0:00:06\n",
      "   ---------------------------- ----------- 11.4/16.2 MB 939.4 kB/s eta 0:00:06\n",
      "   ---------------------------- ----------- 11.6/16.2 MB 904.2 kB/s eta 0:00:06\n",
      "   ---------------------------- ----------- 11.6/16.2 MB 904.2 kB/s eta 0:00:06\n",
      "   ---------------------------- ----------- 11.6/16.2 MB 901.8 kB/s eta 0:00:06\n",
      "   ---------------------------- ----------- 11.6/16.2 MB 901.8 kB/s eta 0:00:06\n",
      "   ---------------------------- ----------- 11.6/16.2 MB 895.6 kB/s eta 0:00:06\n",
      "   ---------------------------- ----------- 11.7/16.2 MB 891.9 kB/s eta 0:00:06\n",
      "   ---------------------------- ----------- 11.7/16.2 MB 889.5 kB/s eta 0:00:06\n",
      "   ---------------------------- ----------- 11.7/16.2 MB 888.4 kB/s eta 0:00:06\n",
      "   ----------------------------- ---------- 11.7/16.2 MB 884.7 kB/s eta 0:00:06\n",
      "   ----------------------------- ---------- 11.8/16.2 MB 882.3 kB/s eta 0:00:05\n",
      "   ----------------------------- ---------- 11.8/16.2 MB 882.4 kB/s eta 0:00:05\n",
      "   ----------------------------- ---------- 11.8/16.2 MB 881.2 kB/s eta 0:00:05\n",
      "   ----------------------------- ---------- 11.8/16.2 MB 877.6 kB/s eta 0:00:05\n",
      "   ----------------------------- ---------- 11.9/16.2 MB 876.5 kB/s eta 0:00:05\n",
      "   ----------------------------- ---------- 11.9/16.2 MB 872.9 kB/s eta 0:00:05\n",
      "   ----------------------------- ---------- 12.0/16.2 MB 872.9 kB/s eta 0:00:05\n",
      "   ----------------------------- ---------- 12.0/16.2 MB 868.3 kB/s eta 0:00:05\n",
      "   ----------------------------- ---------- 12.0/16.2 MB 867.1 kB/s eta 0:00:05\n",
      "   ----------------------------- ---------- 12.0/16.2 MB 867.2 kB/s eta 0:00:05\n",
      "   ----------------------------- ---------- 12.1/16.2 MB 864.9 kB/s eta 0:00:05\n",
      "   ------------------------------ --------- 12.2/16.2 MB 860.4 kB/s eta 0:00:05\n",
      "   ------------------------------ --------- 12.2/16.2 MB 854.7 kB/s eta 0:00:05\n",
      "   ------------------------------ --------- 12.3/16.2 MB 852.5 kB/s eta 0:00:05\n",
      "   ------------------------------ --------- 12.3/16.2 MB 855.8 kB/s eta 0:00:05\n",
      "   ------------------------------ --------- 12.3/16.2 MB 853.6 kB/s eta 0:00:05\n",
      "   ------------------------------ --------- 12.3/16.2 MB 849.2 kB/s eta 0:00:05\n",
      "   ------------------------------ --------- 12.4/16.2 MB 848.0 kB/s eta 0:00:05\n",
      "   ------------------------------ --------- 12.4/16.2 MB 845.9 kB/s eta 0:00:05\n",
      "   ------------------------------ --------- 12.5/16.2 MB 842.6 kB/s eta 0:00:05\n",
      "   ------------------------------ --------- 12.5/16.2 MB 842.6 kB/s eta 0:00:05\n",
      "   ------------------------------- -------- 12.5/16.2 MB 842.6 kB/s eta 0:00:05\n",
      "   ------------------------------- -------- 12.6/16.2 MB 839.3 kB/s eta 0:00:05\n",
      "   ------------------------------- -------- 12.6/16.2 MB 838.2 kB/s eta 0:00:05\n",
      "   ------------------------------- -------- 12.7/16.2 MB 836.2 kB/s eta 0:00:05\n",
      "   ------------------------------- -------- 12.7/16.2 MB 834.0 kB/s eta 0:00:05\n",
      "   ------------------------------- -------- 12.7/16.2 MB 833.0 kB/s eta 0:00:05\n",
      "   ------------------------------- -------- 12.7/16.2 MB 829.8 kB/s eta 0:00:05\n",
      "   ------------------------------- -------- 12.8/16.2 MB 830.9 kB/s eta 0:00:05\n",
      "   ------------------------------- -------- 12.8/16.2 MB 829.8 kB/s eta 0:00:05\n",
      "   ------------------------------- -------- 12.8/16.2 MB 825.6 kB/s eta 0:00:05\n",
      "   ------------------------------- -------- 12.9/16.2 MB 824.5 kB/s eta 0:00:05\n",
      "   ------------------------------- -------- 12.9/16.2 MB 823.6 kB/s eta 0:00:04\n",
      "   ------------------------------- -------- 12.9/16.2 MB 822.5 kB/s eta 0:00:04\n",
      "   -------------------------------- ------- 13.0/16.2 MB 818.4 kB/s eta 0:00:04\n",
      "   -------------------------------- ------- 13.0/16.2 MB 816.4 kB/s eta 0:00:04\n",
      "   -------------------------------- ------- 13.0/16.2 MB 816.4 kB/s eta 0:00:04\n",
      "   -------------------------------- ------- 13.1/16.2 MB 816.4 kB/s eta 0:00:04\n",
      "   -------------------------------- ------- 13.1/16.2 MB 815.3 kB/s eta 0:00:04\n",
      "   -------------------------------- ------- 13.1/16.2 MB 811.3 kB/s eta 0:00:04\n",
      "   -------------------------------- ------- 13.2/16.2 MB 809.3 kB/s eta 0:00:04\n",
      "   -------------------------------- ------- 13.2/16.2 MB 807.3 kB/s eta 0:00:04\n",
      "   -------------------------------- ------- 13.2/16.2 MB 805.3 kB/s eta 0:00:04\n",
      "   -------------------------------- ------- 13.3/16.2 MB 815.3 kB/s eta 0:00:04\n",
      "   -------------------------------- ------- 13.3/16.2 MB 812.3 kB/s eta 0:00:04\n",
      "   --------------------------------- ------ 13.4/16.2 MB 808.3 kB/s eta 0:00:04\n",
      "   --------------------------------- ------ 13.4/16.2 MB 805.3 kB/s eta 0:00:04\n",
      "   --------------------------------- ------ 13.4/16.2 MB 802.3 kB/s eta 0:00:04\n",
      "   --------------------------------- ------ 13.4/16.2 MB 799.4 kB/s eta 0:00:04\n",
      "   --------------------------------- ------ 13.5/16.2 MB 796.5 kB/s eta 0:00:04\n",
      "   --------------------------------- ------ 13.5/16.2 MB 794.5 kB/s eta 0:00:04\n",
      "   --------------------------------- ------ 13.5/16.2 MB 794.5 kB/s eta 0:00:04\n",
      "   --------------------------------- ------ 13.6/16.2 MB 793.6 kB/s eta 0:00:04\n",
      "   --------------------------------- ------ 13.6/16.2 MB 794.5 kB/s eta 0:00:04\n",
      "   --------------------------------- ------ 13.6/16.2 MB 795.5 kB/s eta 0:00:04\n",
      "   --------------------------------- ------ 13.7/16.2 MB 791.7 kB/s eta 0:00:04\n",
      "   --------------------------------- ------ 13.7/16.2 MB 788.8 kB/s eta 0:00:04\n",
      "   ---------------------------------- ----- 13.8/16.2 MB 788.8 kB/s eta 0:00:04\n",
      "   ---------------------------------- ----- 13.8/16.2 MB 786.9 kB/s eta 0:00:04\n",
      "   ---------------------------------- ----- 13.8/16.2 MB 787.9 kB/s eta 0:00:03\n",
      "   ---------------------------------- ----- 13.8/16.2 MB 788.8 kB/s eta 0:00:03\n",
      "   ---------------------------------- ----- 13.9/16.2 MB 788.8 kB/s eta 0:00:03\n",
      "   ---------------------------------- ----- 13.9/16.2 MB 786.0 kB/s eta 0:00:03\n",
      "   ---------------------------------- ----- 14.0/16.2 MB 783.2 kB/s eta 0:00:03\n",
      "   ---------------------------------- ----- 14.0/16.2 MB 783.1 kB/s eta 0:00:03\n",
      "   ---------------------------------- ----- 14.0/16.2 MB 788.8 kB/s eta 0:00:03\n",
      "   ---------------------------------- ----- 14.1/16.2 MB 786.9 kB/s eta 0:00:03\n",
      "   ---------------------------------- ----- 14.1/16.2 MB 784.1 kB/s eta 0:00:03\n",
      "   ----------------------------------- ---- 14.2/16.2 MB 784.1 kB/s eta 0:00:03\n",
      "   ----------------------------------- ---- 14.2/16.2 MB 781.3 kB/s eta 0:00:03\n",
      "   ----------------------------------- ---- 14.3/16.2 MB 781.3 kB/s eta 0:00:03\n",
      "   ----------------------------------- ---- 14.3/16.2 MB 781.3 kB/s eta 0:00:03\n",
      "   ----------------------------------- ---- 14.3/16.2 MB 781.3 kB/s eta 0:00:03\n",
      "   ----------------------------------- ---- 14.3/16.2 MB 776.6 kB/s eta 0:00:03\n",
      "   ----------------------------------- ---- 14.4/16.2 MB 778.5 kB/s eta 0:00:03\n",
      "   ----------------------------------- ---- 14.4/16.2 MB 778.5 kB/s eta 0:00:03\n",
      "   ----------------------------------- ---- 14.4/16.2 MB 778.5 kB/s eta 0:00:03\n",
      "   ----------------------------------- ---- 14.5/16.2 MB 777.5 kB/s eta 0:00:03\n",
      "   ----------------------------------- ---- 14.5/16.2 MB 786.9 kB/s eta 0:00:03\n",
      "   ----------------------------------- ---- 14.6/16.2 MB 783.2 kB/s eta 0:00:03\n",
      "   ------------------------------------ --- 14.6/16.2 MB 781.3 kB/s eta 0:00:03\n",
      "   ------------------------------------ --- 14.6/16.2 MB 778.5 kB/s eta 0:00:02\n",
      "   ------------------------------------ --- 14.7/16.2 MB 775.7 kB/s eta 0:00:02\n",
      "   ------------------------------------ --- 14.7/16.2 MB 772.9 kB/s eta 0:00:02\n",
      "   ------------------------------------ --- 14.7/16.2 MB 772.1 kB/s eta 0:00:02\n",
      "   ------------------------------------ --- 14.7/16.2 MB 770.2 kB/s eta 0:00:02\n",
      "   ------------------------------------ --- 14.8/16.2 MB 772.1 kB/s eta 0:00:02\n",
      "   ------------------------------------ --- 14.8/16.2 MB 770.2 kB/s eta 0:00:02\n",
      "   ------------------------------------ --- 14.8/16.2 MB 770.3 kB/s eta 0:00:02\n",
      "   ------------------------------------ --- 14.9/16.2 MB 769.3 kB/s eta 0:00:02\n",
      "   ------------------------------------ --- 14.9/16.2 MB 769.3 kB/s eta 0:00:02\n",
      "   ------------------------------------ --- 15.0/16.2 MB 767.5 kB/s eta 0:00:02\n",
      "   ------------------------------------- -- 15.0/16.2 MB 767.5 kB/s eta 0:00:02\n",
      "   ------------------------------------- -- 15.0/16.2 MB 767.5 kB/s eta 0:00:02\n",
      "   ------------------------------------- -- 15.0/16.2 MB 767.5 kB/s eta 0:00:02\n",
      "   ------------------------------------- -- 15.1/16.2 MB 765.7 kB/s eta 0:00:02\n",
      "   ------------------------------------- -- 15.1/16.2 MB 765.7 kB/s eta 0:00:02\n",
      "   ------------------------------------- -- 15.2/16.2 MB 767.5 kB/s eta 0:00:02\n",
      "   ------------------------------------- -- 15.2/16.2 MB 764.8 kB/s eta 0:00:02\n",
      "   ------------------------------------- -- 15.2/16.2 MB 763.9 kB/s eta 0:00:02\n",
      "   ------------------------------------- -- 15.2/16.2 MB 762.2 kB/s eta 0:00:02\n",
      "   ------------------------------------- -- 15.3/16.2 MB 761.3 kB/s eta 0:00:02\n",
      "   ------------------------------------- -- 15.3/16.2 MB 759.5 kB/s eta 0:00:02\n",
      "   ------------------------------------- -- 15.4/16.2 MB 760.4 kB/s eta 0:00:02\n",
      "   -------------------------------------- - 15.4/16.2 MB 759.5 kB/s eta 0:00:02\n",
      "   -------------------------------------- - 15.4/16.2 MB 759.5 kB/s eta 0:00:02\n",
      "   -------------------------------------- - 15.4/16.2 MB 756.0 kB/s eta 0:00:01\n",
      "   -------------------------------------- - 15.5/16.2 MB 756.9 kB/s eta 0:00:01\n",
      "   -------------------------------------- - 15.5/16.2 MB 756.9 kB/s eta 0:00:01\n",
      "   -------------------------------------- - 15.5/16.2 MB 755.1 kB/s eta 0:00:01\n",
      "   -------------------------------------- - 15.6/16.2 MB 752.5 kB/s eta 0:00:01\n",
      "   -------------------------------------- - 15.7/16.2 MB 754.3 kB/s eta 0:00:01\n",
      "   -------------------------------------- - 15.7/16.2 MB 753.4 kB/s eta 0:00:01\n",
      "   -------------------------------------- - 15.7/16.2 MB 751.7 kB/s eta 0:00:01\n",
      "   ---------------------------------------  15.8/16.2 MB 752.6 kB/s eta 0:00:01\n",
      "   ---------------------------------------  15.8/16.2 MB 751.7 kB/s eta 0:00:01\n",
      "   ---------------------------------------  15.8/16.2 MB 753.4 kB/s eta 0:00:01\n",
      "   ---------------------------------------  15.9/16.2 MB 749.9 kB/s eta 0:00:01\n",
      "   ---------------------------------------  15.9/16.2 MB 749.1 kB/s eta 0:00:01\n",
      "   ---------------------------------------  16.0/16.2 MB 748.2 kB/s eta 0:00:01\n",
      "   ---------------------------------------  16.0/16.2 MB 750.0 kB/s eta 0:00:01\n",
      "   ---------------------------------------  16.1/16.2 MB 747.4 kB/s eta 0:00:01\n",
      "   ---------------------------------------  16.1/16.2 MB 746.5 kB/s eta 0:00:01\n",
      "   ---------------------------------------  16.1/16.2 MB 744.0 kB/s eta 0:00:01\n",
      "   ---------------------------------------  16.2/16.2 MB 744.8 kB/s eta 0:00:01\n",
      "   ---------------------------------------  16.2/16.2 MB 744.8 kB/s eta 0:00:01\n",
      "   ---------------------------------------  16.2/16.2 MB 744.8 kB/s eta 0:00:01\n",
      "   ---------------------------------------  16.2/16.2 MB 744.8 kB/s eta 0:00:01\n",
      "   ---------------------------------------  16.2/16.2 MB 744.8 kB/s eta 0:00:01\n",
      "   ---------------------------------------  16.2/16.2 MB 744.8 kB/s eta 0:00:01\n",
      "   ---------------------------------------  16.2/16.2 MB 744.8 kB/s eta 0:00:01\n",
      "   ---------------------------------------- 16.2/16.2 MB 721.4 kB/s eta 0:00:00\n",
      "Downloading pyproj-3.7.0-cp311-cp311-win_amd64.whl (6.2 MB)\n",
      "   ---------------------------------------- 0.0/6.2 MB ? eta -:--:--\n",
      "   ---------------------------------------- 0.0/6.2 MB 960.0 kB/s eta 0:00:07\n",
      "    --------------------------------------- 0.1/6.2 MB 1.0 MB/s eta 0:00:06\n",
      "    --------------------------------------- 0.1/6.2 MB 1.0 MB/s eta 0:00:06\n",
      "   - -------------------------------------- 0.2/6.2 MB 871.5 kB/s eta 0:00:07\n",
      "   - -------------------------------------- 0.2/6.2 MB 871.5 kB/s eta 0:00:07\n",
      "   - -------------------------------------- 0.2/6.2 MB 871.5 kB/s eta 0:00:07\n",
      "   - -------------------------------------- 0.2/6.2 MB 871.5 kB/s eta 0:00:07\n",
      "   -- ------------------------------------- 0.3/6.2 MB 811.9 kB/s eta 0:00:08\n",
      "   -- ------------------------------------- 0.3/6.2 MB 811.9 kB/s eta 0:00:08\n",
      "   -- ------------------------------------- 0.3/6.2 MB 811.9 kB/s eta 0:00:08\n",
      "   -- ------------------------------------- 0.3/6.2 MB 635.0 kB/s eta 0:00:10\n",
      "   -- ------------------------------------- 0.4/6.2 MB 603.4 kB/s eta 0:00:10\n",
      "   -- ------------------------------------- 0.4/6.2 MB 639.0 kB/s eta 0:00:10\n",
      "   --- ------------------------------------ 0.5/6.2 MB 654.8 kB/s eta 0:00:09\n",
      "   --- ------------------------------------ 0.5/6.2 MB 667.8 kB/s eta 0:00:09\n",
      "   --- ------------------------------------ 0.6/6.2 MB 691.7 kB/s eta 0:00:09\n",
      "   --- ------------------------------------ 0.6/6.2 MB 702.5 kB/s eta 0:00:08\n",
      "   ---- ----------------------------------- 0.7/6.2 MB 731.4 kB/s eta 0:00:08\n",
      "   ---- ----------------------------------- 0.8/6.2 MB 757.8 kB/s eta 0:00:08\n",
      "   ----- ---------------------------------- 0.8/6.2 MB 753.1 kB/s eta 0:00:08\n",
      "   ----- ---------------------------------- 0.8/6.2 MB 778.2 kB/s eta 0:00:07\n",
      "   ----- ---------------------------------- 0.8/6.2 MB 778.2 kB/s eta 0:00:07\n",
      "   ----- ---------------------------------- 0.8/6.2 MB 778.2 kB/s eta 0:00:07\n",
      "   ----- ---------------------------------- 0.8/6.2 MB 778.2 kB/s eta 0:00:07\n",
      "   ------ --------------------------------- 1.0/6.2 MB 806.7 kB/s eta 0:00:07\n",
      "   ------ --------------------------------- 1.1/6.2 MB 801.3 kB/s eta 0:00:07\n",
      "   ------- -------------------------------- 1.1/6.2 MB 789.4 kB/s eta 0:00:07\n",
      "   ------- -------------------------------- 1.1/6.2 MB 784.9 kB/s eta 0:00:07\n",
      "   ------- -------------------------------- 1.2/6.2 MB 786.1 kB/s eta 0:00:07\n",
      "   ------- -------------------------------- 1.2/6.2 MB 790.3 kB/s eta 0:00:07\n",
      "   ------- -------------------------------- 1.2/6.2 MB 786.2 kB/s eta 0:00:07\n",
      "   -------- ------------------------------- 1.3/6.2 MB 782.3 kB/s eta 0:00:07\n",
      "   -------- ------------------------------- 1.3/6.2 MB 787.7 kB/s eta 0:00:07\n",
      "   -------- ------------------------------- 1.3/6.2 MB 781.2 kB/s eta 0:00:07\n",
      "   -------- ------------------------------- 1.4/6.2 MB 780.4 kB/s eta 0:00:07\n",
      "   -------- ------------------------------- 1.4/6.2 MB 780.4 kB/s eta 0:00:07\n",
      "   -------- ------------------------------- 1.4/6.2 MB 780.4 kB/s eta 0:00:07\n",
      "   -------- ------------------------------- 1.4/6.2 MB 780.4 kB/s eta 0:00:07\n",
      "   --------- ------------------------------ 1.5/6.2 MB 765.1 kB/s eta 0:00:07\n",
      "   --------- ------------------------------ 1.5/6.2 MB 762.9 kB/s eta 0:00:07\n",
      "   ---------- ----------------------------- 1.6/6.2 MB 766.0 kB/s eta 0:00:07\n",
      "   ---------- ----------------------------- 1.6/6.2 MB 758.5 kB/s eta 0:00:07\n",
      "   ---------- ----------------------------- 1.6/6.2 MB 752.2 kB/s eta 0:00:07\n",
      "   ---------- ----------------------------- 1.6/6.2 MB 745.3 kB/s eta 0:00:07\n",
      "   ---------- ----------------------------- 1.7/6.2 MB 747.6 kB/s eta 0:00:07\n",
      "   ---------- ----------------------------- 1.7/6.2 MB 741.8 kB/s eta 0:00:07\n",
      "   ---------- ----------------------------- 1.7/6.2 MB 735.6 kB/s eta 0:00:07\n",
      "   ----------- ---------------------------- 1.7/6.2 MB 728.9 kB/s eta 0:00:07\n",
      "   ----------- ---------------------------- 1.8/6.2 MB 727.5 kB/s eta 0:00:07\n",
      "   ----------- ---------------------------- 1.8/6.2 MB 726.6 kB/s eta 0:00:07\n",
      "   ----------- ---------------------------- 1.8/6.2 MB 720.9 kB/s eta 0:00:07\n",
      "   ----------- ---------------------------- 1.8/6.2 MB 719.7 kB/s eta 0:00:07\n",
      "   ------------ --------------------------- 1.9/6.2 MB 722.4 kB/s eta 0:00:07\n",
      "   ------------ --------------------------- 1.9/6.2 MB 713.4 kB/s eta 0:00:07\n",
      "   ------------ --------------------------- 1.9/6.2 MB 716.6 kB/s eta 0:00:07\n",
      "   ------------ --------------------------- 2.0/6.2 MB 715.1 kB/s eta 0:00:06\n",
      "   ------------ --------------------------- 2.0/6.2 MB 714.9 kB/s eta 0:00:06\n",
      "   ------------- -------------------------- 2.0/6.2 MB 709.3 kB/s eta 0:00:06\n",
      "   ------------- -------------------------- 2.0/6.2 MB 708.8 kB/s eta 0:00:06\n",
      "   ------------- -------------------------- 2.1/6.2 MB 711.6 kB/s eta 0:00:06\n",
      "   ------------- -------------------------- 2.1/6.2 MB 703.2 kB/s eta 0:00:06\n",
      "   ------------- -------------------------- 2.1/6.2 MB 706.2 kB/s eta 0:00:06\n",
      "   ------------- -------------------------- 2.2/6.2 MB 702.1 kB/s eta 0:00:06\n",
      "   -------------- ------------------------- 2.2/6.2 MB 701.3 kB/s eta 0:00:06\n",
      "   -------------- ------------------------- 2.2/6.2 MB 700.2 kB/s eta 0:00:06\n",
      "   -------------- ------------------------- 2.3/6.2 MB 699.9 kB/s eta 0:00:06\n",
      "   -------------- ------------------------- 2.3/6.2 MB 695.7 kB/s eta 0:00:06\n",
      "   --------------- ------------------------ 2.4/6.2 MB 697.0 kB/s eta 0:00:06\n",
      "   --------------- ------------------------ 2.4/6.2 MB 696.4 kB/s eta 0:00:06\n",
      "   --------------- ------------------------ 2.5/6.2 MB 692.9 kB/s eta 0:00:06\n",
      "   ---------------- ----------------------- 2.5/6.2 MB 695.3 kB/s eta 0:00:06\n",
      "   ---------------- ----------------------- 2.5/6.2 MB 694.7 kB/s eta 0:00:06\n",
      "   ---------------- ----------------------- 2.6/6.2 MB 694.1 kB/s eta 0:00:06\n",
      "   ---------------- ----------------------- 2.6/6.2 MB 693.6 kB/s eta 0:00:06\n",
      "   ---------------- ----------------------- 2.6/6.2 MB 693.1 kB/s eta 0:00:06\n",
      "   ----------------- ---------------------- 2.7/6.2 MB 692.9 kB/s eta 0:00:06\n",
      "   ----------------- ---------------------- 2.7/6.2 MB 689.7 kB/s eta 0:00:06\n",
      "   ----------------- ---------------------- 2.7/6.2 MB 689.3 kB/s eta 0:00:06\n",
      "   ----------------- ---------------------- 2.7/6.2 MB 691.5 kB/s eta 0:00:06\n",
      "   ----------------- ---------------------- 2.8/6.2 MB 688.6 kB/s eta 0:00:06\n",
      "   ------------------ --------------------- 2.8/6.2 MB 690.6 kB/s eta 0:00:05\n",
      "   ------------------ --------------------- 2.8/6.2 MB 690.1 kB/s eta 0:00:05\n",
      "   ------------------ --------------------- 2.9/6.2 MB 689.9 kB/s eta 0:00:05\n",
      "   ------------------ --------------------- 2.9/6.2 MB 689.1 kB/s eta 0:00:05\n",
      "   ------------------ --------------------- 3.0/6.2 MB 688.7 kB/s eta 0:00:05\n",
      "   ------------------- -------------------- 3.0/6.2 MB 688.3 kB/s eta 0:00:05\n",
      "   ------------------- -------------------- 3.0/6.2 MB 688.1 kB/s eta 0:00:05\n",
      "   ------------------- -------------------- 3.1/6.2 MB 690.1 kB/s eta 0:00:05\n",
      "   ------------------- -------------------- 3.1/6.2 MB 687.2 kB/s eta 0:00:05\n",
      "   ------------------- -------------------- 3.1/6.2 MB 689.5 kB/s eta 0:00:05\n",
      "   -------------------- ------------------- 3.1/6.2 MB 686.7 kB/s eta 0:00:05\n",
      "   -------------------- ------------------- 3.2/6.2 MB 688.8 kB/s eta 0:00:05\n",
      "   -------------------- ------------------- 3.2/6.2 MB 688.2 kB/s eta 0:00:05\n",
      "   -------------------- ------------------- 3.2/6.2 MB 688.2 kB/s eta 0:00:05\n",
      "   -------------------- ------------------- 3.3/6.2 MB 687.9 kB/s eta 0:00:05\n",
      "   --------------------- ------------------ 3.3/6.2 MB 687.4 kB/s eta 0:00:05\n",
      "   --------------------- ------------------ 3.3/6.2 MB 687.0 kB/s eta 0:00:05\n",
      "   --------------------- ------------------ 3.4/6.2 MB 684.6 kB/s eta 0:00:05\n",
      "   --------------------- ------------------ 3.4/6.2 MB 684.3 kB/s eta 0:00:05\n",
      "   --------------------- ------------------ 3.4/6.2 MB 684.3 kB/s eta 0:00:05\n",
      "   --------------------- ------------------ 3.4/6.2 MB 684.3 kB/s eta 0:00:05\n",
      "   --------------------- ------------------ 3.4/6.2 MB 684.3 kB/s eta 0:00:05\n",
      "   ---------------------- ----------------- 3.5/6.2 MB 677.3 kB/s eta 0:00:05\n",
      "   ---------------------- ----------------- 3.5/6.2 MB 677.1 kB/s eta 0:00:05\n",
      "   ---------------------- ----------------- 3.5/6.2 MB 673.0 kB/s eta 0:00:05\n",
      "   ---------------------- ----------------- 3.6/6.2 MB 670.8 kB/s eta 0:00:04\n",
      "   ----------------------- ---------------- 3.6/6.2 MB 670.6 kB/s eta 0:00:04\n",
      "   ----------------------- ---------------- 3.6/6.2 MB 670.6 kB/s eta 0:00:04\n",
      "   ----------------------- ---------------- 3.6/6.2 MB 666.6 kB/s eta 0:00:04\n",
      "   ----------------------- ---------------- 3.6/6.2 MB 666.6 kB/s eta 0:00:04\n",
      "   ----------------------- ---------------- 3.7/6.2 MB 664.7 kB/s eta 0:00:04\n",
      "   ----------------------- ---------------- 3.7/6.2 MB 664.6 kB/s eta 0:00:04\n",
      "   ----------------------- ---------------- 3.7/6.2 MB 662.7 kB/s eta 0:00:04\n",
      "   ----------------------- ---------------- 3.7/6.2 MB 660.8 kB/s eta 0:00:04\n",
      "   ------------------------ --------------- 3.7/6.2 MB 659.0 kB/s eta 0:00:04\n",
      "   ------------------------ --------------- 3.8/6.2 MB 657.1 kB/s eta 0:00:04\n",
      "   ------------------------ --------------- 3.8/6.2 MB 657.0 kB/s eta 0:00:04\n",
      "   ------------------------ --------------- 3.8/6.2 MB 655.3 kB/s eta 0:00:04\n",
      "   ------------------------ --------------- 3.9/6.2 MB 655.3 kB/s eta 0:00:04\n",
      "   ------------------------- -------------- 3.9/6.2 MB 655.3 kB/s eta 0:00:04\n",
      "   ------------------------- -------------- 3.9/6.2 MB 653.6 kB/s eta 0:00:04\n",
      "   ------------------------- -------------- 4.0/6.2 MB 651.9 kB/s eta 0:00:04\n",
      "   ------------------------- -------------- 4.0/6.2 MB 651.9 kB/s eta 0:00:04\n",
      "   ------------------------- -------------- 4.0/6.2 MB 652.0 kB/s eta 0:00:04\n",
      "   ------------------------- -------------- 4.0/6.2 MB 650.3 kB/s eta 0:00:04\n",
      "   -------------------------- ------------- 4.1/6.2 MB 648.8 kB/s eta 0:00:04\n",
      "   -------------------------- ------------- 4.1/6.2 MB 650.4 kB/s eta 0:00:04\n",
      "   -------------------------- ------------- 4.1/6.2 MB 648.9 kB/s eta 0:00:04\n",
      "   -------------------------- ------------- 4.2/6.2 MB 648.9 kB/s eta 0:00:04\n",
      "   -------------------------- ------------- 4.2/6.2 MB 648.9 kB/s eta 0:00:04\n",
      "   --------------------------- ------------ 4.2/6.2 MB 647.5 kB/s eta 0:00:04\n",
      "   --------------------------- ------------ 4.3/6.2 MB 649.1 kB/s eta 0:00:04\n",
      "   --------------------------- ------------ 4.3/6.2 MB 647.5 kB/s eta 0:00:04\n",
      "   --------------------------- ------------ 4.3/6.2 MB 646.1 kB/s eta 0:00:03\n",
      "   --------------------------- ------------ 4.3/6.2 MB 649.2 kB/s eta 0:00:03\n",
      "   ---------------------------- ----------- 4.4/6.2 MB 647.7 kB/s eta 0:00:03\n",
      "   ---------------------------- ----------- 4.4/6.2 MB 647.8 kB/s eta 0:00:03\n",
      "   ---------------------------- ----------- 4.4/6.2 MB 646.3 kB/s eta 0:00:03\n",
      "   ---------------------------- ----------- 4.4/6.2 MB 646.4 kB/s eta 0:00:03\n",
      "   ---------------------------- ----------- 4.5/6.2 MB 646.4 kB/s eta 0:00:03\n",
      "   ---------------------------- ----------- 4.5/6.2 MB 642.1 kB/s eta 0:00:03\n",
      "   ---------------------------- ----------- 4.5/6.2 MB 642.2 kB/s eta 0:00:03\n",
      "   ----------------------------- ---------- 4.5/6.2 MB 642.3 kB/s eta 0:00:03\n",
      "   ----------------------------- ---------- 4.6/6.2 MB 643.8 kB/s eta 0:00:03\n",
      "   ----------------------------- ---------- 4.6/6.2 MB 641.0 kB/s eta 0:00:03\n",
      "   ----------------------------- ---------- 4.6/6.2 MB 643.9 kB/s eta 0:00:03\n",
      "   ----------------------------- ---------- 4.7/6.2 MB 644.0 kB/s eta 0:00:03\n",
      "   ------------------------------ --------- 4.7/6.2 MB 642.7 kB/s eta 0:00:03\n",
      "   ------------------------------ --------- 4.7/6.2 MB 641.4 kB/s eta 0:00:03\n",
      "   ------------------------------ --------- 4.8/6.2 MB 644.2 kB/s eta 0:00:03\n",
      "   ------------------------------ --------- 4.8/6.2 MB 642.9 kB/s eta 0:00:03\n",
      "   ------------------------------- -------- 4.8/6.2 MB 644.4 kB/s eta 0:00:03\n",
      "   ------------------------------- -------- 4.9/6.2 MB 644.4 kB/s eta 0:00:03\n",
      "   ------------------------------- -------- 4.9/6.2 MB 644.5 kB/s eta 0:00:03\n",
      "   ------------------------------- -------- 4.9/6.2 MB 643.3 kB/s eta 0:00:03\n",
      "   ------------------------------- -------- 5.0/6.2 MB 644.7 kB/s eta 0:00:02\n",
      "   -------------------------------- ------- 5.0/6.2 MB 646.1 kB/s eta 0:00:02\n",
      "   -------------------------------- ------- 5.0/6.2 MB 643.5 kB/s eta 0:00:02\n",
      "   -------------------------------- ------- 5.1/6.2 MB 644.8 kB/s eta 0:00:02\n",
      "   -------------------------------- ------- 5.1/6.2 MB 645.0 kB/s eta 0:00:02\n",
      "   -------------------------------- ------- 5.1/6.2 MB 646.2 kB/s eta 0:00:02\n",
      "   -------------------------------- ------- 5.1/6.2 MB 643.8 kB/s eta 0:00:02\n",
      "   --------------------------------- ------ 5.2/6.2 MB 643.8 kB/s eta 0:00:02\n",
      "   --------------------------------- ------ 5.2/6.2 MB 642.6 kB/s eta 0:00:02\n",
      "   --------------------------------- ------ 5.2/6.2 MB 642.7 kB/s eta 0:00:02\n",
      "   --------------------------------- ------ 5.3/6.2 MB 641.6 kB/s eta 0:00:02\n",
      "   --------------------------------- ------ 5.3/6.2 MB 644.1 kB/s eta 0:00:02\n",
      "   ---------------------------------- ----- 5.3/6.2 MB 642.9 kB/s eta 0:00:02\n",
      "   ---------------------------------- ----- 5.4/6.2 MB 643.0 kB/s eta 0:00:02\n",
      "   ---------------------------------- ----- 5.4/6.2 MB 643.1 kB/s eta 0:00:02\n",
      "   ---------------------------------- ----- 5.4/6.2 MB 644.4 kB/s eta 0:00:02\n",
      "   ----------------------------------- ---- 5.5/6.2 MB 644.5 kB/s eta 0:00:02\n",
      "   ----------------------------------- ---- 5.5/6.2 MB 644.6 kB/s eta 0:00:02\n",
      "   ----------------------------------- ---- 5.6/6.2 MB 644.6 kB/s eta 0:00:02\n",
      "   ----------------------------------- ---- 5.6/6.2 MB 644.7 kB/s eta 0:00:02\n",
      "   ----------------------------------- ---- 5.6/6.2 MB 645.8 kB/s eta 0:00:01\n",
      "   ------------------------------------ --- 5.6/6.2 MB 644.8 kB/s eta 0:00:01\n",
      "   ------------------------------------ --- 5.7/6.2 MB 646.0 kB/s eta 0:00:01\n",
      "   ------------------------------------ --- 5.7/6.2 MB 646.0 kB/s eta 0:00:01\n",
      "   ------------------------------------ --- 5.7/6.2 MB 645.0 kB/s eta 0:00:01\n",
      "   ------------------------------------- -- 5.8/6.2 MB 645.0 kB/s eta 0:00:01\n",
      "   ------------------------------------- -- 5.8/6.2 MB 646.1 kB/s eta 0:00:01\n",
      "   ------------------------------------- -- 5.8/6.2 MB 646.3 kB/s eta 0:00:01\n",
      "   ------------------------------------- -- 5.8/6.2 MB 645.2 kB/s eta 0:00:01\n",
      "   ------------------------------------- -- 5.9/6.2 MB 645.2 kB/s eta 0:00:01\n",
      "   -------------------------------------- - 5.9/6.2 MB 647.5 kB/s eta 0:00:01\n",
      "   -------------------------------------- - 5.9/6.2 MB 644.2 kB/s eta 0:00:01\n",
      "   -------------------------------------- - 6.0/6.2 MB 645.4 kB/s eta 0:00:01\n",
      "   -------------------------------------- - 6.0/6.2 MB 646.5 kB/s eta 0:00:01\n",
      "   -------------------------------------- - 6.0/6.2 MB 645.5 kB/s eta 0:00:01\n",
      "   -------------------------------------- - 6.1/6.2 MB 646.6 kB/s eta 0:00:01\n",
      "   ---------------------------------------  6.1/6.2 MB 644.5 kB/s eta 0:00:01\n",
      "   ---------------------------------------  6.1/6.2 MB 646.6 kB/s eta 0:00:01\n",
      "   ---------------------------------------  6.2/6.2 MB 644.6 kB/s eta 0:00:01\n",
      "   ---------------------------------------  6.2/6.2 MB 645.7 kB/s eta 0:00:01\n",
      "   ---------------------------------------  6.2/6.2 MB 643.7 kB/s eta 0:00:01\n",
      "   ---------------------------------------  6.2/6.2 MB 644.7 kB/s eta 0:00:01\n",
      "   ---------------------------------------  6.2/6.2 MB 644.7 kB/s eta 0:00:01\n",
      "   ---------------------------------------  6.2/6.2 MB 644.7 kB/s eta 0:00:01\n",
      "   ---------------------------------------- 6.2/6.2 MB 635.0 kB/s eta 0:00:00\n",
      "Downloading shapely-2.0.6-cp311-cp311-win_amd64.whl (1.4 MB)\n",
      "   ---------------------------------------- 0.0/1.4 MB ? eta -:--:--\n",
      "    --------------------------------------- 0.0/1.4 MB 660.6 kB/s eta 0:00:03\n",
      "   -- ------------------------------------- 0.1/1.4 MB 919.0 kB/s eta 0:00:02\n",
      "   --- ------------------------------------ 0.1/1.4 MB 819.2 kB/s eta 0:00:02\n",
      "   --- ------------------------------------ 0.1/1.4 MB 654.9 kB/s eta 0:00:03\n",
      "   ---- ----------------------------------- 0.2/1.4 MB 701.4 kB/s eta 0:00:02\n",
      "   ----- ---------------------------------- 0.2/1.4 MB 692.9 kB/s eta 0:00:02\n",
      "   ------ --------------------------------- 0.2/1.4 MB 724.0 kB/s eta 0:00:02\n",
      "   ------- -------------------------------- 0.3/1.4 MB 682.7 kB/s eta 0:00:02\n",
      "   ------- -------------------------------- 0.3/1.4 MB 681.0 kB/s eta 0:00:02\n",
      "   --------- ------------------------------ 0.3/1.4 MB 724.7 kB/s eta 0:00:02\n",
      "   --------- ------------------------------ 0.3/1.4 MB 724.7 kB/s eta 0:00:02\n",
      "   ---------- ----------------------------- 0.4/1.4 MB 692.6 kB/s eta 0:00:02\n",
      "   ----------- ---------------------------- 0.4/1.4 MB 689.6 kB/s eta 0:00:02\n",
      "   ------------ --------------------------- 0.4/1.4 MB 688.1 kB/s eta 0:00:02\n",
      "   ------------- -------------------------- 0.5/1.4 MB 669.8 kB/s eta 0:00:02\n",
      "   -------------- ------------------------- 0.5/1.4 MB 682.7 kB/s eta 0:00:02\n",
      "   --------------- ------------------------ 0.6/1.4 MB 667.6 kB/s eta 0:00:02\n",
      "   ---------------- ----------------------- 0.6/1.4 MB 666.8 kB/s eta 0:00:02\n",
      "   ----------------- ---------------------- 0.6/1.4 MB 655.3 kB/s eta 0:00:02\n",
      "   ------------------ --------------------- 0.7/1.4 MB 687.8 kB/s eta 0:00:02\n",
      "   ------------------ --------------------- 0.7/1.4 MB 665.3 kB/s eta 0:00:02\n",
      "   ------------------- -------------------- 0.7/1.4 MB 664.7 kB/s eta 0:00:02\n",
      "   --------------------- ------------------ 0.8/1.4 MB 673.6 kB/s eta 0:00:02\n",
      "   --------------------- ------------------ 0.8/1.4 MB 664.4 kB/s eta 0:00:01\n",
      "   ---------------------- ----------------- 0.8/1.4 MB 663.6 kB/s eta 0:00:01\n",
      "   ----------------------- ---------------- 0.8/1.4 MB 671.7 kB/s eta 0:00:01\n",
      "   ------------------------ --------------- 0.9/1.4 MB 679.5 kB/s eta 0:00:01\n",
      "   ------------------------- -------------- 0.9/1.4 MB 670.5 kB/s eta 0:00:01\n",
      "   ------------------------- -------------- 0.9/1.4 MB 655.5 kB/s eta 0:00:01\n",
      "   -------------------------- ------------- 1.0/1.4 MB 655.4 kB/s eta 0:00:01\n",
      "   ---------------------------- ----------- 1.0/1.4 MB 682.7 kB/s eta 0:00:01\n",
      "   ---------------------------- ----------- 1.0/1.4 MB 682.7 kB/s eta 0:00:01\n",
      "   ----------------------------- ---------- 1.1/1.4 MB 661.7 kB/s eta 0:00:01\n",
      "   ------------------------------ --------- 1.1/1.4 MB 661.5 kB/s eta 0:00:01\n",
      "   ------------------------------- -------- 1.1/1.4 MB 673.4 kB/s eta 0:00:01\n",
      "   -------------------------------- ------- 1.2/1.4 MB 667.2 kB/s eta 0:00:01\n",
      "   -------------------------------- ------- 1.2/1.4 MB 672.8 kB/s eta 0:00:01\n",
      "   ---------------------------------- ----- 1.2/1.4 MB 672.1 kB/s eta 0:00:01\n",
      "   ---------------------------------- ----- 1.3/1.4 MB 671.7 kB/s eta 0:00:01\n",
      "   ----------------------------------- ---- 1.3/1.4 MB 671.6 kB/s eta 0:00:01\n",
      "   ----------------------------------- ---- 1.3/1.4 MB 671.6 kB/s eta 0:00:01\n",
      "   ------------------------------------ --- 1.3/1.4 MB 645.1 kB/s eta 0:00:01\n",
      "   ------------------------------------ --- 1.3/1.4 MB 645.1 kB/s eta 0:00:01\n",
      "   ------------------------------------ --- 1.3/1.4 MB 645.1 kB/s eta 0:00:01\n",
      "   ------------------------------------ --- 1.3/1.4 MB 645.1 kB/s eta 0:00:01\n",
      "   ---------------------------------------  1.4/1.4 MB 641.4 kB/s eta 0:00:01\n",
      "   ---------------------------------------- 1.4/1.4 MB 636.4 kB/s eta 0:00:00\n",
      "Installing collected packages: shapely, pyproj, pyogrio, geopandas\n",
      "Successfully installed geopandas-1.0.1 pyogrio-0.10.0 pyproj-3.7.0 shapely-2.0.6\n",
      "Note: you may need to restart the kernel to use updated packages.\n"
     ]
    },
    {
     "name": "stderr",
     "output_type": "stream",
     "text": [
      "  WARNING: The script pyproj.exe is installed in 'C:\\Users\\USER\\AppData\\Roaming\\Python\\Python311\\Scripts' which is not on PATH.\n",
      "  Consider adding this directory to PATH or, if you prefer to suppress this warning, use --no-warn-script-location.\n"
     ]
    }
   ],
   "source": [
    "pip install geopandas"
   ]
  },
  {
   "cell_type": "code",
   "execution_count": null,
   "id": "57965fc2",
   "metadata": {},
   "outputs": [],
   "source": []
  }
 ],
 "metadata": {
  "kernelspec": {
   "display_name": "Python 3 (ipykernel)",
   "language": "python",
   "name": "python3"
  },
  "language_info": {
   "codemirror_mode": {
    "name": "ipython",
    "version": 3
   },
   "file_extension": ".py",
   "mimetype": "text/x-python",
   "name": "python",
   "nbconvert_exporter": "python",
   "pygments_lexer": "ipython3",
   "version": "3.11.5"
  }
 },
 "nbformat": 4,
 "nbformat_minor": 5
}
